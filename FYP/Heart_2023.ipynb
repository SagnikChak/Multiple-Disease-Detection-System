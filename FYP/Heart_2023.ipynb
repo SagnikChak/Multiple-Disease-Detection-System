{
  "cells": [
    {
      "cell_type": "code",
      "execution_count": null,
      "metadata": {
        "id": "ut3VED1gIM96"
      },
      "outputs": [],
      "source": [
        "import numpy as np\n",
        "import pandas as pd\n",
        "from sklearn import datasets\n",
        "import matplotlib.pyplot as plt\n",
        "import seaborn as sns"
      ]
    },
    {
      "cell_type": "code",
      "execution_count": null,
      "metadata": {
        "id": "wo_xo4kLIR4l"
      },
      "outputs": [],
      "source": [
        "from google.colab import drive"
      ]
    },
    {
      "cell_type": "code",
      "execution_count": null,
      "metadata": {
        "colab": {
          "base_uri": "https://localhost:8080/"
        },
        "id": "6A0UX34v_TNM",
        "outputId": "2b1e76ba-fc0e-492c-cbaa-81113f4a651a"
      },
      "outputs": [
        {
          "output_type": "stream",
          "name": "stdout",
          "text": [
            "Mounted at /content/drive\n"
          ]
        }
      ],
      "source": [
        "drive.mount('/content/drive')"
      ]
    },
    {
      "cell_type": "code",
      "execution_count": null,
      "metadata": {
        "id": "HUvc7ZdeIkuY"
      },
      "outputs": [],
      "source": [
        "df= pd.read_csv('/content/drive/MyDrive/Google Colab Datasets/heart.csv')"
      ]
    },
    {
      "cell_type": "code",
      "execution_count": null,
      "metadata": {
        "colab": {
          "base_uri": "https://localhost:8080/",
          "height": 206
        },
        "id": "lGXMSHK_IvqQ",
        "outputId": "f5fbc69c-45da-4cda-9acb-d9dc1c8d6d42"
      },
      "outputs": [
        {
          "output_type": "execute_result",
          "data": {
            "text/plain": [
              "   age  sex  cp  trestbps  chol  fbs  restecg  thalach  exang  oldpeak  slope  \\\n",
              "0   52    1   0       125   212    0        1      168      0      1.0      2   \n",
              "1   53    1   0       140   203    1        0      155      1      3.1      0   \n",
              "2   70    1   0       145   174    0        1      125      1      2.6      0   \n",
              "3   61    1   0       148   203    0        1      161      0      0.0      2   \n",
              "4   62    0   0       138   294    1        1      106      0      1.9      1   \n",
              "\n",
              "   ca  thal  target  \n",
              "0   2     3       0  \n",
              "1   0     3       0  \n",
              "2   0     3       0  \n",
              "3   1     3       0  \n",
              "4   3     2       0  "
            ],
            "text/html": [
              "\n",
              "  <div id=\"df-159cb462-af3a-413c-9294-9bea8d37d160\">\n",
              "    <div class=\"colab-df-container\">\n",
              "      <div>\n",
              "<style scoped>\n",
              "    .dataframe tbody tr th:only-of-type {\n",
              "        vertical-align: middle;\n",
              "    }\n",
              "\n",
              "    .dataframe tbody tr th {\n",
              "        vertical-align: top;\n",
              "    }\n",
              "\n",
              "    .dataframe thead th {\n",
              "        text-align: right;\n",
              "    }\n",
              "</style>\n",
              "<table border=\"1\" class=\"dataframe\">\n",
              "  <thead>\n",
              "    <tr style=\"text-align: right;\">\n",
              "      <th></th>\n",
              "      <th>age</th>\n",
              "      <th>sex</th>\n",
              "      <th>cp</th>\n",
              "      <th>trestbps</th>\n",
              "      <th>chol</th>\n",
              "      <th>fbs</th>\n",
              "      <th>restecg</th>\n",
              "      <th>thalach</th>\n",
              "      <th>exang</th>\n",
              "      <th>oldpeak</th>\n",
              "      <th>slope</th>\n",
              "      <th>ca</th>\n",
              "      <th>thal</th>\n",
              "      <th>target</th>\n",
              "    </tr>\n",
              "  </thead>\n",
              "  <tbody>\n",
              "    <tr>\n",
              "      <th>0</th>\n",
              "      <td>52</td>\n",
              "      <td>1</td>\n",
              "      <td>0</td>\n",
              "      <td>125</td>\n",
              "      <td>212</td>\n",
              "      <td>0</td>\n",
              "      <td>1</td>\n",
              "      <td>168</td>\n",
              "      <td>0</td>\n",
              "      <td>1.0</td>\n",
              "      <td>2</td>\n",
              "      <td>2</td>\n",
              "      <td>3</td>\n",
              "      <td>0</td>\n",
              "    </tr>\n",
              "    <tr>\n",
              "      <th>1</th>\n",
              "      <td>53</td>\n",
              "      <td>1</td>\n",
              "      <td>0</td>\n",
              "      <td>140</td>\n",
              "      <td>203</td>\n",
              "      <td>1</td>\n",
              "      <td>0</td>\n",
              "      <td>155</td>\n",
              "      <td>1</td>\n",
              "      <td>3.1</td>\n",
              "      <td>0</td>\n",
              "      <td>0</td>\n",
              "      <td>3</td>\n",
              "      <td>0</td>\n",
              "    </tr>\n",
              "    <tr>\n",
              "      <th>2</th>\n",
              "      <td>70</td>\n",
              "      <td>1</td>\n",
              "      <td>0</td>\n",
              "      <td>145</td>\n",
              "      <td>174</td>\n",
              "      <td>0</td>\n",
              "      <td>1</td>\n",
              "      <td>125</td>\n",
              "      <td>1</td>\n",
              "      <td>2.6</td>\n",
              "      <td>0</td>\n",
              "      <td>0</td>\n",
              "      <td>3</td>\n",
              "      <td>0</td>\n",
              "    </tr>\n",
              "    <tr>\n",
              "      <th>3</th>\n",
              "      <td>61</td>\n",
              "      <td>1</td>\n",
              "      <td>0</td>\n",
              "      <td>148</td>\n",
              "      <td>203</td>\n",
              "      <td>0</td>\n",
              "      <td>1</td>\n",
              "      <td>161</td>\n",
              "      <td>0</td>\n",
              "      <td>0.0</td>\n",
              "      <td>2</td>\n",
              "      <td>1</td>\n",
              "      <td>3</td>\n",
              "      <td>0</td>\n",
              "    </tr>\n",
              "    <tr>\n",
              "      <th>4</th>\n",
              "      <td>62</td>\n",
              "      <td>0</td>\n",
              "      <td>0</td>\n",
              "      <td>138</td>\n",
              "      <td>294</td>\n",
              "      <td>1</td>\n",
              "      <td>1</td>\n",
              "      <td>106</td>\n",
              "      <td>0</td>\n",
              "      <td>1.9</td>\n",
              "      <td>1</td>\n",
              "      <td>3</td>\n",
              "      <td>2</td>\n",
              "      <td>0</td>\n",
              "    </tr>\n",
              "  </tbody>\n",
              "</table>\n",
              "</div>\n",
              "      <button class=\"colab-df-convert\" onclick=\"convertToInteractive('df-159cb462-af3a-413c-9294-9bea8d37d160')\"\n",
              "              title=\"Convert this dataframe to an interactive table.\"\n",
              "              style=\"display:none;\">\n",
              "        \n",
              "  <svg xmlns=\"http://www.w3.org/2000/svg\" height=\"24px\"viewBox=\"0 0 24 24\"\n",
              "       width=\"24px\">\n",
              "    <path d=\"M0 0h24v24H0V0z\" fill=\"none\"/>\n",
              "    <path d=\"M18.56 5.44l.94 2.06.94-2.06 2.06-.94-2.06-.94-.94-2.06-.94 2.06-2.06.94zm-11 1L8.5 8.5l.94-2.06 2.06-.94-2.06-.94L8.5 2.5l-.94 2.06-2.06.94zm10 10l.94 2.06.94-2.06 2.06-.94-2.06-.94-.94-2.06-.94 2.06-2.06.94z\"/><path d=\"M17.41 7.96l-1.37-1.37c-.4-.4-.92-.59-1.43-.59-.52 0-1.04.2-1.43.59L10.3 9.45l-7.72 7.72c-.78.78-.78 2.05 0 2.83L4 21.41c.39.39.9.59 1.41.59.51 0 1.02-.2 1.41-.59l7.78-7.78 2.81-2.81c.8-.78.8-2.07 0-2.86zM5.41 20L4 18.59l7.72-7.72 1.47 1.35L5.41 20z\"/>\n",
              "  </svg>\n",
              "      </button>\n",
              "      \n",
              "  <style>\n",
              "    .colab-df-container {\n",
              "      display:flex;\n",
              "      flex-wrap:wrap;\n",
              "      gap: 12px;\n",
              "    }\n",
              "\n",
              "    .colab-df-convert {\n",
              "      background-color: #E8F0FE;\n",
              "      border: none;\n",
              "      border-radius: 50%;\n",
              "      cursor: pointer;\n",
              "      display: none;\n",
              "      fill: #1967D2;\n",
              "      height: 32px;\n",
              "      padding: 0 0 0 0;\n",
              "      width: 32px;\n",
              "    }\n",
              "\n",
              "    .colab-df-convert:hover {\n",
              "      background-color: #E2EBFA;\n",
              "      box-shadow: 0px 1px 2px rgba(60, 64, 67, 0.3), 0px 1px 3px 1px rgba(60, 64, 67, 0.15);\n",
              "      fill: #174EA6;\n",
              "    }\n",
              "\n",
              "    [theme=dark] .colab-df-convert {\n",
              "      background-color: #3B4455;\n",
              "      fill: #D2E3FC;\n",
              "    }\n",
              "\n",
              "    [theme=dark] .colab-df-convert:hover {\n",
              "      background-color: #434B5C;\n",
              "      box-shadow: 0px 1px 3px 1px rgba(0, 0, 0, 0.15);\n",
              "      filter: drop-shadow(0px 1px 2px rgba(0, 0, 0, 0.3));\n",
              "      fill: #FFFFFF;\n",
              "    }\n",
              "  </style>\n",
              "\n",
              "      <script>\n",
              "        const buttonEl =\n",
              "          document.querySelector('#df-159cb462-af3a-413c-9294-9bea8d37d160 button.colab-df-convert');\n",
              "        buttonEl.style.display =\n",
              "          google.colab.kernel.accessAllowed ? 'block' : 'none';\n",
              "\n",
              "        async function convertToInteractive(key) {\n",
              "          const element = document.querySelector('#df-159cb462-af3a-413c-9294-9bea8d37d160');\n",
              "          const dataTable =\n",
              "            await google.colab.kernel.invokeFunction('convertToInteractive',\n",
              "                                                     [key], {});\n",
              "          if (!dataTable) return;\n",
              "\n",
              "          const docLinkHtml = 'Like what you see? Visit the ' +\n",
              "            '<a target=\"_blank\" href=https://colab.research.google.com/notebooks/data_table.ipynb>data table notebook</a>'\n",
              "            + ' to learn more about interactive tables.';\n",
              "          element.innerHTML = '';\n",
              "          dataTable['output_type'] = 'display_data';\n",
              "          await google.colab.output.renderOutput(dataTable, element);\n",
              "          const docLink = document.createElement('div');\n",
              "          docLink.innerHTML = docLinkHtml;\n",
              "          element.appendChild(docLink);\n",
              "        }\n",
              "      </script>\n",
              "    </div>\n",
              "  </div>\n",
              "  "
            ]
          },
          "metadata": {},
          "execution_count": 5
        }
      ],
      "source": [
        "df.head()"
      ]
    },
    {
      "cell_type": "code",
      "execution_count": null,
      "metadata": {
        "colab": {
          "base_uri": "https://localhost:8080/"
        },
        "id": "TCVhocafIxWC",
        "outputId": "24128aa7-cf62-452b-9b4c-dad1e4891cbe"
      },
      "outputs": [
        {
          "output_type": "execute_result",
          "data": {
            "text/plain": [
              "(1025, 14)"
            ]
          },
          "metadata": {},
          "execution_count": 6
        }
      ],
      "source": [
        "df.shape"
      ]
    },
    {
      "cell_type": "code",
      "execution_count": null,
      "metadata": {
        "colab": {
          "base_uri": "https://localhost:8080/"
        },
        "id": "YSLrKxT4I2VF",
        "outputId": "6608221a-4412-4d75-c195-7b17c1f6b4f8"
      },
      "outputs": [
        {
          "output_type": "stream",
          "name": "stdout",
          "text": [
            "<class 'pandas.core.frame.DataFrame'>\n",
            "RangeIndex: 1025 entries, 0 to 1024\n",
            "Data columns (total 14 columns):\n",
            " #   Column    Non-Null Count  Dtype  \n",
            "---  ------    --------------  -----  \n",
            " 0   age       1025 non-null   int64  \n",
            " 1   sex       1025 non-null   int64  \n",
            " 2   cp        1025 non-null   int64  \n",
            " 3   trestbps  1025 non-null   int64  \n",
            " 4   chol      1025 non-null   int64  \n",
            " 5   fbs       1025 non-null   int64  \n",
            " 6   restecg   1025 non-null   int64  \n",
            " 7   thalach   1025 non-null   int64  \n",
            " 8   exang     1025 non-null   int64  \n",
            " 9   oldpeak   1025 non-null   float64\n",
            " 10  slope     1025 non-null   int64  \n",
            " 11  ca        1025 non-null   int64  \n",
            " 12  thal      1025 non-null   int64  \n",
            " 13  target    1025 non-null   int64  \n",
            "dtypes: float64(1), int64(13)\n",
            "memory usage: 112.2 KB\n"
          ]
        }
      ],
      "source": [
        "df.info()"
      ]
    },
    {
      "cell_type": "code",
      "execution_count": null,
      "metadata": {
        "colab": {
          "base_uri": "https://localhost:8080/"
        },
        "id": "wI99psxLI4n4",
        "outputId": "81f970c0-5ac9-4ab6-edf6-4fa040293d2c"
      },
      "outputs": [
        {
          "output_type": "execute_result",
          "data": {
            "text/plain": [
              "age         0\n",
              "sex         0\n",
              "cp          0\n",
              "trestbps    0\n",
              "chol        0\n",
              "fbs         0\n",
              "restecg     0\n",
              "thalach     0\n",
              "exang       0\n",
              "oldpeak     0\n",
              "slope       0\n",
              "ca          0\n",
              "thal        0\n",
              "target      0\n",
              "dtype: int64"
            ]
          },
          "metadata": {},
          "execution_count": 8
        }
      ],
      "source": [
        "df.isnull().sum()"
      ]
    },
    {
      "cell_type": "code",
      "execution_count": null,
      "metadata": {
        "id": "uat3VuwoJEdX",
        "colab": {
          "base_uri": "https://localhost:8080/",
          "height": 497
        },
        "outputId": "5a05edda-6fac-422f-c074-e02eb861e7d3"
      },
      "outputs": [
        {
          "output_type": "execute_result",
          "data": {
            "text/plain": [
              "<Axes: >"
            ]
          },
          "metadata": {},
          "execution_count": 9
        },
        {
          "output_type": "display_data",
          "data": {
            "text/plain": [
              "<Figure size 640x480 with 2 Axes>"
            ],
            "image/png": "[encoded data removed]"
          },
          "metadata": {}
        }
      ],
      "source": [
        "sns.heatmap(df.isnull())"
      ]
    },
    {
      "cell_type": "code",
      "execution_count": null,
      "metadata": {
        "id": "m-R5N3KcJGlt",
        "colab": {
          "base_uri": "https://localhost:8080/",
          "height": 344
        },
        "outputId": "1f5dcd8d-6d3a-4304-d354-001d0e40168d"
      },
      "outputs": [
        {
          "output_type": "execute_result",
          "data": {
            "text/plain": [
              "               age          sex           cp     trestbps        chol  \\\n",
              "count  1025.000000  1025.000000  1025.000000  1025.000000  1025.00000   \n",
              "mean     54.434146     0.695610     0.942439   131.611707   246.00000   \n",
              "std       9.072290     0.460373     1.029641    17.516718    51.59251   \n",
              "min      29.000000     0.000000     0.000000    94.000000   126.00000   \n",
              "25%      48.000000     0.000000     0.000000   120.000000   211.00000   \n",
              "50%      56.000000     1.000000     1.000000   130.000000   240.00000   \n",
              "75%      61.000000     1.000000     2.000000   140.000000   275.00000   \n",
              "max      77.000000     1.000000     3.000000   200.000000   564.00000   \n",
              "\n",
              "               fbs      restecg      thalach        exang      oldpeak  \\\n",
              "count  1025.000000  1025.000000  1025.000000  1025.000000  1025.000000   \n",
              "mean      0.149268     0.529756   149.114146     0.336585     1.071512   \n",
              "std       0.356527     0.527878    23.005724     0.472772     1.175053   \n",
              "min       0.000000     0.000000    71.000000     0.000000     0.000000   \n",
              "25%       0.000000     0.000000   132.000000     0.000000     0.000000   \n",
              "50%       0.000000     1.000000   152.000000     0.000000     0.800000   \n",
              "75%       0.000000     1.000000   166.000000     1.000000     1.800000   \n",
              "max       1.000000     2.000000   202.000000     1.000000     6.200000   \n",
              "\n",
              "             slope           ca         thal       target  \n",
              "count  1025.000000  1025.000000  1025.000000  1025.000000  \n",
              "mean      1.385366     0.754146     2.323902     0.513171  \n",
              "std       0.617755     1.030798     0.620660     0.500070  \n",
              "min       0.000000     0.000000     0.000000     0.000000  \n",
              "25%       1.000000     0.000000     2.000000     0.000000  \n",
              "50%       1.000000     0.000000     2.000000     1.000000  \n",
              "75%       2.000000     1.000000     3.000000     1.000000  \n",
              "max       2.000000     4.000000     3.000000     1.000000  "
            ],
            "text/html": [
              "\n",
              "  <div id=\"df-6aab695f-58a3-4440-b3ba-d15966081002\">\n",
              "    <div class=\"colab-df-container\">\n",
              "      <div>\n",
              "<style scoped>\n",
              "    .dataframe tbody tr th:only-of-type {\n",
              "        vertical-align: middle;\n",
              "    }\n",
              "\n",
              "    .dataframe tbody tr th {\n",
              "        vertical-align: top;\n",
              "    }\n",
              "\n",
              "    .dataframe thead th {\n",
              "        text-align: right;\n",
              "    }\n",
              "</style>\n",
              "<table border=\"1\" class=\"dataframe\">\n",
              "  <thead>\n",
              "    <tr style=\"text-align: right;\">\n",
              "      <th></th>\n",
              "      <th>age</th>\n",
              "      <th>sex</th>\n",
              "      <th>cp</th>\n",
              "      <th>trestbps</th>\n",
              "      <th>chol</th>\n",
              "      <th>fbs</th>\n",
              "      <th>restecg</th>\n",
              "      <th>thalach</th>\n",
              "      <th>exang</th>\n",
              "      <th>oldpeak</th>\n",
              "      <th>slope</th>\n",
              "      <th>ca</th>\n",
              "      <th>thal</th>\n",
              "      <th>target</th>\n",
              "    </tr>\n",
              "  </thead>\n",
              "  <tbody>\n",
              "    <tr>\n",
              "      <th>count</th>\n",
              "      <td>1025.000000</td>\n",
              "      <td>1025.000000</td>\n",
              "      <td>1025.000000</td>\n",
              "      <td>1025.000000</td>\n",
              "      <td>1025.00000</td>\n",
              "      <td>1025.000000</td>\n",
              "      <td>1025.000000</td>\n",
              "      <td>1025.000000</td>\n",
              "      <td>1025.000000</td>\n",
              "      <td>1025.000000</td>\n",
              "      <td>1025.000000</td>\n",
              "      <td>1025.000000</td>\n",
              "      <td>1025.000000</td>\n",
              "      <td>1025.000000</td>\n",
              "    </tr>\n",
              "    <tr>\n",
              "      <th>mean</th>\n",
              "      <td>54.434146</td>\n",
              "      <td>0.695610</td>\n",
              "      <td>0.942439</td>\n",
              "      <td>131.611707</td>\n",
              "      <td>246.00000</td>\n",
              "      <td>0.149268</td>\n",
              "      <td>0.529756</td>\n",
              "      <td>149.114146</td>\n",
              "      <td>0.336585</td>\n",
              "      <td>1.071512</td>\n",
              "      <td>1.385366</td>\n",
              "      <td>0.754146</td>\n",
              "      <td>2.323902</td>\n",
              "      <td>0.513171</td>\n",
              "    </tr>\n",
              "    <tr>\n",
              "      <th>std</th>\n",
              "      <td>9.072290</td>\n",
              "      <td>0.460373</td>\n",
              "      <td>1.029641</td>\n",
              "      <td>17.516718</td>\n",
              "      <td>51.59251</td>\n",
              "      <td>0.356527</td>\n",
              "      <td>0.527878</td>\n",
              "      <td>23.005724</td>\n",
              "      <td>0.472772</td>\n",
              "      <td>1.175053</td>\n",
              "      <td>0.617755</td>\n",
              "      <td>1.030798</td>\n",
              "      <td>0.620660</td>\n",
              "      <td>0.500070</td>\n",
              "    </tr>\n",
              "    <tr>\n",
              "      <th>min</th>\n",
              "      <td>29.000000</td>\n",
              "      <td>0.000000</td>\n",
              "      <td>0.000000</td>\n",
              "      <td>94.000000</td>\n",
              "      <td>126.00000</td>\n",
              "      <td>0.000000</td>\n",
              "      <td>0.000000</td>\n",
              "      <td>71.000000</td>\n",
              "      <td>0.000000</td>\n",
              "      <td>0.000000</td>\n",
              "      <td>0.000000</td>\n",
              "      <td>0.000000</td>\n",
              "      <td>0.000000</td>\n",
              "      <td>0.000000</td>\n",
              "    </tr>\n",
              "    <tr>\n",
              "      <th>25%</th>\n",
              "      <td>48.000000</td>\n",
              "      <td>0.000000</td>\n",
              "      <td>0.000000</td>\n",
              "      <td>120.000000</td>\n",
              "      <td>211.00000</td>\n",
              "      <td>0.000000</td>\n",
              "      <td>0.000000</td>\n",
              "      <td>132.000000</td>\n",
              "      <td>0.000000</td>\n",
              "      <td>0.000000</td>\n",
              "      <td>1.000000</td>\n",
              "      <td>0.000000</td>\n",
              "      <td>2.000000</td>\n",
              "      <td>0.000000</td>\n",
              "    </tr>\n",
              "    <tr>\n",
              "      <th>50%</th>\n",
              "      <td>56.000000</td>\n",
              "      <td>1.000000</td>\n",
              "      <td>1.000000</td>\n",
              "      <td>130.000000</td>\n",
              "      <td>240.00000</td>\n",
              "      <td>0.000000</td>\n",
              "      <td>1.000000</td>\n",
              "      <td>152.000000</td>\n",
              "      <td>0.000000</td>\n",
              "      <td>0.800000</td>\n",
              "      <td>1.000000</td>\n",
              "      <td>0.000000</td>\n",
              "      <td>2.000000</td>\n",
              "      <td>1.000000</td>\n",
              "    </tr>\n",
              "    <tr>\n",
              "      <th>75%</th>\n",
              "      <td>61.000000</td>\n",
              "      <td>1.000000</td>\n",
              "      <td>2.000000</td>\n",
              "      <td>140.000000</td>\n",
              "      <td>275.00000</td>\n",
              "      <td>0.000000</td>\n",
              "      <td>1.000000</td>\n",
              "      <td>166.000000</td>\n",
              "      <td>1.000000</td>\n",
              "      <td>1.800000</td>\n",
              "      <td>2.000000</td>\n",
              "      <td>1.000000</td>\n",
              "      <td>3.000000</td>\n",
              "      <td>1.000000</td>\n",
              "    </tr>\n",
              "    <tr>\n",
              "      <th>max</th>\n",
              "      <td>77.000000</td>\n",
              "      <td>1.000000</td>\n",
              "      <td>3.000000</td>\n",
              "      <td>200.000000</td>\n",
              "      <td>564.00000</td>\n",
              "      <td>1.000000</td>\n",
              "      <td>2.000000</td>\n",
              "      <td>202.000000</td>\n",
              "      <td>1.000000</td>\n",
              "      <td>6.200000</td>\n",
              "      <td>2.000000</td>\n",
              "      <td>4.000000</td>\n",
              "      <td>3.000000</td>\n",
              "      <td>1.000000</td>\n",
              "    </tr>\n",
              "  </tbody>\n",
              "</table>\n",
              "</div>\n",
              "      <button class=\"colab-df-convert\" onclick=\"convertToInteractive('df-6aab695f-58a3-4440-b3ba-d15966081002')\"\n",
              "              title=\"Convert this dataframe to an interactive table.\"\n",
              "              style=\"display:none;\">\n",
              "        \n",
              "  <svg xmlns=\"http://www.w3.org/2000/svg\" height=\"24px\"viewBox=\"0 0 24 24\"\n",
              "       width=\"24px\">\n",
              "    <path d=\"M0 0h24v24H0V0z\" fill=\"none\"/>\n",
              "    <path d=\"M18.56 5.44l.94 2.06.94-2.06 2.06-.94-2.06-.94-.94-2.06-.94 2.06-2.06.94zm-11 1L8.5 8.5l.94-2.06 2.06-.94-2.06-.94L8.5 2.5l-.94 2.06-2.06.94zm10 10l.94 2.06.94-2.06 2.06-.94-2.06-.94-.94-2.06-.94 2.06-2.06.94z\"/><path d=\"M17.41 7.96l-1.37-1.37c-.4-.4-.92-.59-1.43-.59-.52 0-1.04.2-1.43.59L10.3 9.45l-7.72 7.72c-.78.78-.78 2.05 0 2.83L4 21.41c.39.39.9.59 1.41.59.51 0 1.02-.2 1.41-.59l7.78-7.78 2.81-2.81c.8-.78.8-2.07 0-2.86zM5.41 20L4 18.59l7.72-7.72 1.47 1.35L5.41 20z\"/>\n",
              "  </svg>\n",
              "      </button>\n",
              "      \n",
              "  <style>\n",
              "    .colab-df-container {\n",
              "      display:flex;\n",
              "      flex-wrap:wrap;\n",
              "      gap: 12px;\n",
              "    }\n",
              "\n",
              "    .colab-df-convert {\n",
              "      background-color: #E8F0FE;\n",
              "      border: none;\n",
              "      border-radius: 50%;\n",
              "      cursor: pointer;\n",
              "      display: none;\n",
              "      fill: #1967D2;\n",
              "      height: 32px;\n",
              "      padding: 0 0 0 0;\n",
              "      width: 32px;\n",
              "    }\n",
              "\n",
              "    .colab-df-convert:hover {\n",
              "      background-color: #E2EBFA;\n",
              "      box-shadow: 0px 1px 2px rgba(60, 64, 67, 0.3), 0px 1px 3px 1px rgba(60, 64, 67, 0.15);\n",
              "      fill: #174EA6;\n",
              "    }\n",
              "\n",
              "    [theme=dark] .colab-df-convert {\n",
              "      background-color: #3B4455;\n",
              "      fill: #D2E3FC;\n",
              "    }\n",
              "\n",
              "    [theme=dark] .colab-df-convert:hover {\n",
              "      background-color: #434B5C;\n",
              "      box-shadow: 0px 1px 3px 1px rgba(0, 0, 0, 0.15);\n",
              "      filter: drop-shadow(0px 1px 2px rgba(0, 0, 0, 0.3));\n",
              "      fill: #FFFFFF;\n",
              "    }\n",
              "  </style>\n",
              "\n",
              "      <script>\n",
              "        const buttonEl =\n",
              "          document.querySelector('#df-6aab695f-58a3-4440-b3ba-d15966081002 button.colab-df-convert');\n",
              "        buttonEl.style.display =\n",
              "          google.colab.kernel.accessAllowed ? 'block' : 'none';\n",
              "\n",
              "        async function convertToInteractive(key) {\n",
              "          const element = document.querySelector('#df-6aab695f-58a3-4440-b3ba-d15966081002');\n",
              "          const dataTable =\n",
              "            await google.colab.kernel.invokeFunction('convertToInteractive',\n",
              "                                                     [key], {});\n",
              "          if (!dataTable) return;\n",
              "\n",
              "          const docLinkHtml = 'Like what you see? Visit the ' +\n",
              "            '<a target=\"_blank\" href=https://colab.research.google.com/notebooks/data_table.ipynb>data table notebook</a>'\n",
              "            + ' to learn more about interactive tables.';\n",
              "          element.innerHTML = '';\n",
              "          dataTable['output_type'] = 'display_data';\n",
              "          await google.colab.output.renderOutput(dataTable, element);\n",
              "          const docLink = document.createElement('div');\n",
              "          docLink.innerHTML = docLinkHtml;\n",
              "          element.appendChild(docLink);\n",
              "        }\n",
              "      </script>\n",
              "    </div>\n",
              "  </div>\n",
              "  "
            ]
          },
          "metadata": {},
          "execution_count": 10
        }
      ],
      "source": [
        "df.describe()"
      ]
    },
    {
      "cell_type": "code",
      "execution_count": null,
      "metadata": {
        "id": "g15OTB4DJKLq",
        "colab": {
          "base_uri": "https://localhost:8080/"
        },
        "outputId": "788fe179-f03f-4060-ec0f-377a52494271"
      },
      "outputs": [
        {
          "output_type": "execute_result",
          "data": {
            "text/plain": [
              "Index(['age', 'sex', 'cp', 'trestbps', 'chol', 'fbs', 'restecg', 'thalach',\n",
              "       'exang', 'oldpeak', 'slope', 'ca', 'thal', 'target'],\n",
              "      dtype='object')"
            ]
          },
          "metadata": {},
          "execution_count": 11
        }
      ],
      "source": [
        "df.columns"
      ]
    },
    {
      "cell_type": "code",
      "execution_count": null,
      "metadata": {
        "id": "sf9VqZSBJMQW",
        "colab": {
          "base_uri": "https://localhost:8080/",
          "height": 468
        },
        "outputId": "321a1dc5-4a49-40ee-ac11-6368071071c4"
      },
      "outputs": [
        {
          "output_type": "execute_result",
          "data": {
            "text/plain": [
              "<Axes: >"
            ]
          },
          "metadata": {},
          "execution_count": 12
        },
        {
          "output_type": "display_data",
          "data": {
            "text/plain": [
              "<Figure size 1500x500 with 2 Axes>"
            ],
            "image/png": "[encoded data removed]"
          },
          "metadata": {}
        }
      ],
      "source": [
        "plt.figure(figsize=(15,5))\n",
        "sns.heatmap(df.corr(),annot=True,fmt='0.2f')"
      ]
    },
    {
      "cell_type": "code",
      "execution_count": null,
      "metadata": {
        "id": "Q45BC2eVJN-u",
        "colab": {
          "base_uri": "https://localhost:8080/"
        },
        "outputId": "2e26b950-b60f-471e-8c2c-25bf2f3bc351"
      },
      "outputs": [
        {
          "output_type": "execute_result",
          "data": {
            "text/plain": [
              "1    526\n",
              "0    499\n",
              "Name: target, dtype: int64"
            ]
          },
          "metadata": {},
          "execution_count": 13
        }
      ],
      "source": [
        "df['target'].value_counts()"
      ]
    },
    {
      "cell_type": "code",
      "execution_count": null,
      "metadata": {
        "id": "i9CI25_sJvIC",
        "colab": {
          "base_uri": "https://localhost:8080/",
          "height": 693
        },
        "outputId": "b3399991-5439-4844-d6ef-c42fcc4a3685"
      },
      "outputs": [
        {
          "output_type": "execute_result",
          "data": {
            "text/plain": [
              "<Axes: >"
            ]
          },
          "metadata": {},
          "execution_count": 14
        },
        {
          "output_type": "display_data",
          "data": {
            "text/plain": [
              "<Figure size 1500x800 with 1 Axes>"
            ],
            "image/png": "[encoded data removed]"
          },
          "metadata": {}
        }
      ],
      "source": [
        "df.boxplot(column=['age','sex','cp','trestbps','chol','fbs','restecg','thalach','exang','oldpeak','slope','ca','thal','target'],figsize=(15,8))"
      ]
    },
    {
      "cell_type": "code",
      "execution_count": null,
      "metadata": {
        "id": "B2BjCu5yV5m6",
        "colab": {
          "base_uri": "https://localhost:8080/"
        },
        "outputId": "5dc27324-b1ec-4c5f-b656-abe8cd1f0b18"
      },
      "outputs": [
        {
          "output_type": "stream",
          "name": "stdout",
          "text": [
            "170.0 90.0\n"
          ]
        }
      ],
      "source": [
        "IQR=df['trestbps'].quantile(0.75)-df['trestbps'].quantile(0.25)\n",
        "upperbound=df['trestbps'].quantile(0.75)+1.5*(IQR)\n",
        "lowerbound=df['trestbps'].quantile(0.25)-1.5*(IQR)\n",
        "print(upperbound,lowerbound)"
      ]
    },
    {
      "cell_type": "code",
      "execution_count": null,
      "metadata": {
        "id": "ejNvlYajV5jd"
      },
      "outputs": [],
      "source": [
        "df.loc[df['trestbps']>170,'trestbps']=170\n",
        "df.loc[df['trestbps']<90,'trestbps']=90"
      ]
    },
    {
      "cell_type": "code",
      "execution_count": null,
      "metadata": {
        "id": "Iq3qilXeV5hL"
      },
      "outputs": [],
      "source": [
        "#df.boxplot(column=['trestbps'])"
      ]
    },
    {
      "cell_type": "code",
      "execution_count": null,
      "metadata": {
        "id": "AcCRC-SQV5fG",
        "colab": {
          "base_uri": "https://localhost:8080/"
        },
        "outputId": "9925e09e-dd1d-4044-9350-1aaa6166e60f"
      },
      "outputs": [
        {
          "output_type": "stream",
          "name": "stdout",
          "text": [
            "371.0 115.0\n"
          ]
        }
      ],
      "source": [
        "IQR=df['chol'].quantile(0.75)-df['chol'].quantile(0.25)\n",
        "upperbound=df['chol'].quantile(0.75)+1.5*(IQR)\n",
        "lowerbound=df['chol'].quantile(0.25)-1.5*(IQR)\n",
        "print(upperbound,lowerbound)"
      ]
    },
    {
      "cell_type": "code",
      "execution_count": null,
      "metadata": {
        "id": "10TaZitOV5cw"
      },
      "outputs": [],
      "source": [
        "df.loc[df['chol']>371,'chol']=371\n",
        "df.loc[df['chol']<115,'chol']=115"
      ]
    },
    {
      "cell_type": "code",
      "execution_count": null,
      "metadata": {
        "id": "arp8E3YNV5aY"
      },
      "outputs": [],
      "source": [
        "#df.boxplot(column=['chol'])"
      ]
    },
    {
      "cell_type": "code",
      "execution_count": null,
      "metadata": {
        "id": "4ef7rGGnV5YM",
        "colab": {
          "base_uri": "https://localhost:8080/"
        },
        "outputId": "994a4a65-7de0-4717-a13c-45c175531199"
      },
      "outputs": [
        {
          "output_type": "stream",
          "name": "stdout",
          "text": [
            "217.0 81.0\n"
          ]
        }
      ],
      "source": [
        "IQR=df['thalach'].quantile(0.75)-df['thalach'].quantile(0.25)\n",
        "upperbound=df['thalach'].quantile(0.75)+1.5*(IQR)\n",
        "lowerbound=df['thalach'].quantile(0.25)-1.5*(IQR)\n",
        "print(upperbound,lowerbound)"
      ]
    },
    {
      "cell_type": "code",
      "execution_count": null,
      "metadata": {
        "id": "uUZw5oCjWm3_"
      },
      "outputs": [],
      "source": [
        "df.loc[df['thalach']>217,'thalach']=217\n",
        "df.loc[df['thalach']<81,'thalach']=81"
      ]
    },
    {
      "cell_type": "code",
      "execution_count": null,
      "metadata": {
        "id": "LBei3cuIXxkR",
        "colab": {
          "base_uri": "https://localhost:8080/"
        },
        "outputId": "4e096446-64d4-4c0f-ce51-79edee7ab035"
      },
      "outputs": [
        {
          "output_type": "stream",
          "name": "stdout",
          "text": [
            "4.5 -2.7\n"
          ]
        }
      ],
      "source": [
        "IQR=df['oldpeak'].quantile(0.75)-df['oldpeak'].quantile(0.25)\n",
        "upperbound=df['oldpeak'].quantile(0.75)+1.5*(IQR)\n",
        "lowerbound=df['oldpeak'].quantile(0.25)-1.5*(IQR)\n",
        "print(upperbound,lowerbound)"
      ]
    },
    {
      "cell_type": "code",
      "execution_count": null,
      "metadata": {
        "id": "QekW6mG5Xxgr"
      },
      "outputs": [],
      "source": [
        "df.loc[df['oldpeak']>4.5,'oldpeak']=4.5\n",
        "df.loc[df['oldpeak']<-2.7,'oldpeak']=0"
      ]
    },
    {
      "cell_type": "code",
      "execution_count": null,
      "metadata": {
        "colab": {
          "base_uri": "https://localhost:8080/",
          "height": 693
        },
        "id": "IErGF0rzWm0n",
        "outputId": "5f09af68-d8c7-4565-ab79-573ddf6f2223"
      },
      "outputs": [
        {
          "output_type": "execute_result",
          "data": {
            "text/plain": [
              "<Axes: >"
            ]
          },
          "metadata": {},
          "execution_count": 25
        },
        {
          "output_type": "display_data",
          "data": {
            "text/plain": [
              "<Figure size 1500x800 with 1 Axes>"
            ],
            "image/png": "[encoded data removed]"
          },
          "metadata": {}
        }
      ],
      "source": [
        "df.boxplot(column=['age','sex','cp','trestbps','chol','fbs','restecg','thalach','exang','oldpeak','slope','ca','thal','target'],figsize=(15,8))"
      ]
    },
    {
      "cell_type": "code",
      "execution_count": null,
      "metadata": {
        "id": "HNFmHnonKTTg",
        "colab": {
          "base_uri": "https://localhost:8080/",
          "height": 457
        },
        "outputId": "f6869a82-f27e-4cf5-c695-6632d3812578"
      },
      "outputs": [
        {
          "output_type": "execute_result",
          "data": {
            "text/plain": [
              "          VIF  Features\n",
              "0   39.840350       age\n",
              "1    3.595126       sex\n",
              "2    2.380596        cp\n",
              "3   63.006727  trestbps\n",
              "4   29.630557      chol\n",
              "5    1.266622       fbs\n",
              "6    2.047306   restecg\n",
              "7   43.622024   thalach\n",
              "8    2.085353     exang\n",
              "9    3.168819   oldpeak\n",
              "10   9.834215     slope\n",
              "11   1.830913        ca\n",
              "12  16.618313      thal"
            ],
            "text/html": [
              "\n",
              "  <div id=\"df-8da5dafc-a3c1-4229-af79-3b3d88a0be3c\">\n",
              "    <div class=\"colab-df-container\">\n",
              "      <div>\n",
              "<style scoped>\n",
              "    .dataframe tbody tr th:only-of-type {\n",
              "        vertical-align: middle;\n",
              "    }\n",
              "\n",
              "    .dataframe tbody tr th {\n",
              "        vertical-align: top;\n",
              "    }\n",
              "\n",
              "    .dataframe thead th {\n",
              "        text-align: right;\n",
              "    }\n",
              "</style>\n",
              "<table border=\"1\" class=\"dataframe\">\n",
              "  <thead>\n",
              "    <tr style=\"text-align: right;\">\n",
              "      <th></th>\n",
              "      <th>VIF</th>\n",
              "      <th>Features</th>\n",
              "    </tr>\n",
              "  </thead>\n",
              "  <tbody>\n",
              "    <tr>\n",
              "      <th>0</th>\n",
              "      <td>39.840350</td>\n",
              "      <td>age</td>\n",
              "    </tr>\n",
              "    <tr>\n",
              "      <th>1</th>\n",
              "      <td>3.595126</td>\n",
              "      <td>sex</td>\n",
              "    </tr>\n",
              "    <tr>\n",
              "      <th>2</th>\n",
              "      <td>2.380596</td>\n",
              "      <td>cp</td>\n",
              "    </tr>\n",
              "    <tr>\n",
              "      <th>3</th>\n",
              "      <td>63.006727</td>\n",
              "      <td>trestbps</td>\n",
              "    </tr>\n",
              "    <tr>\n",
              "      <th>4</th>\n",
              "      <td>29.630557</td>\n",
              "      <td>chol</td>\n",
              "    </tr>\n",
              "    <tr>\n",
              "      <th>5</th>\n",
              "      <td>1.266622</td>\n",
              "      <td>fbs</td>\n",
              "    </tr>\n",
              "    <tr>\n",
              "      <th>6</th>\n",
              "      <td>2.047306</td>\n",
              "      <td>restecg</td>\n",
              "    </tr>\n",
              "    <tr>\n",
              "      <th>7</th>\n",
              "      <td>43.622024</td>\n",
              "      <td>thalach</td>\n",
              "    </tr>\n",
              "    <tr>\n",
              "      <th>8</th>\n",
              "      <td>2.085353</td>\n",
              "      <td>exang</td>\n",
              "    </tr>\n",
              "    <tr>\n",
              "      <th>9</th>\n",
              "      <td>3.168819</td>\n",
              "      <td>oldpeak</td>\n",
              "    </tr>\n",
              "    <tr>\n",
              "      <th>10</th>\n",
              "      <td>9.834215</td>\n",
              "      <td>slope</td>\n",
              "    </tr>\n",
              "    <tr>\n",
              "      <th>11</th>\n",
              "      <td>1.830913</td>\n",
              "      <td>ca</td>\n",
              "    </tr>\n",
              "    <tr>\n",
              "      <th>12</th>\n",
              "      <td>16.618313</td>\n",
              "      <td>thal</td>\n",
              "    </tr>\n",
              "  </tbody>\n",
              "</table>\n",
              "</div>\n",
              "      <button class=\"colab-df-convert\" onclick=\"convertToInteractive('df-8da5dafc-a3c1-4229-af79-3b3d88a0be3c')\"\n",
              "              title=\"Convert this dataframe to an interactive table.\"\n",
              "              style=\"display:none;\">\n",
              "        \n",
              "  <svg xmlns=\"http://www.w3.org/2000/svg\" height=\"24px\"viewBox=\"0 0 24 24\"\n",
              "       width=\"24px\">\n",
              "    <path d=\"M0 0h24v24H0V0z\" fill=\"none\"/>\n",
              "    <path d=\"M18.56 5.44l.94 2.06.94-2.06 2.06-.94-2.06-.94-.94-2.06-.94 2.06-2.06.94zm-11 1L8.5 8.5l.94-2.06 2.06-.94-2.06-.94L8.5 2.5l-.94 2.06-2.06.94zm10 10l.94 2.06.94-2.06 2.06-.94-2.06-.94-.94-2.06-.94 2.06-2.06.94z\"/><path d=\"M17.41 7.96l-1.37-1.37c-.4-.4-.92-.59-1.43-.59-.52 0-1.04.2-1.43.59L10.3 9.45l-7.72 7.72c-.78.78-.78 2.05 0 2.83L4 21.41c.39.39.9.59 1.41.59.51 0 1.02-.2 1.41-.59l7.78-7.78 2.81-2.81c.8-.78.8-2.07 0-2.86zM5.41 20L4 18.59l7.72-7.72 1.47 1.35L5.41 20z\"/>\n",
              "  </svg>\n",
              "      </button>\n",
              "      \n",
              "  <style>\n",
              "    .colab-df-container {\n",
              "      display:flex;\n",
              "      flex-wrap:wrap;\n",
              "      gap: 12px;\n",
              "    }\n",
              "\n",
              "    .colab-df-convert {\n",
              "      background-color: #E8F0FE;\n",
              "      border: none;\n",
              "      border-radius: 50%;\n",
              "      cursor: pointer;\n",
              "      display: none;\n",
              "      fill: #1967D2;\n",
              "      height: 32px;\n",
              "      padding: 0 0 0 0;\n",
              "      width: 32px;\n",
              "    }\n",
              "\n",
              "    .colab-df-convert:hover {\n",
              "      background-color: #E2EBFA;\n",
              "      box-shadow: 0px 1px 2px rgba(60, 64, 67, 0.3), 0px 1px 3px 1px rgba(60, 64, 67, 0.15);\n",
              "      fill: #174EA6;\n",
              "    }\n",
              "\n",
              "    [theme=dark] .colab-df-convert {\n",
              "      background-color: #3B4455;\n",
              "      fill: #D2E3FC;\n",
              "    }\n",
              "\n",
              "    [theme=dark] .colab-df-convert:hover {\n",
              "      background-color: #434B5C;\n",
              "      box-shadow: 0px 1px 3px 1px rgba(0, 0, 0, 0.15);\n",
              "      filter: drop-shadow(0px 1px 2px rgba(0, 0, 0, 0.3));\n",
              "      fill: #FFFFFF;\n",
              "    }\n",
              "  </style>\n",
              "\n",
              "      <script>\n",
              "        const buttonEl =\n",
              "          document.querySelector('#df-8da5dafc-a3c1-4229-af79-3b3d88a0be3c button.colab-df-convert');\n",
              "        buttonEl.style.display =\n",
              "          google.colab.kernel.accessAllowed ? 'block' : 'none';\n",
              "\n",
              "        async function convertToInteractive(key) {\n",
              "          const element = document.querySelector('#df-8da5dafc-a3c1-4229-af79-3b3d88a0be3c');\n",
              "          const dataTable =\n",
              "            await google.colab.kernel.invokeFunction('convertToInteractive',\n",
              "                                                     [key], {});\n",
              "          if (!dataTable) return;\n",
              "\n",
              "          const docLinkHtml = 'Like what you see? Visit the ' +\n",
              "            '<a target=\"_blank\" href=https://colab.research.google.com/notebooks/data_table.ipynb>data table notebook</a>'\n",
              "            + ' to learn more about interactive tables.';\n",
              "          element.innerHTML = '';\n",
              "          dataTable['output_type'] = 'display_data';\n",
              "          await google.colab.output.renderOutput(dataTable, element);\n",
              "          const docLink = document.createElement('div');\n",
              "          docLink.innerHTML = docLinkHtml;\n",
              "          element.appendChild(docLink);\n",
              "        }\n",
              "      </script>\n",
              "    </div>\n",
              "  </div>\n",
              "  "
            ]
          },
          "metadata": {},
          "execution_count": 26
        }
      ],
      "source": [
        "from statsmodels.stats.outliers_influence import variance_inflation_factor\n",
        "variables = df.drop(['target'],axis=1)\n",
        "vif = pd.DataFrame()\n",
        "vif[\"VIF\"] = [variance_inflation_factor(variables.values, i) for i in range(variables.shape[1])]\n",
        "vif[\"Features\"] = variables.columns\n",
        "vif"
      ]
    },
    {
      "cell_type": "code",
      "execution_count": null,
      "metadata": {
        "id": "dfNArYehQESH"
      },
      "outputs": [],
      "source": [
        "X= df.drop(['target','trestbps'],axis=1)\n",
        "y= df['target']"
      ]
    },
    {
      "cell_type": "code",
      "execution_count": null,
      "metadata": {
        "id": "y60mQ8YxUqNf"
      },
      "outputs": [],
      "source": [
        "from sklearn.model_selection import train_test_split"
      ]
    },
    {
      "cell_type": "code",
      "execution_count": null,
      "metadata": {
        "id": "18OH9DFlUulJ"
      },
      "outputs": [],
      "source": [
        "X_train,X_test,y_train,y_test = train_test_split(X,y,test_size=0.2,random_state=42)"
      ]
    },
    {
      "cell_type": "code",
      "execution_count": null,
      "metadata": {
        "id": "zJGvRxh3UwWI"
      },
      "outputs": [],
      "source": [
        "from sklearn.preprocessing import StandardScaler"
      ]
    },
    {
      "cell_type": "code",
      "execution_count": null,
      "metadata": {
        "id": "VKafZi2qU1eZ"
      },
      "outputs": [],
      "source": [
        "st = StandardScaler()\n",
        "X_train = st.fit_transform(X_train)\n",
        "X_test = st.transform(X_test)"
      ]
    },
    {
      "cell_type": "code",
      "execution_count": null,
      "metadata": {
        "id": "bgbp01iFU25f"
      },
      "outputs": [],
      "source": [
        "from sklearn import svm"
      ]
    },
    {
      "cell_type": "code",
      "execution_count": null,
      "metadata": {
        "id": "ol8vCKwXU59w"
      },
      "outputs": [],
      "source": [
        "svm = svm.SVC(gamma='auto', probability=True)"
      ]
    },
    {
      "cell_type": "code",
      "execution_count": null,
      "metadata": {
        "id": "8x50LDIcU7k3",
        "colab": {
          "base_uri": "https://localhost:8080/",
          "height": 74
        },
        "outputId": "c7b86c71-b0c2-45e9-84bc-936e4cc967c6"
      },
      "outputs": [
        {
          "output_type": "execute_result",
          "data": {
            "text/plain": [
              "SVC(gamma='auto', probability=True)"
            ],
            "text/html": [
              "<style>#sk-container-id-1 {color: black;background-color: white;}#sk-container-id-1 pre{padding: 0;}#sk-container-id-1 div.sk-toggleable {background-color: white;}#sk-container-id-1 label.sk-toggleable__label {cursor: pointer;display: block;width: 100%;margin-bottom: 0;padding: 0.3em;box-sizing: border-box;text-align: center;}#sk-container-id-1 label.sk-toggleable__label-arrow:before {content: \"▸\";float: left;margin-right: 0.25em;color: #696969;}#sk-container-id-1 label.sk-toggleable__label-arrow:hover:before {color: black;}#sk-container-id-1 div.sk-estimator:hover label.sk-toggleable__label-arrow:before {color: black;}#sk-container-id-1 div.sk-toggleable__content {max-height: 0;max-width: 0;overflow: hidden;text-align: left;background-color: #f0f8ff;}#sk-container-id-1 div.sk-toggleable__content pre {margin: 0.2em;color: black;border-radius: 0.25em;background-color: #f0f8ff;}#sk-container-id-1 input.sk-toggleable__control:checked~div.sk-toggleable__content {max-height: 200px;max-width: 100%;overflow: auto;}#sk-container-id-1 input.sk-toggleable__control:checked~label.sk-toggleable__label-arrow:before {content: \"▾\";}#sk-container-id-1 div.sk-estimator input.sk-toggleable__control:checked~label.sk-toggleable__label {background-color: #d4ebff;}#sk-container-id-1 div.sk-label input.sk-toggleable__control:checked~label.sk-toggleable__label {background-color: #d4ebff;}#sk-container-id-1 input.sk-hidden--visually {border: 0;clip: rect(1px 1px 1px 1px);clip: rect(1px, 1px, 1px, 1px);height: 1px;margin: -1px;overflow: hidden;padding: 0;position: absolute;width: 1px;}#sk-container-id-1 div.sk-estimator {font-family: monospace;background-color: #f0f8ff;border: 1px dotted black;border-radius: 0.25em;box-sizing: border-box;margin-bottom: 0.5em;}#sk-container-id-1 div.sk-estimator:hover {background-color: #d4ebff;}#sk-container-id-1 div.sk-parallel-item::after {content: \"\";width: 100%;border-bottom: 1px solid gray;flex-grow: 1;}#sk-container-id-1 div.sk-label:hover label.sk-toggleable__label {background-color: #d4ebff;}#sk-container-id-1 div.sk-serial::before {content: \"\";position: absolute;border-left: 1px solid gray;box-sizing: border-box;top: 0;bottom: 0;left: 50%;z-index: 0;}#sk-container-id-1 div.sk-serial {display: flex;flex-direction: column;align-items: center;background-color: white;padding-right: 0.2em;padding-left: 0.2em;position: relative;}#sk-container-id-1 div.sk-item {position: relative;z-index: 1;}#sk-container-id-1 div.sk-parallel {display: flex;align-items: stretch;justify-content: center;background-color: white;position: relative;}#sk-container-id-1 div.sk-item::before, #sk-container-id-1 div.sk-parallel-item::before {content: \"\";position: absolute;border-left: 1px solid gray;box-sizing: border-box;top: 0;bottom: 0;left: 50%;z-index: -1;}#sk-container-id-1 div.sk-parallel-item {display: flex;flex-direction: column;z-index: 1;position: relative;background-color: white;}#sk-container-id-1 div.sk-parallel-item:first-child::after {align-self: flex-end;width: 50%;}#sk-container-id-1 div.sk-parallel-item:last-child::after {align-self: flex-start;width: 50%;}#sk-container-id-1 div.sk-parallel-item:only-child::after {width: 0;}#sk-container-id-1 div.sk-dashed-wrapped {border: 1px dashed gray;margin: 0 0.4em 0.5em 0.4em;box-sizing: border-box;padding-bottom: 0.4em;background-color: white;}#sk-container-id-1 div.sk-label label {font-family: monospace;font-weight: bold;display: inline-block;line-height: 1.2em;}#sk-container-id-1 div.sk-label-container {text-align: center;}#sk-container-id-1 div.sk-container {/* jupyter's `normalize.less` sets `[hidden] { display: none; }` but bootstrap.min.css set `[hidden] { display: none !important; }` so we also need the `!important` here to be able to override the default hidden behavior on the sphinx rendered scikit-learn.org. See: https://github.com/scikit-learn/scikit-learn/issues/21755 */display: inline-block !important;position: relative;}#sk-container-id-1 div.sk-text-repr-fallback {display: none;}</style><div id=\"sk-container-id-1\" class=\"sk-top-container\"><div class=\"sk-text-repr-fallback\"><pre>SVC(gamma=&#x27;auto&#x27;, probability=True)</pre><b>In a Jupyter environment, please rerun this cell to show the HTML representation or trust the notebook. <br />On GitHub, the HTML representation is unable to render, please try loading this page with nbviewer.org.</b></div><div class=\"sk-container\" hidden><div class=\"sk-item\"><div class=\"sk-estimator sk-toggleable\"><input class=\"sk-toggleable__control sk-hidden--visually\" id=\"sk-estimator-id-1\" type=\"checkbox\" checked><label for=\"sk-estimator-id-1\" class=\"sk-toggleable__label sk-toggleable__label-arrow\">SVC</label><div class=\"sk-toggleable__content\"><pre>SVC(gamma=&#x27;auto&#x27;, probability=True)</pre></div></div></div></div></div>"
            ]
          },
          "metadata": {},
          "execution_count": 34
        }
      ],
      "source": [
        "svm.fit(X_train,y_train)"
      ]
    },
    {
      "cell_type": "code",
      "execution_count": null,
      "metadata": {
        "id": "SWBdTzOaU9B0"
      },
      "outputs": [],
      "source": [
        "y_pred = svm.predict(X_test)"
      ]
    },
    {
      "cell_type": "code",
      "execution_count": null,
      "metadata": {
        "id": "Ju-GxEruU-gT",
        "colab": {
          "base_uri": "https://localhost:8080/"
        },
        "outputId": "0c832f83-bfe8-4e6d-95b6-07b6e3be4b63"
      },
      "outputs": [
        {
          "output_type": "execute_result",
          "data": {
            "text/plain": [
              "0.9073170731707317"
            ]
          },
          "metadata": {},
          "execution_count": 36
        }
      ],
      "source": [
        "from sklearn.metrics import accuracy_score\n",
        "accuracy_score(y_test,y_pred)"
      ]
    },
    {
      "cell_type": "code",
      "execution_count": null,
      "metadata": {
        "id": "JW67llmJVBsl",
        "colab": {
          "base_uri": "https://localhost:8080/"
        },
        "outputId": "35e2fbea-4ec8-4fda-9183-39d72b1f1d0a"
      },
      "outputs": [
        {
          "output_type": "stream",
          "name": "stdout",
          "text": [
            "              precision    recall  f1-score   support\n",
            "\n",
            "           0       0.96      0.85      0.90       102\n",
            "           1       0.87      0.96      0.91       103\n",
            "\n",
            "    accuracy                           0.91       205\n",
            "   macro avg       0.91      0.91      0.91       205\n",
            "weighted avg       0.91      0.91      0.91       205\n",
            "\n"
          ]
        }
      ],
      "source": [
        "from sklearn.metrics import classification_report\n",
        "print(classification_report(y_test, y_pred))"
      ]
    },
    {
      "cell_type": "code",
      "execution_count": null,
      "metadata": {
        "id": "jzAH0U3ub7GC"
      },
      "outputs": [],
      "source": [
        "#from sklearn.metrics import plot_confusion_matrix\n",
        "#plot_confusion_matrix(svm,X_test, y_test)\n",
        "#plt.show()"
      ]
    },
    {
      "cell_type": "code",
      "execution_count": null,
      "metadata": {
        "id": "Iff5OLqyVP28"
      },
      "outputs": [],
      "source": [
        "from sklearn.ensemble import RandomForestClassifier"
      ]
    },
    {
      "cell_type": "code",
      "execution_count": null,
      "metadata": {
        "id": "LYScKT_AVXMO"
      },
      "outputs": [],
      "source": [
        "rf = RandomForestClassifier(n_estimators=20, random_state=42,max_depth=7)"
      ]
    },
    {
      "cell_type": "code",
      "execution_count": null,
      "metadata": {
        "id": "vC0rwZgkVYfX",
        "colab": {
          "base_uri": "https://localhost:8080/",
          "height": 74
        },
        "outputId": "7a89c24a-f01a-4dab-d517-7f73703610de"
      },
      "outputs": [
        {
          "output_type": "execute_result",
          "data": {
            "text/plain": [
              "RandomForestClassifier(max_depth=7, n_estimators=20, random_state=42)"
            ],
            "text/html": [
              "<style>#sk-container-id-2 {color: black;background-color: white;}#sk-container-id-2 pre{padding: 0;}#sk-container-id-2 div.sk-toggleable {background-color: white;}#sk-container-id-2 label.sk-toggleable__label {cursor: pointer;display: block;width: 100%;margin-bottom: 0;padding: 0.3em;box-sizing: border-box;text-align: center;}#sk-container-id-2 label.sk-toggleable__label-arrow:before {content: \"▸\";float: left;margin-right: 0.25em;color: #696969;}#sk-container-id-2 label.sk-toggleable__label-arrow:hover:before {color: black;}#sk-container-id-2 div.sk-estimator:hover label.sk-toggleable__label-arrow:before {color: black;}#sk-container-id-2 div.sk-toggleable__content {max-height: 0;max-width: 0;overflow: hidden;text-align: left;background-color: #f0f8ff;}#sk-container-id-2 div.sk-toggleable__content pre {margin: 0.2em;color: black;border-radius: 0.25em;background-color: #f0f8ff;}#sk-container-id-2 input.sk-toggleable__control:checked~div.sk-toggleable__content {max-height: 200px;max-width: 100%;overflow: auto;}#sk-container-id-2 input.sk-toggleable__control:checked~label.sk-toggleable__label-arrow:before {content: \"▾\";}#sk-container-id-2 div.sk-estimator input.sk-toggleable__control:checked~label.sk-toggleable__label {background-color: #d4ebff;}#sk-container-id-2 div.sk-label input.sk-toggleable__control:checked~label.sk-toggleable__label {background-color: #d4ebff;}#sk-container-id-2 input.sk-hidden--visually {border: 0;clip: rect(1px 1px 1px 1px);clip: rect(1px, 1px, 1px, 1px);height: 1px;margin: -1px;overflow: hidden;padding: 0;position: absolute;width: 1px;}#sk-container-id-2 div.sk-estimator {font-family: monospace;background-color: #f0f8ff;border: 1px dotted black;border-radius: 0.25em;box-sizing: border-box;margin-bottom: 0.5em;}#sk-container-id-2 div.sk-estimator:hover {background-color: #d4ebff;}#sk-container-id-2 div.sk-parallel-item::after {content: \"\";width: 100%;border-bottom: 1px solid gray;flex-grow: 1;}#sk-container-id-2 div.sk-label:hover label.sk-toggleable__label {background-color: #d4ebff;}#sk-container-id-2 div.sk-serial::before {content: \"\";position: absolute;border-left: 1px solid gray;box-sizing: border-box;top: 0;bottom: 0;left: 50%;z-index: 0;}#sk-container-id-2 div.sk-serial {display: flex;flex-direction: column;align-items: center;background-color: white;padding-right: 0.2em;padding-left: 0.2em;position: relative;}#sk-container-id-2 div.sk-item {position: relative;z-index: 1;}#sk-container-id-2 div.sk-parallel {display: flex;align-items: stretch;justify-content: center;background-color: white;position: relative;}#sk-container-id-2 div.sk-item::before, #sk-container-id-2 div.sk-parallel-item::before {content: \"\";position: absolute;border-left: 1px solid gray;box-sizing: border-box;top: 0;bottom: 0;left: 50%;z-index: -1;}#sk-container-id-2 div.sk-parallel-item {display: flex;flex-direction: column;z-index: 1;position: relative;background-color: white;}#sk-container-id-2 div.sk-parallel-item:first-child::after {align-self: flex-end;width: 50%;}#sk-container-id-2 div.sk-parallel-item:last-child::after {align-self: flex-start;width: 50%;}#sk-container-id-2 div.sk-parallel-item:only-child::after {width: 0;}#sk-container-id-2 div.sk-dashed-wrapped {border: 1px dashed gray;margin: 0 0.4em 0.5em 0.4em;box-sizing: border-box;padding-bottom: 0.4em;background-color: white;}#sk-container-id-2 div.sk-label label {font-family: monospace;font-weight: bold;display: inline-block;line-height: 1.2em;}#sk-container-id-2 div.sk-label-container {text-align: center;}#sk-container-id-2 div.sk-container {/* jupyter's `normalize.less` sets `[hidden] { display: none; }` but bootstrap.min.css set `[hidden] { display: none !important; }` so we also need the `!important` here to be able to override the default hidden behavior on the sphinx rendered scikit-learn.org. See: https://github.com/scikit-learn/scikit-learn/issues/21755 */display: inline-block !important;position: relative;}#sk-container-id-2 div.sk-text-repr-fallback {display: none;}</style><div id=\"sk-container-id-2\" class=\"sk-top-container\"><div class=\"sk-text-repr-fallback\"><pre>RandomForestClassifier(max_depth=7, n_estimators=20, random_state=42)</pre><b>In a Jupyter environment, please rerun this cell to show the HTML representation or trust the notebook. <br />On GitHub, the HTML representation is unable to render, please try loading this page with nbviewer.org.</b></div><div class=\"sk-container\" hidden><div class=\"sk-item\"><div class=\"sk-estimator sk-toggleable\"><input class=\"sk-toggleable__control sk-hidden--visually\" id=\"sk-estimator-id-2\" type=\"checkbox\" checked><label for=\"sk-estimator-id-2\" class=\"sk-toggleable__label sk-toggleable__label-arrow\">RandomForestClassifier</label><div class=\"sk-toggleable__content\"><pre>RandomForestClassifier(max_depth=7, n_estimators=20, random_state=42)</pre></div></div></div></div></div>"
            ]
          },
          "metadata": {},
          "execution_count": 41
        }
      ],
      "source": [
        "rf.fit(X_train,y_train)"
      ]
    },
    {
      "cell_type": "code",
      "execution_count": null,
      "metadata": {
        "id": "2SCbxDgfVZrn"
      },
      "outputs": [],
      "source": [
        "y_pred2 = rf.predict(X_test)"
      ]
    },
    {
      "cell_type": "code",
      "execution_count": null,
      "metadata": {
        "id": "ZayPuKbOVbPP",
        "colab": {
          "base_uri": "https://localhost:8080/"
        },
        "outputId": "5159766b-51ff-45f0-932e-a659115c35af"
      },
      "outputs": [
        {
          "output_type": "execute_result",
          "data": {
            "text/plain": [
              "0.9463414634146341"
            ]
          },
          "metadata": {},
          "execution_count": 43
        }
      ],
      "source": [
        "accuracy_score(y_test,y_pred2)"
      ]
    },
    {
      "cell_type": "code",
      "execution_count": null,
      "metadata": {
        "id": "0pzM6R1QctMW",
        "colab": {
          "base_uri": "https://localhost:8080/"
        },
        "outputId": "b1b116ca-3fa2-4175-a5ff-6198c214e1f4"
      },
      "outputs": [
        {
          "output_type": "stream",
          "name": "stdout",
          "text": [
            "              precision    recall  f1-score   support\n",
            "\n",
            "           0       0.97      0.92      0.94       102\n",
            "           1       0.93      0.97      0.95       103\n",
            "\n",
            "    accuracy                           0.95       205\n",
            "   macro avg       0.95      0.95      0.95       205\n",
            "weighted avg       0.95      0.95      0.95       205\n",
            "\n"
          ]
        }
      ],
      "source": [
        "print(classification_report(y_test, y_pred2))"
      ]
    },
    {
      "cell_type": "code",
      "execution_count": null,
      "metadata": {
        "id": "gzGYjPSKVc7I"
      },
      "outputs": [],
      "source": [
        "#plot_confusion_matrix(rf,X_test, y_test)\n",
        "#plt.show()"
      ]
    },
    {
      "cell_type": "code",
      "execution_count": null,
      "metadata": {
        "id": "g7pP5yZVb-Nm"
      },
      "outputs": [],
      "source": [
        "from sklearn.tree import DecisionTreeClassifier"
      ]
    },
    {
      "cell_type": "code",
      "execution_count": null,
      "metadata": {
        "id": "xbCkanmgcAhs"
      },
      "outputs": [],
      "source": [
        "dt = DecisionTreeClassifier(criterion = 'entropy',random_state=0,max_depth = 6)"
      ]
    },
    {
      "cell_type": "code",
      "execution_count": null,
      "metadata": {
        "id": "dKyffKFTcB8L",
        "colab": {
          "base_uri": "https://localhost:8080/",
          "height": 74
        },
        "outputId": "09e85cba-0f1f-4b3d-9497-02b86c37775c"
      },
      "outputs": [
        {
          "output_type": "execute_result",
          "data": {
            "text/plain": [
              "DecisionTreeClassifier(criterion='entropy', max_depth=6, random_state=0)"
            ],
            "text/html": [
              "<style>#sk-container-id-3 {color: black;background-color: white;}#sk-container-id-3 pre{padding: 0;}#sk-container-id-3 div.sk-toggleable {background-color: white;}#sk-container-id-3 label.sk-toggleable__label {cursor: pointer;display: block;width: 100%;margin-bottom: 0;padding: 0.3em;box-sizing: border-box;text-align: center;}#sk-container-id-3 label.sk-toggleable__label-arrow:before {content: \"▸\";float: left;margin-right: 0.25em;color: #696969;}#sk-container-id-3 label.sk-toggleable__label-arrow:hover:before {color: black;}#sk-container-id-3 div.sk-estimator:hover label.sk-toggleable__label-arrow:before {color: black;}#sk-container-id-3 div.sk-toggleable__content {max-height: 0;max-width: 0;overflow: hidden;text-align: left;background-color: #f0f8ff;}#sk-container-id-3 div.sk-toggleable__content pre {margin: 0.2em;color: black;border-radius: 0.25em;background-color: #f0f8ff;}#sk-container-id-3 input.sk-toggleable__control:checked~div.sk-toggleable__content {max-height: 200px;max-width: 100%;overflow: auto;}#sk-container-id-3 input.sk-toggleable__control:checked~label.sk-toggleable__label-arrow:before {content: \"▾\";}#sk-container-id-3 div.sk-estimator input.sk-toggleable__control:checked~label.sk-toggleable__label {background-color: #d4ebff;}#sk-container-id-3 div.sk-label input.sk-toggleable__control:checked~label.sk-toggleable__label {background-color: #d4ebff;}#sk-container-id-3 input.sk-hidden--visually {border: 0;clip: rect(1px 1px 1px 1px);clip: rect(1px, 1px, 1px, 1px);height: 1px;margin: -1px;overflow: hidden;padding: 0;position: absolute;width: 1px;}#sk-container-id-3 div.sk-estimator {font-family: monospace;background-color: #f0f8ff;border: 1px dotted black;border-radius: 0.25em;box-sizing: border-box;margin-bottom: 0.5em;}#sk-container-id-3 div.sk-estimator:hover {background-color: #d4ebff;}#sk-container-id-3 div.sk-parallel-item::after {content: \"\";width: 100%;border-bottom: 1px solid gray;flex-grow: 1;}#sk-container-id-3 div.sk-label:hover label.sk-toggleable__label {background-color: #d4ebff;}#sk-container-id-3 div.sk-serial::before {content: \"\";position: absolute;border-left: 1px solid gray;box-sizing: border-box;top: 0;bottom: 0;left: 50%;z-index: 0;}#sk-container-id-3 div.sk-serial {display: flex;flex-direction: column;align-items: center;background-color: white;padding-right: 0.2em;padding-left: 0.2em;position: relative;}#sk-container-id-3 div.sk-item {position: relative;z-index: 1;}#sk-container-id-3 div.sk-parallel {display: flex;align-items: stretch;justify-content: center;background-color: white;position: relative;}#sk-container-id-3 div.sk-item::before, #sk-container-id-3 div.sk-parallel-item::before {content: \"\";position: absolute;border-left: 1px solid gray;box-sizing: border-box;top: 0;bottom: 0;left: 50%;z-index: -1;}#sk-container-id-3 div.sk-parallel-item {display: flex;flex-direction: column;z-index: 1;position: relative;background-color: white;}#sk-container-id-3 div.sk-parallel-item:first-child::after {align-self: flex-end;width: 50%;}#sk-container-id-3 div.sk-parallel-item:last-child::after {align-self: flex-start;width: 50%;}#sk-container-id-3 div.sk-parallel-item:only-child::after {width: 0;}#sk-container-id-3 div.sk-dashed-wrapped {border: 1px dashed gray;margin: 0 0.4em 0.5em 0.4em;box-sizing: border-box;padding-bottom: 0.4em;background-color: white;}#sk-container-id-3 div.sk-label label {font-family: monospace;font-weight: bold;display: inline-block;line-height: 1.2em;}#sk-container-id-3 div.sk-label-container {text-align: center;}#sk-container-id-3 div.sk-container {/* jupyter's `normalize.less` sets `[hidden] { display: none; }` but bootstrap.min.css set `[hidden] { display: none !important; }` so we also need the `!important` here to be able to override the default hidden behavior on the sphinx rendered scikit-learn.org. See: https://github.com/scikit-learn/scikit-learn/issues/21755 */display: inline-block !important;position: relative;}#sk-container-id-3 div.sk-text-repr-fallback {display: none;}</style><div id=\"sk-container-id-3\" class=\"sk-top-container\"><div class=\"sk-text-repr-fallback\"><pre>DecisionTreeClassifier(criterion=&#x27;entropy&#x27;, max_depth=6, random_state=0)</pre><b>In a Jupyter environment, please rerun this cell to show the HTML representation or trust the notebook. <br />On GitHub, the HTML representation is unable to render, please try loading this page with nbviewer.org.</b></div><div class=\"sk-container\" hidden><div class=\"sk-item\"><div class=\"sk-estimator sk-toggleable\"><input class=\"sk-toggleable__control sk-hidden--visually\" id=\"sk-estimator-id-3\" type=\"checkbox\" checked><label for=\"sk-estimator-id-3\" class=\"sk-toggleable__label sk-toggleable__label-arrow\">DecisionTreeClassifier</label><div class=\"sk-toggleable__content\"><pre>DecisionTreeClassifier(criterion=&#x27;entropy&#x27;, max_depth=6, random_state=0)</pre></div></div></div></div></div>"
            ]
          },
          "metadata": {},
          "execution_count": 48
        }
      ],
      "source": [
        "dt.fit(X_train,y_train)"
      ]
    },
    {
      "cell_type": "code",
      "execution_count": null,
      "metadata": {
        "id": "Uf8DumqrcKAY"
      },
      "outputs": [],
      "source": [
        "y_pred3 = dt.predict(X_test)"
      ]
    },
    {
      "cell_type": "code",
      "execution_count": null,
      "metadata": {
        "id": "cuZXI5mNcLrk",
        "colab": {
          "base_uri": "https://localhost:8080/"
        },
        "outputId": "74050250-e709-45b1-c030-603b9ea590b8"
      },
      "outputs": [
        {
          "output_type": "execute_result",
          "data": {
            "text/plain": [
              "0.8731707317073171"
            ]
          },
          "metadata": {},
          "execution_count": 50
        }
      ],
      "source": [
        "accuracy_score(y_test,y_pred3)"
      ]
    },
    {
      "cell_type": "code",
      "execution_count": null,
      "metadata": {
        "id": "boTDRjyMcpA8",
        "colab": {
          "base_uri": "https://localhost:8080/"
        },
        "outputId": "45449262-ef27-4916-949d-635d7644e5cd"
      },
      "outputs": [
        {
          "output_type": "stream",
          "name": "stdout",
          "text": [
            "              precision    recall  f1-score   support\n",
            "\n",
            "           0       0.89      0.85      0.87       102\n",
            "           1       0.86      0.89      0.88       103\n",
            "\n",
            "    accuracy                           0.87       205\n",
            "   macro avg       0.87      0.87      0.87       205\n",
            "weighted avg       0.87      0.87      0.87       205\n",
            "\n"
          ]
        }
      ],
      "source": [
        "print(classification_report(y_test, y_pred3))"
      ]
    },
    {
      "cell_type": "code",
      "execution_count": null,
      "metadata": {
        "id": "oSkzwc2RcNPk"
      },
      "outputs": [],
      "source": [
        "#plot_confusion_matrix(dt,X_test, y_test)\n",
        "#plt.show()"
      ]
    },
    {
      "cell_type": "code",
      "execution_count": null,
      "metadata": {
        "id": "-X2gZHeacOtV"
      },
      "outputs": [],
      "source": [
        "from sklearn.ensemble import GradientBoostingClassifier"
      ]
    },
    {
      "cell_type": "code",
      "execution_count": null,
      "metadata": {
        "id": "rETwb9WlcfoN"
      },
      "outputs": [],
      "source": [
        "gbc = GradientBoostingClassifier()"
      ]
    },
    {
      "cell_type": "code",
      "execution_count": null,
      "metadata": {
        "id": "HuFJgUvgchTL",
        "colab": {
          "base_uri": "https://localhost:8080/",
          "height": 74
        },
        "outputId": "ce0a11fc-3db1-43cc-e195-d4e72cd98a4c"
      },
      "outputs": [
        {
          "output_type": "execute_result",
          "data": {
            "text/plain": [
              "GradientBoostingClassifier()"
            ],
            "text/html": [
              "<style>#sk-container-id-4 {color: black;background-color: white;}#sk-container-id-4 pre{padding: 0;}#sk-container-id-4 div.sk-toggleable {background-color: white;}#sk-container-id-4 label.sk-toggleable__label {cursor: pointer;display: block;width: 100%;margin-bottom: 0;padding: 0.3em;box-sizing: border-box;text-align: center;}#sk-container-id-4 label.sk-toggleable__label-arrow:before {content: \"▸\";float: left;margin-right: 0.25em;color: #696969;}#sk-container-id-4 label.sk-toggleable__label-arrow:hover:before {color: black;}#sk-container-id-4 div.sk-estimator:hover label.sk-toggleable__label-arrow:before {color: black;}#sk-container-id-4 div.sk-toggleable__content {max-height: 0;max-width: 0;overflow: hidden;text-align: left;background-color: #f0f8ff;}#sk-container-id-4 div.sk-toggleable__content pre {margin: 0.2em;color: black;border-radius: 0.25em;background-color: #f0f8ff;}#sk-container-id-4 input.sk-toggleable__control:checked~div.sk-toggleable__content {max-height: 200px;max-width: 100%;overflow: auto;}#sk-container-id-4 input.sk-toggleable__control:checked~label.sk-toggleable__label-arrow:before {content: \"▾\";}#sk-container-id-4 div.sk-estimator input.sk-toggleable__control:checked~label.sk-toggleable__label {background-color: #d4ebff;}#sk-container-id-4 div.sk-label input.sk-toggleable__control:checked~label.sk-toggleable__label {background-color: #d4ebff;}#sk-container-id-4 input.sk-hidden--visually {border: 0;clip: rect(1px 1px 1px 1px);clip: rect(1px, 1px, 1px, 1px);height: 1px;margin: -1px;overflow: hidden;padding: 0;position: absolute;width: 1px;}#sk-container-id-4 div.sk-estimator {font-family: monospace;background-color: #f0f8ff;border: 1px dotted black;border-radius: 0.25em;box-sizing: border-box;margin-bottom: 0.5em;}#sk-container-id-4 div.sk-estimator:hover {background-color: #d4ebff;}#sk-container-id-4 div.sk-parallel-item::after {content: \"\";width: 100%;border-bottom: 1px solid gray;flex-grow: 1;}#sk-container-id-4 div.sk-label:hover label.sk-toggleable__label {background-color: #d4ebff;}#sk-container-id-4 div.sk-serial::before {content: \"\";position: absolute;border-left: 1px solid gray;box-sizing: border-box;top: 0;bottom: 0;left: 50%;z-index: 0;}#sk-container-id-4 div.sk-serial {display: flex;flex-direction: column;align-items: center;background-color: white;padding-right: 0.2em;padding-left: 0.2em;position: relative;}#sk-container-id-4 div.sk-item {position: relative;z-index: 1;}#sk-container-id-4 div.sk-parallel {display: flex;align-items: stretch;justify-content: center;background-color: white;position: relative;}#sk-container-id-4 div.sk-item::before, #sk-container-id-4 div.sk-parallel-item::before {content: \"\";position: absolute;border-left: 1px solid gray;box-sizing: border-box;top: 0;bottom: 0;left: 50%;z-index: -1;}#sk-container-id-4 div.sk-parallel-item {display: flex;flex-direction: column;z-index: 1;position: relative;background-color: white;}#sk-container-id-4 div.sk-parallel-item:first-child::after {align-self: flex-end;width: 50%;}#sk-container-id-4 div.sk-parallel-item:last-child::after {align-self: flex-start;width: 50%;}#sk-container-id-4 div.sk-parallel-item:only-child::after {width: 0;}#sk-container-id-4 div.sk-dashed-wrapped {border: 1px dashed gray;margin: 0 0.4em 0.5em 0.4em;box-sizing: border-box;padding-bottom: 0.4em;background-color: white;}#sk-container-id-4 div.sk-label label {font-family: monospace;font-weight: bold;display: inline-block;line-height: 1.2em;}#sk-container-id-4 div.sk-label-container {text-align: center;}#sk-container-id-4 div.sk-container {/* jupyter's `normalize.less` sets `[hidden] { display: none; }` but bootstrap.min.css set `[hidden] { display: none !important; }` so we also need the `!important` here to be able to override the default hidden behavior on the sphinx rendered scikit-learn.org. See: https://github.com/scikit-learn/scikit-learn/issues/21755 */display: inline-block !important;position: relative;}#sk-container-id-4 div.sk-text-repr-fallback {display: none;}</style><div id=\"sk-container-id-4\" class=\"sk-top-container\"><div class=\"sk-text-repr-fallback\"><pre>GradientBoostingClassifier()</pre><b>In a Jupyter environment, please rerun this cell to show the HTML representation or trust the notebook. <br />On GitHub, the HTML representation is unable to render, please try loading this page with nbviewer.org.</b></div><div class=\"sk-container\" hidden><div class=\"sk-item\"><div class=\"sk-estimator sk-toggleable\"><input class=\"sk-toggleable__control sk-hidden--visually\" id=\"sk-estimator-id-4\" type=\"checkbox\" checked><label for=\"sk-estimator-id-4\" class=\"sk-toggleable__label sk-toggleable__label-arrow\">GradientBoostingClassifier</label><div class=\"sk-toggleable__content\"><pre>GradientBoostingClassifier()</pre></div></div></div></div></div>"
            ]
          },
          "metadata": {},
          "execution_count": 55
        }
      ],
      "source": [
        "gbc.fit(X_train,y_train)"
      ]
    },
    {
      "cell_type": "code",
      "execution_count": null,
      "metadata": {
        "id": "ICTjsc6Gci4r"
      },
      "outputs": [],
      "source": [
        "y_pred4 = gbc.predict(X_test)"
      ]
    },
    {
      "cell_type": "code",
      "execution_count": null,
      "metadata": {
        "id": "5uRqdo-KckNF",
        "colab": {
          "base_uri": "https://localhost:8080/"
        },
        "outputId": "00e54e4a-9395-49b3-cb1d-741f92f23473"
      },
      "outputs": [
        {
          "output_type": "execute_result",
          "data": {
            "text/plain": [
              "0.9073170731707317"
            ]
          },
          "metadata": {},
          "execution_count": 57
        }
      ],
      "source": [
        "accuracy_score(y_test,y_pred4)"
      ]
    },
    {
      "cell_type": "code",
      "execution_count": null,
      "metadata": {
        "id": "yn7gORWjcl8r",
        "colab": {
          "base_uri": "https://localhost:8080/"
        },
        "outputId": "d922c79a-d5d1-41c9-eb3d-29908fe0eeeb"
      },
      "outputs": [
        {
          "output_type": "stream",
          "name": "stdout",
          "text": [
            "              precision    recall  f1-score   support\n",
            "\n",
            "           0       0.92      0.89      0.91       102\n",
            "           1       0.90      0.92      0.91       103\n",
            "\n",
            "    accuracy                           0.91       205\n",
            "   macro avg       0.91      0.91      0.91       205\n",
            "weighted avg       0.91      0.91      0.91       205\n",
            "\n"
          ]
        }
      ],
      "source": [
        "print(classification_report(y_test, y_pred4))"
      ]
    },
    {
      "cell_type": "code",
      "execution_count": null,
      "metadata": {
        "id": "YlIITC5Ucnt9"
      },
      "outputs": [],
      "source": [
        "#plot_confusion_matrix(gbc,X_test, y_test)\n",
        "#plt.show()"
      ]
    },
    {
      "cell_type": "code",
      "execution_count": null,
      "metadata": {
        "id": "vxt6BXCIc064"
      },
      "outputs": [],
      "source": [
        "from sklearn.naive_bayes import GaussianNB"
      ]
    },
    {
      "cell_type": "code",
      "execution_count": null,
      "metadata": {
        "id": "40oNxGkjc6PA"
      },
      "outputs": [],
      "source": [
        "nb = GaussianNB()"
      ]
    },
    {
      "cell_type": "code",
      "execution_count": null,
      "metadata": {
        "id": "3PHFjip-c7lN",
        "colab": {
          "base_uri": "https://localhost:8080/",
          "height": 74
        },
        "outputId": "eebb8584-53cc-4e8e-be7c-4e8c0243289d"
      },
      "outputs": [
        {
          "output_type": "execute_result",
          "data": {
            "text/plain": [
              "GaussianNB()"
            ],
            "text/html": [
              "<style>#sk-container-id-5 {color: black;background-color: white;}#sk-container-id-5 pre{padding: 0;}#sk-container-id-5 div.sk-toggleable {background-color: white;}#sk-container-id-5 label.sk-toggleable__label {cursor: pointer;display: block;width: 100%;margin-bottom: 0;padding: 0.3em;box-sizing: border-box;text-align: center;}#sk-container-id-5 label.sk-toggleable__label-arrow:before {content: \"▸\";float: left;margin-right: 0.25em;color: #696969;}#sk-container-id-5 label.sk-toggleable__label-arrow:hover:before {color: black;}#sk-container-id-5 div.sk-estimator:hover label.sk-toggleable__label-arrow:before {color: black;}#sk-container-id-5 div.sk-toggleable__content {max-height: 0;max-width: 0;overflow: hidden;text-align: left;background-color: #f0f8ff;}#sk-container-id-5 div.sk-toggleable__content pre {margin: 0.2em;color: black;border-radius: 0.25em;background-color: #f0f8ff;}#sk-container-id-5 input.sk-toggleable__control:checked~div.sk-toggleable__content {max-height: 200px;max-width: 100%;overflow: auto;}#sk-container-id-5 input.sk-toggleable__control:checked~label.sk-toggleable__label-arrow:before {content: \"▾\";}#sk-container-id-5 div.sk-estimator input.sk-toggleable__control:checked~label.sk-toggleable__label {background-color: #d4ebff;}#sk-container-id-5 div.sk-label input.sk-toggleable__control:checked~label.sk-toggleable__label {background-color: #d4ebff;}#sk-container-id-5 input.sk-hidden--visually {border: 0;clip: rect(1px 1px 1px 1px);clip: rect(1px, 1px, 1px, 1px);height: 1px;margin: -1px;overflow: hidden;padding: 0;position: absolute;width: 1px;}#sk-container-id-5 div.sk-estimator {font-family: monospace;background-color: #f0f8ff;border: 1px dotted black;border-radius: 0.25em;box-sizing: border-box;margin-bottom: 0.5em;}#sk-container-id-5 div.sk-estimator:hover {background-color: #d4ebff;}#sk-container-id-5 div.sk-parallel-item::after {content: \"\";width: 100%;border-bottom: 1px solid gray;flex-grow: 1;}#sk-container-id-5 div.sk-label:hover label.sk-toggleable__label {background-color: #d4ebff;}#sk-container-id-5 div.sk-serial::before {content: \"\";position: absolute;border-left: 1px solid gray;box-sizing: border-box;top: 0;bottom: 0;left: 50%;z-index: 0;}#sk-container-id-5 div.sk-serial {display: flex;flex-direction: column;align-items: center;background-color: white;padding-right: 0.2em;padding-left: 0.2em;position: relative;}#sk-container-id-5 div.sk-item {position: relative;z-index: 1;}#sk-container-id-5 div.sk-parallel {display: flex;align-items: stretch;justify-content: center;background-color: white;position: relative;}#sk-container-id-5 div.sk-item::before, #sk-container-id-5 div.sk-parallel-item::before {content: \"\";position: absolute;border-left: 1px solid gray;box-sizing: border-box;top: 0;bottom: 0;left: 50%;z-index: -1;}#sk-container-id-5 div.sk-parallel-item {display: flex;flex-direction: column;z-index: 1;position: relative;background-color: white;}#sk-container-id-5 div.sk-parallel-item:first-child::after {align-self: flex-end;width: 50%;}#sk-container-id-5 div.sk-parallel-item:last-child::after {align-self: flex-start;width: 50%;}#sk-container-id-5 div.sk-parallel-item:only-child::after {width: 0;}#sk-container-id-5 div.sk-dashed-wrapped {border: 1px dashed gray;margin: 0 0.4em 0.5em 0.4em;box-sizing: border-box;padding-bottom: 0.4em;background-color: white;}#sk-container-id-5 div.sk-label label {font-family: monospace;font-weight: bold;display: inline-block;line-height: 1.2em;}#sk-container-id-5 div.sk-label-container {text-align: center;}#sk-container-id-5 div.sk-container {/* jupyter's `normalize.less` sets `[hidden] { display: none; }` but bootstrap.min.css set `[hidden] { display: none !important; }` so we also need the `!important` here to be able to override the default hidden behavior on the sphinx rendered scikit-learn.org. See: https://github.com/scikit-learn/scikit-learn/issues/21755 */display: inline-block !important;position: relative;}#sk-container-id-5 div.sk-text-repr-fallback {display: none;}</style><div id=\"sk-container-id-5\" class=\"sk-top-container\"><div class=\"sk-text-repr-fallback\"><pre>GaussianNB()</pre><b>In a Jupyter environment, please rerun this cell to show the HTML representation or trust the notebook. <br />On GitHub, the HTML representation is unable to render, please try loading this page with nbviewer.org.</b></div><div class=\"sk-container\" hidden><div class=\"sk-item\"><div class=\"sk-estimator sk-toggleable\"><input class=\"sk-toggleable__control sk-hidden--visually\" id=\"sk-estimator-id-5\" type=\"checkbox\" checked><label for=\"sk-estimator-id-5\" class=\"sk-toggleable__label sk-toggleable__label-arrow\">GaussianNB</label><div class=\"sk-toggleable__content\"><pre>GaussianNB()</pre></div></div></div></div></div>"
            ]
          },
          "metadata": {},
          "execution_count": 62
        }
      ],
      "source": [
        "nb.fit(X_train, y_train)"
      ]
    },
    {
      "cell_type": "code",
      "execution_count": null,
      "metadata": {
        "id": "k3HFzuYFc846"
      },
      "outputs": [],
      "source": [
        "y_pred5 = nb.predict(X_test)"
      ]
    },
    {
      "cell_type": "code",
      "execution_count": null,
      "metadata": {
        "id": "2OykEYwHc-Ss",
        "colab": {
          "base_uri": "https://localhost:8080/"
        },
        "outputId": "0b352674-d4ad-467a-ab02-32da62ff597e"
      },
      "outputs": [
        {
          "output_type": "execute_result",
          "data": {
            "text/plain": [
              "0.8048780487804879"
            ]
          },
          "metadata": {},
          "execution_count": 64
        }
      ],
      "source": [
        "accuracy_score(y_test,y_pred5)"
      ]
    },
    {
      "cell_type": "code",
      "execution_count": null,
      "metadata": {
        "id": "TiW7h9kIc_qv",
        "colab": {
          "base_uri": "https://localhost:8080/"
        },
        "outputId": "20b4bd17-7004-4860-ae69-b1f4fa047bf1"
      },
      "outputs": [
        {
          "output_type": "stream",
          "name": "stdout",
          "text": [
            "              precision    recall  f1-score   support\n",
            "\n",
            "           0       0.87      0.72      0.78       102\n",
            "           1       0.76      0.89      0.82       103\n",
            "\n",
            "    accuracy                           0.80       205\n",
            "   macro avg       0.81      0.80      0.80       205\n",
            "weighted avg       0.81      0.80      0.80       205\n",
            "\n"
          ]
        }
      ],
      "source": [
        "print(classification_report(y_test, y_pred5))"
      ]
    },
    {
      "cell_type": "code",
      "execution_count": null,
      "metadata": {
        "id": "Q2Sgn7ekdBjD"
      },
      "outputs": [],
      "source": [
        "#plot_confusion_matrix(nb,X_test, y_test)\n",
        "#plt.show()"
      ]
    },
    {
      "cell_type": "code",
      "execution_count": null,
      "metadata": {
        "id": "gKKXpR0cdDT-"
      },
      "outputs": [],
      "source": [
        "from sklearn.linear_model import LogisticRegression"
      ]
    },
    {
      "cell_type": "code",
      "execution_count": null,
      "metadata": {
        "id": "onehbBSddE36",
        "colab": {
          "base_uri": "https://localhost:8080/",
          "height": 74
        },
        "outputId": "0d280d32-610c-42c7-fc8d-e3748154b983"
      },
      "outputs": [
        {
          "output_type": "execute_result",
          "data": {
            "text/plain": [
              "LogisticRegression()"
            ],
            "text/html": [
              "<style>#sk-container-id-6 {color: black;background-color: white;}#sk-container-id-6 pre{padding: 0;}#sk-container-id-6 div.sk-toggleable {background-color: white;}#sk-container-id-6 label.sk-toggleable__label {cursor: pointer;display: block;width: 100%;margin-bottom: 0;padding: 0.3em;box-sizing: border-box;text-align: center;}#sk-container-id-6 label.sk-toggleable__label-arrow:before {content: \"▸\";float: left;margin-right: 0.25em;color: #696969;}#sk-container-id-6 label.sk-toggleable__label-arrow:hover:before {color: black;}#sk-container-id-6 div.sk-estimator:hover label.sk-toggleable__label-arrow:before {color: black;}#sk-container-id-6 div.sk-toggleable__content {max-height: 0;max-width: 0;overflow: hidden;text-align: left;background-color: #f0f8ff;}#sk-container-id-6 div.sk-toggleable__content pre {margin: 0.2em;color: black;border-radius: 0.25em;background-color: #f0f8ff;}#sk-container-id-6 input.sk-toggleable__control:checked~div.sk-toggleable__content {max-height: 200px;max-width: 100%;overflow: auto;}#sk-container-id-6 input.sk-toggleable__control:checked~label.sk-toggleable__label-arrow:before {content: \"▾\";}#sk-container-id-6 div.sk-estimator input.sk-toggleable__control:checked~label.sk-toggleable__label {background-color: #d4ebff;}#sk-container-id-6 div.sk-label input.sk-toggleable__control:checked~label.sk-toggleable__label {background-color: #d4ebff;}#sk-container-id-6 input.sk-hidden--visually {border: 0;clip: rect(1px 1px 1px 1px);clip: rect(1px, 1px, 1px, 1px);height: 1px;margin: -1px;overflow: hidden;padding: 0;position: absolute;width: 1px;}#sk-container-id-6 div.sk-estimator {font-family: monospace;background-color: #f0f8ff;border: 1px dotted black;border-radius: 0.25em;box-sizing: border-box;margin-bottom: 0.5em;}#sk-container-id-6 div.sk-estimator:hover {background-color: #d4ebff;}#sk-container-id-6 div.sk-parallel-item::after {content: \"\";width: 100%;border-bottom: 1px solid gray;flex-grow: 1;}#sk-container-id-6 div.sk-label:hover label.sk-toggleable__label {background-color: #d4ebff;}#sk-container-id-6 div.sk-serial::before {content: \"\";position: absolute;border-left: 1px solid gray;box-sizing: border-box;top: 0;bottom: 0;left: 50%;z-index: 0;}#sk-container-id-6 div.sk-serial {display: flex;flex-direction: column;align-items: center;background-color: white;padding-right: 0.2em;padding-left: 0.2em;position: relative;}#sk-container-id-6 div.sk-item {position: relative;z-index: 1;}#sk-container-id-6 div.sk-parallel {display: flex;align-items: stretch;justify-content: center;background-color: white;position: relative;}#sk-container-id-6 div.sk-item::before, #sk-container-id-6 div.sk-parallel-item::before {content: \"\";position: absolute;border-left: 1px solid gray;box-sizing: border-box;top: 0;bottom: 0;left: 50%;z-index: -1;}#sk-container-id-6 div.sk-parallel-item {display: flex;flex-direction: column;z-index: 1;position: relative;background-color: white;}#sk-container-id-6 div.sk-parallel-item:first-child::after {align-self: flex-end;width: 50%;}#sk-container-id-6 div.sk-parallel-item:last-child::after {align-self: flex-start;width: 50%;}#sk-container-id-6 div.sk-parallel-item:only-child::after {width: 0;}#sk-container-id-6 div.sk-dashed-wrapped {border: 1px dashed gray;margin: 0 0.4em 0.5em 0.4em;box-sizing: border-box;padding-bottom: 0.4em;background-color: white;}#sk-container-id-6 div.sk-label label {font-family: monospace;font-weight: bold;display: inline-block;line-height: 1.2em;}#sk-container-id-6 div.sk-label-container {text-align: center;}#sk-container-id-6 div.sk-container {/* jupyter's `normalize.less` sets `[hidden] { display: none; }` but bootstrap.min.css set `[hidden] { display: none !important; }` so we also need the `!important` here to be able to override the default hidden behavior on the sphinx rendered scikit-learn.org. See: https://github.com/scikit-learn/scikit-learn/issues/21755 */display: inline-block !important;position: relative;}#sk-container-id-6 div.sk-text-repr-fallback {display: none;}</style><div id=\"sk-container-id-6\" class=\"sk-top-container\"><div class=\"sk-text-repr-fallback\"><pre>LogisticRegression()</pre><b>In a Jupyter environment, please rerun this cell to show the HTML representation or trust the notebook. <br />On GitHub, the HTML representation is unable to render, please try loading this page with nbviewer.org.</b></div><div class=\"sk-container\" hidden><div class=\"sk-item\"><div class=\"sk-estimator sk-toggleable\"><input class=\"sk-toggleable__control sk-hidden--visually\" id=\"sk-estimator-id-6\" type=\"checkbox\" checked><label for=\"sk-estimator-id-6\" class=\"sk-toggleable__label sk-toggleable__label-arrow\">LogisticRegression</label><div class=\"sk-toggleable__content\"><pre>LogisticRegression()</pre></div></div></div></div></div>"
            ]
          },
          "metadata": {},
          "execution_count": 68
        }
      ],
      "source": [
        "log= LogisticRegression()\n",
        "log.fit(X_train,y_train)"
      ]
    },
    {
      "cell_type": "code",
      "execution_count": null,
      "metadata": {
        "id": "KjPmpd81dGGv"
      },
      "outputs": [],
      "source": [
        "y_pred6 = log.predict(X_test)"
      ]
    },
    {
      "cell_type": "code",
      "execution_count": null,
      "metadata": {
        "id": "smTcppzFdHf5",
        "colab": {
          "base_uri": "https://localhost:8080/"
        },
        "outputId": "4ba7387a-0811-4130-cdab-3b0f8affbefc"
      },
      "outputs": [
        {
          "output_type": "execute_result",
          "data": {
            "text/plain": [
              "0.8"
            ]
          },
          "metadata": {},
          "execution_count": 70
        }
      ],
      "source": [
        "accuracy_score(y_test,y_pred6)"
      ]
    },
    {
      "cell_type": "code",
      "execution_count": null,
      "metadata": {
        "id": "2QEP8-IXdIz3",
        "colab": {
          "base_uri": "https://localhost:8080/"
        },
        "outputId": "2d841527-d466-48b8-f759-96ab5d25090e"
      },
      "outputs": [
        {
          "output_type": "stream",
          "name": "stdout",
          "text": [
            "              precision    recall  f1-score   support\n",
            "\n",
            "           0       0.84      0.74      0.79       102\n",
            "           1       0.77      0.86      0.81       103\n",
            "\n",
            "    accuracy                           0.80       205\n",
            "   macro avg       0.80      0.80      0.80       205\n",
            "weighted avg       0.80      0.80      0.80       205\n",
            "\n"
          ]
        }
      ],
      "source": [
        "print(classification_report(y_test, y_pred6))"
      ]
    },
    {
      "cell_type": "code",
      "execution_count": null,
      "metadata": {
        "id": "aZvoMntGdq-k"
      },
      "outputs": [],
      "source": [
        "from sklearn.neighbors import KNeighborsClassifier"
      ]
    },
    {
      "cell_type": "code",
      "execution_count": null,
      "metadata": {
        "id": "dNKI-P0Edq6_"
      },
      "outputs": [],
      "source": [
        "knn = KNeighborsClassifier()"
      ]
    },
    {
      "cell_type": "code",
      "execution_count": null,
      "metadata": {
        "id": "PAFtgtHxdq44",
        "colab": {
          "base_uri": "https://localhost:8080/",
          "height": 74
        },
        "outputId": "f517102b-8830-4e90-ede9-216532ef1d8f"
      },
      "outputs": [
        {
          "output_type": "execute_result",
          "data": {
            "text/plain": [
              "KNeighborsClassifier()"
            ],
            "text/html": [
              "<style>#sk-container-id-7 {color: black;background-color: white;}#sk-container-id-7 pre{padding: 0;}#sk-container-id-7 div.sk-toggleable {background-color: white;}#sk-container-id-7 label.sk-toggleable__label {cursor: pointer;display: block;width: 100%;margin-bottom: 0;padding: 0.3em;box-sizing: border-box;text-align: center;}#sk-container-id-7 label.sk-toggleable__label-arrow:before {content: \"▸\";float: left;margin-right: 0.25em;color: #696969;}#sk-container-id-7 label.sk-toggleable__label-arrow:hover:before {color: black;}#sk-container-id-7 div.sk-estimator:hover label.sk-toggleable__label-arrow:before {color: black;}#sk-container-id-7 div.sk-toggleable__content {max-height: 0;max-width: 0;overflow: hidden;text-align: left;background-color: #f0f8ff;}#sk-container-id-7 div.sk-toggleable__content pre {margin: 0.2em;color: black;border-radius: 0.25em;background-color: #f0f8ff;}#sk-container-id-7 input.sk-toggleable__control:checked~div.sk-toggleable__content {max-height: 200px;max-width: 100%;overflow: auto;}#sk-container-id-7 input.sk-toggleable__control:checked~label.sk-toggleable__label-arrow:before {content: \"▾\";}#sk-container-id-7 div.sk-estimator input.sk-toggleable__control:checked~label.sk-toggleable__label {background-color: #d4ebff;}#sk-container-id-7 div.sk-label input.sk-toggleable__control:checked~label.sk-toggleable__label {background-color: #d4ebff;}#sk-container-id-7 input.sk-hidden--visually {border: 0;clip: rect(1px 1px 1px 1px);clip: rect(1px, 1px, 1px, 1px);height: 1px;margin: -1px;overflow: hidden;padding: 0;position: absolute;width: 1px;}#sk-container-id-7 div.sk-estimator {font-family: monospace;background-color: #f0f8ff;border: 1px dotted black;border-radius: 0.25em;box-sizing: border-box;margin-bottom: 0.5em;}#sk-container-id-7 div.sk-estimator:hover {background-color: #d4ebff;}#sk-container-id-7 div.sk-parallel-item::after {content: \"\";width: 100%;border-bottom: 1px solid gray;flex-grow: 1;}#sk-container-id-7 div.sk-label:hover label.sk-toggleable__label {background-color: #d4ebff;}#sk-container-id-7 div.sk-serial::before {content: \"\";position: absolute;border-left: 1px solid gray;box-sizing: border-box;top: 0;bottom: 0;left: 50%;z-index: 0;}#sk-container-id-7 div.sk-serial {display: flex;flex-direction: column;align-items: center;background-color: white;padding-right: 0.2em;padding-left: 0.2em;position: relative;}#sk-container-id-7 div.sk-item {position: relative;z-index: 1;}#sk-container-id-7 div.sk-parallel {display: flex;align-items: stretch;justify-content: center;background-color: white;position: relative;}#sk-container-id-7 div.sk-item::before, #sk-container-id-7 div.sk-parallel-item::before {content: \"\";position: absolute;border-left: 1px solid gray;box-sizing: border-box;top: 0;bottom: 0;left: 50%;z-index: -1;}#sk-container-id-7 div.sk-parallel-item {display: flex;flex-direction: column;z-index: 1;position: relative;background-color: white;}#sk-container-id-7 div.sk-parallel-item:first-child::after {align-self: flex-end;width: 50%;}#sk-container-id-7 div.sk-parallel-item:last-child::after {align-self: flex-start;width: 50%;}#sk-container-id-7 div.sk-parallel-item:only-child::after {width: 0;}#sk-container-id-7 div.sk-dashed-wrapped {border: 1px dashed gray;margin: 0 0.4em 0.5em 0.4em;box-sizing: border-box;padding-bottom: 0.4em;background-color: white;}#sk-container-id-7 div.sk-label label {font-family: monospace;font-weight: bold;display: inline-block;line-height: 1.2em;}#sk-container-id-7 div.sk-label-container {text-align: center;}#sk-container-id-7 div.sk-container {/* jupyter's `normalize.less` sets `[hidden] { display: none; }` but bootstrap.min.css set `[hidden] { display: none !important; }` so we also need the `!important` here to be able to override the default hidden behavior on the sphinx rendered scikit-learn.org. See: https://github.com/scikit-learn/scikit-learn/issues/21755 */display: inline-block !important;position: relative;}#sk-container-id-7 div.sk-text-repr-fallback {display: none;}</style><div id=\"sk-container-id-7\" class=\"sk-top-container\"><div class=\"sk-text-repr-fallback\"><pre>KNeighborsClassifier()</pre><b>In a Jupyter environment, please rerun this cell to show the HTML representation or trust the notebook. <br />On GitHub, the HTML representation is unable to render, please try loading this page with nbviewer.org.</b></div><div class=\"sk-container\" hidden><div class=\"sk-item\"><div class=\"sk-estimator sk-toggleable\"><input class=\"sk-toggleable__control sk-hidden--visually\" id=\"sk-estimator-id-7\" type=\"checkbox\" checked><label for=\"sk-estimator-id-7\" class=\"sk-toggleable__label sk-toggleable__label-arrow\">KNeighborsClassifier</label><div class=\"sk-toggleable__content\"><pre>KNeighborsClassifier()</pre></div></div></div></div></div>"
            ]
          },
          "metadata": {},
          "execution_count": 74
        }
      ],
      "source": [
        "knn.fit(X_train,y_train)"
      ]
    },
    {
      "cell_type": "code",
      "execution_count": null,
      "metadata": {
        "id": "jqdyxehJdxOA"
      },
      "outputs": [],
      "source": [
        "y_pred7 = knn.predict(X_test)"
      ]
    },
    {
      "cell_type": "code",
      "execution_count": null,
      "metadata": {
        "id": "fSJ6X0gldxKm",
        "colab": {
          "base_uri": "https://localhost:8080/"
        },
        "outputId": "91d6f3cc-82cb-47b8-ad5f-6a036b0dfdee"
      },
      "outputs": [
        {
          "output_type": "execute_result",
          "data": {
            "text/plain": [
              "0.848780487804878"
            ]
          },
          "metadata": {},
          "execution_count": 76
        }
      ],
      "source": [
        "accuracy_score(y_test,y_pred7)"
      ]
    },
    {
      "cell_type": "code",
      "execution_count": null,
      "metadata": {
        "id": "fvKjaoyBd52Q",
        "colab": {
          "base_uri": "https://localhost:8080/"
        },
        "outputId": "3fffe309-2ad7-4b05-d954-51f8be4d0c14"
      },
      "outputs": [
        {
          "output_type": "stream",
          "name": "stdout",
          "text": [
            "              precision    recall  f1-score   support\n",
            "\n",
            "           0       0.88      0.80      0.84       102\n",
            "           1       0.82      0.89      0.86       103\n",
            "\n",
            "    accuracy                           0.85       205\n",
            "   macro avg       0.85      0.85      0.85       205\n",
            "weighted avg       0.85      0.85      0.85       205\n",
            "\n"
          ]
        }
      ],
      "source": [
        "print(classification_report(y_test, y_pred7))"
      ]
    },
    {
      "cell_type": "code",
      "execution_count": null,
      "metadata": {
        "id": "yrG7-ZPE42UE",
        "colab": {
          "base_uri": "https://localhost:8080/"
        },
        "outputId": "6321dfbb-3d1c-4711-ca65-0a979a180453"
      },
      "outputs": [
        {
          "output_type": "stream",
          "name": "stdout",
          "text": [
            "              precision    recall  f1-score   support\n",
            "\n",
            "           0       0.97      1.00      0.99       102\n",
            "           1       1.00      0.97      0.99       103\n",
            "\n",
            "    accuracy                           0.99       205\n",
            "   macro avg       0.99      0.99      0.99       205\n",
            "weighted avg       0.99      0.99      0.99       205\n",
            "\n",
            "Testing accuracy: 0.9853658536585366\n"
          ]
        }
      ],
      "source": [
        "from sklearn import metrics\n",
        "from xgboost import XGBClassifier\n",
        "model = XGBClassifier()\n",
        "model.fit(X_train, y_train)\n",
        "y_pred8 = model.predict(X_test)\n",
        "y_pred_train = model.predict(X_train)\n",
        "print(metrics.classification_report(y_test,y_pred8,labels=[0,1]))\n",
        "#print(\"Training accuracy\",metrics.accuracy_score(y_train_smote,y_pred_train))\n",
        "print(\"Testing accuracy:\",metrics.accuracy_score(y_test,y_pred8))"
      ]
    },
    {
      "cell_type": "code",
      "execution_count": null,
      "metadata": {
        "colab": {
          "base_uri": "https://localhost:8080/",
          "height": 449
        },
        "id": "og8ef9NP5GgB",
        "outputId": "2259da38-9998-4353-beeb-d5aa4c0d9da1"
      },
      "outputs": [
        {
          "output_type": "display_data",
          "data": {
            "text/plain": [
              "<Figure size 640x480 with 2 Axes>"
            ],
            "image/png": "[encoded data removed]"
          },
          "metadata": {}
        }
      ],
      "source": [
        "from sklearn import metrics\n",
        "actual = np.random.binomial(1,.9,size = 1000)\n",
        "predicted = np.random.binomial(1,.9,size = 1000)\n",
        "confusion_matrix = metrics.confusion_matrix(y_test,y_pred8)\n",
        "cm_display = metrics.ConfusionMatrixDisplay(confusion_matrix = confusion_matrix, display_labels = [0,1])\n",
        "cm_display.plot()\n",
        "plt.show()"
      ]
    },
    {
      "cell_type": "code",
      "execution_count": null,
      "metadata": {
        "id": "KIUFg51vA8T3",
        "colab": {
          "base_uri": "https://localhost:8080/"
        },
        "outputId": "5ede399d-4085-4aba-b852-8a47e4e7675e"
      },
      "outputs": [
        {
          "output_type": "stream",
          "name": "stdout",
          "text": [
            "              precision    recall  f1-score   support\n",
            "\n",
            "           0       0.85      0.82      0.84       102\n",
            "           1       0.83      0.85      0.84       103\n",
            "\n",
            "    accuracy                           0.84       205\n",
            "   macro avg       0.84      0.84      0.84       205\n",
            "weighted avg       0.84      0.84      0.84       205\n",
            "\n",
            "Testing accuracy: 0.8390243902439024\n"
          ]
        }
      ],
      "source": [
        "from sklearn.ensemble import AdaBoostClassifier\n",
        "model = AdaBoostClassifier()\n",
        "model.fit(X_train,y_train)\n",
        "y_pred = model.predict(X_test)\n",
        "y_pred_train = model.predict(X_train)\n",
        "print(metrics.classification_report(y_test,y_pred,labels=[0,1]))\n",
        "#print(\"Training accuracy\",metrics.accuracy_score(y_train_smote,y_pred_train))\n",
        "print(\"Testing accuracy:\",metrics.accuracy_score(y_test,y_pred))"
      ]
    },
    {
      "cell_type": "code",
      "execution_count": null,
      "metadata": {
        "id": "udWSrlQKBIh-",
        "colab": {
          "base_uri": "https://localhost:8080/"
        },
        "outputId": "6951237c-8a66-4a44-c29a-8f16da6705bf"
      },
      "outputs": [
        {
          "output_type": "stream",
          "name": "stdout",
          "text": [
            "              precision    recall  f1-score   support\n",
            "\n",
            "           0       0.97      1.00      0.99       102\n",
            "           1       1.00      0.97      0.99       103\n",
            "\n",
            "    accuracy                           0.99       205\n",
            "   macro avg       0.99      0.99      0.99       205\n",
            "weighted avg       0.99      0.99      0.99       205\n",
            "\n",
            "Testing accuracy: 0.9853658536585366\n"
          ]
        }
      ],
      "source": [
        "import lightgbm as lgb\n",
        "model = lgb.LGBMClassifier()\n",
        "model.fit(X_train,y_train)\n",
        "y_pred = model.predict(X_test)\n",
        "y_pred_train = model.predict(X_train)\n",
        "print(metrics.classification_report(y_test,y_pred,labels=[0,1]))\n",
        "#print(\"Training accuracy\",metrics.accuracy_score(y_train_smote,y_pred_train))\n",
        "print(\"Testing accuracy:\",metrics.accuracy_score(y_test,y_pred))"
      ]
    },
    {
      "cell_type": "code",
      "execution_count": null,
      "metadata": {
        "id": "FXRD3w9lBWys",
        "colab": {
          "base_uri": "https://localhost:8080/"
        },
        "outputId": "b49939aa-e2f1-4406-8d8c-ee94ac12f9a1"
      },
      "outputs": [
        {
          "output_type": "stream",
          "name": "stdout",
          "text": [
            "Looking in indexes: https://pypi.org/simple, https://us-python.pkg.dev/colab-wheels/public/simple/\n",
            "Collecting catboost\n",
            "  Downloading catboost-1.2-cp310-cp310-manylinux2014_x86_64.whl (98.6 MB)\n",
            "\u001b[2K     \u001b[90m━━━━━━━━━━━━━━━━━━━━━━━━━━━━━━━━━━━━━━━━\u001b[0m \u001b[32m98.6/98.6 MB\u001b[0m \u001b[31m8.2 MB/s\u001b[0m eta \u001b[36m0:00:00\u001b[0m\n",
            "\u001b[?25hRequirement already satisfied: graphviz in /usr/local/lib/python3.10/dist-packages (from catboost) (0.20.1)\n",
            "Requirement already satisfied: matplotlib in /usr/local/lib/python3.10/dist-packages (from catboost) (3.7.1)\n",
            "Requirement already satisfied: numpy>=1.16.0 in /usr/local/lib/python3.10/dist-packages (from catboost) (1.22.4)\n",
            "Requirement already satisfied: pandas>=0.24 in /usr/local/lib/python3.10/dist-packages (from catboost) (1.5.3)\n",
            "Requirement already satisfied: scipy in /usr/local/lib/python3.10/dist-packages (from catboost) (1.10.1)\n",
            "Requirement already satisfied: plotly in /usr/local/lib/python3.10/dist-packages (from catboost) (5.13.1)\n",
            "Requirement already satisfied: six in /usr/local/lib/python3.10/dist-packages (from catboost) (1.16.0)\n",
            "Requirement already satisfied: python-dateutil>=2.8.1 in /usr/local/lib/python3.10/dist-packages (from pandas>=0.24->catboost) (2.8.2)\n",
            "Requirement already satisfied: pytz>=2020.1 in /usr/local/lib/python3.10/dist-packages (from pandas>=0.24->catboost) (2022.7.1)\n",
            "Requirement already satisfied: contourpy>=1.0.1 in /usr/local/lib/python3.10/dist-packages (from matplotlib->catboost) (1.0.7)\n",
            "Requirement already satisfied: cycler>=0.10 in /usr/local/lib/python3.10/dist-packages (from matplotlib->catboost) (0.11.0)\n",
            "Requirement already satisfied: fonttools>=4.22.0 in /usr/local/lib/python3.10/dist-packages (from matplotlib->catboost) (4.39.3)\n",
            "Requirement already satisfied: kiwisolver>=1.0.1 in /usr/local/lib/python3.10/dist-packages (from matplotlib->catboost) (1.4.4)\n",
            "Requirement already satisfied: packaging>=20.0 in /usr/local/lib/python3.10/dist-packages (from matplotlib->catboost) (23.1)\n",
            "Requirement already satisfied: pillow>=6.2.0 in /usr/local/lib/python3.10/dist-packages (from matplotlib->catboost) (8.4.0)\n",
            "Requirement already satisfied: pyparsing>=2.3.1 in /usr/local/lib/python3.10/dist-packages (from matplotlib->catboost) (3.0.9)\n",
            "Requirement already satisfied: tenacity>=6.2.0 in /usr/local/lib/python3.10/dist-packages (from plotly->catboost) (8.2.2)\n",
            "Installing collected packages: catboost\n",
            "Successfully installed catboost-1.2\n"
          ]
        }
      ],
      "source": [
        "pip install catboost"
      ]
    },
    {
      "cell_type": "code",
      "execution_count": null,
      "metadata": {
        "id": "rQHUaoCVBaXB",
        "colab": {
          "base_uri": "https://localhost:8080/"
        },
        "outputId": "3eb592a7-b07a-4437-fea9-c012c39aa68e"
      },
      "outputs": [
        {
          "output_type": "stream",
          "name": "stdout",
          "text": [
            "Learning rate set to 0.009465\n",
            "0:\tlearn: 0.6828115\ttotal: 47.2ms\tremaining: 47.1s\n",
            "1:\tlearn: 0.6720523\ttotal: 48.6ms\tremaining: 24.2s\n",
            "2:\tlearn: 0.6634234\ttotal: 50.2ms\tremaining: 16.7s\n",
            "3:\tlearn: 0.6526981\ttotal: 51.5ms\tremaining: 12.8s\n",
            "4:\tlearn: 0.6427837\ttotal: 52.6ms\tremaining: 10.5s\n",
            "5:\tlearn: 0.6333586\ttotal: 53.8ms\tremaining: 8.91s\n",
            "6:\tlearn: 0.6254945\ttotal: 54.9ms\tremaining: 7.78s\n",
            "7:\tlearn: 0.6161770\ttotal: 55.9ms\tremaining: 6.93s\n",
            "8:\tlearn: 0.6085977\ttotal: 57ms\tremaining: 6.28s\n",
            "9:\tlearn: 0.5996225\ttotal: 58.8ms\tremaining: 5.82s\n",
            "10:\tlearn: 0.5926273\ttotal: 60.6ms\tremaining: 5.45s\n",
            "11:\tlearn: 0.5854031\ttotal: 62.4ms\tremaining: 5.14s\n",
            "12:\tlearn: 0.5796443\ttotal: 63.5ms\tremaining: 4.82s\n",
            "13:\tlearn: 0.5724272\ttotal: 64.7ms\tremaining: 4.55s\n",
            "14:\tlearn: 0.5652470\ttotal: 65.8ms\tremaining: 4.32s\n",
            "15:\tlearn: 0.5572992\ttotal: 67ms\tremaining: 4.12s\n",
            "16:\tlearn: 0.5502140\ttotal: 68.1ms\tremaining: 3.94s\n",
            "17:\tlearn: 0.5432359\ttotal: 69.5ms\tremaining: 3.79s\n",
            "18:\tlearn: 0.5389656\ttotal: 70.6ms\tremaining: 3.65s\n",
            "19:\tlearn: 0.5324234\ttotal: 71.8ms\tremaining: 3.52s\n",
            "20:\tlearn: 0.5256416\ttotal: 73ms\tremaining: 3.4s\n",
            "21:\tlearn: 0.5193729\ttotal: 74.1ms\tremaining: 3.29s\n",
            "22:\tlearn: 0.5125628\ttotal: 75.3ms\tremaining: 3.2s\n",
            "23:\tlearn: 0.5059234\ttotal: 76.5ms\tremaining: 3.11s\n",
            "24:\tlearn: 0.4988627\ttotal: 77.6ms\tremaining: 3.03s\n",
            "25:\tlearn: 0.4930658\ttotal: 78.8ms\tremaining: 2.95s\n",
            "26:\tlearn: 0.4868915\ttotal: 80.2ms\tremaining: 2.89s\n",
            "27:\tlearn: 0.4811319\ttotal: 81.4ms\tremaining: 2.82s\n",
            "28:\tlearn: 0.4752534\ttotal: 82.6ms\tremaining: 2.76s\n",
            "29:\tlearn: 0.4715304\ttotal: 83.5ms\tremaining: 2.7s\n",
            "30:\tlearn: 0.4655274\ttotal: 84.7ms\tremaining: 2.65s\n",
            "31:\tlearn: 0.4624816\ttotal: 86ms\tremaining: 2.6s\n",
            "32:\tlearn: 0.4575681\ttotal: 87.2ms\tremaining: 2.56s\n",
            "33:\tlearn: 0.4515795\ttotal: 88.5ms\tremaining: 2.51s\n",
            "34:\tlearn: 0.4457652\ttotal: 89.7ms\tremaining: 2.47s\n",
            "35:\tlearn: 0.4406411\ttotal: 91ms\tremaining: 2.44s\n",
            "36:\tlearn: 0.4370221\ttotal: 92.2ms\tremaining: 2.4s\n",
            "37:\tlearn: 0.4320685\ttotal: 93.4ms\tremaining: 2.37s\n",
            "38:\tlearn: 0.4265332\ttotal: 94.6ms\tremaining: 2.33s\n",
            "39:\tlearn: 0.4227106\ttotal: 95.9ms\tremaining: 2.3s\n",
            "40:\tlearn: 0.4180785\ttotal: 97.1ms\tremaining: 2.27s\n",
            "41:\tlearn: 0.4135371\ttotal: 98.4ms\tremaining: 2.25s\n",
            "42:\tlearn: 0.4090653\ttotal: 99.6ms\tremaining: 2.22s\n",
            "43:\tlearn: 0.4053677\ttotal: 101ms\tremaining: 2.19s\n",
            "44:\tlearn: 0.4014188\ttotal: 102ms\tremaining: 2.16s\n",
            "45:\tlearn: 0.3978294\ttotal: 103ms\tremaining: 2.14s\n",
            "46:\tlearn: 0.3945093\ttotal: 104ms\tremaining: 2.11s\n",
            "47:\tlearn: 0.3908615\ttotal: 106ms\tremaining: 2.09s\n",
            "48:\tlearn: 0.3874032\ttotal: 107ms\tremaining: 2.07s\n",
            "49:\tlearn: 0.3841785\ttotal: 108ms\tremaining: 2.05s\n",
            "50:\tlearn: 0.3795412\ttotal: 109ms\tremaining: 2.03s\n",
            "51:\tlearn: 0.3773223\ttotal: 110ms\tremaining: 2.01s\n",
            "52:\tlearn: 0.3739959\ttotal: 111ms\tremaining: 1.99s\n",
            "53:\tlearn: 0.3709051\ttotal: 113ms\tremaining: 1.97s\n",
            "54:\tlearn: 0.3676071\ttotal: 114ms\tremaining: 1.95s\n",
            "55:\tlearn: 0.3646947\ttotal: 115ms\tremaining: 1.94s\n",
            "56:\tlearn: 0.3615362\ttotal: 116ms\tremaining: 1.92s\n",
            "57:\tlearn: 0.3581735\ttotal: 117ms\tremaining: 1.91s\n",
            "58:\tlearn: 0.3544971\ttotal: 119ms\tremaining: 1.89s\n",
            "59:\tlearn: 0.3523376\ttotal: 120ms\tremaining: 1.87s\n",
            "60:\tlearn: 0.3492473\ttotal: 121ms\tremaining: 1.86s\n",
            "61:\tlearn: 0.3461400\ttotal: 122ms\tremaining: 1.84s\n",
            "62:\tlearn: 0.3432334\ttotal: 123ms\tremaining: 1.83s\n",
            "63:\tlearn: 0.3414880\ttotal: 124ms\tremaining: 1.82s\n",
            "64:\tlearn: 0.3396595\ttotal: 126ms\tremaining: 1.8s\n",
            "65:\tlearn: 0.3365975\ttotal: 127ms\tremaining: 1.79s\n",
            "66:\tlearn: 0.3345370\ttotal: 128ms\tremaining: 1.78s\n",
            "67:\tlearn: 0.3316995\ttotal: 129ms\tremaining: 1.77s\n",
            "68:\tlearn: 0.3290831\ttotal: 130ms\tremaining: 1.75s\n",
            "69:\tlearn: 0.3268011\ttotal: 131ms\tremaining: 1.74s\n",
            "70:\tlearn: 0.3242117\ttotal: 132ms\tremaining: 1.73s\n",
            "71:\tlearn: 0.3216316\ttotal: 134ms\tremaining: 1.72s\n",
            "72:\tlearn: 0.3185399\ttotal: 135ms\tremaining: 1.71s\n",
            "73:\tlearn: 0.3161286\ttotal: 136ms\tremaining: 1.7s\n",
            "74:\tlearn: 0.3140208\ttotal: 137ms\tremaining: 1.69s\n",
            "75:\tlearn: 0.3120880\ttotal: 138ms\tremaining: 1.68s\n",
            "76:\tlearn: 0.3099033\ttotal: 139ms\tremaining: 1.67s\n",
            "77:\tlearn: 0.3073982\ttotal: 140ms\tremaining: 1.66s\n",
            "78:\tlearn: 0.3057015\ttotal: 142ms\tremaining: 1.66s\n",
            "79:\tlearn: 0.3037611\ttotal: 143ms\tremaining: 1.64s\n",
            "80:\tlearn: 0.3021581\ttotal: 144ms\tremaining: 1.63s\n",
            "81:\tlearn: 0.3000031\ttotal: 145ms\tremaining: 1.62s\n",
            "82:\tlearn: 0.2978569\ttotal: 146ms\tremaining: 1.61s\n",
            "83:\tlearn: 0.2957535\ttotal: 147ms\tremaining: 1.6s\n",
            "84:\tlearn: 0.2942349\ttotal: 148ms\tremaining: 1.59s\n",
            "85:\tlearn: 0.2919822\ttotal: 149ms\tremaining: 1.58s\n",
            "86:\tlearn: 0.2899099\ttotal: 150ms\tremaining: 1.58s\n",
            "87:\tlearn: 0.2881271\ttotal: 152ms\tremaining: 1.57s\n",
            "88:\tlearn: 0.2859360\ttotal: 153ms\tremaining: 1.56s\n",
            "89:\tlearn: 0.2839559\ttotal: 154ms\tremaining: 1.55s\n",
            "90:\tlearn: 0.2812478\ttotal: 155ms\tremaining: 1.55s\n",
            "91:\tlearn: 0.2796410\ttotal: 156ms\tremaining: 1.54s\n",
            "92:\tlearn: 0.2782768\ttotal: 158ms\tremaining: 1.54s\n",
            "93:\tlearn: 0.2765433\ttotal: 159ms\tremaining: 1.53s\n",
            "94:\tlearn: 0.2751932\ttotal: 160ms\tremaining: 1.52s\n",
            "95:\tlearn: 0.2738651\ttotal: 161ms\tremaining: 1.51s\n",
            "96:\tlearn: 0.2715746\ttotal: 162ms\tremaining: 1.51s\n",
            "97:\tlearn: 0.2698032\ttotal: 163ms\tremaining: 1.5s\n",
            "98:\tlearn: 0.2679798\ttotal: 164ms\tremaining: 1.5s\n",
            "99:\tlearn: 0.2662601\ttotal: 165ms\tremaining: 1.49s\n",
            "100:\tlearn: 0.2645614\ttotal: 167ms\tremaining: 1.48s\n",
            "101:\tlearn: 0.2632592\ttotal: 168ms\tremaining: 1.48s\n",
            "102:\tlearn: 0.2613955\ttotal: 169ms\tremaining: 1.47s\n",
            "103:\tlearn: 0.2604620\ttotal: 170ms\tremaining: 1.46s\n",
            "104:\tlearn: 0.2592387\ttotal: 171ms\tremaining: 1.46s\n",
            "105:\tlearn: 0.2577645\ttotal: 173ms\tremaining: 1.46s\n",
            "106:\tlearn: 0.2559534\ttotal: 175ms\tremaining: 1.46s\n",
            "107:\tlearn: 0.2542145\ttotal: 176ms\tremaining: 1.45s\n",
            "108:\tlearn: 0.2526294\ttotal: 177ms\tremaining: 1.45s\n",
            "109:\tlearn: 0.2509127\ttotal: 178ms\tremaining: 1.44s\n",
            "110:\tlearn: 0.2496303\ttotal: 179ms\tremaining: 1.44s\n",
            "111:\tlearn: 0.2488595\ttotal: 180ms\tremaining: 1.43s\n",
            "112:\tlearn: 0.2474494\ttotal: 181ms\tremaining: 1.42s\n",
            "113:\tlearn: 0.2458680\ttotal: 183ms\tremaining: 1.42s\n",
            "114:\tlearn: 0.2444639\ttotal: 184ms\tremaining: 1.41s\n",
            "115:\tlearn: 0.2429642\ttotal: 186ms\tremaining: 1.42s\n",
            "116:\tlearn: 0.2414285\ttotal: 188ms\tremaining: 1.42s\n",
            "117:\tlearn: 0.2404449\ttotal: 190ms\tremaining: 1.42s\n",
            "118:\tlearn: 0.2395552\ttotal: 192ms\tremaining: 1.42s\n",
            "119:\tlearn: 0.2387849\ttotal: 193ms\tremaining: 1.41s\n",
            "120:\tlearn: 0.2372388\ttotal: 194ms\tremaining: 1.41s\n",
            "121:\tlearn: 0.2360292\ttotal: 195ms\tremaining: 1.4s\n",
            "122:\tlearn: 0.2347211\ttotal: 196ms\tremaining: 1.4s\n",
            "123:\tlearn: 0.2333219\ttotal: 197ms\tremaining: 1.39s\n",
            "124:\tlearn: 0.2324365\ttotal: 198ms\tremaining: 1.39s\n",
            "125:\tlearn: 0.2318015\ttotal: 200ms\tremaining: 1.38s\n",
            "126:\tlearn: 0.2304353\ttotal: 201ms\tremaining: 1.38s\n",
            "127:\tlearn: 0.2289241\ttotal: 202ms\tremaining: 1.38s\n",
            "128:\tlearn: 0.2276589\ttotal: 204ms\tremaining: 1.38s\n",
            "129:\tlearn: 0.2262398\ttotal: 205ms\tremaining: 1.37s\n",
            "130:\tlearn: 0.2251570\ttotal: 206ms\tremaining: 1.37s\n",
            "131:\tlearn: 0.2241544\ttotal: 207ms\tremaining: 1.36s\n",
            "132:\tlearn: 0.2229704\ttotal: 209ms\tremaining: 1.36s\n",
            "133:\tlearn: 0.2217343\ttotal: 210ms\tremaining: 1.35s\n",
            "134:\tlearn: 0.2207638\ttotal: 211ms\tremaining: 1.35s\n",
            "135:\tlearn: 0.2195730\ttotal: 214ms\tremaining: 1.36s\n",
            "136:\tlearn: 0.2188057\ttotal: 216ms\tremaining: 1.36s\n",
            "137:\tlearn: 0.2180594\ttotal: 217ms\tremaining: 1.35s\n",
            "138:\tlearn: 0.2168668\ttotal: 218ms\tremaining: 1.35s\n",
            "139:\tlearn: 0.2152859\ttotal: 219ms\tremaining: 1.35s\n",
            "140:\tlearn: 0.2143283\ttotal: 221ms\tremaining: 1.35s\n",
            "141:\tlearn: 0.2134919\ttotal: 223ms\tremaining: 1.35s\n",
            "142:\tlearn: 0.2120577\ttotal: 224ms\tremaining: 1.34s\n",
            "143:\tlearn: 0.2109245\ttotal: 225ms\tremaining: 1.34s\n",
            "144:\tlearn: 0.2096723\ttotal: 226ms\tremaining: 1.33s\n",
            "145:\tlearn: 0.2089156\ttotal: 227ms\tremaining: 1.33s\n",
            "146:\tlearn: 0.2077832\ttotal: 228ms\tremaining: 1.32s\n",
            "147:\tlearn: 0.2071182\ttotal: 228ms\tremaining: 1.31s\n",
            "148:\tlearn: 0.2062496\ttotal: 230ms\tremaining: 1.31s\n",
            "149:\tlearn: 0.2057079\ttotal: 231ms\tremaining: 1.31s\n",
            "150:\tlearn: 0.2046021\ttotal: 232ms\tremaining: 1.3s\n",
            "151:\tlearn: 0.2040468\ttotal: 233ms\tremaining: 1.3s\n",
            "152:\tlearn: 0.2030378\ttotal: 234ms\tremaining: 1.29s\n",
            "153:\tlearn: 0.2023150\ttotal: 235ms\tremaining: 1.29s\n",
            "154:\tlearn: 0.2012124\ttotal: 236ms\tremaining: 1.29s\n",
            "155:\tlearn: 0.2003105\ttotal: 238ms\tremaining: 1.28s\n",
            "156:\tlearn: 0.1997136\ttotal: 239ms\tremaining: 1.28s\n",
            "157:\tlearn: 0.1989436\ttotal: 240ms\tremaining: 1.28s\n",
            "158:\tlearn: 0.1980134\ttotal: 241ms\tremaining: 1.27s\n",
            "159:\tlearn: 0.1966139\ttotal: 242ms\tremaining: 1.27s\n",
            "160:\tlearn: 0.1956490\ttotal: 243ms\tremaining: 1.27s\n",
            "161:\tlearn: 0.1943847\ttotal: 245ms\tremaining: 1.26s\n",
            "162:\tlearn: 0.1935148\ttotal: 246ms\tremaining: 1.26s\n",
            "163:\tlearn: 0.1925133\ttotal: 247ms\tremaining: 1.26s\n",
            "164:\tlearn: 0.1920368\ttotal: 248ms\tremaining: 1.25s\n",
            "165:\tlearn: 0.1912741\ttotal: 249ms\tremaining: 1.25s\n",
            "166:\tlearn: 0.1902477\ttotal: 250ms\tremaining: 1.25s\n",
            "167:\tlearn: 0.1894458\ttotal: 251ms\tremaining: 1.24s\n",
            "168:\tlearn: 0.1887322\ttotal: 252ms\tremaining: 1.24s\n",
            "169:\tlearn: 0.1882863\ttotal: 254ms\tremaining: 1.24s\n",
            "170:\tlearn: 0.1872438\ttotal: 255ms\tremaining: 1.23s\n",
            "171:\tlearn: 0.1867022\ttotal: 256ms\tremaining: 1.23s\n",
            "172:\tlearn: 0.1858828\ttotal: 257ms\tremaining: 1.23s\n",
            "173:\tlearn: 0.1849126\ttotal: 258ms\tremaining: 1.23s\n",
            "174:\tlearn: 0.1843765\ttotal: 259ms\tremaining: 1.22s\n",
            "175:\tlearn: 0.1837356\ttotal: 260ms\tremaining: 1.22s\n",
            "176:\tlearn: 0.1830176\ttotal: 262ms\tremaining: 1.22s\n",
            "177:\tlearn: 0.1827094\ttotal: 263ms\tremaining: 1.21s\n",
            "178:\tlearn: 0.1818702\ttotal: 264ms\tremaining: 1.21s\n",
            "179:\tlearn: 0.1812334\ttotal: 265ms\tremaining: 1.21s\n",
            "180:\tlearn: 0.1805258\ttotal: 266ms\tremaining: 1.2s\n",
            "181:\tlearn: 0.1796733\ttotal: 267ms\tremaining: 1.2s\n",
            "182:\tlearn: 0.1791272\ttotal: 268ms\tremaining: 1.2s\n",
            "183:\tlearn: 0.1782671\ttotal: 270ms\tremaining: 1.2s\n",
            "184:\tlearn: 0.1774767\ttotal: 271ms\tremaining: 1.19s\n",
            "185:\tlearn: 0.1770234\ttotal: 272ms\tremaining: 1.19s\n",
            "186:\tlearn: 0.1764672\ttotal: 273ms\tremaining: 1.19s\n",
            "187:\tlearn: 0.1755967\ttotal: 274ms\tremaining: 1.18s\n",
            "188:\tlearn: 0.1752588\ttotal: 276ms\tremaining: 1.18s\n",
            "189:\tlearn: 0.1748180\ttotal: 277ms\tremaining: 1.18s\n",
            "190:\tlearn: 0.1742220\ttotal: 279ms\tremaining: 1.18s\n",
            "191:\tlearn: 0.1739660\ttotal: 280ms\tremaining: 1.18s\n",
            "192:\tlearn: 0.1733032\ttotal: 281ms\tremaining: 1.18s\n",
            "193:\tlearn: 0.1730713\ttotal: 282ms\tremaining: 1.17s\n",
            "194:\tlearn: 0.1721789\ttotal: 284ms\tremaining: 1.17s\n",
            "195:\tlearn: 0.1717862\ttotal: 285ms\tremaining: 1.17s\n",
            "196:\tlearn: 0.1712940\ttotal: 286ms\tremaining: 1.17s\n",
            "197:\tlearn: 0.1702753\ttotal: 287ms\tremaining: 1.16s\n",
            "198:\tlearn: 0.1698515\ttotal: 288ms\tremaining: 1.16s\n",
            "199:\tlearn: 0.1691068\ttotal: 289ms\tremaining: 1.16s\n",
            "200:\tlearn: 0.1681557\ttotal: 290ms\tremaining: 1.15s\n",
            "201:\tlearn: 0.1675255\ttotal: 292ms\tremaining: 1.15s\n",
            "202:\tlearn: 0.1665432\ttotal: 293ms\tremaining: 1.15s\n",
            "203:\tlearn: 0.1660554\ttotal: 294ms\tremaining: 1.15s\n",
            "204:\tlearn: 0.1655950\ttotal: 295ms\tremaining: 1.14s\n",
            "205:\tlearn: 0.1651290\ttotal: 296ms\tremaining: 1.14s\n",
            "206:\tlearn: 0.1646760\ttotal: 297ms\tremaining: 1.14s\n",
            "207:\tlearn: 0.1638989\ttotal: 298ms\tremaining: 1.14s\n",
            "208:\tlearn: 0.1633792\ttotal: 299ms\tremaining: 1.13s\n",
            "209:\tlearn: 0.1628828\ttotal: 301ms\tremaining: 1.13s\n",
            "210:\tlearn: 0.1623303\ttotal: 302ms\tremaining: 1.13s\n",
            "211:\tlearn: 0.1620569\ttotal: 303ms\tremaining: 1.13s\n",
            "212:\tlearn: 0.1612218\ttotal: 304ms\tremaining: 1.12s\n",
            "213:\tlearn: 0.1605186\ttotal: 305ms\tremaining: 1.12s\n",
            "214:\tlearn: 0.1600199\ttotal: 306ms\tremaining: 1.12s\n",
            "215:\tlearn: 0.1595137\ttotal: 308ms\tremaining: 1.12s\n",
            "216:\tlearn: 0.1586342\ttotal: 309ms\tremaining: 1.11s\n",
            "217:\tlearn: 0.1581058\ttotal: 310ms\tremaining: 1.11s\n",
            "218:\tlearn: 0.1575712\ttotal: 311ms\tremaining: 1.11s\n",
            "219:\tlearn: 0.1571014\ttotal: 312ms\tremaining: 1.11s\n",
            "220:\tlearn: 0.1563721\ttotal: 313ms\tremaining: 1.1s\n",
            "221:\tlearn: 0.1560070\ttotal: 315ms\tremaining: 1.1s\n",
            "222:\tlearn: 0.1553482\ttotal: 316ms\tremaining: 1.1s\n",
            "223:\tlearn: 0.1548923\ttotal: 317ms\tremaining: 1.1s\n",
            "224:\tlearn: 0.1544283\ttotal: 318ms\tremaining: 1.09s\n",
            "225:\tlearn: 0.1538038\ttotal: 319ms\tremaining: 1.09s\n",
            "226:\tlearn: 0.1532079\ttotal: 320ms\tremaining: 1.09s\n",
            "227:\tlearn: 0.1528187\ttotal: 321ms\tremaining: 1.09s\n",
            "228:\tlearn: 0.1525223\ttotal: 323ms\tremaining: 1.09s\n",
            "229:\tlearn: 0.1519790\ttotal: 324ms\tremaining: 1.08s\n",
            "230:\tlearn: 0.1517114\ttotal: 325ms\tremaining: 1.08s\n",
            "231:\tlearn: 0.1510776\ttotal: 326ms\tremaining: 1.08s\n",
            "232:\tlearn: 0.1507042\ttotal: 327ms\tremaining: 1.08s\n",
            "233:\tlearn: 0.1505589\ttotal: 328ms\tremaining: 1.07s\n",
            "234:\tlearn: 0.1500720\ttotal: 329ms\tremaining: 1.07s\n",
            "235:\tlearn: 0.1493970\ttotal: 330ms\tremaining: 1.07s\n",
            "236:\tlearn: 0.1488278\ttotal: 332ms\tremaining: 1.07s\n",
            "237:\tlearn: 0.1485751\ttotal: 333ms\tremaining: 1.06s\n",
            "238:\tlearn: 0.1481340\ttotal: 334ms\tremaining: 1.06s\n",
            "239:\tlearn: 0.1477085\ttotal: 335ms\tremaining: 1.06s\n",
            "240:\tlearn: 0.1473035\ttotal: 336ms\tremaining: 1.06s\n",
            "241:\tlearn: 0.1469316\ttotal: 337ms\tremaining: 1.06s\n",
            "242:\tlearn: 0.1465391\ttotal: 338ms\tremaining: 1.05s\n",
            "243:\tlearn: 0.1460549\ttotal: 340ms\tremaining: 1.05s\n",
            "244:\tlearn: 0.1455336\ttotal: 341ms\tremaining: 1.05s\n",
            "245:\tlearn: 0.1451953\ttotal: 342ms\tremaining: 1.05s\n",
            "246:\tlearn: 0.1446832\ttotal: 343ms\tremaining: 1.04s\n",
            "247:\tlearn: 0.1444358\ttotal: 344ms\tremaining: 1.04s\n",
            "248:\tlearn: 0.1440235\ttotal: 345ms\tremaining: 1.04s\n",
            "249:\tlearn: 0.1436739\ttotal: 346ms\tremaining: 1.04s\n",
            "250:\tlearn: 0.1430553\ttotal: 347ms\tremaining: 1.04s\n",
            "251:\tlearn: 0.1427943\ttotal: 349ms\tremaining: 1.03s\n",
            "252:\tlearn: 0.1422951\ttotal: 350ms\tremaining: 1.03s\n",
            "253:\tlearn: 0.1419068\ttotal: 351ms\tremaining: 1.03s\n",
            "254:\tlearn: 0.1415274\ttotal: 352ms\tremaining: 1.03s\n",
            "255:\tlearn: 0.1411635\ttotal: 353ms\tremaining: 1.03s\n",
            "256:\tlearn: 0.1406759\ttotal: 354ms\tremaining: 1.02s\n",
            "257:\tlearn: 0.1403061\ttotal: 356ms\tremaining: 1.02s\n",
            "258:\tlearn: 0.1397872\ttotal: 357ms\tremaining: 1.02s\n",
            "259:\tlearn: 0.1393073\ttotal: 358ms\tremaining: 1.02s\n",
            "260:\tlearn: 0.1389869\ttotal: 359ms\tremaining: 1.02s\n",
            "261:\tlearn: 0.1384127\ttotal: 360ms\tremaining: 1.01s\n",
            "262:\tlearn: 0.1382124\ttotal: 361ms\tremaining: 1.01s\n",
            "263:\tlearn: 0.1375951\ttotal: 362ms\tremaining: 1.01s\n",
            "264:\tlearn: 0.1372730\ttotal: 364ms\tremaining: 1.01s\n",
            "265:\tlearn: 0.1370175\ttotal: 365ms\tremaining: 1.01s\n",
            "266:\tlearn: 0.1364101\ttotal: 366ms\tremaining: 1s\n",
            "267:\tlearn: 0.1359851\ttotal: 367ms\tremaining: 1s\n",
            "268:\tlearn: 0.1356444\ttotal: 368ms\tremaining: 1s\n",
            "269:\tlearn: 0.1351756\ttotal: 369ms\tremaining: 998ms\n",
            "270:\tlearn: 0.1347315\ttotal: 370ms\tremaining: 996ms\n",
            "271:\tlearn: 0.1343837\ttotal: 373ms\tremaining: 998ms\n",
            "272:\tlearn: 0.1341468\ttotal: 374ms\tremaining: 997ms\n",
            "273:\tlearn: 0.1339417\ttotal: 376ms\tremaining: 995ms\n",
            "274:\tlearn: 0.1336914\ttotal: 377ms\tremaining: 993ms\n",
            "275:\tlearn: 0.1334575\ttotal: 380ms\tremaining: 996ms\n",
            "276:\tlearn: 0.1332154\ttotal: 381ms\tremaining: 994ms\n",
            "277:\tlearn: 0.1328812\ttotal: 382ms\tremaining: 992ms\n",
            "278:\tlearn: 0.1325793\ttotal: 383ms\tremaining: 990ms\n",
            "279:\tlearn: 0.1322383\ttotal: 384ms\tremaining: 988ms\n",
            "280:\tlearn: 0.1316184\ttotal: 385ms\tremaining: 986ms\n",
            "281:\tlearn: 0.1313568\ttotal: 387ms\tremaining: 985ms\n",
            "282:\tlearn: 0.1306654\ttotal: 388ms\tremaining: 983ms\n",
            "283:\tlearn: 0.1302818\ttotal: 389ms\tremaining: 981ms\n",
            "284:\tlearn: 0.1300265\ttotal: 390ms\tremaining: 979ms\n",
            "285:\tlearn: 0.1298386\ttotal: 391ms\tremaining: 977ms\n",
            "286:\tlearn: 0.1292088\ttotal: 392ms\tremaining: 975ms\n",
            "287:\tlearn: 0.1287835\ttotal: 394ms\tremaining: 973ms\n",
            "288:\tlearn: 0.1283837\ttotal: 395ms\tremaining: 971ms\n",
            "289:\tlearn: 0.1280725\ttotal: 396ms\tremaining: 969ms\n",
            "290:\tlearn: 0.1279124\ttotal: 397ms\tremaining: 967ms\n",
            "291:\tlearn: 0.1274020\ttotal: 398ms\tremaining: 965ms\n",
            "292:\tlearn: 0.1271039\ttotal: 399ms\tremaining: 964ms\n",
            "293:\tlearn: 0.1266923\ttotal: 401ms\tremaining: 962ms\n",
            "294:\tlearn: 0.1263255\ttotal: 402ms\tremaining: 960ms\n",
            "295:\tlearn: 0.1259597\ttotal: 403ms\tremaining: 958ms\n",
            "296:\tlearn: 0.1256484\ttotal: 404ms\tremaining: 956ms\n",
            "297:\tlearn: 0.1254822\ttotal: 405ms\tremaining: 954ms\n",
            "298:\tlearn: 0.1251143\ttotal: 406ms\tremaining: 952ms\n",
            "299:\tlearn: 0.1248075\ttotal: 407ms\tremaining: 951ms\n",
            "300:\tlearn: 0.1246319\ttotal: 409ms\tremaining: 949ms\n",
            "301:\tlearn: 0.1242879\ttotal: 410ms\tremaining: 947ms\n",
            "302:\tlearn: 0.1238225\ttotal: 411ms\tremaining: 945ms\n",
            "303:\tlearn: 0.1234431\ttotal: 412ms\tremaining: 943ms\n",
            "304:\tlearn: 0.1230815\ttotal: 413ms\tremaining: 941ms\n",
            "305:\tlearn: 0.1230539\ttotal: 414ms\tremaining: 939ms\n",
            "306:\tlearn: 0.1227549\ttotal: 415ms\tremaining: 937ms\n",
            "307:\tlearn: 0.1224463\ttotal: 416ms\tremaining: 935ms\n",
            "308:\tlearn: 0.1222376\ttotal: 417ms\tremaining: 934ms\n",
            "309:\tlearn: 0.1220018\ttotal: 419ms\tremaining: 932ms\n",
            "310:\tlearn: 0.1217370\ttotal: 420ms\tremaining: 930ms\n",
            "311:\tlearn: 0.1215079\ttotal: 421ms\tremaining: 928ms\n",
            "312:\tlearn: 0.1211877\ttotal: 422ms\tremaining: 926ms\n",
            "313:\tlearn: 0.1209232\ttotal: 423ms\tremaining: 925ms\n",
            "314:\tlearn: 0.1207542\ttotal: 425ms\tremaining: 923ms\n",
            "315:\tlearn: 0.1203834\ttotal: 426ms\tremaining: 922ms\n",
            "316:\tlearn: 0.1200351\ttotal: 427ms\tremaining: 920ms\n",
            "317:\tlearn: 0.1197033\ttotal: 428ms\tremaining: 919ms\n",
            "318:\tlearn: 0.1194849\ttotal: 430ms\tremaining: 917ms\n",
            "319:\tlearn: 0.1192070\ttotal: 431ms\tremaining: 915ms\n",
            "320:\tlearn: 0.1188171\ttotal: 432ms\tremaining: 913ms\n",
            "321:\tlearn: 0.1182748\ttotal: 433ms\tremaining: 912ms\n",
            "322:\tlearn: 0.1180896\ttotal: 434ms\tremaining: 910ms\n",
            "323:\tlearn: 0.1179261\ttotal: 435ms\tremaining: 908ms\n",
            "324:\tlearn: 0.1176194\ttotal: 436ms\tremaining: 906ms\n",
            "325:\tlearn: 0.1173609\ttotal: 437ms\tremaining: 904ms\n",
            "326:\tlearn: 0.1171574\ttotal: 439ms\tremaining: 903ms\n",
            "327:\tlearn: 0.1169856\ttotal: 440ms\tremaining: 901ms\n",
            "328:\tlearn: 0.1165612\ttotal: 441ms\tremaining: 899ms\n",
            "329:\tlearn: 0.1164094\ttotal: 442ms\tremaining: 898ms\n",
            "330:\tlearn: 0.1162420\ttotal: 443ms\tremaining: 896ms\n",
            "331:\tlearn: 0.1159396\ttotal: 444ms\tremaining: 894ms\n",
            "332:\tlearn: 0.1155444\ttotal: 445ms\tremaining: 892ms\n",
            "333:\tlearn: 0.1151486\ttotal: 447ms\tremaining: 891ms\n",
            "334:\tlearn: 0.1147799\ttotal: 448ms\tremaining: 889ms\n",
            "335:\tlearn: 0.1145009\ttotal: 449ms\tremaining: 887ms\n",
            "336:\tlearn: 0.1140326\ttotal: 450ms\tremaining: 886ms\n",
            "337:\tlearn: 0.1139637\ttotal: 451ms\tremaining: 884ms\n",
            "338:\tlearn: 0.1136937\ttotal: 452ms\tremaining: 882ms\n",
            "339:\tlearn: 0.1135285\ttotal: 453ms\tremaining: 880ms\n",
            "340:\tlearn: 0.1132070\ttotal: 455ms\tremaining: 878ms\n",
            "341:\tlearn: 0.1129196\ttotal: 456ms\tremaining: 877ms\n",
            "342:\tlearn: 0.1126662\ttotal: 457ms\tremaining: 875ms\n",
            "343:\tlearn: 0.1123692\ttotal: 458ms\tremaining: 873ms\n",
            "344:\tlearn: 0.1121962\ttotal: 459ms\tremaining: 872ms\n",
            "345:\tlearn: 0.1117812\ttotal: 460ms\tremaining: 870ms\n",
            "346:\tlearn: 0.1115198\ttotal: 461ms\tremaining: 868ms\n",
            "347:\tlearn: 0.1111964\ttotal: 463ms\tremaining: 867ms\n",
            "348:\tlearn: 0.1110583\ttotal: 464ms\tremaining: 865ms\n",
            "349:\tlearn: 0.1109035\ttotal: 465ms\tremaining: 863ms\n",
            "350:\tlearn: 0.1107259\ttotal: 466ms\tremaining: 861ms\n",
            "351:\tlearn: 0.1104716\ttotal: 467ms\tremaining: 860ms\n",
            "352:\tlearn: 0.1101853\ttotal: 468ms\tremaining: 858ms\n",
            "353:\tlearn: 0.1095828\ttotal: 469ms\tremaining: 856ms\n",
            "354:\tlearn: 0.1093842\ttotal: 470ms\tremaining: 855ms\n",
            "355:\tlearn: 0.1092164\ttotal: 471ms\tremaining: 853ms\n",
            "356:\tlearn: 0.1089614\ttotal: 473ms\tremaining: 851ms\n",
            "357:\tlearn: 0.1087715\ttotal: 474ms\tremaining: 850ms\n",
            "358:\tlearn: 0.1083914\ttotal: 475ms\tremaining: 848ms\n",
            "359:\tlearn: 0.1082066\ttotal: 476ms\tremaining: 846ms\n",
            "360:\tlearn: 0.1079271\ttotal: 477ms\tremaining: 845ms\n",
            "361:\tlearn: 0.1074507\ttotal: 478ms\tremaining: 843ms\n",
            "362:\tlearn: 0.1073088\ttotal: 480ms\tremaining: 842ms\n",
            "363:\tlearn: 0.1070996\ttotal: 481ms\tremaining: 840ms\n",
            "364:\tlearn: 0.1068542\ttotal: 482ms\tremaining: 838ms\n",
            "365:\tlearn: 0.1066430\ttotal: 483ms\tremaining: 837ms\n",
            "366:\tlearn: 0.1063831\ttotal: 484ms\tremaining: 835ms\n",
            "367:\tlearn: 0.1060899\ttotal: 485ms\tremaining: 833ms\n",
            "368:\tlearn: 0.1055863\ttotal: 486ms\tremaining: 832ms\n",
            "369:\tlearn: 0.1054113\ttotal: 487ms\tremaining: 830ms\n",
            "370:\tlearn: 0.1053134\ttotal: 489ms\tremaining: 829ms\n",
            "371:\tlearn: 0.1051594\ttotal: 490ms\tremaining: 827ms\n",
            "372:\tlearn: 0.1048257\ttotal: 491ms\tremaining: 825ms\n",
            "373:\tlearn: 0.1046707\ttotal: 492ms\tremaining: 824ms\n",
            "374:\tlearn: 0.1045683\ttotal: 493ms\tremaining: 822ms\n",
            "375:\tlearn: 0.1043996\ttotal: 494ms\tremaining: 821ms\n",
            "376:\tlearn: 0.1040916\ttotal: 496ms\tremaining: 819ms\n",
            "377:\tlearn: 0.1037127\ttotal: 497ms\tremaining: 817ms\n",
            "378:\tlearn: 0.1034700\ttotal: 498ms\tremaining: 816ms\n",
            "379:\tlearn: 0.1033087\ttotal: 499ms\tremaining: 814ms\n",
            "380:\tlearn: 0.1029392\ttotal: 500ms\tremaining: 812ms\n",
            "381:\tlearn: 0.1027124\ttotal: 501ms\tremaining: 811ms\n",
            "382:\tlearn: 0.1026045\ttotal: 502ms\tremaining: 809ms\n",
            "383:\tlearn: 0.1024173\ttotal: 503ms\tremaining: 808ms\n",
            "384:\tlearn: 0.1022230\ttotal: 505ms\tremaining: 806ms\n",
            "385:\tlearn: 0.1019495\ttotal: 506ms\tremaining: 804ms\n",
            "386:\tlearn: 0.1016667\ttotal: 507ms\tremaining: 803ms\n",
            "387:\tlearn: 0.1016063\ttotal: 508ms\tremaining: 801ms\n",
            "388:\tlearn: 0.1014236\ttotal: 509ms\tremaining: 800ms\n",
            "389:\tlearn: 0.1012071\ttotal: 510ms\tremaining: 798ms\n",
            "390:\tlearn: 0.1009358\ttotal: 511ms\tremaining: 796ms\n",
            "391:\tlearn: 0.1007064\ttotal: 512ms\tremaining: 795ms\n",
            "392:\tlearn: 0.1002842\ttotal: 513ms\tremaining: 793ms\n",
            "393:\tlearn: 0.1000144\ttotal: 514ms\tremaining: 791ms\n",
            "394:\tlearn: 0.0997213\ttotal: 516ms\tremaining: 790ms\n",
            "395:\tlearn: 0.0995388\ttotal: 517ms\tremaining: 788ms\n",
            "396:\tlearn: 0.0993872\ttotal: 518ms\tremaining: 786ms\n",
            "397:\tlearn: 0.0991755\ttotal: 519ms\tremaining: 785ms\n",
            "398:\tlearn: 0.0987100\ttotal: 520ms\tremaining: 783ms\n",
            "399:\tlearn: 0.0985504\ttotal: 521ms\tremaining: 782ms\n",
            "400:\tlearn: 0.0983356\ttotal: 522ms\tremaining: 780ms\n",
            "401:\tlearn: 0.0981813\ttotal: 523ms\tremaining: 779ms\n",
            "402:\tlearn: 0.0980179\ttotal: 524ms\tremaining: 777ms\n",
            "403:\tlearn: 0.0977540\ttotal: 526ms\tremaining: 775ms\n",
            "404:\tlearn: 0.0975256\ttotal: 527ms\tremaining: 774ms\n",
            "405:\tlearn: 0.0973448\ttotal: 528ms\tremaining: 772ms\n",
            "406:\tlearn: 0.0972337\ttotal: 529ms\tremaining: 771ms\n",
            "407:\tlearn: 0.0968920\ttotal: 530ms\tremaining: 769ms\n",
            "408:\tlearn: 0.0968231\ttotal: 533ms\tremaining: 770ms\n",
            "409:\tlearn: 0.0967251\ttotal: 534ms\tremaining: 769ms\n",
            "410:\tlearn: 0.0964714\ttotal: 536ms\tremaining: 768ms\n",
            "411:\tlearn: 0.0961728\ttotal: 537ms\tremaining: 766ms\n",
            "412:\tlearn: 0.0959633\ttotal: 538ms\tremaining: 765ms\n",
            "413:\tlearn: 0.0956391\ttotal: 539ms\tremaining: 763ms\n",
            "414:\tlearn: 0.0953501\ttotal: 540ms\tremaining: 762ms\n",
            "415:\tlearn: 0.0952164\ttotal: 541ms\tremaining: 760ms\n",
            "416:\tlearn: 0.0950334\ttotal: 543ms\tremaining: 759ms\n",
            "417:\tlearn: 0.0947664\ttotal: 544ms\tremaining: 757ms\n",
            "418:\tlearn: 0.0945035\ttotal: 545ms\tremaining: 756ms\n",
            "419:\tlearn: 0.0943886\ttotal: 546ms\tremaining: 754ms\n",
            "420:\tlearn: 0.0942888\ttotal: 547ms\tremaining: 752ms\n",
            "421:\tlearn: 0.0941738\ttotal: 548ms\tremaining: 751ms\n",
            "422:\tlearn: 0.0940804\ttotal: 549ms\tremaining: 749ms\n",
            "423:\tlearn: 0.0939326\ttotal: 551ms\tremaining: 748ms\n",
            "424:\tlearn: 0.0938061\ttotal: 552ms\tremaining: 746ms\n",
            "425:\tlearn: 0.0935727\ttotal: 553ms\tremaining: 745ms\n",
            "426:\tlearn: 0.0934539\ttotal: 554ms\tremaining: 743ms\n",
            "427:\tlearn: 0.0931453\ttotal: 555ms\tremaining: 742ms\n",
            "428:\tlearn: 0.0929316\ttotal: 556ms\tremaining: 740ms\n",
            "429:\tlearn: 0.0928930\ttotal: 557ms\tremaining: 738ms\n",
            "430:\tlearn: 0.0926500\ttotal: 558ms\tremaining: 737ms\n",
            "431:\tlearn: 0.0925260\ttotal: 559ms\tremaining: 735ms\n",
            "432:\tlearn: 0.0922206\ttotal: 562ms\tremaining: 735ms\n",
            "433:\tlearn: 0.0920536\ttotal: 563ms\tremaining: 734ms\n",
            "434:\tlearn: 0.0919646\ttotal: 564ms\tremaining: 733ms\n",
            "435:\tlearn: 0.0917882\ttotal: 566ms\tremaining: 732ms\n",
            "436:\tlearn: 0.0914879\ttotal: 569ms\tremaining: 733ms\n",
            "437:\tlearn: 0.0912466\ttotal: 571ms\tremaining: 732ms\n",
            "438:\tlearn: 0.0908406\ttotal: 573ms\tremaining: 733ms\n",
            "439:\tlearn: 0.0904889\ttotal: 575ms\tremaining: 732ms\n",
            "440:\tlearn: 0.0903351\ttotal: 577ms\tremaining: 732ms\n",
            "441:\tlearn: 0.0901481\ttotal: 579ms\tremaining: 731ms\n",
            "442:\tlearn: 0.0898046\ttotal: 581ms\tremaining: 730ms\n",
            "443:\tlearn: 0.0896850\ttotal: 583ms\tremaining: 730ms\n",
            "444:\tlearn: 0.0894552\ttotal: 585ms\tremaining: 729ms\n",
            "445:\tlearn: 0.0891928\ttotal: 586ms\tremaining: 728ms\n",
            "446:\tlearn: 0.0890319\ttotal: 588ms\tremaining: 728ms\n",
            "447:\tlearn: 0.0889053\ttotal: 591ms\tremaining: 728ms\n",
            "448:\tlearn: 0.0886928\ttotal: 592ms\tremaining: 726ms\n",
            "449:\tlearn: 0.0886232\ttotal: 593ms\tremaining: 724ms\n",
            "450:\tlearn: 0.0884949\ttotal: 593ms\tremaining: 722ms\n",
            "451:\tlearn: 0.0882652\ttotal: 594ms\tremaining: 721ms\n",
            "452:\tlearn: 0.0879584\ttotal: 595ms\tremaining: 719ms\n",
            "453:\tlearn: 0.0877476\ttotal: 596ms\tremaining: 717ms\n",
            "454:\tlearn: 0.0875900\ttotal: 597ms\tremaining: 715ms\n",
            "455:\tlearn: 0.0873771\ttotal: 598ms\tremaining: 713ms\n",
            "456:\tlearn: 0.0872914\ttotal: 599ms\tremaining: 711ms\n",
            "457:\tlearn: 0.0870612\ttotal: 600ms\tremaining: 710ms\n",
            "458:\tlearn: 0.0868712\ttotal: 601ms\tremaining: 708ms\n",
            "459:\tlearn: 0.0867979\ttotal: 603ms\tremaining: 707ms\n",
            "460:\tlearn: 0.0865899\ttotal: 604ms\tremaining: 707ms\n",
            "461:\tlearn: 0.0862780\ttotal: 606ms\tremaining: 706ms\n",
            "462:\tlearn: 0.0860336\ttotal: 608ms\tremaining: 705ms\n",
            "463:\tlearn: 0.0857706\ttotal: 610ms\tremaining: 705ms\n",
            "464:\tlearn: 0.0857163\ttotal: 612ms\tremaining: 704ms\n",
            "465:\tlearn: 0.0855477\ttotal: 614ms\tremaining: 703ms\n",
            "466:\tlearn: 0.0853524\ttotal: 615ms\tremaining: 702ms\n",
            "467:\tlearn: 0.0852758\ttotal: 617ms\tremaining: 702ms\n",
            "468:\tlearn: 0.0851141\ttotal: 618ms\tremaining: 700ms\n",
            "469:\tlearn: 0.0849324\ttotal: 619ms\tremaining: 699ms\n",
            "470:\tlearn: 0.0847491\ttotal: 621ms\tremaining: 697ms\n",
            "471:\tlearn: 0.0845008\ttotal: 622ms\tremaining: 696ms\n",
            "472:\tlearn: 0.0843669\ttotal: 623ms\tremaining: 694ms\n",
            "473:\tlearn: 0.0840172\ttotal: 624ms\tremaining: 693ms\n",
            "474:\tlearn: 0.0838834\ttotal: 625ms\tremaining: 691ms\n",
            "475:\tlearn: 0.0836858\ttotal: 627ms\tremaining: 690ms\n",
            "476:\tlearn: 0.0835194\ttotal: 628ms\tremaining: 688ms\n",
            "477:\tlearn: 0.0834105\ttotal: 629ms\tremaining: 687ms\n",
            "478:\tlearn: 0.0833049\ttotal: 630ms\tremaining: 685ms\n",
            "479:\tlearn: 0.0831577\ttotal: 631ms\tremaining: 684ms\n",
            "480:\tlearn: 0.0829840\ttotal: 632ms\tremaining: 682ms\n",
            "481:\tlearn: 0.0828347\ttotal: 634ms\tremaining: 681ms\n",
            "482:\tlearn: 0.0825667\ttotal: 635ms\tremaining: 679ms\n",
            "483:\tlearn: 0.0823383\ttotal: 636ms\tremaining: 678ms\n",
            "484:\tlearn: 0.0821345\ttotal: 637ms\tremaining: 676ms\n",
            "485:\tlearn: 0.0819926\ttotal: 638ms\tremaining: 675ms\n",
            "486:\tlearn: 0.0818096\ttotal: 639ms\tremaining: 673ms\n",
            "487:\tlearn: 0.0816847\ttotal: 640ms\tremaining: 672ms\n",
            "488:\tlearn: 0.0815666\ttotal: 641ms\tremaining: 670ms\n",
            "489:\tlearn: 0.0814953\ttotal: 642ms\tremaining: 669ms\n",
            "490:\tlearn: 0.0813294\ttotal: 644ms\tremaining: 667ms\n",
            "491:\tlearn: 0.0810557\ttotal: 645ms\tremaining: 666ms\n",
            "492:\tlearn: 0.0807871\ttotal: 646ms\tremaining: 664ms\n",
            "493:\tlearn: 0.0807041\ttotal: 647ms\tremaining: 663ms\n",
            "494:\tlearn: 0.0805196\ttotal: 648ms\tremaining: 661ms\n",
            "495:\tlearn: 0.0802949\ttotal: 649ms\tremaining: 660ms\n",
            "496:\tlearn: 0.0800647\ttotal: 650ms\tremaining: 658ms\n",
            "497:\tlearn: 0.0798566\ttotal: 652ms\tremaining: 657ms\n",
            "498:\tlearn: 0.0797468\ttotal: 653ms\tremaining: 655ms\n",
            "499:\tlearn: 0.0796419\ttotal: 654ms\tremaining: 654ms\n",
            "500:\tlearn: 0.0795142\ttotal: 655ms\tremaining: 652ms\n",
            "501:\tlearn: 0.0791564\ttotal: 656ms\tremaining: 651ms\n",
            "502:\tlearn: 0.0789522\ttotal: 657ms\tremaining: 649ms\n",
            "503:\tlearn: 0.0787927\ttotal: 658ms\tremaining: 648ms\n",
            "504:\tlearn: 0.0785392\ttotal: 659ms\tremaining: 646ms\n",
            "505:\tlearn: 0.0782827\ttotal: 661ms\tremaining: 645ms\n",
            "506:\tlearn: 0.0780452\ttotal: 662ms\tremaining: 643ms\n",
            "507:\tlearn: 0.0778972\ttotal: 663ms\tremaining: 642ms\n",
            "508:\tlearn: 0.0778483\ttotal: 664ms\tremaining: 641ms\n",
            "509:\tlearn: 0.0775749\ttotal: 665ms\tremaining: 639ms\n",
            "510:\tlearn: 0.0775160\ttotal: 666ms\tremaining: 638ms\n",
            "511:\tlearn: 0.0774893\ttotal: 667ms\tremaining: 636ms\n",
            "512:\tlearn: 0.0772556\ttotal: 669ms\tremaining: 635ms\n",
            "513:\tlearn: 0.0771660\ttotal: 670ms\tremaining: 634ms\n",
            "514:\tlearn: 0.0770351\ttotal: 671ms\tremaining: 632ms\n",
            "515:\tlearn: 0.0769689\ttotal: 673ms\tremaining: 631ms\n",
            "516:\tlearn: 0.0768214\ttotal: 674ms\tremaining: 630ms\n",
            "517:\tlearn: 0.0766468\ttotal: 675ms\tremaining: 628ms\n",
            "518:\tlearn: 0.0763644\ttotal: 676ms\tremaining: 627ms\n",
            "519:\tlearn: 0.0762279\ttotal: 678ms\tremaining: 625ms\n",
            "520:\tlearn: 0.0761282\ttotal: 679ms\tremaining: 624ms\n",
            "521:\tlearn: 0.0758977\ttotal: 680ms\tremaining: 623ms\n",
            "522:\tlearn: 0.0757556\ttotal: 681ms\tremaining: 621ms\n",
            "523:\tlearn: 0.0757080\ttotal: 682ms\tremaining: 620ms\n",
            "524:\tlearn: 0.0756228\ttotal: 683ms\tremaining: 618ms\n",
            "525:\tlearn: 0.0755002\ttotal: 684ms\tremaining: 617ms\n",
            "526:\tlearn: 0.0754974\ttotal: 685ms\tremaining: 615ms\n",
            "527:\tlearn: 0.0753562\ttotal: 686ms\tremaining: 613ms\n",
            "528:\tlearn: 0.0752579\ttotal: 687ms\tremaining: 612ms\n",
            "529:\tlearn: 0.0750476\ttotal: 688ms\tremaining: 611ms\n",
            "530:\tlearn: 0.0748858\ttotal: 690ms\tremaining: 610ms\n",
            "531:\tlearn: 0.0747788\ttotal: 692ms\tremaining: 609ms\n",
            "532:\tlearn: 0.0745687\ttotal: 693ms\tremaining: 607ms\n",
            "533:\tlearn: 0.0744977\ttotal: 694ms\tremaining: 606ms\n",
            "534:\tlearn: 0.0744195\ttotal: 695ms\tremaining: 604ms\n",
            "535:\tlearn: 0.0742082\ttotal: 696ms\tremaining: 603ms\n",
            "536:\tlearn: 0.0741316\ttotal: 698ms\tremaining: 601ms\n",
            "537:\tlearn: 0.0740746\ttotal: 699ms\tremaining: 600ms\n",
            "538:\tlearn: 0.0739092\ttotal: 700ms\tremaining: 599ms\n",
            "539:\tlearn: 0.0736301\ttotal: 701ms\tremaining: 597ms\n",
            "540:\tlearn: 0.0735045\ttotal: 702ms\tremaining: 596ms\n",
            "541:\tlearn: 0.0732796\ttotal: 703ms\tremaining: 594ms\n",
            "542:\tlearn: 0.0731564\ttotal: 704ms\tremaining: 593ms\n",
            "543:\tlearn: 0.0729615\ttotal: 706ms\tremaining: 591ms\n",
            "544:\tlearn: 0.0727717\ttotal: 707ms\tremaining: 590ms\n",
            "545:\tlearn: 0.0726194\ttotal: 708ms\tremaining: 589ms\n",
            "546:\tlearn: 0.0725189\ttotal: 709ms\tremaining: 587ms\n",
            "547:\tlearn: 0.0723549\ttotal: 710ms\tremaining: 586ms\n",
            "548:\tlearn: 0.0721916\ttotal: 711ms\tremaining: 584ms\n",
            "549:\tlearn: 0.0720849\ttotal: 713ms\tremaining: 583ms\n",
            "550:\tlearn: 0.0719839\ttotal: 715ms\tremaining: 582ms\n",
            "551:\tlearn: 0.0718648\ttotal: 716ms\tremaining: 581ms\n",
            "552:\tlearn: 0.0717630\ttotal: 717ms\tremaining: 580ms\n",
            "553:\tlearn: 0.0716440\ttotal: 718ms\tremaining: 578ms\n",
            "554:\tlearn: 0.0715117\ttotal: 721ms\tremaining: 578ms\n",
            "555:\tlearn: 0.0713708\ttotal: 722ms\tremaining: 577ms\n",
            "556:\tlearn: 0.0711551\ttotal: 723ms\tremaining: 575ms\n",
            "557:\tlearn: 0.0710682\ttotal: 724ms\tremaining: 574ms\n",
            "558:\tlearn: 0.0710006\ttotal: 725ms\tremaining: 572ms\n",
            "559:\tlearn: 0.0708666\ttotal: 727ms\tremaining: 571ms\n",
            "560:\tlearn: 0.0706982\ttotal: 728ms\tremaining: 570ms\n",
            "561:\tlearn: 0.0705689\ttotal: 729ms\tremaining: 568ms\n",
            "562:\tlearn: 0.0704467\ttotal: 730ms\tremaining: 567ms\n",
            "563:\tlearn: 0.0702586\ttotal: 731ms\tremaining: 565ms\n",
            "564:\tlearn: 0.0701284\ttotal: 732ms\tremaining: 564ms\n",
            "565:\tlearn: 0.0700059\ttotal: 733ms\tremaining: 562ms\n",
            "566:\tlearn: 0.0697996\ttotal: 735ms\tremaining: 561ms\n",
            "567:\tlearn: 0.0696467\ttotal: 736ms\tremaining: 560ms\n",
            "568:\tlearn: 0.0694978\ttotal: 740ms\tremaining: 561ms\n",
            "569:\tlearn: 0.0694042\ttotal: 741ms\tremaining: 559ms\n",
            "570:\tlearn: 0.0692540\ttotal: 743ms\tremaining: 558ms\n",
            "571:\tlearn: 0.0690564\ttotal: 744ms\tremaining: 557ms\n",
            "572:\tlearn: 0.0688939\ttotal: 746ms\tremaining: 556ms\n",
            "573:\tlearn: 0.0687473\ttotal: 748ms\tremaining: 555ms\n",
            "574:\tlearn: 0.0686337\ttotal: 757ms\tremaining: 559ms\n",
            "575:\tlearn: 0.0685358\ttotal: 763ms\tremaining: 562ms\n",
            "576:\tlearn: 0.0683557\ttotal: 764ms\tremaining: 560ms\n",
            "577:\tlearn: 0.0682315\ttotal: 766ms\tremaining: 559ms\n",
            "578:\tlearn: 0.0681041\ttotal: 767ms\tremaining: 557ms\n",
            "579:\tlearn: 0.0680373\ttotal: 768ms\tremaining: 556ms\n",
            "580:\tlearn: 0.0678941\ttotal: 769ms\tremaining: 555ms\n",
            "581:\tlearn: 0.0676678\ttotal: 770ms\tremaining: 553ms\n",
            "582:\tlearn: 0.0674839\ttotal: 771ms\tremaining: 552ms\n",
            "583:\tlearn: 0.0673793\ttotal: 772ms\tremaining: 550ms\n",
            "584:\tlearn: 0.0672788\ttotal: 774ms\tremaining: 549ms\n",
            "585:\tlearn: 0.0672052\ttotal: 775ms\tremaining: 547ms\n",
            "586:\tlearn: 0.0670906\ttotal: 776ms\tremaining: 546ms\n",
            "587:\tlearn: 0.0668807\ttotal: 777ms\tremaining: 544ms\n",
            "588:\tlearn: 0.0667870\ttotal: 778ms\tremaining: 543ms\n",
            "589:\tlearn: 0.0666374\ttotal: 779ms\tremaining: 541ms\n",
            "590:\tlearn: 0.0664738\ttotal: 781ms\tremaining: 540ms\n",
            "591:\tlearn: 0.0663814\ttotal: 782ms\tremaining: 539ms\n",
            "592:\tlearn: 0.0662817\ttotal: 784ms\tremaining: 538ms\n",
            "593:\tlearn: 0.0661974\ttotal: 786ms\tremaining: 537ms\n",
            "594:\tlearn: 0.0661277\ttotal: 787ms\tremaining: 536ms\n",
            "595:\tlearn: 0.0660002\ttotal: 788ms\tremaining: 534ms\n",
            "596:\tlearn: 0.0658639\ttotal: 790ms\tremaining: 533ms\n",
            "597:\tlearn: 0.0656902\ttotal: 792ms\tremaining: 532ms\n",
            "598:\tlearn: 0.0655574\ttotal: 793ms\tremaining: 531ms\n",
            "599:\tlearn: 0.0654134\ttotal: 794ms\tremaining: 529ms\n",
            "600:\tlearn: 0.0653474\ttotal: 795ms\tremaining: 528ms\n",
            "601:\tlearn: 0.0652564\ttotal: 796ms\tremaining: 527ms\n",
            "602:\tlearn: 0.0651838\ttotal: 798ms\tremaining: 525ms\n",
            "603:\tlearn: 0.0651405\ttotal: 799ms\tremaining: 524ms\n",
            "604:\tlearn: 0.0650373\ttotal: 800ms\tremaining: 522ms\n",
            "605:\tlearn: 0.0649716\ttotal: 801ms\tremaining: 521ms\n",
            "606:\tlearn: 0.0648967\ttotal: 802ms\tremaining: 519ms\n",
            "607:\tlearn: 0.0647480\ttotal: 803ms\tremaining: 518ms\n",
            "608:\tlearn: 0.0645664\ttotal: 804ms\tremaining: 516ms\n",
            "609:\tlearn: 0.0643775\ttotal: 807ms\tremaining: 516ms\n",
            "610:\tlearn: 0.0642411\ttotal: 808ms\tremaining: 514ms\n",
            "611:\tlearn: 0.0641169\ttotal: 809ms\tremaining: 513ms\n",
            "612:\tlearn: 0.0639663\ttotal: 810ms\tremaining: 511ms\n",
            "613:\tlearn: 0.0638398\ttotal: 811ms\tremaining: 510ms\n",
            "614:\tlearn: 0.0637205\ttotal: 812ms\tremaining: 508ms\n",
            "615:\tlearn: 0.0636081\ttotal: 813ms\tremaining: 507ms\n",
            "616:\tlearn: 0.0634770\ttotal: 814ms\tremaining: 506ms\n",
            "617:\tlearn: 0.0633453\ttotal: 816ms\tremaining: 504ms\n",
            "618:\tlearn: 0.0632602\ttotal: 817ms\tremaining: 503ms\n",
            "619:\tlearn: 0.0631838\ttotal: 818ms\tremaining: 501ms\n",
            "620:\tlearn: 0.0629576\ttotal: 819ms\tremaining: 500ms\n",
            "621:\tlearn: 0.0628145\ttotal: 820ms\tremaining: 498ms\n",
            "622:\tlearn: 0.0627426\ttotal: 821ms\tremaining: 497ms\n",
            "623:\tlearn: 0.0626508\ttotal: 822ms\tremaining: 495ms\n",
            "624:\tlearn: 0.0624574\ttotal: 823ms\tremaining: 494ms\n",
            "625:\tlearn: 0.0623193\ttotal: 824ms\tremaining: 493ms\n",
            "626:\tlearn: 0.0622005\ttotal: 826ms\tremaining: 491ms\n",
            "627:\tlearn: 0.0621496\ttotal: 827ms\tremaining: 490ms\n",
            "628:\tlearn: 0.0620938\ttotal: 828ms\tremaining: 488ms\n",
            "629:\tlearn: 0.0620280\ttotal: 829ms\tremaining: 487ms\n",
            "630:\tlearn: 0.0619608\ttotal: 830ms\tremaining: 485ms\n",
            "631:\tlearn: 0.0618146\ttotal: 831ms\tremaining: 484ms\n",
            "632:\tlearn: 0.0616955\ttotal: 833ms\tremaining: 483ms\n",
            "633:\tlearn: 0.0615907\ttotal: 835ms\tremaining: 482ms\n",
            "634:\tlearn: 0.0614943\ttotal: 837ms\tremaining: 481ms\n",
            "635:\tlearn: 0.0613341\ttotal: 839ms\tremaining: 480ms\n",
            "636:\tlearn: 0.0612298\ttotal: 841ms\tremaining: 479ms\n",
            "637:\tlearn: 0.0611577\ttotal: 842ms\tremaining: 478ms\n",
            "638:\tlearn: 0.0609981\ttotal: 844ms\tremaining: 477ms\n",
            "639:\tlearn: 0.0607642\ttotal: 846ms\tremaining: 476ms\n",
            "640:\tlearn: 0.0606192\ttotal: 848ms\tremaining: 475ms\n",
            "641:\tlearn: 0.0605345\ttotal: 849ms\tremaining: 473ms\n",
            "642:\tlearn: 0.0604664\ttotal: 850ms\tremaining: 472ms\n",
            "643:\tlearn: 0.0604214\ttotal: 851ms\tremaining: 471ms\n",
            "644:\tlearn: 0.0602045\ttotal: 852ms\tremaining: 469ms\n",
            "645:\tlearn: 0.0599938\ttotal: 853ms\tremaining: 468ms\n",
            "646:\tlearn: 0.0598931\ttotal: 855ms\tremaining: 467ms\n",
            "647:\tlearn: 0.0596808\ttotal: 857ms\tremaining: 466ms\n",
            "648:\tlearn: 0.0595822\ttotal: 859ms\tremaining: 465ms\n",
            "649:\tlearn: 0.0593503\ttotal: 861ms\tremaining: 464ms\n",
            "650:\tlearn: 0.0592131\ttotal: 863ms\tremaining: 463ms\n",
            "651:\tlearn: 0.0589379\ttotal: 865ms\tremaining: 462ms\n",
            "652:\tlearn: 0.0589275\ttotal: 867ms\tremaining: 460ms\n",
            "653:\tlearn: 0.0587804\ttotal: 868ms\tremaining: 459ms\n",
            "654:\tlearn: 0.0586471\ttotal: 870ms\tremaining: 458ms\n",
            "655:\tlearn: 0.0584486\ttotal: 872ms\tremaining: 457ms\n",
            "656:\tlearn: 0.0584255\ttotal: 873ms\tremaining: 456ms\n",
            "657:\tlearn: 0.0583509\ttotal: 874ms\tremaining: 454ms\n",
            "658:\tlearn: 0.0582849\ttotal: 875ms\tremaining: 453ms\n",
            "659:\tlearn: 0.0582008\ttotal: 876ms\tremaining: 451ms\n",
            "660:\tlearn: 0.0580521\ttotal: 877ms\tremaining: 450ms\n",
            "661:\tlearn: 0.0578591\ttotal: 878ms\tremaining: 448ms\n",
            "662:\tlearn: 0.0576456\ttotal: 879ms\tremaining: 447ms\n",
            "663:\tlearn: 0.0575216\ttotal: 880ms\tremaining: 446ms\n",
            "664:\tlearn: 0.0573752\ttotal: 882ms\tremaining: 444ms\n",
            "665:\tlearn: 0.0572246\ttotal: 883ms\tremaining: 443ms\n",
            "666:\tlearn: 0.0571029\ttotal: 884ms\tremaining: 441ms\n",
            "667:\tlearn: 0.0570448\ttotal: 886ms\tremaining: 440ms\n",
            "668:\tlearn: 0.0569397\ttotal: 887ms\tremaining: 439ms\n",
            "669:\tlearn: 0.0568717\ttotal: 888ms\tremaining: 437ms\n",
            "670:\tlearn: 0.0567331\ttotal: 889ms\tremaining: 436ms\n",
            "671:\tlearn: 0.0566517\ttotal: 891ms\tremaining: 435ms\n",
            "672:\tlearn: 0.0565718\ttotal: 892ms\tremaining: 433ms\n",
            "673:\tlearn: 0.0565161\ttotal: 893ms\tremaining: 432ms\n",
            "674:\tlearn: 0.0564139\ttotal: 894ms\tremaining: 430ms\n",
            "675:\tlearn: 0.0563150\ttotal: 895ms\tremaining: 429ms\n",
            "676:\tlearn: 0.0562059\ttotal: 896ms\tremaining: 428ms\n",
            "677:\tlearn: 0.0560470\ttotal: 897ms\tremaining: 426ms\n",
            "678:\tlearn: 0.0559391\ttotal: 898ms\tremaining: 425ms\n",
            "679:\tlearn: 0.0557368\ttotal: 900ms\tremaining: 423ms\n",
            "680:\tlearn: 0.0555408\ttotal: 901ms\tremaining: 422ms\n",
            "681:\tlearn: 0.0555391\ttotal: 902ms\tremaining: 420ms\n",
            "682:\tlearn: 0.0554740\ttotal: 903ms\tremaining: 419ms\n",
            "683:\tlearn: 0.0554003\ttotal: 904ms\tremaining: 418ms\n",
            "684:\tlearn: 0.0553462\ttotal: 905ms\tremaining: 416ms\n",
            "685:\tlearn: 0.0552592\ttotal: 906ms\tremaining: 415ms\n",
            "686:\tlearn: 0.0552055\ttotal: 907ms\tremaining: 413ms\n",
            "687:\tlearn: 0.0551425\ttotal: 908ms\tremaining: 412ms\n",
            "688:\tlearn: 0.0551016\ttotal: 910ms\tremaining: 411ms\n",
            "689:\tlearn: 0.0549935\ttotal: 911ms\tremaining: 409ms\n",
            "690:\tlearn: 0.0549386\ttotal: 912ms\tremaining: 408ms\n",
            "691:\tlearn: 0.0547923\ttotal: 913ms\tremaining: 406ms\n",
            "692:\tlearn: 0.0546536\ttotal: 914ms\tremaining: 405ms\n",
            "693:\tlearn: 0.0545505\ttotal: 915ms\tremaining: 404ms\n",
            "694:\tlearn: 0.0544490\ttotal: 916ms\tremaining: 402ms\n",
            "695:\tlearn: 0.0543952\ttotal: 918ms\tremaining: 401ms\n",
            "696:\tlearn: 0.0543178\ttotal: 919ms\tremaining: 399ms\n",
            "697:\tlearn: 0.0542402\ttotal: 920ms\tremaining: 398ms\n",
            "698:\tlearn: 0.0541805\ttotal: 921ms\tremaining: 397ms\n",
            "699:\tlearn: 0.0540173\ttotal: 922ms\tremaining: 395ms\n",
            "700:\tlearn: 0.0539489\ttotal: 923ms\tremaining: 394ms\n",
            "701:\tlearn: 0.0539082\ttotal: 924ms\tremaining: 392ms\n",
            "702:\tlearn: 0.0537546\ttotal: 926ms\tremaining: 391ms\n",
            "703:\tlearn: 0.0536314\ttotal: 927ms\tremaining: 390ms\n",
            "704:\tlearn: 0.0534655\ttotal: 928ms\tremaining: 388ms\n",
            "705:\tlearn: 0.0534005\ttotal: 929ms\tremaining: 387ms\n",
            "706:\tlearn: 0.0533642\ttotal: 930ms\tremaining: 385ms\n",
            "707:\tlearn: 0.0532566\ttotal: 931ms\tremaining: 384ms\n",
            "708:\tlearn: 0.0531921\ttotal: 932ms\tremaining: 383ms\n",
            "709:\tlearn: 0.0531082\ttotal: 934ms\tremaining: 381ms\n",
            "710:\tlearn: 0.0530236\ttotal: 935ms\tremaining: 380ms\n",
            "711:\tlearn: 0.0529193\ttotal: 936ms\tremaining: 379ms\n",
            "712:\tlearn: 0.0528556\ttotal: 937ms\tremaining: 377ms\n",
            "713:\tlearn: 0.0527529\ttotal: 938ms\tremaining: 376ms\n",
            "714:\tlearn: 0.0526908\ttotal: 939ms\tremaining: 374ms\n",
            "715:\tlearn: 0.0526431\ttotal: 942ms\tremaining: 374ms\n",
            "716:\tlearn: 0.0525183\ttotal: 944ms\tremaining: 372ms\n",
            "717:\tlearn: 0.0524382\ttotal: 947ms\tremaining: 372ms\n",
            "718:\tlearn: 0.0523788\ttotal: 948ms\tremaining: 371ms\n",
            "719:\tlearn: 0.0522316\ttotal: 950ms\tremaining: 369ms\n",
            "720:\tlearn: 0.0521962\ttotal: 951ms\tremaining: 368ms\n",
            "721:\tlearn: 0.0521124\ttotal: 952ms\tremaining: 366ms\n",
            "722:\tlearn: 0.0520065\ttotal: 952ms\tremaining: 365ms\n",
            "723:\tlearn: 0.0519349\ttotal: 953ms\tremaining: 363ms\n",
            "724:\tlearn: 0.0518641\ttotal: 954ms\tremaining: 362ms\n",
            "725:\tlearn: 0.0517895\ttotal: 955ms\tremaining: 360ms\n",
            "726:\tlearn: 0.0516791\ttotal: 956ms\tremaining: 359ms\n",
            "727:\tlearn: 0.0516272\ttotal: 957ms\tremaining: 358ms\n",
            "728:\tlearn: 0.0514038\ttotal: 958ms\tremaining: 356ms\n",
            "729:\tlearn: 0.0513223\ttotal: 959ms\tremaining: 355ms\n",
            "730:\tlearn: 0.0512036\ttotal: 960ms\tremaining: 353ms\n",
            "731:\tlearn: 0.0509834\ttotal: 960ms\tremaining: 352ms\n",
            "732:\tlearn: 0.0509353\ttotal: 961ms\tremaining: 350ms\n",
            "733:\tlearn: 0.0507906\ttotal: 962ms\tremaining: 349ms\n",
            "734:\tlearn: 0.0506869\ttotal: 963ms\tremaining: 347ms\n",
            "735:\tlearn: 0.0506510\ttotal: 964ms\tremaining: 346ms\n",
            "736:\tlearn: 0.0505166\ttotal: 965ms\tremaining: 344ms\n",
            "737:\tlearn: 0.0504057\ttotal: 966ms\tremaining: 343ms\n",
            "738:\tlearn: 0.0502622\ttotal: 967ms\tremaining: 341ms\n",
            "739:\tlearn: 0.0500626\ttotal: 968ms\tremaining: 340ms\n",
            "740:\tlearn: 0.0499037\ttotal: 969ms\tremaining: 339ms\n",
            "741:\tlearn: 0.0498281\ttotal: 969ms\tremaining: 337ms\n",
            "742:\tlearn: 0.0497393\ttotal: 970ms\tremaining: 336ms\n",
            "743:\tlearn: 0.0496073\ttotal: 971ms\tremaining: 334ms\n",
            "744:\tlearn: 0.0495142\ttotal: 972ms\tremaining: 333ms\n",
            "745:\tlearn: 0.0494757\ttotal: 973ms\tremaining: 331ms\n",
            "746:\tlearn: 0.0494742\ttotal: 974ms\tremaining: 330ms\n",
            "747:\tlearn: 0.0493839\ttotal: 975ms\tremaining: 329ms\n",
            "748:\tlearn: 0.0492775\ttotal: 976ms\tremaining: 327ms\n",
            "749:\tlearn: 0.0491603\ttotal: 977ms\tremaining: 326ms\n",
            "750:\tlearn: 0.0490151\ttotal: 979ms\tremaining: 324ms\n",
            "751:\tlearn: 0.0489718\ttotal: 980ms\tremaining: 323ms\n",
            "752:\tlearn: 0.0489214\ttotal: 981ms\tremaining: 322ms\n",
            "753:\tlearn: 0.0488641\ttotal: 982ms\tremaining: 320ms\n",
            "754:\tlearn: 0.0487931\ttotal: 983ms\tremaining: 319ms\n",
            "755:\tlearn: 0.0486647\ttotal: 984ms\tremaining: 318ms\n",
            "756:\tlearn: 0.0485577\ttotal: 985ms\tremaining: 316ms\n",
            "757:\tlearn: 0.0484722\ttotal: 986ms\tremaining: 315ms\n",
            "758:\tlearn: 0.0483845\ttotal: 988ms\tremaining: 314ms\n",
            "759:\tlearn: 0.0482338\ttotal: 989ms\tremaining: 312ms\n",
            "760:\tlearn: 0.0480820\ttotal: 990ms\tremaining: 311ms\n",
            "761:\tlearn: 0.0478855\ttotal: 991ms\tremaining: 310ms\n",
            "762:\tlearn: 0.0478369\ttotal: 992ms\tremaining: 308ms\n",
            "763:\tlearn: 0.0477456\ttotal: 993ms\tremaining: 307ms\n",
            "764:\tlearn: 0.0477191\ttotal: 995ms\tremaining: 306ms\n",
            "765:\tlearn: 0.0476678\ttotal: 996ms\tremaining: 304ms\n",
            "766:\tlearn: 0.0475152\ttotal: 997ms\tremaining: 303ms\n",
            "767:\tlearn: 0.0474673\ttotal: 998ms\tremaining: 301ms\n",
            "768:\tlearn: 0.0473782\ttotal: 999ms\tremaining: 300ms\n",
            "769:\tlearn: 0.0472155\ttotal: 1s\tremaining: 299ms\n",
            "770:\tlearn: 0.0471866\ttotal: 1s\tremaining: 297ms\n",
            "771:\tlearn: 0.0471231\ttotal: 1s\tremaining: 296ms\n",
            "772:\tlearn: 0.0470363\ttotal: 1s\tremaining: 295ms\n",
            "773:\tlearn: 0.0469501\ttotal: 1s\tremaining: 293ms\n",
            "774:\tlearn: 0.0468644\ttotal: 1s\tremaining: 292ms\n",
            "775:\tlearn: 0.0468260\ttotal: 1.01s\tremaining: 291ms\n",
            "776:\tlearn: 0.0467231\ttotal: 1.01s\tremaining: 289ms\n",
            "777:\tlearn: 0.0465581\ttotal: 1.01s\tremaining: 288ms\n",
            "778:\tlearn: 0.0464069\ttotal: 1.01s\tremaining: 287ms\n",
            "779:\tlearn: 0.0463442\ttotal: 1.01s\tremaining: 285ms\n",
            "780:\tlearn: 0.0462945\ttotal: 1.01s\tremaining: 284ms\n",
            "781:\tlearn: 0.0462322\ttotal: 1.01s\tremaining: 283ms\n",
            "782:\tlearn: 0.0461415\ttotal: 1.01s\tremaining: 281ms\n",
            "783:\tlearn: 0.0460937\ttotal: 1.02s\tremaining: 280ms\n",
            "784:\tlearn: 0.0460269\ttotal: 1.02s\tremaining: 279ms\n",
            "785:\tlearn: 0.0459300\ttotal: 1.02s\tremaining: 277ms\n",
            "786:\tlearn: 0.0458749\ttotal: 1.02s\tremaining: 276ms\n",
            "787:\tlearn: 0.0457463\ttotal: 1.02s\tremaining: 275ms\n",
            "788:\tlearn: 0.0456661\ttotal: 1.02s\tremaining: 273ms\n",
            "789:\tlearn: 0.0455740\ttotal: 1.02s\tremaining: 272ms\n",
            "790:\tlearn: 0.0454956\ttotal: 1.02s\tremaining: 271ms\n",
            "791:\tlearn: 0.0453993\ttotal: 1.02s\tremaining: 269ms\n",
            "792:\tlearn: 0.0453232\ttotal: 1.03s\tremaining: 268ms\n",
            "793:\tlearn: 0.0452638\ttotal: 1.03s\tremaining: 267ms\n",
            "794:\tlearn: 0.0452157\ttotal: 1.03s\tremaining: 265ms\n",
            "795:\tlearn: 0.0450997\ttotal: 1.03s\tremaining: 264ms\n",
            "796:\tlearn: 0.0450440\ttotal: 1.03s\tremaining: 263ms\n",
            "797:\tlearn: 0.0449756\ttotal: 1.03s\tremaining: 261ms\n",
            "798:\tlearn: 0.0448669\ttotal: 1.03s\tremaining: 260ms\n",
            "799:\tlearn: 0.0448055\ttotal: 1.03s\tremaining: 259ms\n",
            "800:\tlearn: 0.0446575\ttotal: 1.03s\tremaining: 257ms\n",
            "801:\tlearn: 0.0446115\ttotal: 1.04s\tremaining: 256ms\n",
            "802:\tlearn: 0.0445961\ttotal: 1.04s\tremaining: 255ms\n",
            "803:\tlearn: 0.0444704\ttotal: 1.04s\tremaining: 253ms\n",
            "804:\tlearn: 0.0444095\ttotal: 1.04s\tremaining: 252ms\n",
            "805:\tlearn: 0.0442975\ttotal: 1.04s\tremaining: 251ms\n",
            "806:\tlearn: 0.0442182\ttotal: 1.04s\tremaining: 249ms\n",
            "807:\tlearn: 0.0441363\ttotal: 1.04s\tremaining: 248ms\n",
            "808:\tlearn: 0.0440622\ttotal: 1.04s\tremaining: 247ms\n",
            "809:\tlearn: 0.0440389\ttotal: 1.04s\tremaining: 245ms\n",
            "810:\tlearn: 0.0439422\ttotal: 1.05s\tremaining: 244ms\n",
            "811:\tlearn: 0.0439182\ttotal: 1.05s\tremaining: 243ms\n",
            "812:\tlearn: 0.0438549\ttotal: 1.05s\tremaining: 241ms\n",
            "813:\tlearn: 0.0437624\ttotal: 1.05s\tremaining: 240ms\n",
            "814:\tlearn: 0.0437242\ttotal: 1.05s\tremaining: 239ms\n",
            "815:\tlearn: 0.0436760\ttotal: 1.05s\tremaining: 237ms\n",
            "816:\tlearn: 0.0435916\ttotal: 1.05s\tremaining: 236ms\n",
            "817:\tlearn: 0.0435398\ttotal: 1.05s\tremaining: 235ms\n",
            "818:\tlearn: 0.0434458\ttotal: 1.05s\tremaining: 233ms\n",
            "819:\tlearn: 0.0433971\ttotal: 1.06s\tremaining: 232ms\n",
            "820:\tlearn: 0.0433401\ttotal: 1.06s\tremaining: 231ms\n",
            "821:\tlearn: 0.0432877\ttotal: 1.06s\tremaining: 229ms\n",
            "822:\tlearn: 0.0431958\ttotal: 1.06s\tremaining: 228ms\n",
            "823:\tlearn: 0.0431661\ttotal: 1.06s\tremaining: 227ms\n",
            "824:\tlearn: 0.0430871\ttotal: 1.06s\tremaining: 225ms\n",
            "825:\tlearn: 0.0430273\ttotal: 1.06s\tremaining: 224ms\n",
            "826:\tlearn: 0.0429602\ttotal: 1.06s\tremaining: 223ms\n",
            "827:\tlearn: 0.0429375\ttotal: 1.06s\tremaining: 221ms\n",
            "828:\tlearn: 0.0429029\ttotal: 1.07s\tremaining: 220ms\n",
            "829:\tlearn: 0.0428490\ttotal: 1.07s\tremaining: 219ms\n",
            "830:\tlearn: 0.0427906\ttotal: 1.07s\tremaining: 217ms\n",
            "831:\tlearn: 0.0427236\ttotal: 1.07s\tremaining: 216ms\n",
            "832:\tlearn: 0.0426259\ttotal: 1.07s\tremaining: 215ms\n",
            "833:\tlearn: 0.0425471\ttotal: 1.07s\tremaining: 213ms\n",
            "834:\tlearn: 0.0424735\ttotal: 1.07s\tremaining: 212ms\n",
            "835:\tlearn: 0.0423787\ttotal: 1.07s\tremaining: 211ms\n",
            "836:\tlearn: 0.0422919\ttotal: 1.07s\tremaining: 209ms\n",
            "837:\tlearn: 0.0422194\ttotal: 1.08s\tremaining: 208ms\n",
            "838:\tlearn: 0.0421712\ttotal: 1.08s\tremaining: 207ms\n",
            "839:\tlearn: 0.0420522\ttotal: 1.08s\tremaining: 206ms\n",
            "840:\tlearn: 0.0420138\ttotal: 1.08s\tremaining: 204ms\n",
            "841:\tlearn: 0.0419752\ttotal: 1.08s\tremaining: 203ms\n",
            "842:\tlearn: 0.0419243\ttotal: 1.08s\tremaining: 202ms\n",
            "843:\tlearn: 0.0418817\ttotal: 1.08s\tremaining: 200ms\n",
            "844:\tlearn: 0.0418405\ttotal: 1.08s\tremaining: 199ms\n",
            "845:\tlearn: 0.0417024\ttotal: 1.08s\tremaining: 198ms\n",
            "846:\tlearn: 0.0416211\ttotal: 1.09s\tremaining: 196ms\n",
            "847:\tlearn: 0.0415460\ttotal: 1.09s\tremaining: 195ms\n",
            "848:\tlearn: 0.0415327\ttotal: 1.09s\tremaining: 194ms\n",
            "849:\tlearn: 0.0414963\ttotal: 1.09s\tremaining: 192ms\n",
            "850:\tlearn: 0.0413743\ttotal: 1.09s\tremaining: 191ms\n",
            "851:\tlearn: 0.0413110\ttotal: 1.09s\tremaining: 190ms\n",
            "852:\tlearn: 0.0412571\ttotal: 1.09s\tremaining: 188ms\n",
            "853:\tlearn: 0.0412159\ttotal: 1.09s\tremaining: 187ms\n",
            "854:\tlearn: 0.0411711\ttotal: 1.09s\tremaining: 186ms\n",
            "855:\tlearn: 0.0410599\ttotal: 1.1s\tremaining: 185ms\n",
            "856:\tlearn: 0.0409490\ttotal: 1.1s\tremaining: 183ms\n",
            "857:\tlearn: 0.0409033\ttotal: 1.1s\tremaining: 182ms\n",
            "858:\tlearn: 0.0408466\ttotal: 1.1s\tremaining: 181ms\n",
            "859:\tlearn: 0.0407620\ttotal: 1.1s\tremaining: 179ms\n",
            "860:\tlearn: 0.0406954\ttotal: 1.1s\tremaining: 178ms\n",
            "861:\tlearn: 0.0405583\ttotal: 1.1s\tremaining: 177ms\n",
            "862:\tlearn: 0.0404986\ttotal: 1.1s\tremaining: 176ms\n",
            "863:\tlearn: 0.0404149\ttotal: 1.11s\tremaining: 174ms\n",
            "864:\tlearn: 0.0403589\ttotal: 1.11s\tremaining: 173ms\n",
            "865:\tlearn: 0.0403028\ttotal: 1.11s\tremaining: 172ms\n",
            "866:\tlearn: 0.0401808\ttotal: 1.11s\tremaining: 170ms\n",
            "867:\tlearn: 0.0401088\ttotal: 1.11s\tremaining: 169ms\n",
            "868:\tlearn: 0.0400109\ttotal: 1.12s\tremaining: 168ms\n",
            "869:\tlearn: 0.0399430\ttotal: 1.12s\tremaining: 167ms\n",
            "870:\tlearn: 0.0399165\ttotal: 1.12s\tremaining: 166ms\n",
            "871:\tlearn: 0.0398665\ttotal: 1.12s\tremaining: 165ms\n",
            "872:\tlearn: 0.0398555\ttotal: 1.13s\tremaining: 164ms\n",
            "873:\tlearn: 0.0397412\ttotal: 1.13s\tremaining: 162ms\n",
            "874:\tlearn: 0.0396391\ttotal: 1.13s\tremaining: 161ms\n",
            "875:\tlearn: 0.0395929\ttotal: 1.13s\tremaining: 160ms\n",
            "876:\tlearn: 0.0395659\ttotal: 1.14s\tremaining: 159ms\n",
            "877:\tlearn: 0.0394327\ttotal: 1.14s\tremaining: 158ms\n",
            "878:\tlearn: 0.0393957\ttotal: 1.14s\tremaining: 157ms\n",
            "879:\tlearn: 0.0392968\ttotal: 1.14s\tremaining: 156ms\n",
            "880:\tlearn: 0.0391810\ttotal: 1.15s\tremaining: 155ms\n",
            "881:\tlearn: 0.0390963\ttotal: 1.15s\tremaining: 154ms\n",
            "882:\tlearn: 0.0390126\ttotal: 1.15s\tremaining: 152ms\n",
            "883:\tlearn: 0.0389699\ttotal: 1.15s\tremaining: 151ms\n",
            "884:\tlearn: 0.0389335\ttotal: 1.15s\tremaining: 150ms\n",
            "885:\tlearn: 0.0388533\ttotal: 1.15s\tremaining: 148ms\n",
            "886:\tlearn: 0.0387941\ttotal: 1.15s\tremaining: 147ms\n",
            "887:\tlearn: 0.0387686\ttotal: 1.15s\tremaining: 146ms\n",
            "888:\tlearn: 0.0387276\ttotal: 1.16s\tremaining: 144ms\n",
            "889:\tlearn: 0.0386549\ttotal: 1.16s\tremaining: 143ms\n",
            "890:\tlearn: 0.0386183\ttotal: 1.16s\tremaining: 142ms\n",
            "891:\tlearn: 0.0385576\ttotal: 1.16s\tremaining: 140ms\n",
            "892:\tlearn: 0.0385208\ttotal: 1.16s\tremaining: 139ms\n",
            "893:\tlearn: 0.0384432\ttotal: 1.16s\tremaining: 138ms\n",
            "894:\tlearn: 0.0383845\ttotal: 1.16s\tremaining: 137ms\n",
            "895:\tlearn: 0.0383352\ttotal: 1.17s\tremaining: 135ms\n",
            "896:\tlearn: 0.0382557\ttotal: 1.17s\tremaining: 134ms\n",
            "897:\tlearn: 0.0382083\ttotal: 1.17s\tremaining: 133ms\n",
            "898:\tlearn: 0.0381615\ttotal: 1.17s\tremaining: 131ms\n",
            "899:\tlearn: 0.0380877\ttotal: 1.17s\tremaining: 130ms\n",
            "900:\tlearn: 0.0380322\ttotal: 1.17s\tremaining: 129ms\n",
            "901:\tlearn: 0.0380154\ttotal: 1.17s\tremaining: 127ms\n",
            "902:\tlearn: 0.0379517\ttotal: 1.17s\tremaining: 126ms\n",
            "903:\tlearn: 0.0379133\ttotal: 1.17s\tremaining: 125ms\n",
            "904:\tlearn: 0.0378244\ttotal: 1.18s\tremaining: 123ms\n",
            "905:\tlearn: 0.0377735\ttotal: 1.18s\tremaining: 122ms\n",
            "906:\tlearn: 0.0377312\ttotal: 1.18s\tremaining: 121ms\n",
            "907:\tlearn: 0.0377221\ttotal: 1.18s\tremaining: 120ms\n",
            "908:\tlearn: 0.0376566\ttotal: 1.18s\tremaining: 118ms\n",
            "909:\tlearn: 0.0376166\ttotal: 1.18s\tremaining: 117ms\n",
            "910:\tlearn: 0.0375403\ttotal: 1.18s\tremaining: 116ms\n",
            "911:\tlearn: 0.0375119\ttotal: 1.18s\tremaining: 114ms\n",
            "912:\tlearn: 0.0374522\ttotal: 1.19s\tremaining: 113ms\n",
            "913:\tlearn: 0.0374178\ttotal: 1.19s\tremaining: 112ms\n",
            "914:\tlearn: 0.0373658\ttotal: 1.19s\tremaining: 110ms\n",
            "915:\tlearn: 0.0373373\ttotal: 1.19s\tremaining: 109ms\n",
            "916:\tlearn: 0.0373038\ttotal: 1.19s\tremaining: 108ms\n",
            "917:\tlearn: 0.0372464\ttotal: 1.19s\tremaining: 106ms\n",
            "918:\tlearn: 0.0371597\ttotal: 1.19s\tremaining: 105ms\n",
            "919:\tlearn: 0.0371376\ttotal: 1.19s\tremaining: 104ms\n",
            "920:\tlearn: 0.0371116\ttotal: 1.19s\tremaining: 102ms\n",
            "921:\tlearn: 0.0370794\ttotal: 1.19s\tremaining: 101ms\n",
            "922:\tlearn: 0.0370389\ttotal: 1.2s\tremaining: 99.8ms\n",
            "923:\tlearn: 0.0370287\ttotal: 1.2s\tremaining: 98.5ms\n",
            "924:\tlearn: 0.0369902\ttotal: 1.2s\tremaining: 97.2ms\n",
            "925:\tlearn: 0.0369516\ttotal: 1.2s\tremaining: 95.8ms\n",
            "926:\tlearn: 0.0369403\ttotal: 1.2s\tremaining: 94.5ms\n",
            "927:\tlearn: 0.0369313\ttotal: 1.2s\tremaining: 93.2ms\n",
            "928:\tlearn: 0.0369276\ttotal: 1.2s\tremaining: 92ms\n",
            "929:\tlearn: 0.0369057\ttotal: 1.21s\tremaining: 90.7ms\n",
            "930:\tlearn: 0.0367990\ttotal: 1.21s\tremaining: 89.5ms\n",
            "931:\tlearn: 0.0367717\ttotal: 1.21s\tremaining: 88.2ms\n",
            "932:\tlearn: 0.0367676\ttotal: 1.21s\tremaining: 87ms\n",
            "933:\tlearn: 0.0367381\ttotal: 1.21s\tremaining: 85.7ms\n",
            "934:\tlearn: 0.0366306\ttotal: 1.21s\tremaining: 84.4ms\n",
            "935:\tlearn: 0.0365462\ttotal: 1.22s\tremaining: 83.1ms\n",
            "936:\tlearn: 0.0364550\ttotal: 1.22s\tremaining: 81.8ms\n",
            "937:\tlearn: 0.0363745\ttotal: 1.22s\tremaining: 80.5ms\n",
            "938:\tlearn: 0.0363672\ttotal: 1.22s\tremaining: 79.2ms\n",
            "939:\tlearn: 0.0363058\ttotal: 1.22s\tremaining: 77.9ms\n",
            "940:\tlearn: 0.0362198\ttotal: 1.22s\tremaining: 76.5ms\n",
            "941:\tlearn: 0.0362111\ttotal: 1.22s\tremaining: 75.2ms\n",
            "942:\tlearn: 0.0361562\ttotal: 1.22s\tremaining: 73.9ms\n",
            "943:\tlearn: 0.0361167\ttotal: 1.22s\tremaining: 72.6ms\n",
            "944:\tlearn: 0.0360567\ttotal: 1.23s\tremaining: 71.3ms\n",
            "945:\tlearn: 0.0359500\ttotal: 1.23s\tremaining: 70ms\n",
            "946:\tlearn: 0.0358797\ttotal: 1.23s\tremaining: 68.7ms\n",
            "947:\tlearn: 0.0358258\ttotal: 1.23s\tremaining: 67.4ms\n",
            "948:\tlearn: 0.0357499\ttotal: 1.23s\tremaining: 66.1ms\n",
            "949:\tlearn: 0.0357007\ttotal: 1.23s\tremaining: 64.8ms\n",
            "950:\tlearn: 0.0356399\ttotal: 1.23s\tremaining: 63.5ms\n",
            "951:\tlearn: 0.0355802\ttotal: 1.23s\tremaining: 62.2ms\n",
            "952:\tlearn: 0.0355436\ttotal: 1.23s\tremaining: 60.9ms\n",
            "953:\tlearn: 0.0355189\ttotal: 1.24s\tremaining: 59.6ms\n",
            "954:\tlearn: 0.0354204\ttotal: 1.24s\tremaining: 58.3ms\n",
            "955:\tlearn: 0.0353752\ttotal: 1.24s\tremaining: 57ms\n",
            "956:\tlearn: 0.0353151\ttotal: 1.24s\tremaining: 55.7ms\n",
            "957:\tlearn: 0.0352753\ttotal: 1.24s\tremaining: 54.4ms\n",
            "958:\tlearn: 0.0352641\ttotal: 1.24s\tremaining: 53.1ms\n",
            "959:\tlearn: 0.0352334\ttotal: 1.24s\tremaining: 51.8ms\n",
            "960:\tlearn: 0.0352270\ttotal: 1.24s\tremaining: 50.5ms\n",
            "961:\tlearn: 0.0351796\ttotal: 1.24s\tremaining: 49.2ms\n",
            "962:\tlearn: 0.0351042\ttotal: 1.25s\tremaining: 47.9ms\n",
            "963:\tlearn: 0.0350927\ttotal: 1.25s\tremaining: 46.6ms\n",
            "964:\tlearn: 0.0350214\ttotal: 1.25s\tremaining: 45.3ms\n",
            "965:\tlearn: 0.0349608\ttotal: 1.25s\tremaining: 44ms\n",
            "966:\tlearn: 0.0349154\ttotal: 1.25s\tremaining: 42.7ms\n",
            "967:\tlearn: 0.0348756\ttotal: 1.25s\tremaining: 41.4ms\n",
            "968:\tlearn: 0.0347461\ttotal: 1.25s\tremaining: 40.1ms\n",
            "969:\tlearn: 0.0347149\ttotal: 1.25s\tremaining: 38.8ms\n",
            "970:\tlearn: 0.0346498\ttotal: 1.25s\tremaining: 37.5ms\n",
            "971:\tlearn: 0.0346458\ttotal: 1.26s\tremaining: 36.2ms\n",
            "972:\tlearn: 0.0346378\ttotal: 1.26s\tremaining: 34.9ms\n",
            "973:\tlearn: 0.0346331\ttotal: 1.26s\tremaining: 33.6ms\n",
            "974:\tlearn: 0.0345361\ttotal: 1.26s\tremaining: 32.3ms\n",
            "975:\tlearn: 0.0344797\ttotal: 1.26s\tremaining: 31ms\n",
            "976:\tlearn: 0.0344025\ttotal: 1.26s\tremaining: 29.7ms\n",
            "977:\tlearn: 0.0343220\ttotal: 1.26s\tremaining: 28.4ms\n",
            "978:\tlearn: 0.0342752\ttotal: 1.26s\tremaining: 27.1ms\n",
            "979:\tlearn: 0.0342442\ttotal: 1.27s\tremaining: 25.9ms\n",
            "980:\tlearn: 0.0342057\ttotal: 1.27s\tremaining: 24.6ms\n",
            "981:\tlearn: 0.0341929\ttotal: 1.27s\tremaining: 23.3ms\n",
            "982:\tlearn: 0.0341545\ttotal: 1.27s\tremaining: 22ms\n",
            "983:\tlearn: 0.0340866\ttotal: 1.27s\tremaining: 20.7ms\n",
            "984:\tlearn: 0.0340495\ttotal: 1.27s\tremaining: 19.4ms\n",
            "985:\tlearn: 0.0340047\ttotal: 1.27s\tremaining: 18.1ms\n",
            "986:\tlearn: 0.0339815\ttotal: 1.27s\tremaining: 16.8ms\n",
            "987:\tlearn: 0.0339496\ttotal: 1.27s\tremaining: 15.5ms\n",
            "988:\tlearn: 0.0339100\ttotal: 1.28s\tremaining: 14.2ms\n",
            "989:\tlearn: 0.0338771\ttotal: 1.28s\tremaining: 12.9ms\n",
            "990:\tlearn: 0.0337938\ttotal: 1.28s\tremaining: 11.6ms\n",
            "991:\tlearn: 0.0337708\ttotal: 1.28s\tremaining: 10.3ms\n",
            "992:\tlearn: 0.0337260\ttotal: 1.28s\tremaining: 9.03ms\n",
            "993:\tlearn: 0.0336647\ttotal: 1.28s\tremaining: 7.74ms\n",
            "994:\tlearn: 0.0336571\ttotal: 1.28s\tremaining: 6.45ms\n",
            "995:\tlearn: 0.0336182\ttotal: 1.28s\tremaining: 5.16ms\n",
            "996:\tlearn: 0.0336116\ttotal: 1.29s\tremaining: 3.87ms\n",
            "997:\tlearn: 0.0336047\ttotal: 1.29s\tremaining: 2.58ms\n",
            "998:\tlearn: 0.0335397\ttotal: 1.29s\tremaining: 1.29ms\n",
            "999:\tlearn: 0.0335044\ttotal: 1.29s\tremaining: 0us\n",
            "              precision    recall  f1-score   support\n",
            "\n",
            "           0       0.97      1.00      0.99       102\n",
            "           1       1.00      0.97      0.99       103\n",
            "\n",
            "    accuracy                           0.99       205\n",
            "   macro avg       0.99      0.99      0.99       205\n",
            "weighted avg       0.99      0.99      0.99       205\n",
            "\n",
            "Testing accuracy: 0.9853658536585366\n"
          ]
        }
      ],
      "source": [
        "from catboost import CatBoostClassifier\n",
        "model = CatBoostClassifier()\n",
        "model.fit(X_train,y_train)\n",
        "y_pred = model.predict(X_test)\n",
        "y_pred_train = model.predict(X_train)\n",
        "print(metrics.classification_report(y_test,y_pred,labels=[0,1]))\n",
        "#print(\"Training accuracy\",metrics.accuracy_score(y_train_smote,y_pred_train))\n",
        "print(\"Testing accuracy:\",metrics.accuracy_score(y_test,y_pred))"
      ]
    },
    {
      "cell_type": "code",
      "execution_count": null,
      "metadata": {
        "id": "qBGJTavKdKTX"
      },
      "outputs": [],
      "source": [
        "final_data = pd.DataFrame({'Models': ['SVC','RFC','DT','XGB'], 'Accuracy' : [accuracy_score(y_test,y_pred)*100,accuracy_score(y_test,y_pred2)*100,accuracy_score(y_test,y_pred3)*100,accuracy_score(y_test,y_pred8)*100]})"
      ]
    },
    {
      "cell_type": "code",
      "execution_count": null,
      "metadata": {
        "id": "Sef9VGHCdNSX",
        "colab": {
          "base_uri": "https://localhost:8080/",
          "height": 175
        },
        "outputId": "fc194b76-0825-4312-8fc2-bd1d68c09420"
      },
      "outputs": [
        {
          "output_type": "execute_result",
          "data": {
            "text/plain": [
              "  Models   Accuracy\n",
              "0    SVC  98.536585\n",
              "1    RFC  94.634146\n",
              "2     DT  87.317073\n",
              "3    XGB  98.536585"
            ],
            "text/html": [
              "\n",
              "  <div id=\"df-7e77f134-fa57-4b7e-b1d4-ce114cf56bb3\">\n",
              "    <div class=\"colab-df-container\">\n",
              "      <div>\n",
              "<style scoped>\n",
              "    .dataframe tbody tr th:only-of-type {\n",
              "        vertical-align: middle;\n",
              "    }\n",
              "\n",
              "    .dataframe tbody tr th {\n",
              "        vertical-align: top;\n",
              "    }\n",
              "\n",
              "    .dataframe thead th {\n",
              "        text-align: right;\n",
              "    }\n",
              "</style>\n",
              "<table border=\"1\" class=\"dataframe\">\n",
              "  <thead>\n",
              "    <tr style=\"text-align: right;\">\n",
              "      <th></th>\n",
              "      <th>Models</th>\n",
              "      <th>Accuracy</th>\n",
              "    </tr>\n",
              "  </thead>\n",
              "  <tbody>\n",
              "    <tr>\n",
              "      <th>0</th>\n",
              "      <td>SVC</td>\n",
              "      <td>98.536585</td>\n",
              "    </tr>\n",
              "    <tr>\n",
              "      <th>1</th>\n",
              "      <td>RFC</td>\n",
              "      <td>94.634146</td>\n",
              "    </tr>\n",
              "    <tr>\n",
              "      <th>2</th>\n",
              "      <td>DT</td>\n",
              "      <td>87.317073</td>\n",
              "    </tr>\n",
              "    <tr>\n",
              "      <th>3</th>\n",
              "      <td>XGB</td>\n",
              "      <td>98.536585</td>\n",
              "    </tr>\n",
              "  </tbody>\n",
              "</table>\n",
              "</div>\n",
              "      <button class=\"colab-df-convert\" onclick=\"convertToInteractive('df-7e77f134-fa57-4b7e-b1d4-ce114cf56bb3')\"\n",
              "              title=\"Convert this dataframe to an interactive table.\"\n",
              "              style=\"display:none;\">\n",
              "        \n",
              "  <svg xmlns=\"http://www.w3.org/2000/svg\" height=\"24px\"viewBox=\"0 0 24 24\"\n",
              "       width=\"24px\">\n",
              "    <path d=\"M0 0h24v24H0V0z\" fill=\"none\"/>\n",
              "    <path d=\"M18.56 5.44l.94 2.06.94-2.06 2.06-.94-2.06-.94-.94-2.06-.94 2.06-2.06.94zm-11 1L8.5 8.5l.94-2.06 2.06-.94-2.06-.94L8.5 2.5l-.94 2.06-2.06.94zm10 10l.94 2.06.94-2.06 2.06-.94-2.06-.94-.94-2.06-.94 2.06-2.06.94z\"/><path d=\"M17.41 7.96l-1.37-1.37c-.4-.4-.92-.59-1.43-.59-.52 0-1.04.2-1.43.59L10.3 9.45l-7.72 7.72c-.78.78-.78 2.05 0 2.83L4 21.41c.39.39.9.59 1.41.59.51 0 1.02-.2 1.41-.59l7.78-7.78 2.81-2.81c.8-.78.8-2.07 0-2.86zM5.41 20L4 18.59l7.72-7.72 1.47 1.35L5.41 20z\"/>\n",
              "  </svg>\n",
              "      </button>\n",
              "      \n",
              "  <style>\n",
              "    .colab-df-container {\n",
              "      display:flex;\n",
              "      flex-wrap:wrap;\n",
              "      gap: 12px;\n",
              "    }\n",
              "\n",
              "    .colab-df-convert {\n",
              "      background-color: #E8F0FE;\n",
              "      border: none;\n",
              "      border-radius: 50%;\n",
              "      cursor: pointer;\n",
              "      display: none;\n",
              "      fill: #1967D2;\n",
              "      height: 32px;\n",
              "      padding: 0 0 0 0;\n",
              "      width: 32px;\n",
              "    }\n",
              "\n",
              "    .colab-df-convert:hover {\n",
              "      background-color: #E2EBFA;\n",
              "      box-shadow: 0px 1px 2px rgba(60, 64, 67, 0.3), 0px 1px 3px 1px rgba(60, 64, 67, 0.15);\n",
              "      fill: #174EA6;\n",
              "    }\n",
              "\n",
              "    [theme=dark] .colab-df-convert {\n",
              "      background-color: #3B4455;\n",
              "      fill: #D2E3FC;\n",
              "    }\n",
              "\n",
              "    [theme=dark] .colab-df-convert:hover {\n",
              "      background-color: #434B5C;\n",
              "      box-shadow: 0px 1px 3px 1px rgba(0, 0, 0, 0.15);\n",
              "      filter: drop-shadow(0px 1px 2px rgba(0, 0, 0, 0.3));\n",
              "      fill: #FFFFFF;\n",
              "    }\n",
              "  </style>\n",
              "\n",
              "      <script>\n",
              "        const buttonEl =\n",
              "          document.querySelector('#df-7e77f134-fa57-4b7e-b1d4-ce114cf56bb3 button.colab-df-convert');\n",
              "        buttonEl.style.display =\n",
              "          google.colab.kernel.accessAllowed ? 'block' : 'none';\n",
              "\n",
              "        async function convertToInteractive(key) {\n",
              "          const element = document.querySelector('#df-7e77f134-fa57-4b7e-b1d4-ce114cf56bb3');\n",
              "          const dataTable =\n",
              "            await google.colab.kernel.invokeFunction('convertToInteractive',\n",
              "                                                     [key], {});\n",
              "          if (!dataTable) return;\n",
              "\n",
              "          const docLinkHtml = 'Like what you see? Visit the ' +\n",
              "            '<a target=\"_blank\" href=https://colab.research.google.com/notebooks/data_table.ipynb>data table notebook</a>'\n",
              "            + ' to learn more about interactive tables.';\n",
              "          element.innerHTML = '';\n",
              "          dataTable['output_type'] = 'display_data';\n",
              "          await google.colab.output.renderOutput(dataTable, element);\n",
              "          const docLink = document.createElement('div');\n",
              "          docLink.innerHTML = docLinkHtml;\n",
              "          element.appendChild(docLink);\n",
              "        }\n",
              "      </script>\n",
              "    </div>\n",
              "  </div>\n",
              "  "
            ]
          },
          "metadata": {},
          "execution_count": 85
        }
      ],
      "source": [
        "final_data"
      ]
    },
    {
      "cell_type": "code",
      "execution_count": null,
      "metadata": {
        "id": "I0JrLmk-dOq8"
      },
      "outputs": [],
      "source": [
        "#sns.barplot(final_data['Models'],final_data['Accuracy'])"
      ]
    },
    {
      "cell_type": "code",
      "execution_count": null,
      "metadata": {
        "id": "m5iRJ-VXeO1G"
      },
      "outputs": [],
      "source": [
        "from sklearn.model_selection import KFold\n",
        "folds = KFold(n_splits=10)\n",
        "folds.get_n_splits(X)\n",
        "def get_score(model):\n",
        "  for train_index, test_index in folds.split(X):\n",
        "    model.fit(X_train, y_train)\n",
        "    return model.score(X_test,y_test)"
      ]
    },
    {
      "cell_type": "code",
      "execution_count": null,
      "metadata": {
        "id": "r0wkA3jhwNQF",
        "colab": {
          "base_uri": "https://localhost:8080/"
        },
        "outputId": "85604644-a153-4bf0-8fdf-3454879a950b"
      },
      "outputs": [
        {
          "output_type": "stream",
          "name": "stdout",
          "text": [
            "Random Forest model score:  0.9463414634146341\n",
            "Decision Tree Classifier model score:  0.8731707317073171\n",
            "Gradient Boosting Classifier model score:  0.9073170731707317\n",
            "GaussianNB model score:  0.8048780487804879\n",
            "Logistic Regression model score:  0.8\n",
            "KNeighbors Classifier model score:  0.848780487804878\n",
            "\n"
          ]
        }
      ],
      "source": [
        "#print(\"Support Vector Classifier model score: \",get_score(svm(gamma='auto', probability=True)))\n",
        "print(\"Random Forest model score: \",get_score(RandomForestClassifier(n_estimators=20, random_state=42,max_depth=7)))\n",
        "print(\"Decision Tree Classifier model score: \",get_score(DecisionTreeClassifier(criterion = 'entropy',random_state=0,max_depth = 6)))\n",
        "print(\"Gradient Boosting Classifier model score: \",get_score(GradientBoostingClassifier()))\n",
        "print(\"GaussianNB model score: \",get_score(GaussianNB()))\n",
        "print(\"Logistic Regression model score: \",get_score(LogisticRegression()))\n",
        "print(\"KNeighbors Classifier model score: \",get_score(KNeighborsClassifier()))\n",
        "print()"
      ]
    }
  ],
  "metadata": {
    "colab": {
      "provenance": []
    },
    "kernelspec": {
      "display_name": "Python 3",
      "name": "python3"
    },
    "language_info": {
      "name": "python"
    }
  },
  "nbformat": 4,
  "nbformat_minor": 0
}