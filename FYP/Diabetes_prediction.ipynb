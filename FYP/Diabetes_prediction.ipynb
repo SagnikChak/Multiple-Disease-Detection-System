{
  "cells": [
    {
      "cell_type": "code",
      "execution_count": null,
      "metadata": {
        "id": "1m-rwLmuFtLj"
      },
      "outputs": [],
      "source": [
        "import numpy as np\n",
        "import pandas as pd\n",
        "from sklearn import datasets\n",
        "import matplotlib.pyplot as plt\n",
        "import seaborn as sns"
      ]
    },
    {
      "cell_type": "code",
      "execution_count": null,
      "metadata": {
        "id": "fZiIcBx3RL1W"
      },
      "outputs": [],
      "source": [
        "from google.colab import drive"
      ]
    },
    {
      "cell_type": "code",
      "execution_count": null,
      "metadata": {
        "id": "GoiEqBJKRNbK"
      },
      "outputs": [],
      "source": [
        "#drive.mount('/content/drive')"
      ]
    },
    {
      "cell_type": "code",
      "execution_count": null,
      "metadata": {
        "id": "8N8oGgyARWwQ"
      },
      "outputs": [],
      "source": [
        "df= pd.read_csv('/content/diabetes.csv')"
      ]
    },
    {
      "cell_type": "code",
      "execution_count": null,
      "metadata": {
        "colab": {
          "base_uri": "https://localhost:8080/",
          "height": 206
        },
        "id": "dADZkLmPRe8R",
        "outputId": "89e05418-d912-4f9b-89a7-51546c191c64"
      },
      "outputs": [
        {
          "output_type": "execute_result",
          "data": {
            "text/plain": [
              "   Pregnancies  Glucose  BloodPressure  SkinThickness  Insulin   BMI  \\\n",
              "0            6      148             72             35        0  33.6   \n",
              "1            1       85             66             29        0  26.6   \n",
              "2            8      183             64              0        0  23.3   \n",
              "3            1       89             66             23       94  28.1   \n",
              "4            0      137             40             35      168  43.1   \n",
              "\n",
              "   DiabetesPedigreeFunction  Age  Outcome  \n",
              "0                     0.627   50        1  \n",
              "1                     0.351   31        0  \n",
              "2                     0.672   32        1  \n",
              "3                     0.167   21        0  \n",
              "4                     2.288   33        1  "
            ],
            "text/html": [
              "\n",
              "\n",
              "  <div id=\"df-d69bf667-21ac-4c2e-ad25-a4d0c7da22a4\">\n",
              "    <div class=\"colab-df-container\">\n",
              "      <div>\n",
              "<style scoped>\n",
              "    .dataframe tbody tr th:only-of-type {\n",
              "        vertical-align: middle;\n",
              "    }\n",
              "\n",
              "    .dataframe tbody tr th {\n",
              "        vertical-align: top;\n",
              "    }\n",
              "\n",
              "    .dataframe thead th {\n",
              "        text-align: right;\n",
              "    }\n",
              "</style>\n",
              "<table border=\"1\" class=\"dataframe\">\n",
              "  <thead>\n",
              "    <tr style=\"text-align: right;\">\n",
              "      <th></th>\n",
              "      <th>Pregnancies</th>\n",
              "      <th>Glucose</th>\n",
              "      <th>BloodPressure</th>\n",
              "      <th>SkinThickness</th>\n",
              "      <th>Insulin</th>\n",
              "      <th>BMI</th>\n",
              "      <th>DiabetesPedigreeFunction</th>\n",
              "      <th>Age</th>\n",
              "      <th>Outcome</th>\n",
              "    </tr>\n",
              "  </thead>\n",
              "  <tbody>\n",
              "    <tr>\n",
              "      <th>0</th>\n",
              "      <td>6</td>\n",
              "      <td>148</td>\n",
              "      <td>72</td>\n",
              "      <td>35</td>\n",
              "      <td>0</td>\n",
              "      <td>33.6</td>\n",
              "      <td>0.627</td>\n",
              "      <td>50</td>\n",
              "      <td>1</td>\n",
              "    </tr>\n",
              "    <tr>\n",
              "      <th>1</th>\n",
              "      <td>1</td>\n",
              "      <td>85</td>\n",
              "      <td>66</td>\n",
              "      <td>29</td>\n",
              "      <td>0</td>\n",
              "      <td>26.6</td>\n",
              "      <td>0.351</td>\n",
              "      <td>31</td>\n",
              "      <td>0</td>\n",
              "    </tr>\n",
              "    <tr>\n",
              "      <th>2</th>\n",
              "      <td>8</td>\n",
              "      <td>183</td>\n",
              "      <td>64</td>\n",
              "      <td>0</td>\n",
              "      <td>0</td>\n",
              "      <td>23.3</td>\n",
              "      <td>0.672</td>\n",
              "      <td>32</td>\n",
              "      <td>1</td>\n",
              "    </tr>\n",
              "    <tr>\n",
              "      <th>3</th>\n",
              "      <td>1</td>\n",
              "      <td>89</td>\n",
              "      <td>66</td>\n",
              "      <td>23</td>\n",
              "      <td>94</td>\n",
              "      <td>28.1</td>\n",
              "      <td>0.167</td>\n",
              "      <td>21</td>\n",
              "      <td>0</td>\n",
              "    </tr>\n",
              "    <tr>\n",
              "      <th>4</th>\n",
              "      <td>0</td>\n",
              "      <td>137</td>\n",
              "      <td>40</td>\n",
              "      <td>35</td>\n",
              "      <td>168</td>\n",
              "      <td>43.1</td>\n",
              "      <td>2.288</td>\n",
              "      <td>33</td>\n",
              "      <td>1</td>\n",
              "    </tr>\n",
              "  </tbody>\n",
              "</table>\n",
              "</div>\n",
              "      <button class=\"colab-df-convert\" onclick=\"convertToInteractive('df-d69bf667-21ac-4c2e-ad25-a4d0c7da22a4')\"\n",
              "              title=\"Convert this dataframe to an interactive table.\"\n",
              "              style=\"display:none;\">\n",
              "\n",
              "  <svg xmlns=\"http://www.w3.org/2000/svg\" height=\"24px\"viewBox=\"0 0 24 24\"\n",
              "       width=\"24px\">\n",
              "    <path d=\"M0 0h24v24H0V0z\" fill=\"none\"/>\n",
              "    <path d=\"M18.56 5.44l.94 2.06.94-2.06 2.06-.94-2.06-.94-.94-2.06-.94 2.06-2.06.94zm-11 1L8.5 8.5l.94-2.06 2.06-.94-2.06-.94L8.5 2.5l-.94 2.06-2.06.94zm10 10l.94 2.06.94-2.06 2.06-.94-2.06-.94-.94-2.06-.94 2.06-2.06.94z\"/><path d=\"M17.41 7.96l-1.37-1.37c-.4-.4-.92-.59-1.43-.59-.52 0-1.04.2-1.43.59L10.3 9.45l-7.72 7.72c-.78.78-.78 2.05 0 2.83L4 21.41c.39.39.9.59 1.41.59.51 0 1.02-.2 1.41-.59l7.78-7.78 2.81-2.81c.8-.78.8-2.07 0-2.86zM5.41 20L4 18.59l7.72-7.72 1.47 1.35L5.41 20z\"/>\n",
              "  </svg>\n",
              "      </button>\n",
              "\n",
              "\n",
              "\n",
              "    <div id=\"df-be50e65c-420a-4718-bd24-51e67bab0847\">\n",
              "      <button class=\"colab-df-quickchart\" onclick=\"quickchart('df-be50e65c-420a-4718-bd24-51e67bab0847')\"\n",
              "              title=\"Suggest charts.\"\n",
              "              style=\"display:none;\">\n",
              "\n",
              "<svg xmlns=\"http://www.w3.org/2000/svg\" height=\"24px\"viewBox=\"0 0 24 24\"\n",
              "     width=\"24px\">\n",
              "    <g>\n",
              "        <path d=\"M19 3H5c-1.1 0-2 .9-2 2v14c0 1.1.9 2 2 2h14c1.1 0 2-.9 2-2V5c0-1.1-.9-2-2-2zM9 17H7v-7h2v7zm4 0h-2V7h2v10zm4 0h-2v-4h2v4z\"/>\n",
              "    </g>\n",
              "</svg>\n",
              "      </button>\n",
              "    </div>\n",
              "\n",
              "<style>\n",
              "  .colab-df-quickchart {\n",
              "    background-color: #E8F0FE;\n",
              "    border: none;\n",
              "    border-radius: 50%;\n",
              "    cursor: pointer;\n",
              "    display: none;\n",
              "    fill: #1967D2;\n",
              "    height: 32px;\n",
              "    padding: 0 0 0 0;\n",
              "    width: 32px;\n",
              "  }\n",
              "\n",
              "  .colab-df-quickchart:hover {\n",
              "    background-color: #E2EBFA;\n",
              "    box-shadow: 0px 1px 2px rgba(60, 64, 67, 0.3), 0px 1px 3px 1px rgba(60, 64, 67, 0.15);\n",
              "    fill: #174EA6;\n",
              "  }\n",
              "\n",
              "  [theme=dark] .colab-df-quickchart {\n",
              "    background-color: #3B4455;\n",
              "    fill: #D2E3FC;\n",
              "  }\n",
              "\n",
              "  [theme=dark] .colab-df-quickchart:hover {\n",
              "    background-color: #434B5C;\n",
              "    box-shadow: 0px 1px 3px 1px rgba(0, 0, 0, 0.15);\n",
              "    filter: drop-shadow(0px 1px 2px rgba(0, 0, 0, 0.3));\n",
              "    fill: #FFFFFF;\n",
              "  }\n",
              "</style>\n",
              "\n",
              "    <script>\n",
              "      async function quickchart(key) {\n",
              "        const containerElement = document.querySelector('#' + key);\n",
              "        const charts = await google.colab.kernel.invokeFunction(\n",
              "            'suggestCharts', [key], {});\n",
              "      }\n",
              "    </script>\n",
              "\n",
              "      <script>\n",
              "\n",
              "function displayQuickchartButton(domScope) {\n",
              "  let quickchartButtonEl =\n",
              "    domScope.querySelector('#df-be50e65c-420a-4718-bd24-51e67bab0847 button.colab-df-quickchart');\n",
              "  quickchartButtonEl.style.display =\n",
              "    google.colab.kernel.accessAllowed ? 'block' : 'none';\n",
              "}\n",
              "\n",
              "        displayQuickchartButton(document);\n",
              "      </script>\n",
              "      <style>\n",
              "    .colab-df-container {\n",
              "      display:flex;\n",
              "      flex-wrap:wrap;\n",
              "      gap: 12px;\n",
              "    }\n",
              "\n",
              "    .colab-df-convert {\n",
              "      background-color: #E8F0FE;\n",
              "      border: none;\n",
              "      border-radius: 50%;\n",
              "      cursor: pointer;\n",
              "      display: none;\n",
              "      fill: #1967D2;\n",
              "      height: 32px;\n",
              "      padding: 0 0 0 0;\n",
              "      width: 32px;\n",
              "    }\n",
              "\n",
              "    .colab-df-convert:hover {\n",
              "      background-color: #E2EBFA;\n",
              "      box-shadow: 0px 1px 2px rgba(60, 64, 67, 0.3), 0px 1px 3px 1px rgba(60, 64, 67, 0.15);\n",
              "      fill: #174EA6;\n",
              "    }\n",
              "\n",
              "    [theme=dark] .colab-df-convert {\n",
              "      background-color: #3B4455;\n",
              "      fill: #D2E3FC;\n",
              "    }\n",
              "\n",
              "    [theme=dark] .colab-df-convert:hover {\n",
              "      background-color: #434B5C;\n",
              "      box-shadow: 0px 1px 3px 1px rgba(0, 0, 0, 0.15);\n",
              "      filter: drop-shadow(0px 1px 2px rgba(0, 0, 0, 0.3));\n",
              "      fill: #FFFFFF;\n",
              "    }\n",
              "  </style>\n",
              "\n",
              "      <script>\n",
              "        const buttonEl =\n",
              "          document.querySelector('#df-d69bf667-21ac-4c2e-ad25-a4d0c7da22a4 button.colab-df-convert');\n",
              "        buttonEl.style.display =\n",
              "          google.colab.kernel.accessAllowed ? 'block' : 'none';\n",
              "\n",
              "        async function convertToInteractive(key) {\n",
              "          const element = document.querySelector('#df-d69bf667-21ac-4c2e-ad25-a4d0c7da22a4');\n",
              "          const dataTable =\n",
              "            await google.colab.kernel.invokeFunction('convertToInteractive',\n",
              "                                                     [key], {});\n",
              "          if (!dataTable) return;\n",
              "\n",
              "          const docLinkHtml = 'Like what you see? Visit the ' +\n",
              "            '<a target=\"_blank\" href=https://colab.research.google.com/notebooks/data_table.ipynb>data table notebook</a>'\n",
              "            + ' to learn more about interactive tables.';\n",
              "          element.innerHTML = '';\n",
              "          dataTable['output_type'] = 'display_data';\n",
              "          await google.colab.output.renderOutput(dataTable, element);\n",
              "          const docLink = document.createElement('div');\n",
              "          docLink.innerHTML = docLinkHtml;\n",
              "          element.appendChild(docLink);\n",
              "        }\n",
              "      </script>\n",
              "    </div>\n",
              "  </div>\n"
            ]
          },
          "metadata": {},
          "execution_count": 5
        }
      ],
      "source": [
        "df.head()"
      ]
    },
    {
      "cell_type": "code",
      "execution_count": null,
      "metadata": {
        "colab": {
          "base_uri": "https://localhost:8080/"
        },
        "id": "vaal7DKyRhja",
        "outputId": "2dfcddb5-1cf3-4ace-8c40-52522633856b"
      },
      "outputs": [
        {
          "output_type": "execute_result",
          "data": {
            "text/plain": [
              "(768, 9)"
            ]
          },
          "metadata": {},
          "execution_count": 6
        }
      ],
      "source": [
        "df.shape"
      ]
    },
    {
      "cell_type": "code",
      "execution_count": null,
      "metadata": {
        "colab": {
          "base_uri": "https://localhost:8080/"
        },
        "id": "iTlX9bBWRjjK",
        "outputId": "b5134884-d3d0-4c15-cdb4-9fa2ea890017"
      },
      "outputs": [
        {
          "output_type": "stream",
          "name": "stdout",
          "text": [
            "<class 'pandas.core.frame.DataFrame'>\n",
            "RangeIndex: 768 entries, 0 to 767\n",
            "Data columns (total 9 columns):\n",
            " #   Column                    Non-Null Count  Dtype  \n",
            "---  ------                    --------------  -----  \n",
            " 0   Pregnancies               768 non-null    int64  \n",
            " 1   Glucose                   768 non-null    int64  \n",
            " 2   BloodPressure             768 non-null    int64  \n",
            " 3   SkinThickness             768 non-null    int64  \n",
            " 4   Insulin                   768 non-null    int64  \n",
            " 5   BMI                       768 non-null    float64\n",
            " 6   DiabetesPedigreeFunction  768 non-null    float64\n",
            " 7   Age                       768 non-null    int64  \n",
            " 8   Outcome                   768 non-null    int64  \n",
            "dtypes: float64(2), int64(7)\n",
            "memory usage: 54.1 KB\n"
          ]
        }
      ],
      "source": [
        "df.info()"
      ]
    },
    {
      "cell_type": "code",
      "execution_count": null,
      "metadata": {
        "id": "o98Y1GYAaEmO"
      },
      "outputs": [],
      "source": [
        "df[['Glucose','BloodPressure','SkinThickness','BMI']] = df[['Glucose','BloodPressure','SkinThickness','BMI']].replace(0,np.NaN)"
      ]
    },
    {
      "cell_type": "code",
      "execution_count": null,
      "metadata": {
        "colab": {
          "base_uri": "https://localhost:8080/",
          "height": 206
        },
        "id": "Z5DuYalraEi3",
        "outputId": "100a7d8a-c604-48d8-b904-dc42542a1b03"
      },
      "outputs": [
        {
          "output_type": "execute_result",
          "data": {
            "text/plain": [
              "   Pregnancies  Glucose  BloodPressure  SkinThickness  Insulin   BMI  \\\n",
              "0            6    148.0           72.0           35.0        0  33.6   \n",
              "1            1     85.0           66.0           29.0        0  26.6   \n",
              "2            8    183.0           64.0            NaN        0  23.3   \n",
              "3            1     89.0           66.0           23.0       94  28.1   \n",
              "4            0    137.0           40.0           35.0      168  43.1   \n",
              "\n",
              "   DiabetesPedigreeFunction  Age  Outcome  \n",
              "0                     0.627   50        1  \n",
              "1                     0.351   31        0  \n",
              "2                     0.672   32        1  \n",
              "3                     0.167   21        0  \n",
              "4                     2.288   33        1  "
            ],
            "text/html": [
              "\n",
              "\n",
              "  <div id=\"df-e8979a0b-8715-41b2-86c3-f8bcb09fb45c\">\n",
              "    <div class=\"colab-df-container\">\n",
              "      <div>\n",
              "<style scoped>\n",
              "    .dataframe tbody tr th:only-of-type {\n",
              "        vertical-align: middle;\n",
              "    }\n",
              "\n",
              "    .dataframe tbody tr th {\n",
              "        vertical-align: top;\n",
              "    }\n",
              "\n",
              "    .dataframe thead th {\n",
              "        text-align: right;\n",
              "    }\n",
              "</style>\n",
              "<table border=\"1\" class=\"dataframe\">\n",
              "  <thead>\n",
              "    <tr style=\"text-align: right;\">\n",
              "      <th></th>\n",
              "      <th>Pregnancies</th>\n",
              "      <th>Glucose</th>\n",
              "      <th>BloodPressure</th>\n",
              "      <th>SkinThickness</th>\n",
              "      <th>Insulin</th>\n",
              "      <th>BMI</th>\n",
              "      <th>DiabetesPedigreeFunction</th>\n",
              "      <th>Age</th>\n",
              "      <th>Outcome</th>\n",
              "    </tr>\n",
              "  </thead>\n",
              "  <tbody>\n",
              "    <tr>\n",
              "      <th>0</th>\n",
              "      <td>6</td>\n",
              "      <td>148.0</td>\n",
              "      <td>72.0</td>\n",
              "      <td>35.0</td>\n",
              "      <td>0</td>\n",
              "      <td>33.6</td>\n",
              "      <td>0.627</td>\n",
              "      <td>50</td>\n",
              "      <td>1</td>\n",
              "    </tr>\n",
              "    <tr>\n",
              "      <th>1</th>\n",
              "      <td>1</td>\n",
              "      <td>85.0</td>\n",
              "      <td>66.0</td>\n",
              "      <td>29.0</td>\n",
              "      <td>0</td>\n",
              "      <td>26.6</td>\n",
              "      <td>0.351</td>\n",
              "      <td>31</td>\n",
              "      <td>0</td>\n",
              "    </tr>\n",
              "    <tr>\n",
              "      <th>2</th>\n",
              "      <td>8</td>\n",
              "      <td>183.0</td>\n",
              "      <td>64.0</td>\n",
              "      <td>NaN</td>\n",
              "      <td>0</td>\n",
              "      <td>23.3</td>\n",
              "      <td>0.672</td>\n",
              "      <td>32</td>\n",
              "      <td>1</td>\n",
              "    </tr>\n",
              "    <tr>\n",
              "      <th>3</th>\n",
              "      <td>1</td>\n",
              "      <td>89.0</td>\n",
              "      <td>66.0</td>\n",
              "      <td>23.0</td>\n",
              "      <td>94</td>\n",
              "      <td>28.1</td>\n",
              "      <td>0.167</td>\n",
              "      <td>21</td>\n",
              "      <td>0</td>\n",
              "    </tr>\n",
              "    <tr>\n",
              "      <th>4</th>\n",
              "      <td>0</td>\n",
              "      <td>137.0</td>\n",
              "      <td>40.0</td>\n",
              "      <td>35.0</td>\n",
              "      <td>168</td>\n",
              "      <td>43.1</td>\n",
              "      <td>2.288</td>\n",
              "      <td>33</td>\n",
              "      <td>1</td>\n",
              "    </tr>\n",
              "  </tbody>\n",
              "</table>\n",
              "</div>\n",
              "      <button class=\"colab-df-convert\" onclick=\"convertToInteractive('df-e8979a0b-8715-41b2-86c3-f8bcb09fb45c')\"\n",
              "              title=\"Convert this dataframe to an interactive table.\"\n",
              "              style=\"display:none;\">\n",
              "\n",
              "  <svg xmlns=\"http://www.w3.org/2000/svg\" height=\"24px\"viewBox=\"0 0 24 24\"\n",
              "       width=\"24px\">\n",
              "    <path d=\"M0 0h24v24H0V0z\" fill=\"none\"/>\n",
              "    <path d=\"M18.56 5.44l.94 2.06.94-2.06 2.06-.94-2.06-.94-.94-2.06-.94 2.06-2.06.94zm-11 1L8.5 8.5l.94-2.06 2.06-.94-2.06-.94L8.5 2.5l-.94 2.06-2.06.94zm10 10l.94 2.06.94-2.06 2.06-.94-2.06-.94-.94-2.06-.94 2.06-2.06.94z\"/><path d=\"M17.41 7.96l-1.37-1.37c-.4-.4-.92-.59-1.43-.59-.52 0-1.04.2-1.43.59L10.3 9.45l-7.72 7.72c-.78.78-.78 2.05 0 2.83L4 21.41c.39.39.9.59 1.41.59.51 0 1.02-.2 1.41-.59l7.78-7.78 2.81-2.81c.8-.78.8-2.07 0-2.86zM5.41 20L4 18.59l7.72-7.72 1.47 1.35L5.41 20z\"/>\n",
              "  </svg>\n",
              "      </button>\n",
              "\n",
              "\n",
              "\n",
              "    <div id=\"df-3ddf5279-5f02-4db5-8e1b-af0e2e3109ba\">\n",
              "      <button class=\"colab-df-quickchart\" onclick=\"quickchart('df-3ddf5279-5f02-4db5-8e1b-af0e2e3109ba')\"\n",
              "              title=\"Suggest charts.\"\n",
              "              style=\"display:none;\">\n",
              "\n",
              "<svg xmlns=\"http://www.w3.org/2000/svg\" height=\"24px\"viewBox=\"0 0 24 24\"\n",
              "     width=\"24px\">\n",
              "    <g>\n",
              "        <path d=\"M19 3H5c-1.1 0-2 .9-2 2v14c0 1.1.9 2 2 2h14c1.1 0 2-.9 2-2V5c0-1.1-.9-2-2-2zM9 17H7v-7h2v7zm4 0h-2V7h2v10zm4 0h-2v-4h2v4z\"/>\n",
              "    </g>\n",
              "</svg>\n",
              "      </button>\n",
              "    </div>\n",
              "\n",
              "<style>\n",
              "  .colab-df-quickchart {\n",
              "    background-color: #E8F0FE;\n",
              "    border: none;\n",
              "    border-radius: 50%;\n",
              "    cursor: pointer;\n",
              "    display: none;\n",
              "    fill: #1967D2;\n",
              "    height: 32px;\n",
              "    padding: 0 0 0 0;\n",
              "    width: 32px;\n",
              "  }\n",
              "\n",
              "  .colab-df-quickchart:hover {\n",
              "    background-color: #E2EBFA;\n",
              "    box-shadow: 0px 1px 2px rgba(60, 64, 67, 0.3), 0px 1px 3px 1px rgba(60, 64, 67, 0.15);\n",
              "    fill: #174EA6;\n",
              "  }\n",
              "\n",
              "  [theme=dark] .colab-df-quickchart {\n",
              "    background-color: #3B4455;\n",
              "    fill: #D2E3FC;\n",
              "  }\n",
              "\n",
              "  [theme=dark] .colab-df-quickchart:hover {\n",
              "    background-color: #434B5C;\n",
              "    box-shadow: 0px 1px 3px 1px rgba(0, 0, 0, 0.15);\n",
              "    filter: drop-shadow(0px 1px 2px rgba(0, 0, 0, 0.3));\n",
              "    fill: #FFFFFF;\n",
              "  }\n",
              "</style>\n",
              "\n",
              "    <script>\n",
              "      async function quickchart(key) {\n",
              "        const containerElement = document.querySelector('#' + key);\n",
              "        const charts = await google.colab.kernel.invokeFunction(\n",
              "            'suggestCharts', [key], {});\n",
              "      }\n",
              "    </script>\n",
              "\n",
              "      <script>\n",
              "\n",
              "function displayQuickchartButton(domScope) {\n",
              "  let quickchartButtonEl =\n",
              "    domScope.querySelector('#df-3ddf5279-5f02-4db5-8e1b-af0e2e3109ba button.colab-df-quickchart');\n",
              "  quickchartButtonEl.style.display =\n",
              "    google.colab.kernel.accessAllowed ? 'block' : 'none';\n",
              "}\n",
              "\n",
              "        displayQuickchartButton(document);\n",
              "      </script>\n",
              "      <style>\n",
              "    .colab-df-container {\n",
              "      display:flex;\n",
              "      flex-wrap:wrap;\n",
              "      gap: 12px;\n",
              "    }\n",
              "\n",
              "    .colab-df-convert {\n",
              "      background-color: #E8F0FE;\n",
              "      border: none;\n",
              "      border-radius: 50%;\n",
              "      cursor: pointer;\n",
              "      display: none;\n",
              "      fill: #1967D2;\n",
              "      height: 32px;\n",
              "      padding: 0 0 0 0;\n",
              "      width: 32px;\n",
              "    }\n",
              "\n",
              "    .colab-df-convert:hover {\n",
              "      background-color: #E2EBFA;\n",
              "      box-shadow: 0px 1px 2px rgba(60, 64, 67, 0.3), 0px 1px 3px 1px rgba(60, 64, 67, 0.15);\n",
              "      fill: #174EA6;\n",
              "    }\n",
              "\n",
              "    [theme=dark] .colab-df-convert {\n",
              "      background-color: #3B4455;\n",
              "      fill: #D2E3FC;\n",
              "    }\n",
              "\n",
              "    [theme=dark] .colab-df-convert:hover {\n",
              "      background-color: #434B5C;\n",
              "      box-shadow: 0px 1px 3px 1px rgba(0, 0, 0, 0.15);\n",
              "      filter: drop-shadow(0px 1px 2px rgba(0, 0, 0, 0.3));\n",
              "      fill: #FFFFFF;\n",
              "    }\n",
              "  </style>\n",
              "\n",
              "      <script>\n",
              "        const buttonEl =\n",
              "          document.querySelector('#df-e8979a0b-8715-41b2-86c3-f8bcb09fb45c button.colab-df-convert');\n",
              "        buttonEl.style.display =\n",
              "          google.colab.kernel.accessAllowed ? 'block' : 'none';\n",
              "\n",
              "        async function convertToInteractive(key) {\n",
              "          const element = document.querySelector('#df-e8979a0b-8715-41b2-86c3-f8bcb09fb45c');\n",
              "          const dataTable =\n",
              "            await google.colab.kernel.invokeFunction('convertToInteractive',\n",
              "                                                     [key], {});\n",
              "          if (!dataTable) return;\n",
              "\n",
              "          const docLinkHtml = 'Like what you see? Visit the ' +\n",
              "            '<a target=\"_blank\" href=https://colab.research.google.com/notebooks/data_table.ipynb>data table notebook</a>'\n",
              "            + ' to learn more about interactive tables.';\n",
              "          element.innerHTML = '';\n",
              "          dataTable['output_type'] = 'display_data';\n",
              "          await google.colab.output.renderOutput(dataTable, element);\n",
              "          const docLink = document.createElement('div');\n",
              "          docLink.innerHTML = docLinkHtml;\n",
              "          element.appendChild(docLink);\n",
              "        }\n",
              "      </script>\n",
              "    </div>\n",
              "  </div>\n"
            ]
          },
          "metadata": {},
          "execution_count": 9
        }
      ],
      "source": [
        "df.head()"
      ]
    },
    {
      "cell_type": "code",
      "execution_count": null,
      "metadata": {
        "colab": {
          "base_uri": "https://localhost:8080/"
        },
        "id": "Ys-0_6AUaEgW",
        "outputId": "2f24be80-9b42-4135-b168-2e31c8cc927b"
      },
      "outputs": [
        {
          "output_type": "execute_result",
          "data": {
            "text/plain": [
              "Pregnancies                   0\n",
              "Glucose                       5\n",
              "BloodPressure                35\n",
              "SkinThickness               227\n",
              "Insulin                       0\n",
              "BMI                          11\n",
              "DiabetesPedigreeFunction      0\n",
              "Age                           0\n",
              "Outcome                       0\n",
              "dtype: int64"
            ]
          },
          "metadata": {},
          "execution_count": 10
        }
      ],
      "source": [
        "df.isnull().sum()"
      ]
    },
    {
      "cell_type": "code",
      "execution_count": null,
      "metadata": {
        "id": "juVNpToGaEd5"
      },
      "outputs": [],
      "source": [
        "df['Glucose'].fillna(df['Glucose'].median(), inplace = True)\n",
        "df['BloodPressure'].fillna(df['BloodPressure'].median(), inplace = True)\n",
        "df['SkinThickness'].fillna(df['SkinThickness'].median(), inplace = True)\n",
        "df['Insulin'].fillna(df['Insulin'].median(), inplace = True)\n",
        "df['BMI'].fillna(df['BMI'].median(), inplace = True)"
      ]
    },
    {
      "cell_type": "code",
      "execution_count": null,
      "metadata": {
        "colab": {
          "base_uri": "https://localhost:8080/"
        },
        "id": "OMGxKLCFRleU",
        "outputId": "95e2a6cd-31b2-4533-c0b2-feab14d747e1"
      },
      "outputs": [
        {
          "output_type": "execute_result",
          "data": {
            "text/plain": [
              "Pregnancies                 0\n",
              "Glucose                     0\n",
              "BloodPressure               0\n",
              "SkinThickness               0\n",
              "Insulin                     0\n",
              "BMI                         0\n",
              "DiabetesPedigreeFunction    0\n",
              "Age                         0\n",
              "Outcome                     0\n",
              "dtype: int64"
            ]
          },
          "metadata": {},
          "execution_count": 12
        }
      ],
      "source": [
        "df.isnull().sum()"
      ]
    },
    {
      "cell_type": "code",
      "execution_count": null,
      "metadata": {
        "colab": {
          "base_uri": "https://localhost:8080/"
        },
        "id": "chXAyzlUnNLt",
        "outputId": "0941c590-7963-41ef-8ca7-20a9d96e5b3b"
      },
      "outputs": [
        {
          "output_type": "execute_result",
          "data": {
            "text/plain": [
              "(768, 9)"
            ]
          },
          "metadata": {},
          "execution_count": 13
        }
      ],
      "source": [
        "df.shape"
      ]
    },
    {
      "cell_type": "code",
      "execution_count": null,
      "metadata": {
        "colab": {
          "base_uri": "https://localhost:8080/",
          "height": 621
        },
        "id": "lU12PTj1RoUh",
        "outputId": "90b2a16c-119c-404a-8e4c-a5ccc3c0aafc"
      },
      "outputs": [
        {
          "output_type": "execute_result",
          "data": {
            "text/plain": [
              "<Axes: >"
            ]
          },
          "metadata": {},
          "execution_count": 14
        },
        {
          "output_type": "display_data",
          "data": {
            "text/plain": [
              "<Figure size 640x480 with 2 Axes>"
            ],
            "image/png": "[encoded data removed]"
          },
          "metadata": {}
        }
      ],
      "source": [
        "sns.heatmap(df.isnull())"
      ]
    },
    {
      "cell_type": "code",
      "execution_count": null,
      "metadata": {
        "colab": {
          "base_uri": "https://localhost:8080/",
          "height": 300
        },
        "id": "mxvaeOAERsCD",
        "outputId": "b5358ce2-783f-4ae4-d84d-5eebeea151db"
      },
      "outputs": [
        {
          "output_type": "execute_result",
          "data": {
            "text/plain": [
              "       Pregnancies     Glucose  BloodPressure  SkinThickness     Insulin  \\\n",
              "count   768.000000  768.000000     768.000000     768.000000  768.000000   \n",
              "mean      3.845052  121.656250      72.386719      29.108073   79.799479   \n",
              "std       3.369578   30.438286      12.096642       8.791221  115.244002   \n",
              "min       0.000000   44.000000      24.000000       7.000000    0.000000   \n",
              "25%       1.000000   99.750000      64.000000      25.000000    0.000000   \n",
              "50%       3.000000  117.000000      72.000000      29.000000   30.500000   \n",
              "75%       6.000000  140.250000      80.000000      32.000000  127.250000   \n",
              "max      17.000000  199.000000     122.000000      99.000000  846.000000   \n",
              "\n",
              "              BMI  DiabetesPedigreeFunction         Age     Outcome  \n",
              "count  768.000000                768.000000  768.000000  768.000000  \n",
              "mean    32.455208                  0.471876   33.240885    0.348958  \n",
              "std      6.875177                  0.331329   11.760232    0.476951  \n",
              "min     18.200000                  0.078000   21.000000    0.000000  \n",
              "25%     27.500000                  0.243750   24.000000    0.000000  \n",
              "50%     32.300000                  0.372500   29.000000    0.000000  \n",
              "75%     36.600000                  0.626250   41.000000    1.000000  \n",
              "max     67.100000                  2.420000   81.000000    1.000000  "
            ],
            "text/html": [
              "\n",
              "\n",
              "  <div id=\"df-4bb12f4c-6465-4640-843c-e19d4f970577\">\n",
              "    <div class=\"colab-df-container\">\n",
              "      <div>\n",
              "<style scoped>\n",
              "    .dataframe tbody tr th:only-of-type {\n",
              "        vertical-align: middle;\n",
              "    }\n",
              "\n",
              "    .dataframe tbody tr th {\n",
              "        vertical-align: top;\n",
              "    }\n",
              "\n",
              "    .dataframe thead th {\n",
              "        text-align: right;\n",
              "    }\n",
              "</style>\n",
              "<table border=\"1\" class=\"dataframe\">\n",
              "  <thead>\n",
              "    <tr style=\"text-align: right;\">\n",
              "      <th></th>\n",
              "      <th>Pregnancies</th>\n",
              "      <th>Glucose</th>\n",
              "      <th>BloodPressure</th>\n",
              "      <th>SkinThickness</th>\n",
              "      <th>Insulin</th>\n",
              "      <th>BMI</th>\n",
              "      <th>DiabetesPedigreeFunction</th>\n",
              "      <th>Age</th>\n",
              "      <th>Outcome</th>\n",
              "    </tr>\n",
              "  </thead>\n",
              "  <tbody>\n",
              "    <tr>\n",
              "      <th>count</th>\n",
              "      <td>768.000000</td>\n",
              "      <td>768.000000</td>\n",
              "      <td>768.000000</td>\n",
              "      <td>768.000000</td>\n",
              "      <td>768.000000</td>\n",
              "      <td>768.000000</td>\n",
              "      <td>768.000000</td>\n",
              "      <td>768.000000</td>\n",
              "      <td>768.000000</td>\n",
              "    </tr>\n",
              "    <tr>\n",
              "      <th>mean</th>\n",
              "      <td>3.845052</td>\n",
              "      <td>121.656250</td>\n",
              "      <td>72.386719</td>\n",
              "      <td>29.108073</td>\n",
              "      <td>79.799479</td>\n",
              "      <td>32.455208</td>\n",
              "      <td>0.471876</td>\n",
              "      <td>33.240885</td>\n",
              "      <td>0.348958</td>\n",
              "    </tr>\n",
              "    <tr>\n",
              "      <th>std</th>\n",
              "      <td>3.369578</td>\n",
              "      <td>30.438286</td>\n",
              "      <td>12.096642</td>\n",
              "      <td>8.791221</td>\n",
              "      <td>115.244002</td>\n",
              "      <td>6.875177</td>\n",
              "      <td>0.331329</td>\n",
              "      <td>11.760232</td>\n",
              "      <td>0.476951</td>\n",
              "    </tr>\n",
              "    <tr>\n",
              "      <th>min</th>\n",
              "      <td>0.000000</td>\n",
              "      <td>44.000000</td>\n",
              "      <td>24.000000</td>\n",
              "      <td>7.000000</td>\n",
              "      <td>0.000000</td>\n",
              "      <td>18.200000</td>\n",
              "      <td>0.078000</td>\n",
              "      <td>21.000000</td>\n",
              "      <td>0.000000</td>\n",
              "    </tr>\n",
              "    <tr>\n",
              "      <th>25%</th>\n",
              "      <td>1.000000</td>\n",
              "      <td>99.750000</td>\n",
              "      <td>64.000000</td>\n",
              "      <td>25.000000</td>\n",
              "      <td>0.000000</td>\n",
              "      <td>27.500000</td>\n",
              "      <td>0.243750</td>\n",
              "      <td>24.000000</td>\n",
              "      <td>0.000000</td>\n",
              "    </tr>\n",
              "    <tr>\n",
              "      <th>50%</th>\n",
              "      <td>3.000000</td>\n",
              "      <td>117.000000</td>\n",
              "      <td>72.000000</td>\n",
              "      <td>29.000000</td>\n",
              "      <td>30.500000</td>\n",
              "      <td>32.300000</td>\n",
              "      <td>0.372500</td>\n",
              "      <td>29.000000</td>\n",
              "      <td>0.000000</td>\n",
              "    </tr>\n",
              "    <tr>\n",
              "      <th>75%</th>\n",
              "      <td>6.000000</td>\n",
              "      <td>140.250000</td>\n",
              "      <td>80.000000</td>\n",
              "      <td>32.000000</td>\n",
              "      <td>127.250000</td>\n",
              "      <td>36.600000</td>\n",
              "      <td>0.626250</td>\n",
              "      <td>41.000000</td>\n",
              "      <td>1.000000</td>\n",
              "    </tr>\n",
              "    <tr>\n",
              "      <th>max</th>\n",
              "      <td>17.000000</td>\n",
              "      <td>199.000000</td>\n",
              "      <td>122.000000</td>\n",
              "      <td>99.000000</td>\n",
              "      <td>846.000000</td>\n",
              "      <td>67.100000</td>\n",
              "      <td>2.420000</td>\n",
              "      <td>81.000000</td>\n",
              "      <td>1.000000</td>\n",
              "    </tr>\n",
              "  </tbody>\n",
              "</table>\n",
              "</div>\n",
              "      <button class=\"colab-df-convert\" onclick=\"convertToInteractive('df-4bb12f4c-6465-4640-843c-e19d4f970577')\"\n",
              "              title=\"Convert this dataframe to an interactive table.\"\n",
              "              style=\"display:none;\">\n",
              "\n",
              "  <svg xmlns=\"http://www.w3.org/2000/svg\" height=\"24px\"viewBox=\"0 0 24 24\"\n",
              "       width=\"24px\">\n",
              "    <path d=\"M0 0h24v24H0V0z\" fill=\"none\"/>\n",
              "    <path d=\"M18.56 5.44l.94 2.06.94-2.06 2.06-.94-2.06-.94-.94-2.06-.94 2.06-2.06.94zm-11 1L8.5 8.5l.94-2.06 2.06-.94-2.06-.94L8.5 2.5l-.94 2.06-2.06.94zm10 10l.94 2.06.94-2.06 2.06-.94-2.06-.94-.94-2.06-.94 2.06-2.06.94z\"/><path d=\"M17.41 7.96l-1.37-1.37c-.4-.4-.92-.59-1.43-.59-.52 0-1.04.2-1.43.59L10.3 9.45l-7.72 7.72c-.78.78-.78 2.05 0 2.83L4 21.41c.39.39.9.59 1.41.59.51 0 1.02-.2 1.41-.59l7.78-7.78 2.81-2.81c.8-.78.8-2.07 0-2.86zM5.41 20L4 18.59l7.72-7.72 1.47 1.35L5.41 20z\"/>\n",
              "  </svg>\n",
              "      </button>\n",
              "\n",
              "\n",
              "\n",
              "    <div id=\"df-76ca3414-4a5a-41ba-9a2a-a6502f1b4f28\">\n",
              "      <button class=\"colab-df-quickchart\" onclick=\"quickchart('df-76ca3414-4a5a-41ba-9a2a-a6502f1b4f28')\"\n",
              "              title=\"Suggest charts.\"\n",
              "              style=\"display:none;\">\n",
              "\n",
              "<svg xmlns=\"http://www.w3.org/2000/svg\" height=\"24px\"viewBox=\"0 0 24 24\"\n",
              "     width=\"24px\">\n",
              "    <g>\n",
              "        <path d=\"M19 3H5c-1.1 0-2 .9-2 2v14c0 1.1.9 2 2 2h14c1.1 0 2-.9 2-2V5c0-1.1-.9-2-2-2zM9 17H7v-7h2v7zm4 0h-2V7h2v10zm4 0h-2v-4h2v4z\"/>\n",
              "    </g>\n",
              "</svg>\n",
              "      </button>\n",
              "    </div>\n",
              "\n",
              "<style>\n",
              "  .colab-df-quickchart {\n",
              "    background-color: #E8F0FE;\n",
              "    border: none;\n",
              "    border-radius: 50%;\n",
              "    cursor: pointer;\n",
              "    display: none;\n",
              "    fill: #1967D2;\n",
              "    height: 32px;\n",
              "    padding: 0 0 0 0;\n",
              "    width: 32px;\n",
              "  }\n",
              "\n",
              "  .colab-df-quickchart:hover {\n",
              "    background-color: #E2EBFA;\n",
              "    box-shadow: 0px 1px 2px rgba(60, 64, 67, 0.3), 0px 1px 3px 1px rgba(60, 64, 67, 0.15);\n",
              "    fill: #174EA6;\n",
              "  }\n",
              "\n",
              "  [theme=dark] .colab-df-quickchart {\n",
              "    background-color: #3B4455;\n",
              "    fill: #D2E3FC;\n",
              "  }\n",
              "\n",
              "  [theme=dark] .colab-df-quickchart:hover {\n",
              "    background-color: #434B5C;\n",
              "    box-shadow: 0px 1px 3px 1px rgba(0, 0, 0, 0.15);\n",
              "    filter: drop-shadow(0px 1px 2px rgba(0, 0, 0, 0.3));\n",
              "    fill: #FFFFFF;\n",
              "  }\n",
              "</style>\n",
              "\n",
              "    <script>\n",
              "      async function quickchart(key) {\n",
              "        const containerElement = document.querySelector('#' + key);\n",
              "        const charts = await google.colab.kernel.invokeFunction(\n",
              "            'suggestCharts', [key], {});\n",
              "      }\n",
              "    </script>\n",
              "\n",
              "      <script>\n",
              "\n",
              "function displayQuickchartButton(domScope) {\n",
              "  let quickchartButtonEl =\n",
              "    domScope.querySelector('#df-76ca3414-4a5a-41ba-9a2a-a6502f1b4f28 button.colab-df-quickchart');\n",
              "  quickchartButtonEl.style.display =\n",
              "    google.colab.kernel.accessAllowed ? 'block' : 'none';\n",
              "}\n",
              "\n",
              "        displayQuickchartButton(document);\n",
              "      </script>\n",
              "      <style>\n",
              "    .colab-df-container {\n",
              "      display:flex;\n",
              "      flex-wrap:wrap;\n",
              "      gap: 12px;\n",
              "    }\n",
              "\n",
              "    .colab-df-convert {\n",
              "      background-color: #E8F0FE;\n",
              "      border: none;\n",
              "      border-radius: 50%;\n",
              "      cursor: pointer;\n",
              "      display: none;\n",
              "      fill: #1967D2;\n",
              "      height: 32px;\n",
              "      padding: 0 0 0 0;\n",
              "      width: 32px;\n",
              "    }\n",
              "\n",
              "    .colab-df-convert:hover {\n",
              "      background-color: #E2EBFA;\n",
              "      box-shadow: 0px 1px 2px rgba(60, 64, 67, 0.3), 0px 1px 3px 1px rgba(60, 64, 67, 0.15);\n",
              "      fill: #174EA6;\n",
              "    }\n",
              "\n",
              "    [theme=dark] .colab-df-convert {\n",
              "      background-color: #3B4455;\n",
              "      fill: #D2E3FC;\n",
              "    }\n",
              "\n",
              "    [theme=dark] .colab-df-convert:hover {\n",
              "      background-color: #434B5C;\n",
              "      box-shadow: 0px 1px 3px 1px rgba(0, 0, 0, 0.15);\n",
              "      filter: drop-shadow(0px 1px 2px rgba(0, 0, 0, 0.3));\n",
              "      fill: #FFFFFF;\n",
              "    }\n",
              "  </style>\n",
              "\n",
              "      <script>\n",
              "        const buttonEl =\n",
              "          document.querySelector('#df-4bb12f4c-6465-4640-843c-e19d4f970577 button.colab-df-convert');\n",
              "        buttonEl.style.display =\n",
              "          google.colab.kernel.accessAllowed ? 'block' : 'none';\n",
              "\n",
              "        async function convertToInteractive(key) {\n",
              "          const element = document.querySelector('#df-4bb12f4c-6465-4640-843c-e19d4f970577');\n",
              "          const dataTable =\n",
              "            await google.colab.kernel.invokeFunction('convertToInteractive',\n",
              "                                                     [key], {});\n",
              "          if (!dataTable) return;\n",
              "\n",
              "          const docLinkHtml = 'Like what you see? Visit the ' +\n",
              "            '<a target=\"_blank\" href=https://colab.research.google.com/notebooks/data_table.ipynb>data table notebook</a>'\n",
              "            + ' to learn more about interactive tables.';\n",
              "          element.innerHTML = '';\n",
              "          dataTable['output_type'] = 'display_data';\n",
              "          await google.colab.output.renderOutput(dataTable, element);\n",
              "          const docLink = document.createElement('div');\n",
              "          docLink.innerHTML = docLinkHtml;\n",
              "          element.appendChild(docLink);\n",
              "        }\n",
              "      </script>\n",
              "    </div>\n",
              "  </div>\n"
            ]
          },
          "metadata": {},
          "execution_count": 15
        }
      ],
      "source": [
        "df.describe()"
      ]
    },
    {
      "cell_type": "code",
      "execution_count": null,
      "metadata": {
        "colab": {
          "base_uri": "https://localhost:8080/"
        },
        "id": "2oJXoynsRucx",
        "outputId": "70c2481f-6b8d-4d7c-8146-1cb21a31fa18"
      },
      "outputs": [
        {
          "output_type": "execute_result",
          "data": {
            "text/plain": [
              "Index(['Pregnancies', 'Glucose', 'BloodPressure', 'SkinThickness', 'Insulin',\n",
              "       'BMI', 'DiabetesPedigreeFunction', 'Age', 'Outcome'],\n",
              "      dtype='object')"
            ]
          },
          "metadata": {},
          "execution_count": 16
        }
      ],
      "source": [
        "df.columns"
      ]
    },
    {
      "cell_type": "code",
      "execution_count": null,
      "metadata": {
        "colab": {
          "base_uri": "https://localhost:8080/",
          "height": 635
        },
        "id": "A4-BUhgTR5Tt",
        "outputId": "74d02112-943a-4c6c-de4d-db4d240ca9c6"
      },
      "outputs": [
        {
          "output_type": "execute_result",
          "data": {
            "text/plain": [
              "<Axes: >"
            ]
          },
          "metadata": {},
          "execution_count": 17
        },
        {
          "output_type": "display_data",
          "data": {
            "text/plain": [
              "<Figure size 1000x500 with 2 Axes>"
            ],
            "image/png": "[encoded data removed]"
          },
          "metadata": {}
        }
      ],
      "source": [
        "plt.figure(figsize=(10,5))\n",
        "sns.heatmap(df.corr(),annot=True,fmt='0.2f')"
      ]
    },
    {
      "cell_type": "code",
      "execution_count": null,
      "metadata": {
        "colab": {
          "base_uri": "https://localhost:8080/",
          "height": 637
        },
        "id": "muZdzgP0bXbu",
        "outputId": "157ec47e-2c75-4407-90f5-f167716aac40"
      },
      "outputs": [
        {
          "output_type": "execute_result",
          "data": {
            "text/plain": [
              "<Axes: >"
            ]
          },
          "metadata": {},
          "execution_count": 18
        },
        {
          "output_type": "display_data",
          "data": {
            "text/plain": [
              "<Figure size 1500x800 with 1 Axes>"
            ],
            "image/png": "[encoded data removed]"
          },
          "metadata": {}
        }
      ],
      "source": [
        "df.boxplot(column=['Pregnancies','Glucose','BloodPressure','SkinThickness','Insulin','BMI','DiabetesPedigreeFunction','Age','Outcome'],figsize=(15,8))"
      ]
    },
    {
      "cell_type": "code",
      "execution_count": null,
      "metadata": {
        "colab": {
          "base_uri": "https://localhost:8080/"
        },
        "id": "iqAnTtChfD6d",
        "outputId": "d59c9113-ae30-473e-e51a-bf4c054ec0da"
      },
      "outputs": [
        {
          "output_type": "stream",
          "name": "stdout",
          "text": [
            "13.5 -6.5\n"
          ]
        }
      ],
      "source": [
        "IQR=df['Pregnancies'].quantile(0.75)-df['Pregnancies'].quantile(0.25)\n",
        "upperbound=df['Pregnancies'].quantile(0.75)+1.5*(IQR)\n",
        "lowerbound=df['Pregnancies'].quantile(0.25)-1.5*(IQR)\n",
        "print(upperbound,lowerbound)"
      ]
    },
    {
      "cell_type": "code",
      "execution_count": null,
      "metadata": {
        "id": "QGA42WN5fD4U"
      },
      "outputs": [],
      "source": [
        "df.loc[df['Pregnancies']>13.5,'Pregnancies']=13.5\n",
        "df.loc[df['Pregnancies']<-6.5,'Pregnancies']=0"
      ]
    },
    {
      "cell_type": "code",
      "execution_count": null,
      "metadata": {
        "id": "95QPpCnmfD12"
      },
      "outputs": [],
      "source": [
        "#df.boxplot(column=['Pregnancies'])"
      ]
    },
    {
      "cell_type": "code",
      "execution_count": null,
      "metadata": {
        "colab": {
          "base_uri": "https://localhost:8080/"
        },
        "id": "HmtcLAplfDzT",
        "outputId": "9e3ccab9-c317-4bfd-d765-35a11a2de9d9"
      },
      "outputs": [
        {
          "output_type": "stream",
          "name": "stdout",
          "text": [
            "201.0 39.0\n"
          ]
        }
      ],
      "source": [
        "IQR=df['Glucose'].quantile(0.75)-df['Glucose'].quantile(0.25)\n",
        "upperbound=df['Glucose'].quantile(0.75)+1.5*(IQR)\n",
        "lowerbound=df['Glucose'].quantile(0.25)-1.5*(IQR)\n",
        "print(upperbound,lowerbound)"
      ]
    },
    {
      "cell_type": "code",
      "execution_count": null,
      "metadata": {
        "id": "kteWgdorfDwn"
      },
      "outputs": [],
      "source": [
        "df.loc[df['Glucose']>201,'Glucose']=201\n",
        "df.loc[df['Glucose']<39,'Glucose']=39"
      ]
    },
    {
      "cell_type": "code",
      "execution_count": null,
      "metadata": {
        "id": "HZt2HRHZfDt3"
      },
      "outputs": [],
      "source": [
        "#df.boxplot(column=['Glucose'])"
      ]
    },
    {
      "cell_type": "code",
      "execution_count": null,
      "metadata": {
        "colab": {
          "base_uri": "https://localhost:8080/"
        },
        "id": "LPZbj5l1fDrw",
        "outputId": "cd1e9353-8fcf-4125-ce0e-f33bd0079f3e"
      },
      "outputs": [
        {
          "output_type": "stream",
          "name": "stdout",
          "text": [
            "104.0 40.0\n"
          ]
        }
      ],
      "source": [
        "IQR=df['BloodPressure'].quantile(0.75)-df['BloodPressure'].quantile(0.25)\n",
        "upperbound=df['BloodPressure'].quantile(0.75)+1.5*(IQR)\n",
        "lowerbound=df['BloodPressure'].quantile(0.25)-1.5*(IQR)\n",
        "print(upperbound,lowerbound)"
      ]
    },
    {
      "cell_type": "code",
      "execution_count": null,
      "metadata": {
        "id": "Q36yJyYhh_wh"
      },
      "outputs": [],
      "source": [
        "df.loc[df['BloodPressure']>104,'BloodPressure']=104\n",
        "df.loc[df['BloodPressure']<40,'BloodPressure']=40"
      ]
    },
    {
      "cell_type": "code",
      "execution_count": null,
      "metadata": {
        "id": "4vUpFmfph_s9"
      },
      "outputs": [],
      "source": [
        "#df.boxplot(column=['BloodPressure'])"
      ]
    },
    {
      "cell_type": "code",
      "execution_count": null,
      "metadata": {
        "colab": {
          "base_uri": "https://localhost:8080/"
        },
        "id": "Nyyb8pBJh_iL",
        "outputId": "2df4cbc6-b57d-47a4-c037-e586c7ee3721"
      },
      "outputs": [
        {
          "output_type": "stream",
          "name": "stdout",
          "text": [
            "42.5 14.5\n"
          ]
        }
      ],
      "source": [
        "IQR=df['SkinThickness'].quantile(0.75)-df['SkinThickness'].quantile(0.25)\n",
        "upperbound=df['SkinThickness'].quantile(0.75)+1.5*(IQR)\n",
        "lowerbound=df['SkinThickness'].quantile(0.25)-1.5*(IQR)\n",
        "print(upperbound,lowerbound)"
      ]
    },
    {
      "cell_type": "code",
      "execution_count": null,
      "metadata": {
        "id": "eV0LN5feh_eq"
      },
      "outputs": [],
      "source": [
        "df.loc[df['SkinThickness']>42.5,'SkinThickness']=42.5\n",
        "df.loc[df['SkinThickness']<14.5,'SkinThickness']=14.5"
      ]
    },
    {
      "cell_type": "code",
      "execution_count": null,
      "metadata": {
        "id": "pdyuBZ9Ih_XH"
      },
      "outputs": [],
      "source": [
        "#df.boxplot(column=['SkinThickness'])"
      ]
    },
    {
      "cell_type": "code",
      "execution_count": null,
      "metadata": {
        "colab": {
          "base_uri": "https://localhost:8080/"
        },
        "id": "r78R52gLh_Tt",
        "outputId": "b075d5f7-9e9c-4e20-8ec5-4a40f6bb5647"
      },
      "outputs": [
        {
          "output_type": "stream",
          "name": "stdout",
          "text": [
            "318.125 -190.875\n"
          ]
        }
      ],
      "source": [
        "IQR=df['Insulin'].quantile(0.75)-df['Insulin'].quantile(0.25)\n",
        "upperbound=df['Insulin'].quantile(0.75)+1.5*(IQR)\n",
        "lowerbound=df['Insulin'].quantile(0.25)-1.5*(IQR)\n",
        "print(upperbound,lowerbound)"
      ]
    },
    {
      "cell_type": "code",
      "execution_count": null,
      "metadata": {
        "id": "Ns5s1QJRjPED"
      },
      "outputs": [],
      "source": [
        "df.loc[df['Insulin']>206.62,'Insulin']=206.62\n",
        "df.loc[df['Insulin']<70.43,'Insulin']=70.43"
      ]
    },
    {
      "cell_type": "code",
      "execution_count": null,
      "metadata": {
        "id": "aWMoNtK_jO4k"
      },
      "outputs": [],
      "source": [
        "#df.boxplot(column=['Insulin'])"
      ]
    },
    {
      "cell_type": "code",
      "execution_count": null,
      "metadata": {
        "colab": {
          "base_uri": "https://localhost:8080/"
        },
        "id": "kYeIQJfIjO1U",
        "outputId": "b28f7fa1-cfff-49df-f09b-b9468497d048"
      },
      "outputs": [
        {
          "output_type": "stream",
          "name": "stdout",
          "text": [
            "50.25 13.849999999999998\n"
          ]
        }
      ],
      "source": [
        "IQR=df['BMI'].quantile(0.75)-df['BMI'].quantile(0.25)\n",
        "upperbound=df['BMI'].quantile(0.75)+1.5*(IQR)\n",
        "lowerbound=df['BMI'].quantile(0.25)-1.5*(IQR)\n",
        "print(upperbound,lowerbound)"
      ]
    },
    {
      "cell_type": "code",
      "execution_count": null,
      "metadata": {
        "id": "pLGeOkgfj6So"
      },
      "outputs": [],
      "source": [
        "df.loc[df['BMI']>50.25,'BMI']=50.25\n",
        "df.loc[df['BMI']<13.85,'BMI']=13.85"
      ]
    },
    {
      "cell_type": "code",
      "execution_count": null,
      "metadata": {
        "id": "9sashdAJj59r"
      },
      "outputs": [],
      "source": [
        "#df.boxplot(column=['BMI'])"
      ]
    },
    {
      "cell_type": "code",
      "execution_count": null,
      "metadata": {
        "colab": {
          "base_uri": "https://localhost:8080/"
        },
        "id": "sqdEHlquj56m",
        "outputId": "02f97aa6-49ef-415a-dbee-7753534a1924"
      },
      "outputs": [
        {
          "output_type": "stream",
          "name": "stdout",
          "text": [
            "1.2 -0.32999999999999996\n"
          ]
        }
      ],
      "source": [
        "IQR=df['DiabetesPedigreeFunction'].quantile(0.75)-df['DiabetesPedigreeFunction'].quantile(0.25)\n",
        "upperbound=df['DiabetesPedigreeFunction'].quantile(0.75)+1.5*(IQR)\n",
        "lowerbound=df['DiabetesPedigreeFunction'].quantile(0.25)-1.5*(IQR)\n",
        "print(upperbound,lowerbound)"
      ]
    },
    {
      "cell_type": "code",
      "execution_count": null,
      "metadata": {
        "id": "0oaNTHHhj54J"
      },
      "outputs": [],
      "source": [
        "df.loc[df['DiabetesPedigreeFunction']>1.2,'DiabetesPedigreeFunction']=1.2\n",
        "df.loc[df['DiabetesPedigreeFunction']<-0.3339,'DiabetesPedigreeFunction']=0"
      ]
    },
    {
      "cell_type": "code",
      "execution_count": null,
      "metadata": {
        "id": "Nckww3YJj51h"
      },
      "outputs": [],
      "source": [
        "#df.boxplot(column=['DiabetesPedigreeFunction'])"
      ]
    },
    {
      "cell_type": "code",
      "execution_count": null,
      "metadata": {
        "colab": {
          "base_uri": "https://localhost:8080/"
        },
        "id": "GdWgJ1peklq3",
        "outputId": "da16e68b-7841-4e83-c160-705eadaac346"
      },
      "outputs": [
        {
          "output_type": "stream",
          "name": "stdout",
          "text": [
            "66.5 -1.5\n"
          ]
        }
      ],
      "source": [
        "IQR=df['Age'].quantile(0.75)-df['Age'].quantile(0.25)\n",
        "upperbound=df['Age'].quantile(0.75)+1.5*(IQR)\n",
        "lowerbound=df['Age'].quantile(0.25)-1.5*(IQR)\n",
        "print(upperbound,lowerbound)"
      ]
    },
    {
      "cell_type": "code",
      "execution_count": null,
      "metadata": {
        "id": "Men5ce0jklni"
      },
      "outputs": [],
      "source": [
        "df.loc[df['Age']>66.5,'Age']=66.5\n",
        "df.loc[df['Age']<-1.5,'Age']=0"
      ]
    },
    {
      "cell_type": "code",
      "execution_count": null,
      "metadata": {
        "id": "GRHgNcEWklk2"
      },
      "outputs": [],
      "source": [
        "#df.boxplot(column=['Age'])"
      ]
    },
    {
      "cell_type": "code",
      "execution_count": null,
      "metadata": {
        "colab": {
          "base_uri": "https://localhost:8080/",
          "height": 637
        },
        "id": "jejmlxT1kliJ",
        "outputId": "f2ec2974-284a-44ad-f231-f64742fbebfc"
      },
      "outputs": [
        {
          "output_type": "execute_result",
          "data": {
            "text/plain": [
              "<Axes: >"
            ]
          },
          "metadata": {},
          "execution_count": 43
        },
        {
          "output_type": "display_data",
          "data": {
            "text/plain": [
              "<Figure size 1500x800 with 1 Axes>"
            ],
            "image/png": "[encoded data removed]"
          },
          "metadata": {}
        }
      ],
      "source": [
        "df.boxplot(column=['Pregnancies','Glucose','BloodPressure','SkinThickness','Insulin','BMI','DiabetesPedigreeFunction','Age','Outcome'],figsize=(15,8))"
      ]
    },
    {
      "cell_type": "code",
      "execution_count": null,
      "metadata": {
        "colab": {
          "base_uri": "https://localhost:8080/"
        },
        "id": "baHlhfM0R7lS",
        "outputId": "b696f25e-8847-4419-9dc8-7baf6331a653"
      },
      "outputs": [
        {
          "output_type": "execute_result",
          "data": {
            "text/plain": [
              "array([1, 0])"
            ]
          },
          "metadata": {},
          "execution_count": 44
        }
      ],
      "source": [
        "df['Outcome'].unique()"
      ]
    },
    {
      "cell_type": "code",
      "execution_count": null,
      "metadata": {
        "colab": {
          "base_uri": "https://localhost:8080/"
        },
        "id": "49hMhB7gSEeQ",
        "outputId": "b5dbdb77-0c32-49b9-c28a-4b5669457999"
      },
      "outputs": [
        {
          "output_type": "execute_result",
          "data": {
            "text/plain": [
              "0    500\n",
              "1    268\n",
              "Name: Outcome, dtype: int64"
            ]
          },
          "metadata": {},
          "execution_count": 45
        }
      ],
      "source": [
        "df['Outcome'].value_counts()"
      ]
    },
    {
      "cell_type": "code",
      "execution_count": null,
      "metadata": {
        "colab": {
          "base_uri": "https://localhost:8080/",
          "height": 449
        },
        "id": "LqCw_vq1SKN5",
        "outputId": "39a73826-a76b-4509-a1bc-47791e58eefc"
      },
      "outputs": [
        {
          "output_type": "execute_result",
          "data": {
            "text/plain": [
              "<Axes: ylabel='count'>"
            ]
          },
          "metadata": {},
          "execution_count": 46
        },
        {
          "output_type": "display_data",
          "data": {
            "text/plain": [
              "<Figure size 640x480 with 1 Axes>"
            ],
            "image/png": "[encoded data removed]"
          },
          "metadata": {}
        }
      ],
      "source": [
        "sns.countplot(df['Outcome'])"
      ]
    },
    {
      "cell_type": "code",
      "execution_count": null,
      "metadata": {
        "colab": {
          "base_uri": "https://localhost:8080/",
          "height": 300
        },
        "id": "hVOe0aIazlqq",
        "outputId": "66af4d7c-5f3c-469b-d21c-54d364a336d0"
      },
      "outputs": [
        {
          "output_type": "execute_result",
          "data": {
            "text/plain": [
              "         VIF                  Features\n",
              "0   3.328317               Pregnancies\n",
              "1  21.372358                   Glucose\n",
              "2  33.614206             BloodPressure\n",
              "3  23.541240             SkinThickness\n",
              "4   6.575937                   Insulin\n",
              "5  38.025317                       BMI\n",
              "6   3.749146  DiabetesPedigreeFunction\n",
              "7  14.849523                       Age"
            ],
            "text/html": [
              "\n",
              "\n",
              "  <div id=\"df-2fde972b-9de0-4c73-a26b-e6d92949d8f2\">\n",
              "    <div class=\"colab-df-container\">\n",
              "      <div>\n",
              "<style scoped>\n",
              "    .dataframe tbody tr th:only-of-type {\n",
              "        vertical-align: middle;\n",
              "    }\n",
              "\n",
              "    .dataframe tbody tr th {\n",
              "        vertical-align: top;\n",
              "    }\n",
              "\n",
              "    .dataframe thead th {\n",
              "        text-align: right;\n",
              "    }\n",
              "</style>\n",
              "<table border=\"1\" class=\"dataframe\">\n",
              "  <thead>\n",
              "    <tr style=\"text-align: right;\">\n",
              "      <th></th>\n",
              "      <th>VIF</th>\n",
              "      <th>Features</th>\n",
              "    </tr>\n",
              "  </thead>\n",
              "  <tbody>\n",
              "    <tr>\n",
              "      <th>0</th>\n",
              "      <td>3.328317</td>\n",
              "      <td>Pregnancies</td>\n",
              "    </tr>\n",
              "    <tr>\n",
              "      <th>1</th>\n",
              "      <td>21.372358</td>\n",
              "      <td>Glucose</td>\n",
              "    </tr>\n",
              "    <tr>\n",
              "      <th>2</th>\n",
              "      <td>33.614206</td>\n",
              "      <td>BloodPressure</td>\n",
              "    </tr>\n",
              "    <tr>\n",
              "      <th>3</th>\n",
              "      <td>23.541240</td>\n",
              "      <td>SkinThickness</td>\n",
              "    </tr>\n",
              "    <tr>\n",
              "      <th>4</th>\n",
              "      <td>6.575937</td>\n",
              "      <td>Insulin</td>\n",
              "    </tr>\n",
              "    <tr>\n",
              "      <th>5</th>\n",
              "      <td>38.025317</td>\n",
              "      <td>BMI</td>\n",
              "    </tr>\n",
              "    <tr>\n",
              "      <th>6</th>\n",
              "      <td>3.749146</td>\n",
              "      <td>DiabetesPedigreeFunction</td>\n",
              "    </tr>\n",
              "    <tr>\n",
              "      <th>7</th>\n",
              "      <td>14.849523</td>\n",
              "      <td>Age</td>\n",
              "    </tr>\n",
              "  </tbody>\n",
              "</table>\n",
              "</div>\n",
              "      <button class=\"colab-df-convert\" onclick=\"convertToInteractive('df-2fde972b-9de0-4c73-a26b-e6d92949d8f2')\"\n",
              "              title=\"Convert this dataframe to an interactive table.\"\n",
              "              style=\"display:none;\">\n",
              "\n",
              "  <svg xmlns=\"http://www.w3.org/2000/svg\" height=\"24px\"viewBox=\"0 0 24 24\"\n",
              "       width=\"24px\">\n",
              "    <path d=\"M0 0h24v24H0V0z\" fill=\"none\"/>\n",
              "    <path d=\"M18.56 5.44l.94 2.06.94-2.06 2.06-.94-2.06-.94-.94-2.06-.94 2.06-2.06.94zm-11 1L8.5 8.5l.94-2.06 2.06-.94-2.06-.94L8.5 2.5l-.94 2.06-2.06.94zm10 10l.94 2.06.94-2.06 2.06-.94-2.06-.94-.94-2.06-.94 2.06-2.06.94z\"/><path d=\"M17.41 7.96l-1.37-1.37c-.4-.4-.92-.59-1.43-.59-.52 0-1.04.2-1.43.59L10.3 9.45l-7.72 7.72c-.78.78-.78 2.05 0 2.83L4 21.41c.39.39.9.59 1.41.59.51 0 1.02-.2 1.41-.59l7.78-7.78 2.81-2.81c.8-.78.8-2.07 0-2.86zM5.41 20L4 18.59l7.72-7.72 1.47 1.35L5.41 20z\"/>\n",
              "  </svg>\n",
              "      </button>\n",
              "\n",
              "\n",
              "\n",
              "    <div id=\"df-c6dce491-0ef4-4464-aeb0-61142b231926\">\n",
              "      <button class=\"colab-df-quickchart\" onclick=\"quickchart('df-c6dce491-0ef4-4464-aeb0-61142b231926')\"\n",
              "              title=\"Suggest charts.\"\n",
              "              style=\"display:none;\">\n",
              "\n",
              "<svg xmlns=\"http://www.w3.org/2000/svg\" height=\"24px\"viewBox=\"0 0 24 24\"\n",
              "     width=\"24px\">\n",
              "    <g>\n",
              "        <path d=\"M19 3H5c-1.1 0-2 .9-2 2v14c0 1.1.9 2 2 2h14c1.1 0 2-.9 2-2V5c0-1.1-.9-2-2-2zM9 17H7v-7h2v7zm4 0h-2V7h2v10zm4 0h-2v-4h2v4z\"/>\n",
              "    </g>\n",
              "</svg>\n",
              "      </button>\n",
              "    </div>\n",
              "\n",
              "<style>\n",
              "  .colab-df-quickchart {\n",
              "    background-color: #E8F0FE;\n",
              "    border: none;\n",
              "    border-radius: 50%;\n",
              "    cursor: pointer;\n",
              "    display: none;\n",
              "    fill: #1967D2;\n",
              "    height: 32px;\n",
              "    padding: 0 0 0 0;\n",
              "    width: 32px;\n",
              "  }\n",
              "\n",
              "  .colab-df-quickchart:hover {\n",
              "    background-color: #E2EBFA;\n",
              "    box-shadow: 0px 1px 2px rgba(60, 64, 67, 0.3), 0px 1px 3px 1px rgba(60, 64, 67, 0.15);\n",
              "    fill: #174EA6;\n",
              "  }\n",
              "\n",
              "  [theme=dark] .colab-df-quickchart {\n",
              "    background-color: #3B4455;\n",
              "    fill: #D2E3FC;\n",
              "  }\n",
              "\n",
              "  [theme=dark] .colab-df-quickchart:hover {\n",
              "    background-color: #434B5C;\n",
              "    box-shadow: 0px 1px 3px 1px rgba(0, 0, 0, 0.15);\n",
              "    filter: drop-shadow(0px 1px 2px rgba(0, 0, 0, 0.3));\n",
              "    fill: #FFFFFF;\n",
              "  }\n",
              "</style>\n",
              "\n",
              "    <script>\n",
              "      async function quickchart(key) {\n",
              "        const containerElement = document.querySelector('#' + key);\n",
              "        const charts = await google.colab.kernel.invokeFunction(\n",
              "            'suggestCharts', [key], {});\n",
              "      }\n",
              "    </script>\n",
              "\n",
              "      <script>\n",
              "\n",
              "function displayQuickchartButton(domScope) {\n",
              "  let quickchartButtonEl =\n",
              "    domScope.querySelector('#df-c6dce491-0ef4-4464-aeb0-61142b231926 button.colab-df-quickchart');\n",
              "  quickchartButtonEl.style.display =\n",
              "    google.colab.kernel.accessAllowed ? 'block' : 'none';\n",
              "}\n",
              "\n",
              "        displayQuickchartButton(document);\n",
              "      </script>\n",
              "      <style>\n",
              "    .colab-df-container {\n",
              "      display:flex;\n",
              "      flex-wrap:wrap;\n",
              "      gap: 12px;\n",
              "    }\n",
              "\n",
              "    .colab-df-convert {\n",
              "      background-color: #E8F0FE;\n",
              "      border: none;\n",
              "      border-radius: 50%;\n",
              "      cursor: pointer;\n",
              "      display: none;\n",
              "      fill: #1967D2;\n",
              "      height: 32px;\n",
              "      padding: 0 0 0 0;\n",
              "      width: 32px;\n",
              "    }\n",
              "\n",
              "    .colab-df-convert:hover {\n",
              "      background-color: #E2EBFA;\n",
              "      box-shadow: 0px 1px 2px rgba(60, 64, 67, 0.3), 0px 1px 3px 1px rgba(60, 64, 67, 0.15);\n",
              "      fill: #174EA6;\n",
              "    }\n",
              "\n",
              "    [theme=dark] .colab-df-convert {\n",
              "      background-color: #3B4455;\n",
              "      fill: #D2E3FC;\n",
              "    }\n",
              "\n",
              "    [theme=dark] .colab-df-convert:hover {\n",
              "      background-color: #434B5C;\n",
              "      box-shadow: 0px 1px 3px 1px rgba(0, 0, 0, 0.15);\n",
              "      filter: drop-shadow(0px 1px 2px rgba(0, 0, 0, 0.3));\n",
              "      fill: #FFFFFF;\n",
              "    }\n",
              "  </style>\n",
              "\n",
              "      <script>\n",
              "        const buttonEl =\n",
              "          document.querySelector('#df-2fde972b-9de0-4c73-a26b-e6d92949d8f2 button.colab-df-convert');\n",
              "        buttonEl.style.display =\n",
              "          google.colab.kernel.accessAllowed ? 'block' : 'none';\n",
              "\n",
              "        async function convertToInteractive(key) {\n",
              "          const element = document.querySelector('#df-2fde972b-9de0-4c73-a26b-e6d92949d8f2');\n",
              "          const dataTable =\n",
              "            await google.colab.kernel.invokeFunction('convertToInteractive',\n",
              "                                                     [key], {});\n",
              "          if (!dataTable) return;\n",
              "\n",
              "          const docLinkHtml = 'Like what you see? Visit the ' +\n",
              "            '<a target=\"_blank\" href=https://colab.research.google.com/notebooks/data_table.ipynb>data table notebook</a>'\n",
              "            + ' to learn more about interactive tables.';\n",
              "          element.innerHTML = '';\n",
              "          dataTable['output_type'] = 'display_data';\n",
              "          await google.colab.output.renderOutput(dataTable, element);\n",
              "          const docLink = document.createElement('div');\n",
              "          docLink.innerHTML = docLinkHtml;\n",
              "          element.appendChild(docLink);\n",
              "        }\n",
              "      </script>\n",
              "    </div>\n",
              "  </div>\n"
            ]
          },
          "metadata": {},
          "execution_count": 47
        }
      ],
      "source": [
        "from statsmodels.stats.outliers_influence import variance_inflation_factor\n",
        "variables = df.drop(['Outcome'],axis=1)\n",
        "vif = pd.DataFrame()\n",
        "vif[\"VIF\"] = [variance_inflation_factor(variables.values, i) for i in range(variables.shape[1])]\n",
        "vif[\"Features\"] = variables.columns\n",
        "vif"
      ]
    },
    {
      "cell_type": "code",
      "execution_count": null,
      "metadata": {
        "id": "TQY3_ZnGSMGn"
      },
      "outputs": [],
      "source": [
        "X= df.drop(['Outcome'],axis=1)\n",
        "y= df['Outcome']"
      ]
    },
    {
      "cell_type": "code",
      "execution_count": null,
      "metadata": {
        "id": "eA2g0SxkSQlU"
      },
      "outputs": [],
      "source": [
        "from sklearn.model_selection import train_test_split"
      ]
    },
    {
      "cell_type": "code",
      "execution_count": null,
      "metadata": {
        "id": "crv-9nSQSWfR"
      },
      "outputs": [],
      "source": [
        "X_train,X_test,y_train,y_test = train_test_split(X,y,test_size=0.2,random_state=42)"
      ]
    },
    {
      "cell_type": "code",
      "execution_count": null,
      "metadata": {
        "colab": {
          "base_uri": "https://localhost:8080/"
        },
        "id": "rOyybA0G69x5",
        "outputId": "3ff3f3ca-98fb-433c-9ee0-8b9a1381b317"
      },
      "outputs": [
        {
          "output_type": "execute_result",
          "data": {
            "text/plain": [
              "0    500\n",
              "1    268\n",
              "Name: Outcome, dtype: int64"
            ]
          },
          "metadata": {},
          "execution_count": 51
        }
      ],
      "source": [
        "df['Outcome'].value_counts()"
      ]
    },
    {
      "cell_type": "code",
      "execution_count": null,
      "metadata": {
        "colab": {
          "base_uri": "https://localhost:8080/"
        },
        "id": "msbhLxzm3b8Z",
        "outputId": "07a3c23f-dac1-4f3f-ebf7-8b41d885c552"
      },
      "outputs": [
        {
          "output_type": "stream",
          "name": "stdout",
          "text": [
            "Before SMOTE:  Counter({1: 253, 0: 195})\n",
            "After SMOTE:  Counter({1: 253, 0: 195})\n"
          ]
        }
      ],
      "source": [
        "from imblearn.combine import SMOTEENN\n",
        "smote=SMOTEENN()\n",
        "X_res,y_res = smote.fit_resample(X,y)\n",
        "X_train,X_test,y_train,y_test=train_test_split(X_res,y_res, test_size=0.2, random_state=42)\n",
        "from collections import Counter\n",
        "print(\"Before SMOTE: \",Counter(y_train))\n",
        "print(\"After SMOTE: \",Counter(y_train))"
      ]
    },
    {
      "cell_type": "code",
      "execution_count": null,
      "metadata": {
        "id": "gMNR0y6TTk0y"
      },
      "outputs": [],
      "source": [
        "#from imblearn.over_sampling import SMOTE"
      ]
    },
    {
      "cell_type": "code",
      "execution_count": null,
      "metadata": {
        "id": "wLQyQPrNTkxM"
      },
      "outputs": [],
      "source": [
        "#X_res,y_res = SMOTE().fit_resample(X,y)"
      ]
    },
    {
      "cell_type": "code",
      "execution_count": null,
      "metadata": {
        "id": "5huuj81TTkuq"
      },
      "outputs": [],
      "source": [
        "#y_res.value_counts()"
      ]
    },
    {
      "cell_type": "code",
      "execution_count": null,
      "metadata": {
        "id": "1JNYdt_PTkr_"
      },
      "outputs": [],
      "source": [
        "#X_train,X_test,y_train,y_test = train_test_split(X_res,y_res,test_size=0.2,random_state=42)"
      ]
    },
    {
      "cell_type": "code",
      "execution_count": null,
      "metadata": {
        "id": "m_AkY7ELSYU_"
      },
      "outputs": [],
      "source": [
        "from sklearn.preprocessing import StandardScaler"
      ]
    },
    {
      "cell_type": "code",
      "execution_count": null,
      "metadata": {
        "id": "nVjvIiGcSojU"
      },
      "outputs": [],
      "source": [
        "st = StandardScaler()\n",
        "X_train = st.fit_transform(X_train)\n",
        "X_test = st.transform(X_test)"
      ]
    },
    {
      "cell_type": "code",
      "execution_count": null,
      "metadata": {
        "colab": {
          "base_uri": "https://localhost:8080/"
        },
        "id": "ANMbQTqeSsvi",
        "outputId": "ccf0f8e0-6080-419c-ee78-4c138f34e729"
      },
      "outputs": [
        {
          "output_type": "execute_result",
          "data": {
            "text/plain": [
              "array([[-0.51011492,  0.54444416, -0.45793298, ..., -0.52121049,\n",
              "        -0.69655684, -0.4061605 ],\n",
              "       [-0.55392265,  1.25978518, -0.84466983, ...,  0.34434676,\n",
              "         0.05499611, -0.4890954 ],\n",
              "       [-0.97108922, -1.22067348, -0.58545905, ..., -0.84494863,\n",
              "        -0.47868293, -0.21537246],\n",
              "       ...,\n",
              "       [-0.36512514,  1.24676022, -0.0360589 , ...,  0.16104928,\n",
              "        -1.00638847, -0.8831306 ],\n",
              "       [ 0.21409517, -0.33378222,  0.13090957, ..., -0.0341613 ,\n",
              "         0.50705623,  0.25882678],\n",
              "       [-0.0621431 ,  0.04173446, -1.13485921, ..., -0.70981458,\n",
              "         0.13234453, -0.21537246]])"
            ]
          },
          "metadata": {},
          "execution_count": 59
        }
      ],
      "source": [
        "X_train"
      ]
    },
    {
      "cell_type": "code",
      "execution_count": null,
      "metadata": {
        "colab": {
          "base_uri": "https://localhost:8080/",
          "height": 206
        },
        "id": "e5bu9uwBmdfF",
        "outputId": "0758b257-1fa5-474e-b643-10b4b14b0970"
      },
      "outputs": [
        {
          "output_type": "execute_result",
          "data": {
            "text/plain": [
              "   Pregnancies  Glucose  BloodPressure  SkinThickness  Insulin   BMI  \\\n",
              "0          6.0    148.0           72.0           35.0    70.43  33.6   \n",
              "1          1.0     85.0           66.0           29.0    70.43  26.6   \n",
              "2          8.0    183.0           64.0           29.0    70.43  23.3   \n",
              "3          1.0     89.0           66.0           23.0    94.00  28.1   \n",
              "4          0.0    137.0           40.0           35.0   168.00  43.1   \n",
              "\n",
              "   DiabetesPedigreeFunction   Age  Outcome  \n",
              "0                     0.627  50.0        1  \n",
              "1                     0.351  31.0        0  \n",
              "2                     0.672  32.0        1  \n",
              "3                     0.167  21.0        0  \n",
              "4                     1.200  33.0        1  "
            ],
            "text/html": [
              "\n",
              "\n",
              "  <div id=\"df-554c8aee-e2ec-42e3-a0fc-1653e31ddf76\">\n",
              "    <div class=\"colab-df-container\">\n",
              "      <div>\n",
              "<style scoped>\n",
              "    .dataframe tbody tr th:only-of-type {\n",
              "        vertical-align: middle;\n",
              "    }\n",
              "\n",
              "    .dataframe tbody tr th {\n",
              "        vertical-align: top;\n",
              "    }\n",
              "\n",
              "    .dataframe thead th {\n",
              "        text-align: right;\n",
              "    }\n",
              "</style>\n",
              "<table border=\"1\" class=\"dataframe\">\n",
              "  <thead>\n",
              "    <tr style=\"text-align: right;\">\n",
              "      <th></th>\n",
              "      <th>Pregnancies</th>\n",
              "      <th>Glucose</th>\n",
              "      <th>BloodPressure</th>\n",
              "      <th>SkinThickness</th>\n",
              "      <th>Insulin</th>\n",
              "      <th>BMI</th>\n",
              "      <th>DiabetesPedigreeFunction</th>\n",
              "      <th>Age</th>\n",
              "      <th>Outcome</th>\n",
              "    </tr>\n",
              "  </thead>\n",
              "  <tbody>\n",
              "    <tr>\n",
              "      <th>0</th>\n",
              "      <td>6.0</td>\n",
              "      <td>148.0</td>\n",
              "      <td>72.0</td>\n",
              "      <td>35.0</td>\n",
              "      <td>70.43</td>\n",
              "      <td>33.6</td>\n",
              "      <td>0.627</td>\n",
              "      <td>50.0</td>\n",
              "      <td>1</td>\n",
              "    </tr>\n",
              "    <tr>\n",
              "      <th>1</th>\n",
              "      <td>1.0</td>\n",
              "      <td>85.0</td>\n",
              "      <td>66.0</td>\n",
              "      <td>29.0</td>\n",
              "      <td>70.43</td>\n",
              "      <td>26.6</td>\n",
              "      <td>0.351</td>\n",
              "      <td>31.0</td>\n",
              "      <td>0</td>\n",
              "    </tr>\n",
              "    <tr>\n",
              "      <th>2</th>\n",
              "      <td>8.0</td>\n",
              "      <td>183.0</td>\n",
              "      <td>64.0</td>\n",
              "      <td>29.0</td>\n",
              "      <td>70.43</td>\n",
              "      <td>23.3</td>\n",
              "      <td>0.672</td>\n",
              "      <td>32.0</td>\n",
              "      <td>1</td>\n",
              "    </tr>\n",
              "    <tr>\n",
              "      <th>3</th>\n",
              "      <td>1.0</td>\n",
              "      <td>89.0</td>\n",
              "      <td>66.0</td>\n",
              "      <td>23.0</td>\n",
              "      <td>94.00</td>\n",
              "      <td>28.1</td>\n",
              "      <td>0.167</td>\n",
              "      <td>21.0</td>\n",
              "      <td>0</td>\n",
              "    </tr>\n",
              "    <tr>\n",
              "      <th>4</th>\n",
              "      <td>0.0</td>\n",
              "      <td>137.0</td>\n",
              "      <td>40.0</td>\n",
              "      <td>35.0</td>\n",
              "      <td>168.00</td>\n",
              "      <td>43.1</td>\n",
              "      <td>1.200</td>\n",
              "      <td>33.0</td>\n",
              "      <td>1</td>\n",
              "    </tr>\n",
              "  </tbody>\n",
              "</table>\n",
              "</div>\n",
              "      <button class=\"colab-df-convert\" onclick=\"convertToInteractive('df-554c8aee-e2ec-42e3-a0fc-1653e31ddf76')\"\n",
              "              title=\"Convert this dataframe to an interactive table.\"\n",
              "              style=\"display:none;\">\n",
              "\n",
              "  <svg xmlns=\"http://www.w3.org/2000/svg\" height=\"24px\"viewBox=\"0 0 24 24\"\n",
              "       width=\"24px\">\n",
              "    <path d=\"M0 0h24v24H0V0z\" fill=\"none\"/>\n",
              "    <path d=\"M18.56 5.44l.94 2.06.94-2.06 2.06-.94-2.06-.94-.94-2.06-.94 2.06-2.06.94zm-11 1L8.5 8.5l.94-2.06 2.06-.94-2.06-.94L8.5 2.5l-.94 2.06-2.06.94zm10 10l.94 2.06.94-2.06 2.06-.94-2.06-.94-.94-2.06-.94 2.06-2.06.94z\"/><path d=\"M17.41 7.96l-1.37-1.37c-.4-.4-.92-.59-1.43-.59-.52 0-1.04.2-1.43.59L10.3 9.45l-7.72 7.72c-.78.78-.78 2.05 0 2.83L4 21.41c.39.39.9.59 1.41.59.51 0 1.02-.2 1.41-.59l7.78-7.78 2.81-2.81c.8-.78.8-2.07 0-2.86zM5.41 20L4 18.59l7.72-7.72 1.47 1.35L5.41 20z\"/>\n",
              "  </svg>\n",
              "      </button>\n",
              "\n",
              "\n",
              "\n",
              "    <div id=\"df-15111a05-dc6c-433f-9d88-09213392ffa4\">\n",
              "      <button class=\"colab-df-quickchart\" onclick=\"quickchart('df-15111a05-dc6c-433f-9d88-09213392ffa4')\"\n",
              "              title=\"Suggest charts.\"\n",
              "              style=\"display:none;\">\n",
              "\n",
              "<svg xmlns=\"http://www.w3.org/2000/svg\" height=\"24px\"viewBox=\"0 0 24 24\"\n",
              "     width=\"24px\">\n",
              "    <g>\n",
              "        <path d=\"M19 3H5c-1.1 0-2 .9-2 2v14c0 1.1.9 2 2 2h14c1.1 0 2-.9 2-2V5c0-1.1-.9-2-2-2zM9 17H7v-7h2v7zm4 0h-2V7h2v10zm4 0h-2v-4h2v4z\"/>\n",
              "    </g>\n",
              "</svg>\n",
              "      </button>\n",
              "    </div>\n",
              "\n",
              "<style>\n",
              "  .colab-df-quickchart {\n",
              "    background-color: #E8F0FE;\n",
              "    border: none;\n",
              "    border-radius: 50%;\n",
              "    cursor: pointer;\n",
              "    display: none;\n",
              "    fill: #1967D2;\n",
              "    height: 32px;\n",
              "    padding: 0 0 0 0;\n",
              "    width: 32px;\n",
              "  }\n",
              "\n",
              "  .colab-df-quickchart:hover {\n",
              "    background-color: #E2EBFA;\n",
              "    box-shadow: 0px 1px 2px rgba(60, 64, 67, 0.3), 0px 1px 3px 1px rgba(60, 64, 67, 0.15);\n",
              "    fill: #174EA6;\n",
              "  }\n",
              "\n",
              "  [theme=dark] .colab-df-quickchart {\n",
              "    background-color: #3B4455;\n",
              "    fill: #D2E3FC;\n",
              "  }\n",
              "\n",
              "  [theme=dark] .colab-df-quickchart:hover {\n",
              "    background-color: #434B5C;\n",
              "    box-shadow: 0px 1px 3px 1px rgba(0, 0, 0, 0.15);\n",
              "    filter: drop-shadow(0px 1px 2px rgba(0, 0, 0, 0.3));\n",
              "    fill: #FFFFFF;\n",
              "  }\n",
              "</style>\n",
              "\n",
              "    <script>\n",
              "      async function quickchart(key) {\n",
              "        const containerElement = document.querySelector('#' + key);\n",
              "        const charts = await google.colab.kernel.invokeFunction(\n",
              "            'suggestCharts', [key], {});\n",
              "      }\n",
              "    </script>\n",
              "\n",
              "      <script>\n",
              "\n",
              "function displayQuickchartButton(domScope) {\n",
              "  let quickchartButtonEl =\n",
              "    domScope.querySelector('#df-15111a05-dc6c-433f-9d88-09213392ffa4 button.colab-df-quickchart');\n",
              "  quickchartButtonEl.style.display =\n",
              "    google.colab.kernel.accessAllowed ? 'block' : 'none';\n",
              "}\n",
              "\n",
              "        displayQuickchartButton(document);\n",
              "      </script>\n",
              "      <style>\n",
              "    .colab-df-container {\n",
              "      display:flex;\n",
              "      flex-wrap:wrap;\n",
              "      gap: 12px;\n",
              "    }\n",
              "\n",
              "    .colab-df-convert {\n",
              "      background-color: #E8F0FE;\n",
              "      border: none;\n",
              "      border-radius: 50%;\n",
              "      cursor: pointer;\n",
              "      display: none;\n",
              "      fill: #1967D2;\n",
              "      height: 32px;\n",
              "      padding: 0 0 0 0;\n",
              "      width: 32px;\n",
              "    }\n",
              "\n",
              "    .colab-df-convert:hover {\n",
              "      background-color: #E2EBFA;\n",
              "      box-shadow: 0px 1px 2px rgba(60, 64, 67, 0.3), 0px 1px 3px 1px rgba(60, 64, 67, 0.15);\n",
              "      fill: #174EA6;\n",
              "    }\n",
              "\n",
              "    [theme=dark] .colab-df-convert {\n",
              "      background-color: #3B4455;\n",
              "      fill: #D2E3FC;\n",
              "    }\n",
              "\n",
              "    [theme=dark] .colab-df-convert:hover {\n",
              "      background-color: #434B5C;\n",
              "      box-shadow: 0px 1px 3px 1px rgba(0, 0, 0, 0.15);\n",
              "      filter: drop-shadow(0px 1px 2px rgba(0, 0, 0, 0.3));\n",
              "      fill: #FFFFFF;\n",
              "    }\n",
              "  </style>\n",
              "\n",
              "      <script>\n",
              "        const buttonEl =\n",
              "          document.querySelector('#df-554c8aee-e2ec-42e3-a0fc-1653e31ddf76 button.colab-df-convert');\n",
              "        buttonEl.style.display =\n",
              "          google.colab.kernel.accessAllowed ? 'block' : 'none';\n",
              "\n",
              "        async function convertToInteractive(key) {\n",
              "          const element = document.querySelector('#df-554c8aee-e2ec-42e3-a0fc-1653e31ddf76');\n",
              "          const dataTable =\n",
              "            await google.colab.kernel.invokeFunction('convertToInteractive',\n",
              "                                                     [key], {});\n",
              "          if (!dataTable) return;\n",
              "\n",
              "          const docLinkHtml = 'Like what you see? Visit the ' +\n",
              "            '<a target=\"_blank\" href=https://colab.research.google.com/notebooks/data_table.ipynb>data table notebook</a>'\n",
              "            + ' to learn more about interactive tables.';\n",
              "          element.innerHTML = '';\n",
              "          dataTable['output_type'] = 'display_data';\n",
              "          await google.colab.output.renderOutput(dataTable, element);\n",
              "          const docLink = document.createElement('div');\n",
              "          docLink.innerHTML = docLinkHtml;\n",
              "          element.appendChild(docLink);\n",
              "        }\n",
              "      </script>\n",
              "    </div>\n",
              "  </div>\n"
            ]
          },
          "metadata": {},
          "execution_count": 60
        }
      ],
      "source": [
        "df.head()"
      ]
    },
    {
      "cell_type": "code",
      "execution_count": null,
      "metadata": {
        "id": "R_wNBVqGTSL1"
      },
      "outputs": [],
      "source": [
        "#from sklearn.decomposition import PCA"
      ]
    },
    {
      "cell_type": "code",
      "execution_count": null,
      "metadata": {
        "id": "cJpnevoCTSCa"
      },
      "outputs": [],
      "source": [
        "#pca = PCA(n_components=0.87)"
      ]
    },
    {
      "cell_type": "code",
      "execution_count": null,
      "metadata": {
        "id": "trwmXQvPTR--"
      },
      "outputs": [],
      "source": [
        "#X_train = pca.fit_transform(X_train)\n",
        "#X_test = pca.transform(X_test)"
      ]
    },
    {
      "cell_type": "code",
      "execution_count": null,
      "metadata": {
        "id": "93PKL3JlTR6f"
      },
      "outputs": [],
      "source": [
        "#pca.explained_variance_ratio_"
      ]
    },
    {
      "cell_type": "code",
      "execution_count": null,
      "metadata": {
        "id": "_6WW8hlmTcfR"
      },
      "outputs": [],
      "source": [
        "#sum(pca.explained_variance_ratio_)"
      ]
    },
    {
      "cell_type": "code",
      "execution_count": null,
      "metadata": {
        "id": "tqJ-XB45SvQz"
      },
      "outputs": [],
      "source": [
        "from sklearn import svm"
      ]
    },
    {
      "cell_type": "code",
      "execution_count": null,
      "metadata": {
        "id": "fNHr8uj9SzL9"
      },
      "outputs": [],
      "source": [
        "svm = svm.SVC(gamma='auto', probability=True)"
      ]
    },
    {
      "cell_type": "code",
      "execution_count": null,
      "metadata": {
        "colab": {
          "base_uri": "https://localhost:8080/",
          "height": 74
        },
        "id": "KJvF_CVrS0nQ",
        "outputId": "f696c862-c6d1-4ac4-f00d-6a8fda214b6f"
      },
      "outputs": [
        {
          "output_type": "execute_result",
          "data": {
            "text/plain": [
              "SVC(gamma='auto', probability=True)"
            ],
            "text/html": [
              "<style>#sk-container-id-1 {color: black;background-color: white;}#sk-container-id-1 pre{padding: 0;}#sk-container-id-1 div.sk-toggleable {background-color: white;}#sk-container-id-1 label.sk-toggleable__label {cursor: pointer;display: block;width: 100%;margin-bottom: 0;padding: 0.3em;box-sizing: border-box;text-align: center;}#sk-container-id-1 label.sk-toggleable__label-arrow:before {content: \"▸\";float: left;margin-right: 0.25em;color: #696969;}#sk-container-id-1 label.sk-toggleable__label-arrow:hover:before {color: black;}#sk-container-id-1 div.sk-estimator:hover label.sk-toggleable__label-arrow:before {color: black;}#sk-container-id-1 div.sk-toggleable__content {max-height: 0;max-width: 0;overflow: hidden;text-align: left;background-color: #f0f8ff;}#sk-container-id-1 div.sk-toggleable__content pre {margin: 0.2em;color: black;border-radius: 0.25em;background-color: #f0f8ff;}#sk-container-id-1 input.sk-toggleable__control:checked~div.sk-toggleable__content {max-height: 200px;max-width: 100%;overflow: auto;}#sk-container-id-1 input.sk-toggleable__control:checked~label.sk-toggleable__label-arrow:before {content: \"▾\";}#sk-container-id-1 div.sk-estimator input.sk-toggleable__control:checked~label.sk-toggleable__label {background-color: #d4ebff;}#sk-container-id-1 div.sk-label input.sk-toggleable__control:checked~label.sk-toggleable__label {background-color: #d4ebff;}#sk-container-id-1 input.sk-hidden--visually {border: 0;clip: rect(1px 1px 1px 1px);clip: rect(1px, 1px, 1px, 1px);height: 1px;margin: -1px;overflow: hidden;padding: 0;position: absolute;width: 1px;}#sk-container-id-1 div.sk-estimator {font-family: monospace;background-color: #f0f8ff;border: 1px dotted black;border-radius: 0.25em;box-sizing: border-box;margin-bottom: 0.5em;}#sk-container-id-1 div.sk-estimator:hover {background-color: #d4ebff;}#sk-container-id-1 div.sk-parallel-item::after {content: \"\";width: 100%;border-bottom: 1px solid gray;flex-grow: 1;}#sk-container-id-1 div.sk-label:hover label.sk-toggleable__label {background-color: #d4ebff;}#sk-container-id-1 div.sk-serial::before {content: \"\";position: absolute;border-left: 1px solid gray;box-sizing: border-box;top: 0;bottom: 0;left: 50%;z-index: 0;}#sk-container-id-1 div.sk-serial {display: flex;flex-direction: column;align-items: center;background-color: white;padding-right: 0.2em;padding-left: 0.2em;position: relative;}#sk-container-id-1 div.sk-item {position: relative;z-index: 1;}#sk-container-id-1 div.sk-parallel {display: flex;align-items: stretch;justify-content: center;background-color: white;position: relative;}#sk-container-id-1 div.sk-item::before, #sk-container-id-1 div.sk-parallel-item::before {content: \"\";position: absolute;border-left: 1px solid gray;box-sizing: border-box;top: 0;bottom: 0;left: 50%;z-index: -1;}#sk-container-id-1 div.sk-parallel-item {display: flex;flex-direction: column;z-index: 1;position: relative;background-color: white;}#sk-container-id-1 div.sk-parallel-item:first-child::after {align-self: flex-end;width: 50%;}#sk-container-id-1 div.sk-parallel-item:last-child::after {align-self: flex-start;width: 50%;}#sk-container-id-1 div.sk-parallel-item:only-child::after {width: 0;}#sk-container-id-1 div.sk-dashed-wrapped {border: 1px dashed gray;margin: 0 0.4em 0.5em 0.4em;box-sizing: border-box;padding-bottom: 0.4em;background-color: white;}#sk-container-id-1 div.sk-label label {font-family: monospace;font-weight: bold;display: inline-block;line-height: 1.2em;}#sk-container-id-1 div.sk-label-container {text-align: center;}#sk-container-id-1 div.sk-container {/* jupyter's `normalize.less` sets `[hidden] { display: none; }` but bootstrap.min.css set `[hidden] { display: none !important; }` so we also need the `!important` here to be able to override the default hidden behavior on the sphinx rendered scikit-learn.org. See: https://github.com/scikit-learn/scikit-learn/issues/21755 */display: inline-block !important;position: relative;}#sk-container-id-1 div.sk-text-repr-fallback {display: none;}</style><div id=\"sk-container-id-1\" class=\"sk-top-container\"><div class=\"sk-text-repr-fallback\"><pre>SVC(gamma=&#x27;auto&#x27;, probability=True)</pre><b>In a Jupyter environment, please rerun this cell to show the HTML representation or trust the notebook. <br />On GitHub, the HTML representation is unable to render, please try loading this page with nbviewer.org.</b></div><div class=\"sk-container\" hidden><div class=\"sk-item\"><div class=\"sk-estimator sk-toggleable\"><input class=\"sk-toggleable__control sk-hidden--visually\" id=\"sk-estimator-id-1\" type=\"checkbox\" checked><label for=\"sk-estimator-id-1\" class=\"sk-toggleable__label sk-toggleable__label-arrow\">SVC</label><div class=\"sk-toggleable__content\"><pre>SVC(gamma=&#x27;auto&#x27;, probability=True)</pre></div></div></div></div></div>"
            ]
          },
          "metadata": {},
          "execution_count": 68
        }
      ],
      "source": [
        "svm.fit(X_train,y_train)"
      ]
    },
    {
      "cell_type": "code",
      "execution_count": null,
      "metadata": {
        "id": "iHQxkbsLS5OS"
      },
      "outputs": [],
      "source": [
        "y_pred = svm.predict(X_test)"
      ]
    },
    {
      "cell_type": "code",
      "execution_count": null,
      "metadata": {
        "colab": {
          "base_uri": "https://localhost:8080/"
        },
        "id": "cUf4es5YS9oM",
        "outputId": "8f09c92d-b7e8-414b-e15e-9c604cfdeba7"
      },
      "outputs": [
        {
          "output_type": "execute_result",
          "data": {
            "text/plain": [
              "0.9017857142857143"
            ]
          },
          "metadata": {},
          "execution_count": 70
        }
      ],
      "source": [
        "from sklearn.metrics import accuracy_score\n",
        "accuracy_score(y_test,y_pred)"
      ]
    },
    {
      "cell_type": "code",
      "execution_count": null,
      "metadata": {
        "colab": {
          "base_uri": "https://localhost:8080/"
        },
        "id": "zq_Rjn8mTATu",
        "outputId": "15747a1e-5295-43b5-e82a-ba2255a749e1"
      },
      "outputs": [
        {
          "output_type": "stream",
          "name": "stdout",
          "text": [
            "              precision    recall  f1-score   support\n",
            "\n",
            "           0       0.90      0.91      0.91        58\n",
            "           1       0.91      0.89      0.90        54\n",
            "\n",
            "    accuracy                           0.90       112\n",
            "   macro avg       0.90      0.90      0.90       112\n",
            "weighted avg       0.90      0.90      0.90       112\n",
            "\n"
          ]
        }
      ],
      "source": [
        "from sklearn.metrics import classification_report\n",
        "print(classification_report(y_test, y_pred))"
      ]
    },
    {
      "cell_type": "code",
      "execution_count": null,
      "metadata": {
        "colab": {
          "base_uri": "https://localhost:8080/",
          "height": 449
        },
        "id": "bsDp4O7T7X5A",
        "outputId": "90d27dfe-a360-405a-f946-b456a5c40e2a"
      },
      "outputs": [
        {
          "output_type": "display_data",
          "data": {
            "text/plain": [
              "<Figure size 640x480 with 2 Axes>"
            ],
            "image/png": "[encoded data removed]"
          },
          "metadata": {}
        }
      ],
      "source": [
        "from sklearn import metrics\n",
        "actual = np.random.binomial(1,.9,size = 1000)\n",
        "predicted = np.random.binomial(1,.9,size = 1000)\n",
        "confusion_matrix = metrics.confusion_matrix(y_test,y_pred)\n",
        "cm_display = metrics.ConfusionMatrixDisplay(confusion_matrix = confusion_matrix, display_labels = [0,1])\n",
        "cm_display.plot()\n",
        "plt.show()"
      ]
    },
    {
      "cell_type": "code",
      "execution_count": null,
      "metadata": {
        "id": "uLOQRp5gUwwi"
      },
      "outputs": [],
      "source": [
        "from sklearn.ensemble import RandomForestClassifier"
      ]
    },
    {
      "cell_type": "code",
      "execution_count": null,
      "metadata": {
        "id": "vC79c_cQVqC-"
      },
      "outputs": [],
      "source": [
        "rf = RandomForestClassifier(random_state=4219)"
      ]
    },
    {
      "cell_type": "code",
      "execution_count": null,
      "metadata": {
        "colab": {
          "base_uri": "https://localhost:8080/",
          "height": 74
        },
        "id": "f1ivaWrvVrX-",
        "outputId": "eba7915e-3db1-48ff-9722-a6ef21eeada5"
      },
      "outputs": [
        {
          "output_type": "execute_result",
          "data": {
            "text/plain": [
              "RandomForestClassifier(random_state=4219)"
            ],
            "text/html": [
              "<style>#sk-container-id-2 {color: black;background-color: white;}#sk-container-id-2 pre{padding: 0;}#sk-container-id-2 div.sk-toggleable {background-color: white;}#sk-container-id-2 label.sk-toggleable__label {cursor: pointer;display: block;width: 100%;margin-bottom: 0;padding: 0.3em;box-sizing: border-box;text-align: center;}#sk-container-id-2 label.sk-toggleable__label-arrow:before {content: \"▸\";float: left;margin-right: 0.25em;color: #696969;}#sk-container-id-2 label.sk-toggleable__label-arrow:hover:before {color: black;}#sk-container-id-2 div.sk-estimator:hover label.sk-toggleable__label-arrow:before {color: black;}#sk-container-id-2 div.sk-toggleable__content {max-height: 0;max-width: 0;overflow: hidden;text-align: left;background-color: #f0f8ff;}#sk-container-id-2 div.sk-toggleable__content pre {margin: 0.2em;color: black;border-radius: 0.25em;background-color: #f0f8ff;}#sk-container-id-2 input.sk-toggleable__control:checked~div.sk-toggleable__content {max-height: 200px;max-width: 100%;overflow: auto;}#sk-container-id-2 input.sk-toggleable__control:checked~label.sk-toggleable__label-arrow:before {content: \"▾\";}#sk-container-id-2 div.sk-estimator input.sk-toggleable__control:checked~label.sk-toggleable__label {background-color: #d4ebff;}#sk-container-id-2 div.sk-label input.sk-toggleable__control:checked~label.sk-toggleable__label {background-color: #d4ebff;}#sk-container-id-2 input.sk-hidden--visually {border: 0;clip: rect(1px 1px 1px 1px);clip: rect(1px, 1px, 1px, 1px);height: 1px;margin: -1px;overflow: hidden;padding: 0;position: absolute;width: 1px;}#sk-container-id-2 div.sk-estimator {font-family: monospace;background-color: #f0f8ff;border: 1px dotted black;border-radius: 0.25em;box-sizing: border-box;margin-bottom: 0.5em;}#sk-container-id-2 div.sk-estimator:hover {background-color: #d4ebff;}#sk-container-id-2 div.sk-parallel-item::after {content: \"\";width: 100%;border-bottom: 1px solid gray;flex-grow: 1;}#sk-container-id-2 div.sk-label:hover label.sk-toggleable__label {background-color: #d4ebff;}#sk-container-id-2 div.sk-serial::before {content: \"\";position: absolute;border-left: 1px solid gray;box-sizing: border-box;top: 0;bottom: 0;left: 50%;z-index: 0;}#sk-container-id-2 div.sk-serial {display: flex;flex-direction: column;align-items: center;background-color: white;padding-right: 0.2em;padding-left: 0.2em;position: relative;}#sk-container-id-2 div.sk-item {position: relative;z-index: 1;}#sk-container-id-2 div.sk-parallel {display: flex;align-items: stretch;justify-content: center;background-color: white;position: relative;}#sk-container-id-2 div.sk-item::before, #sk-container-id-2 div.sk-parallel-item::before {content: \"\";position: absolute;border-left: 1px solid gray;box-sizing: border-box;top: 0;bottom: 0;left: 50%;z-index: -1;}#sk-container-id-2 div.sk-parallel-item {display: flex;flex-direction: column;z-index: 1;position: relative;background-color: white;}#sk-container-id-2 div.sk-parallel-item:first-child::after {align-self: flex-end;width: 50%;}#sk-container-id-2 div.sk-parallel-item:last-child::after {align-self: flex-start;width: 50%;}#sk-container-id-2 div.sk-parallel-item:only-child::after {width: 0;}#sk-container-id-2 div.sk-dashed-wrapped {border: 1px dashed gray;margin: 0 0.4em 0.5em 0.4em;box-sizing: border-box;padding-bottom: 0.4em;background-color: white;}#sk-container-id-2 div.sk-label label {font-family: monospace;font-weight: bold;display: inline-block;line-height: 1.2em;}#sk-container-id-2 div.sk-label-container {text-align: center;}#sk-container-id-2 div.sk-container {/* jupyter's `normalize.less` sets `[hidden] { display: none; }` but bootstrap.min.css set `[hidden] { display: none !important; }` so we also need the `!important` here to be able to override the default hidden behavior on the sphinx rendered scikit-learn.org. See: https://github.com/scikit-learn/scikit-learn/issues/21755 */display: inline-block !important;position: relative;}#sk-container-id-2 div.sk-text-repr-fallback {display: none;}</style><div id=\"sk-container-id-2\" class=\"sk-top-container\"><div class=\"sk-text-repr-fallback\"><pre>RandomForestClassifier(random_state=4219)</pre><b>In a Jupyter environment, please rerun this cell to show the HTML representation or trust the notebook. <br />On GitHub, the HTML representation is unable to render, please try loading this page with nbviewer.org.</b></div><div class=\"sk-container\" hidden><div class=\"sk-item\"><div class=\"sk-estimator sk-toggleable\"><input class=\"sk-toggleable__control sk-hidden--visually\" id=\"sk-estimator-id-2\" type=\"checkbox\" checked><label for=\"sk-estimator-id-2\" class=\"sk-toggleable__label sk-toggleable__label-arrow\">RandomForestClassifier</label><div class=\"sk-toggleable__content\"><pre>RandomForestClassifier(random_state=4219)</pre></div></div></div></div></div>"
            ]
          },
          "metadata": {},
          "execution_count": 75
        }
      ],
      "source": [
        "rf.fit(X_train,y_train)"
      ]
    },
    {
      "cell_type": "code",
      "execution_count": null,
      "metadata": {
        "id": "0i4qRY2pVsyi"
      },
      "outputs": [],
      "source": [
        "y_pred2 = rf.predict(X_test)"
      ]
    },
    {
      "cell_type": "code",
      "execution_count": null,
      "metadata": {
        "colab": {
          "base_uri": "https://localhost:8080/"
        },
        "id": "ERDwoH3mVzin",
        "outputId": "bb06eb86-e61e-44ba-9d37-dad9df1f0659"
      },
      "outputs": [
        {
          "output_type": "execute_result",
          "data": {
            "text/plain": [
              "0.9464285714285714"
            ]
          },
          "metadata": {},
          "execution_count": 77
        }
      ],
      "source": [
        "accuracy_score(y_test,y_pred2)"
      ]
    },
    {
      "cell_type": "code",
      "execution_count": null,
      "metadata": {
        "colab": {
          "base_uri": "https://localhost:8080/"
        },
        "id": "vZMuarnmV3Ys",
        "outputId": "fadf7c2d-6387-42d4-c7d4-35d47ae526d4"
      },
      "outputs": [
        {
          "output_type": "stream",
          "name": "stdout",
          "text": [
            "              precision    recall  f1-score   support\n",
            "\n",
            "           0       0.96      0.93      0.95        58\n",
            "           1       0.93      0.96      0.95        54\n",
            "\n",
            "    accuracy                           0.95       112\n",
            "   macro avg       0.95      0.95      0.95       112\n",
            "weighted avg       0.95      0.95      0.95       112\n",
            "\n"
          ]
        }
      ],
      "source": [
        "print(classification_report(y_test, y_pred2))"
      ]
    },
    {
      "cell_type": "code",
      "execution_count": null,
      "metadata": {
        "colab": {
          "base_uri": "https://localhost:8080/",
          "height": 449
        },
        "id": "b0XDVbuW7gsN",
        "outputId": "7c9fe193-050b-4e1a-b46c-46041b471504"
      },
      "outputs": [
        {
          "output_type": "display_data",
          "data": {
            "text/plain": [
              "<Figure size 640x480 with 2 Axes>"
            ],
            "image/png": "[encoded data removed]"
          },
          "metadata": {}
        }
      ],
      "source": [
        "from sklearn import metrics\n",
        "actual = np.random.binomial(1,.9,size = 1000)\n",
        "predicted = np.random.binomial(1,.9,size = 1000)\n",
        "confusion_matrix = metrics.confusion_matrix(y_test,y_pred)\n",
        "cm_display = metrics.ConfusionMatrixDisplay(confusion_matrix = confusion_matrix, display_labels = [0,1])\n",
        "cm_display.plot()\n",
        "plt.show()"
      ]
    },
    {
      "cell_type": "code",
      "execution_count": null,
      "metadata": {
        "colab": {
          "base_uri": "https://localhost:8080/",
          "height": 423
        },
        "id": "S--Np97RECQ7",
        "outputId": "3ca99868-9a76-4f82-ace9-c0ad9f9f9ad5"
      },
      "outputs": [
        {
          "output_type": "execute_result",
          "data": {
            "text/plain": [
              "     y_test  y_pred\n",
              "453       1       1\n",
              "341       1       1\n",
              "177       0       0\n",
              "86        0       0\n",
              "332       1       1\n",
              "..      ...     ...\n",
              "88        0       0\n",
              "235       0       0\n",
              "352       1       1\n",
              "33        0       0\n",
              "404       1       1\n",
              "\n",
              "[112 rows x 2 columns]"
            ],
            "text/html": [
              "\n",
              "\n",
              "  <div id=\"df-eb97002c-6732-4480-9904-11a5a24dc030\">\n",
              "    <div class=\"colab-df-container\">\n",
              "      <div>\n",
              "<style scoped>\n",
              "    .dataframe tbody tr th:only-of-type {\n",
              "        vertical-align: middle;\n",
              "    }\n",
              "\n",
              "    .dataframe tbody tr th {\n",
              "        vertical-align: top;\n",
              "    }\n",
              "\n",
              "    .dataframe thead th {\n",
              "        text-align: right;\n",
              "    }\n",
              "</style>\n",
              "<table border=\"1\" class=\"dataframe\">\n",
              "  <thead>\n",
              "    <tr style=\"text-align: right;\">\n",
              "      <th></th>\n",
              "      <th>y_test</th>\n",
              "      <th>y_pred</th>\n",
              "    </tr>\n",
              "  </thead>\n",
              "  <tbody>\n",
              "    <tr>\n",
              "      <th>453</th>\n",
              "      <td>1</td>\n",
              "      <td>1</td>\n",
              "    </tr>\n",
              "    <tr>\n",
              "      <th>341</th>\n",
              "      <td>1</td>\n",
              "      <td>1</td>\n",
              "    </tr>\n",
              "    <tr>\n",
              "      <th>177</th>\n",
              "      <td>0</td>\n",
              "      <td>0</td>\n",
              "    </tr>\n",
              "    <tr>\n",
              "      <th>86</th>\n",
              "      <td>0</td>\n",
              "      <td>0</td>\n",
              "    </tr>\n",
              "    <tr>\n",
              "      <th>332</th>\n",
              "      <td>1</td>\n",
              "      <td>1</td>\n",
              "    </tr>\n",
              "    <tr>\n",
              "      <th>...</th>\n",
              "      <td>...</td>\n",
              "      <td>...</td>\n",
              "    </tr>\n",
              "    <tr>\n",
              "      <th>88</th>\n",
              "      <td>0</td>\n",
              "      <td>0</td>\n",
              "    </tr>\n",
              "    <tr>\n",
              "      <th>235</th>\n",
              "      <td>0</td>\n",
              "      <td>0</td>\n",
              "    </tr>\n",
              "    <tr>\n",
              "      <th>352</th>\n",
              "      <td>1</td>\n",
              "      <td>1</td>\n",
              "    </tr>\n",
              "    <tr>\n",
              "      <th>33</th>\n",
              "      <td>0</td>\n",
              "      <td>0</td>\n",
              "    </tr>\n",
              "    <tr>\n",
              "      <th>404</th>\n",
              "      <td>1</td>\n",
              "      <td>1</td>\n",
              "    </tr>\n",
              "  </tbody>\n",
              "</table>\n",
              "<p>112 rows × 2 columns</p>\n",
              "</div>\n",
              "      <button class=\"colab-df-convert\" onclick=\"convertToInteractive('df-eb97002c-6732-4480-9904-11a5a24dc030')\"\n",
              "              title=\"Convert this dataframe to an interactive table.\"\n",
              "              style=\"display:none;\">\n",
              "\n",
              "  <svg xmlns=\"http://www.w3.org/2000/svg\" height=\"24px\"viewBox=\"0 0 24 24\"\n",
              "       width=\"24px\">\n",
              "    <path d=\"M0 0h24v24H0V0z\" fill=\"none\"/>\n",
              "    <path d=\"M18.56 5.44l.94 2.06.94-2.06 2.06-.94-2.06-.94-.94-2.06-.94 2.06-2.06.94zm-11 1L8.5 8.5l.94-2.06 2.06-.94-2.06-.94L8.5 2.5l-.94 2.06-2.06.94zm10 10l.94 2.06.94-2.06 2.06-.94-2.06-.94-.94-2.06-.94 2.06-2.06.94z\"/><path d=\"M17.41 7.96l-1.37-1.37c-.4-.4-.92-.59-1.43-.59-.52 0-1.04.2-1.43.59L10.3 9.45l-7.72 7.72c-.78.78-.78 2.05 0 2.83L4 21.41c.39.39.9.59 1.41.59.51 0 1.02-.2 1.41-.59l7.78-7.78 2.81-2.81c.8-.78.8-2.07 0-2.86zM5.41 20L4 18.59l7.72-7.72 1.47 1.35L5.41 20z\"/>\n",
              "  </svg>\n",
              "      </button>\n",
              "\n",
              "\n",
              "\n",
              "    <div id=\"df-e54c308e-77ad-4fd3-a8c4-6be77ec60b22\">\n",
              "      <button class=\"colab-df-quickchart\" onclick=\"quickchart('df-e54c308e-77ad-4fd3-a8c4-6be77ec60b22')\"\n",
              "              title=\"Suggest charts.\"\n",
              "              style=\"display:none;\">\n",
              "\n",
              "<svg xmlns=\"http://www.w3.org/2000/svg\" height=\"24px\"viewBox=\"0 0 24 24\"\n",
              "     width=\"24px\">\n",
              "    <g>\n",
              "        <path d=\"M19 3H5c-1.1 0-2 .9-2 2v14c0 1.1.9 2 2 2h14c1.1 0 2-.9 2-2V5c0-1.1-.9-2-2-2zM9 17H7v-7h2v7zm4 0h-2V7h2v10zm4 0h-2v-4h2v4z\"/>\n",
              "    </g>\n",
              "</svg>\n",
              "      </button>\n",
              "    </div>\n",
              "\n",
              "<style>\n",
              "  .colab-df-quickchart {\n",
              "    background-color: #E8F0FE;\n",
              "    border: none;\n",
              "    border-radius: 50%;\n",
              "    cursor: pointer;\n",
              "    display: none;\n",
              "    fill: #1967D2;\n",
              "    height: 32px;\n",
              "    padding: 0 0 0 0;\n",
              "    width: 32px;\n",
              "  }\n",
              "\n",
              "  .colab-df-quickchart:hover {\n",
              "    background-color: #E2EBFA;\n",
              "    box-shadow: 0px 1px 2px rgba(60, 64, 67, 0.3), 0px 1px 3px 1px rgba(60, 64, 67, 0.15);\n",
              "    fill: #174EA6;\n",
              "  }\n",
              "\n",
              "  [theme=dark] .colab-df-quickchart {\n",
              "    background-color: #3B4455;\n",
              "    fill: #D2E3FC;\n",
              "  }\n",
              "\n",
              "  [theme=dark] .colab-df-quickchart:hover {\n",
              "    background-color: #434B5C;\n",
              "    box-shadow: 0px 1px 3px 1px rgba(0, 0, 0, 0.15);\n",
              "    filter: drop-shadow(0px 1px 2px rgba(0, 0, 0, 0.3));\n",
              "    fill: #FFFFFF;\n",
              "  }\n",
              "</style>\n",
              "\n",
              "    <script>\n",
              "      async function quickchart(key) {\n",
              "        const containerElement = document.querySelector('#' + key);\n",
              "        const charts = await google.colab.kernel.invokeFunction(\n",
              "            'suggestCharts', [key], {});\n",
              "      }\n",
              "    </script>\n",
              "\n",
              "      <script>\n",
              "\n",
              "function displayQuickchartButton(domScope) {\n",
              "  let quickchartButtonEl =\n",
              "    domScope.querySelector('#df-e54c308e-77ad-4fd3-a8c4-6be77ec60b22 button.colab-df-quickchart');\n",
              "  quickchartButtonEl.style.display =\n",
              "    google.colab.kernel.accessAllowed ? 'block' : 'none';\n",
              "}\n",
              "\n",
              "        displayQuickchartButton(document);\n",
              "      </script>\n",
              "      <style>\n",
              "    .colab-df-container {\n",
              "      display:flex;\n",
              "      flex-wrap:wrap;\n",
              "      gap: 12px;\n",
              "    }\n",
              "\n",
              "    .colab-df-convert {\n",
              "      background-color: #E8F0FE;\n",
              "      border: none;\n",
              "      border-radius: 50%;\n",
              "      cursor: pointer;\n",
              "      display: none;\n",
              "      fill: #1967D2;\n",
              "      height: 32px;\n",
              "      padding: 0 0 0 0;\n",
              "      width: 32px;\n",
              "    }\n",
              "\n",
              "    .colab-df-convert:hover {\n",
              "      background-color: #E2EBFA;\n",
              "      box-shadow: 0px 1px 2px rgba(60, 64, 67, 0.3), 0px 1px 3px 1px rgba(60, 64, 67, 0.15);\n",
              "      fill: #174EA6;\n",
              "    }\n",
              "\n",
              "    [theme=dark] .colab-df-convert {\n",
              "      background-color: #3B4455;\n",
              "      fill: #D2E3FC;\n",
              "    }\n",
              "\n",
              "    [theme=dark] .colab-df-convert:hover {\n",
              "      background-color: #434B5C;\n",
              "      box-shadow: 0px 1px 3px 1px rgba(0, 0, 0, 0.15);\n",
              "      filter: drop-shadow(0px 1px 2px rgba(0, 0, 0, 0.3));\n",
              "      fill: #FFFFFF;\n",
              "    }\n",
              "  </style>\n",
              "\n",
              "      <script>\n",
              "        const buttonEl =\n",
              "          document.querySelector('#df-eb97002c-6732-4480-9904-11a5a24dc030 button.colab-df-convert');\n",
              "        buttonEl.style.display =\n",
              "          google.colab.kernel.accessAllowed ? 'block' : 'none';\n",
              "\n",
              "        async function convertToInteractive(key) {\n",
              "          const element = document.querySelector('#df-eb97002c-6732-4480-9904-11a5a24dc030');\n",
              "          const dataTable =\n",
              "            await google.colab.kernel.invokeFunction('convertToInteractive',\n",
              "                                                     [key], {});\n",
              "          if (!dataTable) return;\n",
              "\n",
              "          const docLinkHtml = 'Like what you see? Visit the ' +\n",
              "            '<a target=\"_blank\" href=https://colab.research.google.com/notebooks/data_table.ipynb>data table notebook</a>'\n",
              "            + ' to learn more about interactive tables.';\n",
              "          element.innerHTML = '';\n",
              "          dataTable['output_type'] = 'display_data';\n",
              "          await google.colab.output.renderOutput(dataTable, element);\n",
              "          const docLink = document.createElement('div');\n",
              "          docLink.innerHTML = docLinkHtml;\n",
              "          element.appendChild(docLink);\n",
              "        }\n",
              "      </script>\n",
              "    </div>\n",
              "  </div>\n"
            ]
          },
          "metadata": {},
          "execution_count": 80
        }
      ],
      "source": [
        "df=pd.DataFrame()\n",
        "df['y_test']=y_test\n",
        "df['y_pred']=y_pred2\n",
        "df"
      ]
    },
    {
      "cell_type": "code",
      "execution_count": null,
      "metadata": {
        "id": "awIEEbogXSR1"
      },
      "outputs": [],
      "source": [
        "from sklearn.tree import DecisionTreeClassifier"
      ]
    },
    {
      "cell_type": "code",
      "execution_count": null,
      "metadata": {
        "id": "1hGGlciudBhR"
      },
      "outputs": [],
      "source": [
        "dt = DecisionTreeClassifier()"
      ]
    },
    {
      "cell_type": "code",
      "execution_count": null,
      "metadata": {
        "colab": {
          "base_uri": "https://localhost:8080/",
          "height": 74
        },
        "id": "NLLwqjfYdCz9",
        "outputId": "64c33576-c6b9-46a9-8dbb-44595df39ce0"
      },
      "outputs": [
        {
          "output_type": "execute_result",
          "data": {
            "text/plain": [
              "DecisionTreeClassifier()"
            ],
            "text/html": [
              "<style>#sk-container-id-3 {color: black;background-color: white;}#sk-container-id-3 pre{padding: 0;}#sk-container-id-3 div.sk-toggleable {background-color: white;}#sk-container-id-3 label.sk-toggleable__label {cursor: pointer;display: block;width: 100%;margin-bottom: 0;padding: 0.3em;box-sizing: border-box;text-align: center;}#sk-container-id-3 label.sk-toggleable__label-arrow:before {content: \"▸\";float: left;margin-right: 0.25em;color: #696969;}#sk-container-id-3 label.sk-toggleable__label-arrow:hover:before {color: black;}#sk-container-id-3 div.sk-estimator:hover label.sk-toggleable__label-arrow:before {color: black;}#sk-container-id-3 div.sk-toggleable__content {max-height: 0;max-width: 0;overflow: hidden;text-align: left;background-color: #f0f8ff;}#sk-container-id-3 div.sk-toggleable__content pre {margin: 0.2em;color: black;border-radius: 0.25em;background-color: #f0f8ff;}#sk-container-id-3 input.sk-toggleable__control:checked~div.sk-toggleable__content {max-height: 200px;max-width: 100%;overflow: auto;}#sk-container-id-3 input.sk-toggleable__control:checked~label.sk-toggleable__label-arrow:before {content: \"▾\";}#sk-container-id-3 div.sk-estimator input.sk-toggleable__control:checked~label.sk-toggleable__label {background-color: #d4ebff;}#sk-container-id-3 div.sk-label input.sk-toggleable__control:checked~label.sk-toggleable__label {background-color: #d4ebff;}#sk-container-id-3 input.sk-hidden--visually {border: 0;clip: rect(1px 1px 1px 1px);clip: rect(1px, 1px, 1px, 1px);height: 1px;margin: -1px;overflow: hidden;padding: 0;position: absolute;width: 1px;}#sk-container-id-3 div.sk-estimator {font-family: monospace;background-color: #f0f8ff;border: 1px dotted black;border-radius: 0.25em;box-sizing: border-box;margin-bottom: 0.5em;}#sk-container-id-3 div.sk-estimator:hover {background-color: #d4ebff;}#sk-container-id-3 div.sk-parallel-item::after {content: \"\";width: 100%;border-bottom: 1px solid gray;flex-grow: 1;}#sk-container-id-3 div.sk-label:hover label.sk-toggleable__label {background-color: #d4ebff;}#sk-container-id-3 div.sk-serial::before {content: \"\";position: absolute;border-left: 1px solid gray;box-sizing: border-box;top: 0;bottom: 0;left: 50%;z-index: 0;}#sk-container-id-3 div.sk-serial {display: flex;flex-direction: column;align-items: center;background-color: white;padding-right: 0.2em;padding-left: 0.2em;position: relative;}#sk-container-id-3 div.sk-item {position: relative;z-index: 1;}#sk-container-id-3 div.sk-parallel {display: flex;align-items: stretch;justify-content: center;background-color: white;position: relative;}#sk-container-id-3 div.sk-item::before, #sk-container-id-3 div.sk-parallel-item::before {content: \"\";position: absolute;border-left: 1px solid gray;box-sizing: border-box;top: 0;bottom: 0;left: 50%;z-index: -1;}#sk-container-id-3 div.sk-parallel-item {display: flex;flex-direction: column;z-index: 1;position: relative;background-color: white;}#sk-container-id-3 div.sk-parallel-item:first-child::after {align-self: flex-end;width: 50%;}#sk-container-id-3 div.sk-parallel-item:last-child::after {align-self: flex-start;width: 50%;}#sk-container-id-3 div.sk-parallel-item:only-child::after {width: 0;}#sk-container-id-3 div.sk-dashed-wrapped {border: 1px dashed gray;margin: 0 0.4em 0.5em 0.4em;box-sizing: border-box;padding-bottom: 0.4em;background-color: white;}#sk-container-id-3 div.sk-label label {font-family: monospace;font-weight: bold;display: inline-block;line-height: 1.2em;}#sk-container-id-3 div.sk-label-container {text-align: center;}#sk-container-id-3 div.sk-container {/* jupyter's `normalize.less` sets `[hidden] { display: none; }` but bootstrap.min.css set `[hidden] { display: none !important; }` so we also need the `!important` here to be able to override the default hidden behavior on the sphinx rendered scikit-learn.org. See: https://github.com/scikit-learn/scikit-learn/issues/21755 */display: inline-block !important;position: relative;}#sk-container-id-3 div.sk-text-repr-fallback {display: none;}</style><div id=\"sk-container-id-3\" class=\"sk-top-container\"><div class=\"sk-text-repr-fallback\"><pre>DecisionTreeClassifier()</pre><b>In a Jupyter environment, please rerun this cell to show the HTML representation or trust the notebook. <br />On GitHub, the HTML representation is unable to render, please try loading this page with nbviewer.org.</b></div><div class=\"sk-container\" hidden><div class=\"sk-item\"><div class=\"sk-estimator sk-toggleable\"><input class=\"sk-toggleable__control sk-hidden--visually\" id=\"sk-estimator-id-3\" type=\"checkbox\" checked><label for=\"sk-estimator-id-3\" class=\"sk-toggleable__label sk-toggleable__label-arrow\">DecisionTreeClassifier</label><div class=\"sk-toggleable__content\"><pre>DecisionTreeClassifier()</pre></div></div></div></div></div>"
            ]
          },
          "metadata": {},
          "execution_count": 83
        }
      ],
      "source": [
        "dt.fit(X_train,y_train)"
      ]
    },
    {
      "cell_type": "code",
      "execution_count": null,
      "metadata": {
        "id": "drLvJiWIdIL2"
      },
      "outputs": [],
      "source": [
        "y_pred3 = dt.predict(X_test)"
      ]
    },
    {
      "cell_type": "code",
      "execution_count": null,
      "metadata": {
        "colab": {
          "base_uri": "https://localhost:8080/"
        },
        "id": "d1fGMXzidIIb",
        "outputId": "a0c12919-d2e2-4120-d84c-c1f784d53af5"
      },
      "outputs": [
        {
          "output_type": "execute_result",
          "data": {
            "text/plain": [
              "0.9375"
            ]
          },
          "metadata": {},
          "execution_count": 85
        }
      ],
      "source": [
        "accuracy_score(y_test,y_pred3)"
      ]
    },
    {
      "cell_type": "code",
      "execution_count": null,
      "metadata": {
        "colab": {
          "base_uri": "https://localhost:8080/",
          "height": 449
        },
        "id": "OmTWM22-qUFr",
        "outputId": "269326d8-4c15-4b98-97dd-94451ca940a8"
      },
      "outputs": [
        {
          "output_type": "display_data",
          "data": {
            "text/plain": [
              "<Figure size 640x480 with 2 Axes>"
            ],
            "image/png": "[encoded data removed]"
          },
          "metadata": {}
        }
      ],
      "source": [
        "from sklearn import metrics\n",
        "actual = np.random.binomial(1,.9,size = 1000)\n",
        "predicted = np.random.binomial(1,.9,size = 1000)\n",
        "confusion_matrix = metrics.confusion_matrix(y_test,y_pred)\n",
        "cm_display = metrics.ConfusionMatrixDisplay(confusion_matrix = confusion_matrix, display_labels = [0,1])\n",
        "cm_display.plot()\n",
        "plt.show()"
      ]
    },
    {
      "cell_type": "code",
      "execution_count": null,
      "metadata": {
        "id": "Euz3i0NP7qhL"
      },
      "outputs": [],
      "source": [
        "from sklearn.ensemble import GradientBoostingClassifier"
      ]
    },
    {
      "cell_type": "code",
      "execution_count": null,
      "metadata": {
        "id": "7ZSLCu9q7ufq"
      },
      "outputs": [],
      "source": [
        "gbc = GradientBoostingClassifier()"
      ]
    },
    {
      "cell_type": "code",
      "execution_count": null,
      "metadata": {
        "colab": {
          "base_uri": "https://localhost:8080/",
          "height": 74
        },
        "id": "jDZAh8Lr7v5H",
        "outputId": "165eabd9-9f20-42cf-ca33-da4f9d7e1690"
      },
      "outputs": [
        {
          "output_type": "execute_result",
          "data": {
            "text/plain": [
              "GradientBoostingClassifier()"
            ],
            "text/html": [
              "<style>#sk-container-id-4 {color: black;background-color: white;}#sk-container-id-4 pre{padding: 0;}#sk-container-id-4 div.sk-toggleable {background-color: white;}#sk-container-id-4 label.sk-toggleable__label {cursor: pointer;display: block;width: 100%;margin-bottom: 0;padding: 0.3em;box-sizing: border-box;text-align: center;}#sk-container-id-4 label.sk-toggleable__label-arrow:before {content: \"▸\";float: left;margin-right: 0.25em;color: #696969;}#sk-container-id-4 label.sk-toggleable__label-arrow:hover:before {color: black;}#sk-container-id-4 div.sk-estimator:hover label.sk-toggleable__label-arrow:before {color: black;}#sk-container-id-4 div.sk-toggleable__content {max-height: 0;max-width: 0;overflow: hidden;text-align: left;background-color: #f0f8ff;}#sk-container-id-4 div.sk-toggleable__content pre {margin: 0.2em;color: black;border-radius: 0.25em;background-color: #f0f8ff;}#sk-container-id-4 input.sk-toggleable__control:checked~div.sk-toggleable__content {max-height: 200px;max-width: 100%;overflow: auto;}#sk-container-id-4 input.sk-toggleable__control:checked~label.sk-toggleable__label-arrow:before {content: \"▾\";}#sk-container-id-4 div.sk-estimator input.sk-toggleable__control:checked~label.sk-toggleable__label {background-color: #d4ebff;}#sk-container-id-4 div.sk-label input.sk-toggleable__control:checked~label.sk-toggleable__label {background-color: #d4ebff;}#sk-container-id-4 input.sk-hidden--visually {border: 0;clip: rect(1px 1px 1px 1px);clip: rect(1px, 1px, 1px, 1px);height: 1px;margin: -1px;overflow: hidden;padding: 0;position: absolute;width: 1px;}#sk-container-id-4 div.sk-estimator {font-family: monospace;background-color: #f0f8ff;border: 1px dotted black;border-radius: 0.25em;box-sizing: border-box;margin-bottom: 0.5em;}#sk-container-id-4 div.sk-estimator:hover {background-color: #d4ebff;}#sk-container-id-4 div.sk-parallel-item::after {content: \"\";width: 100%;border-bottom: 1px solid gray;flex-grow: 1;}#sk-container-id-4 div.sk-label:hover label.sk-toggleable__label {background-color: #d4ebff;}#sk-container-id-4 div.sk-serial::before {content: \"\";position: absolute;border-left: 1px solid gray;box-sizing: border-box;top: 0;bottom: 0;left: 50%;z-index: 0;}#sk-container-id-4 div.sk-serial {display: flex;flex-direction: column;align-items: center;background-color: white;padding-right: 0.2em;padding-left: 0.2em;position: relative;}#sk-container-id-4 div.sk-item {position: relative;z-index: 1;}#sk-container-id-4 div.sk-parallel {display: flex;align-items: stretch;justify-content: center;background-color: white;position: relative;}#sk-container-id-4 div.sk-item::before, #sk-container-id-4 div.sk-parallel-item::before {content: \"\";position: absolute;border-left: 1px solid gray;box-sizing: border-box;top: 0;bottom: 0;left: 50%;z-index: -1;}#sk-container-id-4 div.sk-parallel-item {display: flex;flex-direction: column;z-index: 1;position: relative;background-color: white;}#sk-container-id-4 div.sk-parallel-item:first-child::after {align-self: flex-end;width: 50%;}#sk-container-id-4 div.sk-parallel-item:last-child::after {align-self: flex-start;width: 50%;}#sk-container-id-4 div.sk-parallel-item:only-child::after {width: 0;}#sk-container-id-4 div.sk-dashed-wrapped {border: 1px dashed gray;margin: 0 0.4em 0.5em 0.4em;box-sizing: border-box;padding-bottom: 0.4em;background-color: white;}#sk-container-id-4 div.sk-label label {font-family: monospace;font-weight: bold;display: inline-block;line-height: 1.2em;}#sk-container-id-4 div.sk-label-container {text-align: center;}#sk-container-id-4 div.sk-container {/* jupyter's `normalize.less` sets `[hidden] { display: none; }` but bootstrap.min.css set `[hidden] { display: none !important; }` so we also need the `!important` here to be able to override the default hidden behavior on the sphinx rendered scikit-learn.org. See: https://github.com/scikit-learn/scikit-learn/issues/21755 */display: inline-block !important;position: relative;}#sk-container-id-4 div.sk-text-repr-fallback {display: none;}</style><div id=\"sk-container-id-4\" class=\"sk-top-container\"><div class=\"sk-text-repr-fallback\"><pre>GradientBoostingClassifier()</pre><b>In a Jupyter environment, please rerun this cell to show the HTML representation or trust the notebook. <br />On GitHub, the HTML representation is unable to render, please try loading this page with nbviewer.org.</b></div><div class=\"sk-container\" hidden><div class=\"sk-item\"><div class=\"sk-estimator sk-toggleable\"><input class=\"sk-toggleable__control sk-hidden--visually\" id=\"sk-estimator-id-4\" type=\"checkbox\" checked><label for=\"sk-estimator-id-4\" class=\"sk-toggleable__label sk-toggleable__label-arrow\">GradientBoostingClassifier</label><div class=\"sk-toggleable__content\"><pre>GradientBoostingClassifier()</pre></div></div></div></div></div>"
            ]
          },
          "metadata": {},
          "execution_count": 89
        }
      ],
      "source": [
        "gbc.fit(X_train,y_train)"
      ]
    },
    {
      "cell_type": "code",
      "execution_count": null,
      "metadata": {
        "id": "5JqpG8gX7xOs"
      },
      "outputs": [],
      "source": [
        "y_pred4 = gbc.predict(X_test)"
      ]
    },
    {
      "cell_type": "code",
      "execution_count": null,
      "metadata": {
        "colab": {
          "base_uri": "https://localhost:8080/"
        },
        "id": "gLq8EC4x70dK",
        "outputId": "38c75750-c763-4da7-aafa-6797ca5b031a"
      },
      "outputs": [
        {
          "output_type": "execute_result",
          "data": {
            "text/plain": [
              "0.9375"
            ]
          },
          "metadata": {},
          "execution_count": 91
        }
      ],
      "source": [
        "accuracy_score(y_test,y_pred4)"
      ]
    },
    {
      "cell_type": "code",
      "execution_count": null,
      "metadata": {
        "colab": {
          "base_uri": "https://localhost:8080/"
        },
        "id": "PwKfrP3276za",
        "outputId": "5c882918-0ffd-4722-eb5b-b4d393c9cfe5"
      },
      "outputs": [
        {
          "output_type": "stream",
          "name": "stdout",
          "text": [
            "              precision    recall  f1-score   support\n",
            "\n",
            "           0       0.96      0.91      0.94        58\n",
            "           1       0.91      0.96      0.94        54\n",
            "\n",
            "    accuracy                           0.94       112\n",
            "   macro avg       0.94      0.94      0.94       112\n",
            "weighted avg       0.94      0.94      0.94       112\n",
            "\n"
          ]
        }
      ],
      "source": [
        "print(classification_report(y_test, y_pred4))"
      ]
    },
    {
      "cell_type": "code",
      "execution_count": null,
      "metadata": {
        "colab": {
          "base_uri": "https://localhost:8080/",
          "height": 449
        },
        "id": "nd3Gth5179PU",
        "outputId": "b9acfee5-a09e-4a50-aa2e-662e7c41d097"
      },
      "outputs": [
        {
          "output_type": "display_data",
          "data": {
            "text/plain": [
              "<Figure size 640x480 with 2 Axes>"
            ],
            "image/png": "[encoded data removed]"
          },
          "metadata": {}
        }
      ],
      "source": [
        "from sklearn import metrics\n",
        "actual = np.random.binomial(1,.9,size = 1000)\n",
        "predicted = np.random.binomial(1,.9,size = 1000)\n",
        "confusion_matrix = metrics.confusion_matrix(y_test,y_pred)\n",
        "cm_display = metrics.ConfusionMatrixDisplay(confusion_matrix = confusion_matrix, display_labels = [0,1])\n",
        "cm_display.plot()\n",
        "plt.show()"
      ]
    },
    {
      "cell_type": "code",
      "execution_count": null,
      "metadata": {
        "id": "8rJ_P8A67_iM"
      },
      "outputs": [],
      "source": [
        "from sklearn.naive_bayes import GaussianNB"
      ]
    },
    {
      "cell_type": "code",
      "execution_count": null,
      "metadata": {
        "id": "gF2g61F78FUo"
      },
      "outputs": [],
      "source": [
        "nb = GaussianNB()"
      ]
    },
    {
      "cell_type": "code",
      "execution_count": null,
      "metadata": {
        "colab": {
          "base_uri": "https://localhost:8080/",
          "height": 74
        },
        "id": "yU97VQAW8PNI",
        "outputId": "56ded65a-668e-4a5d-d735-c76364c5e077"
      },
      "outputs": [
        {
          "output_type": "execute_result",
          "data": {
            "text/plain": [
              "GaussianNB()"
            ],
            "text/html": [
              "<style>#sk-container-id-5 {color: black;background-color: white;}#sk-container-id-5 pre{padding: 0;}#sk-container-id-5 div.sk-toggleable {background-color: white;}#sk-container-id-5 label.sk-toggleable__label {cursor: pointer;display: block;width: 100%;margin-bottom: 0;padding: 0.3em;box-sizing: border-box;text-align: center;}#sk-container-id-5 label.sk-toggleable__label-arrow:before {content: \"▸\";float: left;margin-right: 0.25em;color: #696969;}#sk-container-id-5 label.sk-toggleable__label-arrow:hover:before {color: black;}#sk-container-id-5 div.sk-estimator:hover label.sk-toggleable__label-arrow:before {color: black;}#sk-container-id-5 div.sk-toggleable__content {max-height: 0;max-width: 0;overflow: hidden;text-align: left;background-color: #f0f8ff;}#sk-container-id-5 div.sk-toggleable__content pre {margin: 0.2em;color: black;border-radius: 0.25em;background-color: #f0f8ff;}#sk-container-id-5 input.sk-toggleable__control:checked~div.sk-toggleable__content {max-height: 200px;max-width: 100%;overflow: auto;}#sk-container-id-5 input.sk-toggleable__control:checked~label.sk-toggleable__label-arrow:before {content: \"▾\";}#sk-container-id-5 div.sk-estimator input.sk-toggleable__control:checked~label.sk-toggleable__label {background-color: #d4ebff;}#sk-container-id-5 div.sk-label input.sk-toggleable__control:checked~label.sk-toggleable__label {background-color: #d4ebff;}#sk-container-id-5 input.sk-hidden--visually {border: 0;clip: rect(1px 1px 1px 1px);clip: rect(1px, 1px, 1px, 1px);height: 1px;margin: -1px;overflow: hidden;padding: 0;position: absolute;width: 1px;}#sk-container-id-5 div.sk-estimator {font-family: monospace;background-color: #f0f8ff;border: 1px dotted black;border-radius: 0.25em;box-sizing: border-box;margin-bottom: 0.5em;}#sk-container-id-5 div.sk-estimator:hover {background-color: #d4ebff;}#sk-container-id-5 div.sk-parallel-item::after {content: \"\";width: 100%;border-bottom: 1px solid gray;flex-grow: 1;}#sk-container-id-5 div.sk-label:hover label.sk-toggleable__label {background-color: #d4ebff;}#sk-container-id-5 div.sk-serial::before {content: \"\";position: absolute;border-left: 1px solid gray;box-sizing: border-box;top: 0;bottom: 0;left: 50%;z-index: 0;}#sk-container-id-5 div.sk-serial {display: flex;flex-direction: column;align-items: center;background-color: white;padding-right: 0.2em;padding-left: 0.2em;position: relative;}#sk-container-id-5 div.sk-item {position: relative;z-index: 1;}#sk-container-id-5 div.sk-parallel {display: flex;align-items: stretch;justify-content: center;background-color: white;position: relative;}#sk-container-id-5 div.sk-item::before, #sk-container-id-5 div.sk-parallel-item::before {content: \"\";position: absolute;border-left: 1px solid gray;box-sizing: border-box;top: 0;bottom: 0;left: 50%;z-index: -1;}#sk-container-id-5 div.sk-parallel-item {display: flex;flex-direction: column;z-index: 1;position: relative;background-color: white;}#sk-container-id-5 div.sk-parallel-item:first-child::after {align-self: flex-end;width: 50%;}#sk-container-id-5 div.sk-parallel-item:last-child::after {align-self: flex-start;width: 50%;}#sk-container-id-5 div.sk-parallel-item:only-child::after {width: 0;}#sk-container-id-5 div.sk-dashed-wrapped {border: 1px dashed gray;margin: 0 0.4em 0.5em 0.4em;box-sizing: border-box;padding-bottom: 0.4em;background-color: white;}#sk-container-id-5 div.sk-label label {font-family: monospace;font-weight: bold;display: inline-block;line-height: 1.2em;}#sk-container-id-5 div.sk-label-container {text-align: center;}#sk-container-id-5 div.sk-container {/* jupyter's `normalize.less` sets `[hidden] { display: none; }` but bootstrap.min.css set `[hidden] { display: none !important; }` so we also need the `!important` here to be able to override the default hidden behavior on the sphinx rendered scikit-learn.org. See: https://github.com/scikit-learn/scikit-learn/issues/21755 */display: inline-block !important;position: relative;}#sk-container-id-5 div.sk-text-repr-fallback {display: none;}</style><div id=\"sk-container-id-5\" class=\"sk-top-container\"><div class=\"sk-text-repr-fallback\"><pre>GaussianNB()</pre><b>In a Jupyter environment, please rerun this cell to show the HTML representation or trust the notebook. <br />On GitHub, the HTML representation is unable to render, please try loading this page with nbviewer.org.</b></div><div class=\"sk-container\" hidden><div class=\"sk-item\"><div class=\"sk-estimator sk-toggleable\"><input class=\"sk-toggleable__control sk-hidden--visually\" id=\"sk-estimator-id-5\" type=\"checkbox\" checked><label for=\"sk-estimator-id-5\" class=\"sk-toggleable__label sk-toggleable__label-arrow\">GaussianNB</label><div class=\"sk-toggleable__content\"><pre>GaussianNB()</pre></div></div></div></div></div>"
            ]
          },
          "metadata": {},
          "execution_count": 96
        }
      ],
      "source": [
        "nb.fit(X_train, y_train)"
      ]
    },
    {
      "cell_type": "code",
      "execution_count": null,
      "metadata": {
        "id": "sYGlKiGT8Gns"
      },
      "outputs": [],
      "source": [
        "y_pred5 = nb.predict(X_test)"
      ]
    },
    {
      "cell_type": "code",
      "execution_count": null,
      "metadata": {
        "colab": {
          "base_uri": "https://localhost:8080/"
        },
        "id": "ub_vmBKU8KAj",
        "outputId": "6dc2650e-ab74-4f49-c299-d25782d21169"
      },
      "outputs": [
        {
          "output_type": "execute_result",
          "data": {
            "text/plain": [
              "0.9017857142857143"
            ]
          },
          "metadata": {},
          "execution_count": 98
        }
      ],
      "source": [
        "accuracy_score(y_test,y_pred5)"
      ]
    },
    {
      "cell_type": "code",
      "execution_count": null,
      "metadata": {
        "colab": {
          "base_uri": "https://localhost:8080/"
        },
        "id": "tVzjtEfp8SU9",
        "outputId": "43569bde-698c-4abc-c4a1-ce59e582d088"
      },
      "outputs": [
        {
          "output_type": "stream",
          "name": "stdout",
          "text": [
            "              precision    recall  f1-score   support\n",
            "\n",
            "           0       0.94      0.86      0.90        58\n",
            "           1       0.86      0.94      0.90        54\n",
            "\n",
            "    accuracy                           0.90       112\n",
            "   macro avg       0.90      0.90      0.90       112\n",
            "weighted avg       0.91      0.90      0.90       112\n",
            "\n"
          ]
        }
      ],
      "source": [
        "print(classification_report(y_test, y_pred5))"
      ]
    },
    {
      "cell_type": "code",
      "execution_count": null,
      "metadata": {
        "colab": {
          "base_uri": "https://localhost:8080/",
          "height": 449
        },
        "id": "NdXqIS-H8UvE",
        "outputId": "b599c55c-19b1-4360-9677-3f15894a2f13"
      },
      "outputs": [
        {
          "output_type": "display_data",
          "data": {
            "text/plain": [
              "<Figure size 640x480 with 2 Axes>"
            ],
            "image/png": "[encoded data removed]"
          },
          "metadata": {}
        }
      ],
      "source": [
        "from sklearn import metrics\n",
        "actual = np.random.binomial(1,.9,size = 1000)\n",
        "predicted = np.random.binomial(1,.9,size = 1000)\n",
        "confusion_matrix = metrics.confusion_matrix(y_test,y_pred)\n",
        "cm_display = metrics.ConfusionMatrixDisplay(confusion_matrix = confusion_matrix, display_labels = [0,1])\n",
        "cm_display.plot()\n",
        "plt.show()"
      ]
    },
    {
      "cell_type": "code",
      "execution_count": null,
      "metadata": {
        "id": "mDjGfu4Z8XOp"
      },
      "outputs": [],
      "source": [
        "from sklearn.linear_model import LogisticRegression"
      ]
    },
    {
      "cell_type": "code",
      "execution_count": null,
      "metadata": {
        "colab": {
          "base_uri": "https://localhost:8080/",
          "height": 74
        },
        "id": "B3V8Pwn98eI-",
        "outputId": "74c7fa31-4f2e-4074-f278-e63dba0bcd01"
      },
      "outputs": [
        {
          "output_type": "execute_result",
          "data": {
            "text/plain": [
              "LogisticRegression()"
            ],
            "text/html": [
              "<style>#sk-container-id-6 {color: black;background-color: white;}#sk-container-id-6 pre{padding: 0;}#sk-container-id-6 div.sk-toggleable {background-color: white;}#sk-container-id-6 label.sk-toggleable__label {cursor: pointer;display: block;width: 100%;margin-bottom: 0;padding: 0.3em;box-sizing: border-box;text-align: center;}#sk-container-id-6 label.sk-toggleable__label-arrow:before {content: \"▸\";float: left;margin-right: 0.25em;color: #696969;}#sk-container-id-6 label.sk-toggleable__label-arrow:hover:before {color: black;}#sk-container-id-6 div.sk-estimator:hover label.sk-toggleable__label-arrow:before {color: black;}#sk-container-id-6 div.sk-toggleable__content {max-height: 0;max-width: 0;overflow: hidden;text-align: left;background-color: #f0f8ff;}#sk-container-id-6 div.sk-toggleable__content pre {margin: 0.2em;color: black;border-radius: 0.25em;background-color: #f0f8ff;}#sk-container-id-6 input.sk-toggleable__control:checked~div.sk-toggleable__content {max-height: 200px;max-width: 100%;overflow: auto;}#sk-container-id-6 input.sk-toggleable__control:checked~label.sk-toggleable__label-arrow:before {content: \"▾\";}#sk-container-id-6 div.sk-estimator input.sk-toggleable__control:checked~label.sk-toggleable__label {background-color: #d4ebff;}#sk-container-id-6 div.sk-label input.sk-toggleable__control:checked~label.sk-toggleable__label {background-color: #d4ebff;}#sk-container-id-6 input.sk-hidden--visually {border: 0;clip: rect(1px 1px 1px 1px);clip: rect(1px, 1px, 1px, 1px);height: 1px;margin: -1px;overflow: hidden;padding: 0;position: absolute;width: 1px;}#sk-container-id-6 div.sk-estimator {font-family: monospace;background-color: #f0f8ff;border: 1px dotted black;border-radius: 0.25em;box-sizing: border-box;margin-bottom: 0.5em;}#sk-container-id-6 div.sk-estimator:hover {background-color: #d4ebff;}#sk-container-id-6 div.sk-parallel-item::after {content: \"\";width: 100%;border-bottom: 1px solid gray;flex-grow: 1;}#sk-container-id-6 div.sk-label:hover label.sk-toggleable__label {background-color: #d4ebff;}#sk-container-id-6 div.sk-serial::before {content: \"\";position: absolute;border-left: 1px solid gray;box-sizing: border-box;top: 0;bottom: 0;left: 50%;z-index: 0;}#sk-container-id-6 div.sk-serial {display: flex;flex-direction: column;align-items: center;background-color: white;padding-right: 0.2em;padding-left: 0.2em;position: relative;}#sk-container-id-6 div.sk-item {position: relative;z-index: 1;}#sk-container-id-6 div.sk-parallel {display: flex;align-items: stretch;justify-content: center;background-color: white;position: relative;}#sk-container-id-6 div.sk-item::before, #sk-container-id-6 div.sk-parallel-item::before {content: \"\";position: absolute;border-left: 1px solid gray;box-sizing: border-box;top: 0;bottom: 0;left: 50%;z-index: -1;}#sk-container-id-6 div.sk-parallel-item {display: flex;flex-direction: column;z-index: 1;position: relative;background-color: white;}#sk-container-id-6 div.sk-parallel-item:first-child::after {align-self: flex-end;width: 50%;}#sk-container-id-6 div.sk-parallel-item:last-child::after {align-self: flex-start;width: 50%;}#sk-container-id-6 div.sk-parallel-item:only-child::after {width: 0;}#sk-container-id-6 div.sk-dashed-wrapped {border: 1px dashed gray;margin: 0 0.4em 0.5em 0.4em;box-sizing: border-box;padding-bottom: 0.4em;background-color: white;}#sk-container-id-6 div.sk-label label {font-family: monospace;font-weight: bold;display: inline-block;line-height: 1.2em;}#sk-container-id-6 div.sk-label-container {text-align: center;}#sk-container-id-6 div.sk-container {/* jupyter's `normalize.less` sets `[hidden] { display: none; }` but bootstrap.min.css set `[hidden] { display: none !important; }` so we also need the `!important` here to be able to override the default hidden behavior on the sphinx rendered scikit-learn.org. See: https://github.com/scikit-learn/scikit-learn/issues/21755 */display: inline-block !important;position: relative;}#sk-container-id-6 div.sk-text-repr-fallback {display: none;}</style><div id=\"sk-container-id-6\" class=\"sk-top-container\"><div class=\"sk-text-repr-fallback\"><pre>LogisticRegression()</pre><b>In a Jupyter environment, please rerun this cell to show the HTML representation or trust the notebook. <br />On GitHub, the HTML representation is unable to render, please try loading this page with nbviewer.org.</b></div><div class=\"sk-container\" hidden><div class=\"sk-item\"><div class=\"sk-estimator sk-toggleable\"><input class=\"sk-toggleable__control sk-hidden--visually\" id=\"sk-estimator-id-6\" type=\"checkbox\" checked><label for=\"sk-estimator-id-6\" class=\"sk-toggleable__label sk-toggleable__label-arrow\">LogisticRegression</label><div class=\"sk-toggleable__content\"><pre>LogisticRegression()</pre></div></div></div></div></div>"
            ]
          },
          "metadata": {},
          "execution_count": 102
        }
      ],
      "source": [
        "log= LogisticRegression()\n",
        "log.fit(X_train,y_train)"
      ]
    },
    {
      "cell_type": "code",
      "execution_count": null,
      "metadata": {
        "id": "BqGnEceM8gC4"
      },
      "outputs": [],
      "source": [
        "y_pred6 = log.predict(X_test)"
      ]
    },
    {
      "cell_type": "code",
      "execution_count": null,
      "metadata": {
        "colab": {
          "base_uri": "https://localhost:8080/"
        },
        "id": "eLzJjDnz8iZx",
        "outputId": "71e4ca66-9000-41cc-b8c5-7123b236d5c2"
      },
      "outputs": [
        {
          "output_type": "execute_result",
          "data": {
            "text/plain": [
              "0.9017857142857143"
            ]
          },
          "metadata": {},
          "execution_count": 104
        }
      ],
      "source": [
        "accuracy_score(y_test,y_pred6)"
      ]
    },
    {
      "cell_type": "code",
      "execution_count": null,
      "metadata": {
        "colab": {
          "base_uri": "https://localhost:8080/"
        },
        "id": "VQu6eVuo8mIk",
        "outputId": "cac12b37-1882-4716-fa0b-fec5f151612a"
      },
      "outputs": [
        {
          "output_type": "stream",
          "name": "stdout",
          "text": [
            "              precision    recall  f1-score   support\n",
            "\n",
            "           0       0.93      0.88      0.90        58\n",
            "           1       0.88      0.93      0.90        54\n",
            "\n",
            "    accuracy                           0.90       112\n",
            "   macro avg       0.90      0.90      0.90       112\n",
            "weighted avg       0.90      0.90      0.90       112\n",
            "\n"
          ]
        }
      ],
      "source": [
        "print(classification_report(y_test, y_pred6))"
      ]
    },
    {
      "cell_type": "code",
      "source": [
        "from sklearn import metrics\n",
        "actual = np.random.binomial(1,.9,size = 1000)\n",
        "predicted = np.random.binomial(1,.9,size = 1000)\n",
        "confusion_matrix = metrics.confusion_matrix(y_test,y_pred)\n",
        "cm_display = metrics.ConfusionMatrixDisplay(confusion_matrix = confusion_matrix, display_labels = [0,1])\n",
        "cm_display.plot()\n",
        "plt.show()"
      ],
      "metadata": {
        "colab": {
          "base_uri": "https://localhost:8080/",
          "height": 449
        },
        "id": "F-FOi5m0zDXH",
        "outputId": "067226c7-7a10-4582-c7ac-99481409c0eb"
      },
      "execution_count": null,
      "outputs": [
        {
          "output_type": "display_data",
          "data": {
            "text/plain": [
              "<Figure size 640x480 with 2 Axes>"
            ],
            "image/png": "[encoded data removed]"
          },
          "metadata": {}
        }
      ]
    },
    {
      "cell_type": "code",
      "source": [
        "pip install catboost"
      ],
      "metadata": {
        "id": "zK6SFUqvzRi7",
        "colab": {
          "base_uri": "https://localhost:8080/"
        },
        "outputId": "c81c1246-b180-435e-9b56-98a6002cf76a"
      },
      "execution_count": null,
      "outputs": [
        {
          "output_type": "stream",
          "name": "stdout",
          "text": [
            "Collecting catboost\n",
            "  Downloading catboost-1.2-cp310-cp310-manylinux2014_x86_64.whl (98.6 MB)\n",
            "\u001b[2K     \u001b[90m━━━━━━━━━━━━━━━━━━━━━━━━━━━━━━━━━━━━━━━━\u001b[0m \u001b[32m98.6/98.6 MB\u001b[0m \u001b[31m7.8 MB/s\u001b[0m eta \u001b[36m0:00:00\u001b[0m\n",
            "\u001b[?25hRequirement already satisfied: graphviz in /usr/local/lib/python3.10/dist-packages (from catboost) (0.20.1)\n",
            "Requirement already satisfied: matplotlib in /usr/local/lib/python3.10/dist-packages (from catboost) (3.7.1)\n",
            "Requirement already satisfied: numpy>=1.16.0 in /usr/local/lib/python3.10/dist-packages (from catboost) (1.23.5)\n",
            "Requirement already satisfied: pandas>=0.24 in /usr/local/lib/python3.10/dist-packages (from catboost) (1.5.3)\n",
            "Requirement already satisfied: scipy in /usr/local/lib/python3.10/dist-packages (from catboost) (1.10.1)\n",
            "Requirement already satisfied: plotly in /usr/local/lib/python3.10/dist-packages (from catboost) (5.15.0)\n",
            "Requirement already satisfied: six in /usr/local/lib/python3.10/dist-packages (from catboost) (1.16.0)\n",
            "Requirement already satisfied: python-dateutil>=2.8.1 in /usr/local/lib/python3.10/dist-packages (from pandas>=0.24->catboost) (2.8.2)\n",
            "Requirement already satisfied: pytz>=2020.1 in /usr/local/lib/python3.10/dist-packages (from pandas>=0.24->catboost) (2023.3)\n",
            "Requirement already satisfied: contourpy>=1.0.1 in /usr/local/lib/python3.10/dist-packages (from matplotlib->catboost) (1.1.0)\n",
            "Requirement already satisfied: cycler>=0.10 in /usr/local/lib/python3.10/dist-packages (from matplotlib->catboost) (0.11.0)\n",
            "Requirement already satisfied: fonttools>=4.22.0 in /usr/local/lib/python3.10/dist-packages (from matplotlib->catboost) (4.42.0)\n",
            "Requirement already satisfied: kiwisolver>=1.0.1 in /usr/local/lib/python3.10/dist-packages (from matplotlib->catboost) (1.4.4)\n",
            "Requirement already satisfied: packaging>=20.0 in /usr/local/lib/python3.10/dist-packages (from matplotlib->catboost) (23.1)\n",
            "Requirement already satisfied: pillow>=6.2.0 in /usr/local/lib/python3.10/dist-packages (from matplotlib->catboost) (9.4.0)\n",
            "Requirement already satisfied: pyparsing>=2.3.1 in /usr/local/lib/python3.10/dist-packages (from matplotlib->catboost) (3.1.1)\n",
            "Requirement already satisfied: tenacity>=6.2.0 in /usr/local/lib/python3.10/dist-packages (from plotly->catboost) (8.2.2)\n",
            "Installing collected packages: catboost\n",
            "Successfully installed catboost-1.2\n"
          ]
        }
      ]
    },
    {
      "cell_type": "code",
      "source": [
        "from sklearn import metrics\n",
        "from catboost import CatBoostClassifier\n",
        "model = CatBoostClassifier()\n",
        "model.fit(X_train,y_train)\n",
        "y_pred = model.predict(X_test)\n",
        "y_pred_train = model.predict(X_train)\n",
        "print(metrics.classification_report(y_test,y_pred,labels=[0,1]))\n",
        "#print(\"Training accuracy\",metrics.accuracy_score(y_train_smote,y_pred_train))\n",
        "print(\"Testing accuracy:\",metrics.accuracy_score(y_test,y_pred))"
      ],
      "metadata": {
        "colab": {
          "base_uri": "https://localhost:8080/"
        },
        "id": "wZ7CHUPEr5Zt",
        "outputId": "1ea3f3bd-d531-4bc8-f1ea-2bb094209892"
      },
      "execution_count": null,
      "outputs": [
        {
          "output_type": "stream",
          "name": "stdout",
          "text": [
            "Learning rate set to 0.007312\n",
            "0:\tlearn: 0.6825547\ttotal: 51.5ms\tremaining: 51.5s\n",
            "1:\tlearn: 0.6741499\ttotal: 55.6ms\tremaining: 27.7s\n",
            "2:\tlearn: 0.6650584\ttotal: 60.9ms\tremaining: 20.2s\n",
            "3:\tlearn: 0.6549143\ttotal: 67.9ms\tremaining: 16.9s\n",
            "4:\tlearn: 0.6470319\ttotal: 77.9ms\tremaining: 15.5s\n",
            "5:\tlearn: 0.6371997\ttotal: 83.6ms\tremaining: 13.8s\n",
            "6:\tlearn: 0.6279171\ttotal: 91.2ms\tremaining: 12.9s\n",
            "7:\tlearn: 0.6187916\ttotal: 100ms\tremaining: 12.4s\n",
            "8:\tlearn: 0.6097221\ttotal: 106ms\tremaining: 11.7s\n",
            "9:\tlearn: 0.6001616\ttotal: 114ms\tremaining: 11.3s\n",
            "10:\tlearn: 0.5931376\ttotal: 119ms\tremaining: 10.7s\n",
            "11:\tlearn: 0.5857769\ttotal: 124ms\tremaining: 10.2s\n",
            "12:\tlearn: 0.5788491\ttotal: 126ms\tremaining: 9.58s\n",
            "13:\tlearn: 0.5703114\ttotal: 129ms\tremaining: 9.11s\n",
            "14:\tlearn: 0.5621903\ttotal: 134ms\tremaining: 8.82s\n",
            "15:\tlearn: 0.5540309\ttotal: 138ms\tremaining: 8.5s\n",
            "16:\tlearn: 0.5466547\ttotal: 144ms\tremaining: 8.31s\n",
            "17:\tlearn: 0.5395857\ttotal: 147ms\tremaining: 8.03s\n",
            "18:\tlearn: 0.5340368\ttotal: 150ms\tremaining: 7.77s\n",
            "19:\tlearn: 0.5279452\ttotal: 155ms\tremaining: 7.61s\n",
            "20:\tlearn: 0.5211831\ttotal: 162ms\tremaining: 7.57s\n",
            "21:\tlearn: 0.5154771\ttotal: 169ms\tremaining: 7.5s\n",
            "22:\tlearn: 0.5098467\ttotal: 174ms\tremaining: 7.4s\n",
            "23:\tlearn: 0.5043988\ttotal: 178ms\tremaining: 7.24s\n",
            "24:\tlearn: 0.4980669\ttotal: 181ms\tremaining: 7.07s\n",
            "25:\tlearn: 0.4907569\ttotal: 189ms\tremaining: 7.07s\n",
            "26:\tlearn: 0.4846829\ttotal: 196ms\tremaining: 7.06s\n",
            "27:\tlearn: 0.4792936\ttotal: 199ms\tremaining: 6.89s\n",
            "28:\tlearn: 0.4753635\ttotal: 201ms\tremaining: 6.74s\n",
            "29:\tlearn: 0.4687148\ttotal: 204ms\tremaining: 6.59s\n",
            "30:\tlearn: 0.4626309\ttotal: 211ms\tremaining: 6.58s\n",
            "31:\tlearn: 0.4563786\ttotal: 213ms\tremaining: 6.45s\n",
            "32:\tlearn: 0.4517461\ttotal: 216ms\tremaining: 6.32s\n",
            "33:\tlearn: 0.4462061\ttotal: 218ms\tremaining: 6.2s\n",
            "34:\tlearn: 0.4417629\ttotal: 222ms\tremaining: 6.11s\n",
            "35:\tlearn: 0.4359689\ttotal: 224ms\tremaining: 6s\n",
            "36:\tlearn: 0.4303455\ttotal: 227ms\tremaining: 5.9s\n",
            "37:\tlearn: 0.4251770\ttotal: 230ms\tremaining: 5.82s\n",
            "38:\tlearn: 0.4206180\ttotal: 232ms\tremaining: 5.73s\n",
            "39:\tlearn: 0.4157756\ttotal: 235ms\tremaining: 5.63s\n",
            "40:\tlearn: 0.4113521\ttotal: 237ms\tremaining: 5.55s\n",
            "41:\tlearn: 0.4068142\ttotal: 240ms\tremaining: 5.47s\n",
            "42:\tlearn: 0.4023905\ttotal: 242ms\tremaining: 5.39s\n",
            "43:\tlearn: 0.3972526\ttotal: 245ms\tremaining: 5.32s\n",
            "44:\tlearn: 0.3929109\ttotal: 247ms\tremaining: 5.24s\n",
            "45:\tlearn: 0.3888824\ttotal: 250ms\tremaining: 5.18s\n",
            "46:\tlearn: 0.3845022\ttotal: 252ms\tremaining: 5.11s\n",
            "47:\tlearn: 0.3794907\ttotal: 254ms\tremaining: 5.04s\n",
            "48:\tlearn: 0.3749855\ttotal: 257ms\tremaining: 4.98s\n",
            "49:\tlearn: 0.3706714\ttotal: 259ms\tremaining: 4.92s\n",
            "50:\tlearn: 0.3668611\ttotal: 261ms\tremaining: 4.86s\n",
            "51:\tlearn: 0.3628659\ttotal: 264ms\tremaining: 4.81s\n",
            "52:\tlearn: 0.3588769\ttotal: 266ms\tremaining: 4.76s\n",
            "53:\tlearn: 0.3542796\ttotal: 269ms\tremaining: 4.71s\n",
            "54:\tlearn: 0.3496003\ttotal: 272ms\tremaining: 4.67s\n",
            "55:\tlearn: 0.3462195\ttotal: 274ms\tremaining: 4.62s\n",
            "56:\tlearn: 0.3434104\ttotal: 277ms\tremaining: 4.58s\n",
            "57:\tlearn: 0.3406255\ttotal: 279ms\tremaining: 4.53s\n",
            "58:\tlearn: 0.3365139\ttotal: 282ms\tremaining: 4.5s\n",
            "59:\tlearn: 0.3334137\ttotal: 284ms\tremaining: 4.45s\n",
            "60:\tlearn: 0.3299020\ttotal: 287ms\tremaining: 4.42s\n",
            "61:\tlearn: 0.3266312\ttotal: 289ms\tremaining: 4.38s\n",
            "62:\tlearn: 0.3238865\ttotal: 292ms\tremaining: 4.34s\n",
            "63:\tlearn: 0.3205663\ttotal: 294ms\tremaining: 4.3s\n",
            "64:\tlearn: 0.3164765\ttotal: 297ms\tremaining: 4.27s\n",
            "65:\tlearn: 0.3131582\ttotal: 299ms\tremaining: 4.23s\n",
            "66:\tlearn: 0.3107046\ttotal: 301ms\tremaining: 4.2s\n",
            "67:\tlearn: 0.3077256\ttotal: 304ms\tremaining: 4.17s\n",
            "68:\tlearn: 0.3052820\ttotal: 307ms\tremaining: 4.15s\n",
            "69:\tlearn: 0.3022076\ttotal: 309ms\tremaining: 4.11s\n",
            "70:\tlearn: 0.2991539\ttotal: 312ms\tremaining: 4.08s\n",
            "71:\tlearn: 0.2972529\ttotal: 314ms\tremaining: 4.05s\n",
            "72:\tlearn: 0.2939707\ttotal: 317ms\tremaining: 4.02s\n",
            "73:\tlearn: 0.2909959\ttotal: 319ms\tremaining: 4s\n",
            "74:\tlearn: 0.2881342\ttotal: 322ms\tremaining: 3.97s\n",
            "75:\tlearn: 0.2848875\ttotal: 325ms\tremaining: 3.95s\n",
            "76:\tlearn: 0.2823912\ttotal: 327ms\tremaining: 3.92s\n",
            "77:\tlearn: 0.2794056\ttotal: 329ms\tremaining: 3.89s\n",
            "78:\tlearn: 0.2767397\ttotal: 332ms\tremaining: 3.87s\n",
            "79:\tlearn: 0.2744290\ttotal: 334ms\tremaining: 3.85s\n",
            "80:\tlearn: 0.2719445\ttotal: 337ms\tremaining: 3.83s\n",
            "81:\tlearn: 0.2701828\ttotal: 339ms\tremaining: 3.8s\n",
            "82:\tlearn: 0.2679046\ttotal: 342ms\tremaining: 3.78s\n",
            "83:\tlearn: 0.2657613\ttotal: 345ms\tremaining: 3.76s\n",
            "84:\tlearn: 0.2634864\ttotal: 347ms\tremaining: 3.74s\n",
            "85:\tlearn: 0.2609607\ttotal: 350ms\tremaining: 3.71s\n",
            "86:\tlearn: 0.2589166\ttotal: 358ms\tremaining: 3.76s\n",
            "87:\tlearn: 0.2568070\ttotal: 361ms\tremaining: 3.74s\n",
            "88:\tlearn: 0.2552624\ttotal: 363ms\tremaining: 3.72s\n",
            "89:\tlearn: 0.2529137\ttotal: 365ms\tremaining: 3.69s\n",
            "90:\tlearn: 0.2511009\ttotal: 368ms\tremaining: 3.68s\n",
            "91:\tlearn: 0.2488780\ttotal: 370ms\tremaining: 3.65s\n",
            "92:\tlearn: 0.2467449\ttotal: 373ms\tremaining: 3.64s\n",
            "93:\tlearn: 0.2446430\ttotal: 378ms\tremaining: 3.65s\n",
            "94:\tlearn: 0.2427933\ttotal: 380ms\tremaining: 3.62s\n",
            "95:\tlearn: 0.2408910\ttotal: 383ms\tremaining: 3.6s\n",
            "96:\tlearn: 0.2388594\ttotal: 385ms\tremaining: 3.58s\n",
            "97:\tlearn: 0.2374475\ttotal: 387ms\tremaining: 3.56s\n",
            "98:\tlearn: 0.2354290\ttotal: 389ms\tremaining: 3.54s\n",
            "99:\tlearn: 0.2333048\ttotal: 391ms\tremaining: 3.52s\n",
            "100:\tlearn: 0.2319795\ttotal: 393ms\tremaining: 3.5s\n",
            "101:\tlearn: 0.2299314\ttotal: 395ms\tremaining: 3.48s\n",
            "102:\tlearn: 0.2280507\ttotal: 397ms\tremaining: 3.46s\n",
            "103:\tlearn: 0.2266799\ttotal: 400ms\tremaining: 3.44s\n",
            "104:\tlearn: 0.2253796\ttotal: 402ms\tremaining: 3.43s\n",
            "105:\tlearn: 0.2243159\ttotal: 404ms\tremaining: 3.41s\n",
            "106:\tlearn: 0.2227654\ttotal: 407ms\tremaining: 3.39s\n",
            "107:\tlearn: 0.2215681\ttotal: 409ms\tremaining: 3.38s\n",
            "108:\tlearn: 0.2199641\ttotal: 415ms\tremaining: 3.39s\n",
            "109:\tlearn: 0.2182024\ttotal: 421ms\tremaining: 3.4s\n",
            "110:\tlearn: 0.2170739\ttotal: 423ms\tremaining: 3.39s\n",
            "111:\tlearn: 0.2154998\ttotal: 426ms\tremaining: 3.38s\n",
            "112:\tlearn: 0.2137857\ttotal: 429ms\tremaining: 3.37s\n",
            "113:\tlearn: 0.2123597\ttotal: 431ms\tremaining: 3.35s\n",
            "114:\tlearn: 0.2109758\ttotal: 433ms\tremaining: 3.33s\n",
            "115:\tlearn: 0.2096636\ttotal: 436ms\tremaining: 3.32s\n",
            "116:\tlearn: 0.2085807\ttotal: 438ms\tremaining: 3.31s\n",
            "117:\tlearn: 0.2070574\ttotal: 441ms\tremaining: 3.29s\n",
            "118:\tlearn: 0.2059560\ttotal: 442ms\tremaining: 3.27s\n",
            "119:\tlearn: 0.2046069\ttotal: 445ms\tremaining: 3.26s\n",
            "120:\tlearn: 0.2030435\ttotal: 447ms\tremaining: 3.25s\n",
            "121:\tlearn: 0.2016373\ttotal: 449ms\tremaining: 3.23s\n",
            "122:\tlearn: 0.2004663\ttotal: 452ms\tremaining: 3.22s\n",
            "123:\tlearn: 0.1989188\ttotal: 454ms\tremaining: 3.21s\n",
            "124:\tlearn: 0.1979455\ttotal: 456ms\tremaining: 3.19s\n",
            "125:\tlearn: 0.1970266\ttotal: 459ms\tremaining: 3.18s\n",
            "126:\tlearn: 0.1957368\ttotal: 465ms\tremaining: 3.19s\n",
            "127:\tlearn: 0.1943778\ttotal: 468ms\tremaining: 3.19s\n",
            "128:\tlearn: 0.1930303\ttotal: 473ms\tremaining: 3.19s\n",
            "129:\tlearn: 0.1918652\ttotal: 478ms\tremaining: 3.2s\n",
            "130:\tlearn: 0.1903310\ttotal: 482ms\tremaining: 3.2s\n",
            "131:\tlearn: 0.1890235\ttotal: 485ms\tremaining: 3.19s\n",
            "132:\tlearn: 0.1876535\ttotal: 488ms\tremaining: 3.18s\n",
            "133:\tlearn: 0.1864139\ttotal: 491ms\tremaining: 3.17s\n",
            "134:\tlearn: 0.1848722\ttotal: 494ms\tremaining: 3.16s\n",
            "135:\tlearn: 0.1839293\ttotal: 496ms\tremaining: 3.15s\n",
            "136:\tlearn: 0.1830738\ttotal: 499ms\tremaining: 3.14s\n",
            "137:\tlearn: 0.1821627\ttotal: 504ms\tremaining: 3.15s\n",
            "138:\tlearn: 0.1808100\ttotal: 507ms\tremaining: 3.14s\n",
            "139:\tlearn: 0.1799662\ttotal: 509ms\tremaining: 3.13s\n",
            "140:\tlearn: 0.1787554\ttotal: 512ms\tremaining: 3.12s\n",
            "141:\tlearn: 0.1778459\ttotal: 514ms\tremaining: 3.1s\n",
            "142:\tlearn: 0.1773583\ttotal: 517ms\tremaining: 3.1s\n",
            "143:\tlearn: 0.1762033\ttotal: 519ms\tremaining: 3.08s\n",
            "144:\tlearn: 0.1753117\ttotal: 522ms\tremaining: 3.08s\n",
            "145:\tlearn: 0.1740420\ttotal: 533ms\tremaining: 3.12s\n",
            "146:\tlearn: 0.1729958\ttotal: 544ms\tremaining: 3.16s\n",
            "147:\tlearn: 0.1722927\ttotal: 574ms\tremaining: 3.31s\n",
            "148:\tlearn: 0.1711279\ttotal: 588ms\tremaining: 3.36s\n",
            "149:\tlearn: 0.1702759\ttotal: 603ms\tremaining: 3.42s\n",
            "150:\tlearn: 0.1693673\ttotal: 610ms\tremaining: 3.43s\n",
            "151:\tlearn: 0.1683866\ttotal: 623ms\tremaining: 3.47s\n",
            "152:\tlearn: 0.1676911\ttotal: 637ms\tremaining: 3.53s\n",
            "153:\tlearn: 0.1665327\ttotal: 646ms\tremaining: 3.55s\n",
            "154:\tlearn: 0.1656615\ttotal: 651ms\tremaining: 3.55s\n",
            "155:\tlearn: 0.1646499\ttotal: 661ms\tremaining: 3.58s\n",
            "156:\tlearn: 0.1638423\ttotal: 671ms\tremaining: 3.6s\n",
            "157:\tlearn: 0.1631575\ttotal: 686ms\tremaining: 3.66s\n",
            "158:\tlearn: 0.1620597\ttotal: 693ms\tremaining: 3.67s\n",
            "159:\tlearn: 0.1612668\ttotal: 705ms\tremaining: 3.7s\n",
            "160:\tlearn: 0.1605668\ttotal: 719ms\tremaining: 3.75s\n",
            "161:\tlearn: 0.1595703\ttotal: 726ms\tremaining: 3.75s\n",
            "162:\tlearn: 0.1587132\ttotal: 736ms\tremaining: 3.78s\n",
            "163:\tlearn: 0.1579954\ttotal: 746ms\tremaining: 3.8s\n",
            "164:\tlearn: 0.1572885\ttotal: 760ms\tremaining: 3.85s\n",
            "165:\tlearn: 0.1565597\ttotal: 767ms\tremaining: 3.85s\n",
            "166:\tlearn: 0.1555240\ttotal: 778ms\tremaining: 3.88s\n",
            "167:\tlearn: 0.1545923\ttotal: 787ms\tremaining: 3.9s\n",
            "168:\tlearn: 0.1536813\ttotal: 793ms\tremaining: 3.9s\n",
            "169:\tlearn: 0.1529807\ttotal: 799ms\tremaining: 3.9s\n",
            "170:\tlearn: 0.1521016\ttotal: 807ms\tremaining: 3.91s\n",
            "171:\tlearn: 0.1511426\ttotal: 814ms\tremaining: 3.92s\n",
            "172:\tlearn: 0.1503315\ttotal: 830ms\tremaining: 3.97s\n",
            "173:\tlearn: 0.1496465\ttotal: 835ms\tremaining: 3.96s\n",
            "174:\tlearn: 0.1487140\ttotal: 845ms\tremaining: 3.98s\n",
            "175:\tlearn: 0.1480950\ttotal: 855ms\tremaining: 4s\n",
            "176:\tlearn: 0.1474904\ttotal: 859ms\tremaining: 3.99s\n",
            "177:\tlearn: 0.1468354\ttotal: 865ms\tremaining: 3.99s\n",
            "178:\tlearn: 0.1460820\ttotal: 870ms\tremaining: 3.99s\n",
            "179:\tlearn: 0.1454738\ttotal: 875ms\tremaining: 3.99s\n",
            "180:\tlearn: 0.1448895\ttotal: 881ms\tremaining: 3.99s\n",
            "181:\tlearn: 0.1442903\ttotal: 891ms\tremaining: 4s\n",
            "182:\tlearn: 0.1437727\ttotal: 898ms\tremaining: 4.01s\n",
            "183:\tlearn: 0.1433058\ttotal: 902ms\tremaining: 4s\n",
            "184:\tlearn: 0.1424257\ttotal: 908ms\tremaining: 4s\n",
            "185:\tlearn: 0.1417912\ttotal: 913ms\tremaining: 4s\n",
            "186:\tlearn: 0.1411603\ttotal: 918ms\tremaining: 3.99s\n",
            "187:\tlearn: 0.1402710\ttotal: 923ms\tremaining: 3.99s\n",
            "188:\tlearn: 0.1396295\ttotal: 929ms\tremaining: 3.99s\n",
            "189:\tlearn: 0.1393384\ttotal: 942ms\tremaining: 4.01s\n",
            "190:\tlearn: 0.1388664\ttotal: 948ms\tremaining: 4.02s\n",
            "191:\tlearn: 0.1383902\ttotal: 953ms\tremaining: 4.01s\n",
            "192:\tlearn: 0.1376315\ttotal: 959ms\tremaining: 4.01s\n",
            "193:\tlearn: 0.1369763\ttotal: 970ms\tremaining: 4.03s\n",
            "194:\tlearn: 0.1362923\ttotal: 986ms\tremaining: 4.07s\n",
            "195:\tlearn: 0.1356532\ttotal: 991ms\tremaining: 4.06s\n",
            "196:\tlearn: 0.1352754\ttotal: 995ms\tremaining: 4.05s\n",
            "197:\tlearn: 0.1346257\ttotal: 1s\tremaining: 4.07s\n",
            "198:\tlearn: 0.1342758\ttotal: 1.01s\tremaining: 4.08s\n",
            "199:\tlearn: 0.1336878\ttotal: 1.02s\tremaining: 4.1s\n",
            "200:\tlearn: 0.1330199\ttotal: 1.03s\tremaining: 4.09s\n",
            "201:\tlearn: 0.1322906\ttotal: 1.03s\tremaining: 4.09s\n",
            "202:\tlearn: 0.1318697\ttotal: 1.04s\tremaining: 4.09s\n",
            "203:\tlearn: 0.1312861\ttotal: 1.05s\tremaining: 4.08s\n",
            "204:\tlearn: 0.1309498\ttotal: 1.05s\tremaining: 4.09s\n",
            "205:\tlearn: 0.1303002\ttotal: 1.06s\tremaining: 4.08s\n",
            "206:\tlearn: 0.1296842\ttotal: 1.07s\tremaining: 4.1s\n",
            "207:\tlearn: 0.1291839\ttotal: 1.07s\tremaining: 4.1s\n",
            "208:\tlearn: 0.1284784\ttotal: 1.09s\tremaining: 4.12s\n",
            "209:\tlearn: 0.1279059\ttotal: 1.09s\tremaining: 4.11s\n",
            "210:\tlearn: 0.1274725\ttotal: 1.1s\tremaining: 4.12s\n",
            "211:\tlearn: 0.1270193\ttotal: 1.11s\tremaining: 4.14s\n",
            "212:\tlearn: 0.1263996\ttotal: 1.12s\tremaining: 4.14s\n",
            "213:\tlearn: 0.1257612\ttotal: 1.13s\tremaining: 4.14s\n",
            "214:\tlearn: 0.1250586\ttotal: 1.14s\tremaining: 4.17s\n",
            "215:\tlearn: 0.1246134\ttotal: 1.15s\tremaining: 4.17s\n",
            "216:\tlearn: 0.1240497\ttotal: 1.16s\tremaining: 4.18s\n",
            "217:\tlearn: 0.1236534\ttotal: 1.17s\tremaining: 4.19s\n",
            "218:\tlearn: 0.1232864\ttotal: 1.18s\tremaining: 4.2s\n",
            "219:\tlearn: 0.1229479\ttotal: 1.18s\tremaining: 4.19s\n",
            "220:\tlearn: 0.1226712\ttotal: 1.2s\tremaining: 4.21s\n",
            "221:\tlearn: 0.1221381\ttotal: 1.2s\tremaining: 4.2s\n",
            "222:\tlearn: 0.1215851\ttotal: 1.2s\tremaining: 4.19s\n",
            "223:\tlearn: 0.1210998\ttotal: 1.21s\tremaining: 4.21s\n",
            "224:\tlearn: 0.1205776\ttotal: 1.22s\tremaining: 4.21s\n",
            "225:\tlearn: 0.1201564\ttotal: 1.23s\tremaining: 4.21s\n",
            "226:\tlearn: 0.1197520\ttotal: 1.23s\tremaining: 4.2s\n",
            "227:\tlearn: 0.1191793\ttotal: 1.24s\tremaining: 4.2s\n",
            "228:\tlearn: 0.1188387\ttotal: 1.25s\tremaining: 4.22s\n",
            "229:\tlearn: 0.1184246\ttotal: 1.26s\tremaining: 4.23s\n",
            "230:\tlearn: 0.1180424\ttotal: 1.27s\tremaining: 4.24s\n",
            "231:\tlearn: 0.1177129\ttotal: 1.28s\tremaining: 4.25s\n",
            "232:\tlearn: 0.1172861\ttotal: 1.29s\tremaining: 4.25s\n",
            "233:\tlearn: 0.1168938\ttotal: 1.31s\tremaining: 4.28s\n",
            "234:\tlearn: 0.1164649\ttotal: 1.32s\tremaining: 4.3s\n",
            "235:\tlearn: 0.1161140\ttotal: 1.33s\tremaining: 4.32s\n",
            "236:\tlearn: 0.1157525\ttotal: 1.34s\tremaining: 4.32s\n",
            "237:\tlearn: 0.1153433\ttotal: 1.35s\tremaining: 4.34s\n",
            "238:\tlearn: 0.1150702\ttotal: 1.36s\tremaining: 4.33s\n",
            "239:\tlearn: 0.1146253\ttotal: 1.36s\tremaining: 4.32s\n",
            "240:\tlearn: 0.1142852\ttotal: 1.37s\tremaining: 4.32s\n",
            "241:\tlearn: 0.1140275\ttotal: 1.38s\tremaining: 4.31s\n",
            "242:\tlearn: 0.1136994\ttotal: 1.38s\tremaining: 4.3s\n",
            "243:\tlearn: 0.1133637\ttotal: 1.39s\tremaining: 4.3s\n",
            "244:\tlearn: 0.1130334\ttotal: 1.39s\tremaining: 4.29s\n",
            "245:\tlearn: 0.1126392\ttotal: 1.4s\tremaining: 4.28s\n",
            "246:\tlearn: 0.1121995\ttotal: 1.4s\tremaining: 4.28s\n",
            "247:\tlearn: 0.1115385\ttotal: 1.41s\tremaining: 4.27s\n",
            "248:\tlearn: 0.1108572\ttotal: 1.41s\tremaining: 4.26s\n",
            "249:\tlearn: 0.1103976\ttotal: 1.42s\tremaining: 4.26s\n",
            "250:\tlearn: 0.1099936\ttotal: 1.43s\tremaining: 4.25s\n",
            "251:\tlearn: 0.1096070\ttotal: 1.43s\tremaining: 4.25s\n",
            "252:\tlearn: 0.1092168\ttotal: 1.44s\tremaining: 4.24s\n",
            "253:\tlearn: 0.1087163\ttotal: 1.44s\tremaining: 4.23s\n",
            "254:\tlearn: 0.1083519\ttotal: 1.45s\tremaining: 4.23s\n",
            "255:\tlearn: 0.1080252\ttotal: 1.46s\tremaining: 4.24s\n",
            "256:\tlearn: 0.1076474\ttotal: 1.46s\tremaining: 4.23s\n",
            "257:\tlearn: 0.1073516\ttotal: 1.47s\tremaining: 4.23s\n",
            "258:\tlearn: 0.1070354\ttotal: 1.48s\tremaining: 4.22s\n",
            "259:\tlearn: 0.1068061\ttotal: 1.48s\tremaining: 4.21s\n",
            "260:\tlearn: 0.1065316\ttotal: 1.49s\tremaining: 4.21s\n",
            "261:\tlearn: 0.1061107\ttotal: 1.49s\tremaining: 4.19s\n",
            "262:\tlearn: 0.1057703\ttotal: 1.49s\tremaining: 4.18s\n",
            "263:\tlearn: 0.1052257\ttotal: 1.5s\tremaining: 4.18s\n",
            "264:\tlearn: 0.1049112\ttotal: 1.5s\tremaining: 4.17s\n",
            "265:\tlearn: 0.1044828\ttotal: 1.51s\tremaining: 4.16s\n",
            "266:\tlearn: 0.1040401\ttotal: 1.51s\tremaining: 4.15s\n",
            "267:\tlearn: 0.1037513\ttotal: 1.52s\tremaining: 4.14s\n",
            "268:\tlearn: 0.1034610\ttotal: 1.52s\tremaining: 4.13s\n",
            "269:\tlearn: 0.1031387\ttotal: 1.52s\tremaining: 4.12s\n",
            "270:\tlearn: 0.1027413\ttotal: 1.53s\tremaining: 4.11s\n",
            "271:\tlearn: 0.1022983\ttotal: 1.53s\tremaining: 4.09s\n",
            "272:\tlearn: 0.1019327\ttotal: 1.53s\tremaining: 4.08s\n",
            "273:\tlearn: 0.1016499\ttotal: 1.54s\tremaining: 4.07s\n",
            "274:\tlearn: 0.1012860\ttotal: 1.54s\tremaining: 4.06s\n",
            "275:\tlearn: 0.1008352\ttotal: 1.54s\tremaining: 4.05s\n",
            "276:\tlearn: 0.1005083\ttotal: 1.55s\tremaining: 4.04s\n",
            "277:\tlearn: 0.1000871\ttotal: 1.55s\tremaining: 4.02s\n",
            "278:\tlearn: 0.0996912\ttotal: 1.55s\tremaining: 4.01s\n",
            "279:\tlearn: 0.0993671\ttotal: 1.56s\tremaining: 4s\n",
            "280:\tlearn: 0.0990770\ttotal: 1.56s\tremaining: 3.99s\n",
            "281:\tlearn: 0.0987264\ttotal: 1.56s\tremaining: 3.98s\n",
            "282:\tlearn: 0.0983610\ttotal: 1.56s\tremaining: 3.96s\n",
            "283:\tlearn: 0.0981049\ttotal: 1.57s\tremaining: 3.95s\n",
            "284:\tlearn: 0.0976206\ttotal: 1.57s\tremaining: 3.94s\n",
            "285:\tlearn: 0.0972581\ttotal: 1.57s\tremaining: 3.93s\n",
            "286:\tlearn: 0.0969211\ttotal: 1.58s\tremaining: 3.92s\n",
            "287:\tlearn: 0.0966909\ttotal: 1.58s\tremaining: 3.9s\n",
            "288:\tlearn: 0.0964406\ttotal: 1.58s\tremaining: 3.89s\n",
            "289:\tlearn: 0.0961882\ttotal: 1.58s\tremaining: 3.88s\n",
            "290:\tlearn: 0.0960561\ttotal: 1.59s\tremaining: 3.87s\n",
            "291:\tlearn: 0.0957925\ttotal: 1.59s\tremaining: 3.85s\n",
            "292:\tlearn: 0.0955188\ttotal: 1.59s\tremaining: 3.85s\n",
            "293:\tlearn: 0.0952630\ttotal: 1.6s\tremaining: 3.84s\n",
            "294:\tlearn: 0.0949723\ttotal: 1.6s\tremaining: 3.83s\n",
            "295:\tlearn: 0.0945951\ttotal: 1.61s\tremaining: 3.82s\n",
            "296:\tlearn: 0.0943807\ttotal: 1.61s\tremaining: 3.81s\n",
            "297:\tlearn: 0.0940986\ttotal: 1.61s\tremaining: 3.8s\n",
            "298:\tlearn: 0.0937710\ttotal: 1.61s\tremaining: 3.79s\n",
            "299:\tlearn: 0.0934314\ttotal: 1.62s\tremaining: 3.77s\n",
            "300:\tlearn: 0.0930933\ttotal: 1.62s\tremaining: 3.76s\n",
            "301:\tlearn: 0.0929614\ttotal: 1.62s\tremaining: 3.75s\n",
            "302:\tlearn: 0.0927078\ttotal: 1.63s\tremaining: 3.74s\n",
            "303:\tlearn: 0.0925105\ttotal: 1.63s\tremaining: 3.74s\n",
            "304:\tlearn: 0.0920760\ttotal: 1.64s\tremaining: 3.73s\n",
            "305:\tlearn: 0.0917707\ttotal: 1.64s\tremaining: 3.73s\n",
            "306:\tlearn: 0.0913018\ttotal: 1.65s\tremaining: 3.72s\n",
            "307:\tlearn: 0.0910849\ttotal: 1.65s\tremaining: 3.71s\n",
            "308:\tlearn: 0.0907903\ttotal: 1.65s\tremaining: 3.7s\n",
            "309:\tlearn: 0.0904692\ttotal: 1.66s\tremaining: 3.69s\n",
            "310:\tlearn: 0.0901994\ttotal: 1.66s\tremaining: 3.68s\n",
            "311:\tlearn: 0.0900777\ttotal: 1.66s\tremaining: 3.67s\n",
            "312:\tlearn: 0.0898107\ttotal: 1.67s\tremaining: 3.66s\n",
            "313:\tlearn: 0.0895066\ttotal: 1.67s\tremaining: 3.65s\n",
            "314:\tlearn: 0.0892534\ttotal: 1.68s\tremaining: 3.65s\n",
            "315:\tlearn: 0.0890548\ttotal: 1.68s\tremaining: 3.64s\n",
            "316:\tlearn: 0.0886819\ttotal: 1.69s\tremaining: 3.63s\n",
            "317:\tlearn: 0.0884642\ttotal: 1.69s\tremaining: 3.62s\n",
            "318:\tlearn: 0.0881658\ttotal: 1.69s\tremaining: 3.61s\n",
            "319:\tlearn: 0.0879385\ttotal: 1.7s\tremaining: 3.6s\n",
            "320:\tlearn: 0.0877807\ttotal: 1.7s\tremaining: 3.6s\n",
            "321:\tlearn: 0.0875794\ttotal: 1.71s\tremaining: 3.59s\n",
            "322:\tlearn: 0.0873178\ttotal: 1.71s\tremaining: 3.59s\n",
            "323:\tlearn: 0.0871120\ttotal: 1.72s\tremaining: 3.58s\n",
            "324:\tlearn: 0.0868256\ttotal: 1.72s\tremaining: 3.58s\n",
            "325:\tlearn: 0.0865799\ttotal: 1.73s\tremaining: 3.58s\n",
            "326:\tlearn: 0.0863781\ttotal: 1.74s\tremaining: 3.57s\n",
            "327:\tlearn: 0.0861320\ttotal: 1.74s\tremaining: 3.57s\n",
            "328:\tlearn: 0.0859696\ttotal: 1.75s\tremaining: 3.56s\n",
            "329:\tlearn: 0.0856669\ttotal: 1.75s\tremaining: 3.56s\n",
            "330:\tlearn: 0.0854058\ttotal: 1.76s\tremaining: 3.55s\n",
            "331:\tlearn: 0.0852363\ttotal: 1.76s\tremaining: 3.54s\n",
            "332:\tlearn: 0.0850064\ttotal: 1.76s\tremaining: 3.53s\n",
            "333:\tlearn: 0.0848002\ttotal: 1.77s\tremaining: 3.52s\n",
            "334:\tlearn: 0.0844959\ttotal: 1.77s\tremaining: 3.51s\n",
            "335:\tlearn: 0.0842634\ttotal: 1.77s\tremaining: 3.5s\n",
            "336:\tlearn: 0.0840223\ttotal: 1.77s\tremaining: 3.49s\n",
            "337:\tlearn: 0.0838796\ttotal: 1.78s\tremaining: 3.48s\n",
            "338:\tlearn: 0.0836945\ttotal: 1.78s\tremaining: 3.47s\n",
            "339:\tlearn: 0.0834694\ttotal: 1.78s\tremaining: 3.46s\n",
            "340:\tlearn: 0.0832169\ttotal: 1.78s\tremaining: 3.45s\n",
            "341:\tlearn: 0.0829357\ttotal: 1.79s\tremaining: 3.44s\n",
            "342:\tlearn: 0.0826957\ttotal: 1.79s\tremaining: 3.43s\n",
            "343:\tlearn: 0.0823738\ttotal: 1.79s\tremaining: 3.42s\n",
            "344:\tlearn: 0.0822209\ttotal: 1.79s\tremaining: 3.41s\n",
            "345:\tlearn: 0.0819145\ttotal: 1.8s\tremaining: 3.4s\n",
            "346:\tlearn: 0.0817636\ttotal: 1.8s\tremaining: 3.38s\n",
            "347:\tlearn: 0.0816095\ttotal: 1.8s\tremaining: 3.37s\n",
            "348:\tlearn: 0.0814004\ttotal: 1.8s\tremaining: 3.36s\n",
            "349:\tlearn: 0.0811022\ttotal: 1.81s\tremaining: 3.35s\n",
            "350:\tlearn: 0.0808377\ttotal: 1.81s\tremaining: 3.35s\n",
            "351:\tlearn: 0.0804712\ttotal: 1.82s\tremaining: 3.36s\n",
            "352:\tlearn: 0.0801715\ttotal: 1.83s\tremaining: 3.35s\n",
            "353:\tlearn: 0.0800088\ttotal: 1.83s\tremaining: 3.34s\n",
            "354:\tlearn: 0.0797478\ttotal: 1.83s\tremaining: 3.33s\n",
            "355:\tlearn: 0.0795807\ttotal: 1.83s\tremaining: 3.32s\n",
            "356:\tlearn: 0.0793553\ttotal: 1.84s\tremaining: 3.31s\n",
            "357:\tlearn: 0.0790739\ttotal: 1.84s\tremaining: 3.3s\n",
            "358:\tlearn: 0.0788888\ttotal: 1.84s\tremaining: 3.29s\n",
            "359:\tlearn: 0.0787243\ttotal: 1.84s\tremaining: 3.28s\n",
            "360:\tlearn: 0.0784173\ttotal: 1.85s\tremaining: 3.27s\n",
            "361:\tlearn: 0.0781911\ttotal: 1.85s\tremaining: 3.26s\n",
            "362:\tlearn: 0.0779784\ttotal: 1.85s\tremaining: 3.25s\n",
            "363:\tlearn: 0.0778383\ttotal: 1.85s\tremaining: 3.24s\n",
            "364:\tlearn: 0.0775630\ttotal: 1.85s\tremaining: 3.23s\n",
            "365:\tlearn: 0.0773469\ttotal: 1.86s\tremaining: 3.22s\n",
            "366:\tlearn: 0.0771313\ttotal: 1.86s\tremaining: 3.21s\n",
            "367:\tlearn: 0.0769352\ttotal: 1.86s\tremaining: 3.2s\n",
            "368:\tlearn: 0.0767890\ttotal: 1.86s\tremaining: 3.19s\n",
            "369:\tlearn: 0.0766122\ttotal: 1.86s\tremaining: 3.18s\n",
            "370:\tlearn: 0.0764389\ttotal: 1.87s\tremaining: 3.17s\n",
            "371:\tlearn: 0.0761603\ttotal: 1.87s\tremaining: 3.16s\n",
            "372:\tlearn: 0.0759064\ttotal: 1.87s\tremaining: 3.15s\n",
            "373:\tlearn: 0.0756532\ttotal: 1.88s\tremaining: 3.14s\n",
            "374:\tlearn: 0.0753950\ttotal: 1.88s\tremaining: 3.13s\n",
            "375:\tlearn: 0.0752494\ttotal: 1.88s\tremaining: 3.12s\n",
            "376:\tlearn: 0.0751452\ttotal: 1.88s\tremaining: 3.11s\n",
            "377:\tlearn: 0.0749704\ttotal: 1.89s\tremaining: 3.1s\n",
            "378:\tlearn: 0.0748058\ttotal: 1.89s\tremaining: 3.09s\n",
            "379:\tlearn: 0.0746454\ttotal: 1.89s\tremaining: 3.08s\n",
            "380:\tlearn: 0.0744374\ttotal: 1.89s\tremaining: 3.07s\n",
            "381:\tlearn: 0.0742313\ttotal: 1.89s\tremaining: 3.06s\n",
            "382:\tlearn: 0.0739290\ttotal: 1.9s\tremaining: 3.05s\n",
            "383:\tlearn: 0.0736501\ttotal: 1.9s\tremaining: 3.04s\n",
            "384:\tlearn: 0.0733907\ttotal: 1.9s\tremaining: 3.04s\n",
            "385:\tlearn: 0.0732429\ttotal: 1.9s\tremaining: 3.03s\n",
            "386:\tlearn: 0.0731281\ttotal: 1.91s\tremaining: 3.02s\n",
            "387:\tlearn: 0.0729598\ttotal: 1.91s\tremaining: 3.01s\n",
            "388:\tlearn: 0.0726819\ttotal: 1.91s\tremaining: 3s\n",
            "389:\tlearn: 0.0723844\ttotal: 1.91s\tremaining: 2.99s\n",
            "390:\tlearn: 0.0722914\ttotal: 1.91s\tremaining: 2.98s\n",
            "391:\tlearn: 0.0720548\ttotal: 1.92s\tremaining: 2.97s\n",
            "392:\tlearn: 0.0718109\ttotal: 1.92s\tremaining: 2.96s\n",
            "393:\tlearn: 0.0716202\ttotal: 1.92s\tremaining: 2.95s\n",
            "394:\tlearn: 0.0714341\ttotal: 1.92s\tremaining: 2.94s\n",
            "395:\tlearn: 0.0712347\ttotal: 1.93s\tremaining: 2.94s\n",
            "396:\tlearn: 0.0710803\ttotal: 1.93s\tremaining: 2.93s\n",
            "397:\tlearn: 0.0708795\ttotal: 1.93s\tremaining: 2.92s\n",
            "398:\tlearn: 0.0705818\ttotal: 1.93s\tremaining: 2.91s\n",
            "399:\tlearn: 0.0704192\ttotal: 1.93s\tremaining: 2.9s\n",
            "400:\tlearn: 0.0702686\ttotal: 1.94s\tremaining: 2.89s\n",
            "401:\tlearn: 0.0701482\ttotal: 1.94s\tremaining: 2.88s\n",
            "402:\tlearn: 0.0699620\ttotal: 1.94s\tremaining: 2.87s\n",
            "403:\tlearn: 0.0698221\ttotal: 1.94s\tremaining: 2.87s\n",
            "404:\tlearn: 0.0697148\ttotal: 1.95s\tremaining: 2.86s\n",
            "405:\tlearn: 0.0695562\ttotal: 1.95s\tremaining: 2.85s\n",
            "406:\tlearn: 0.0693790\ttotal: 1.95s\tremaining: 2.84s\n",
            "407:\tlearn: 0.0692621\ttotal: 1.95s\tremaining: 2.84s\n",
            "408:\tlearn: 0.0690340\ttotal: 1.96s\tremaining: 2.83s\n",
            "409:\tlearn: 0.0688533\ttotal: 1.96s\tremaining: 2.83s\n",
            "410:\tlearn: 0.0687084\ttotal: 1.97s\tremaining: 2.82s\n",
            "411:\tlearn: 0.0685408\ttotal: 1.97s\tremaining: 2.82s\n",
            "412:\tlearn: 0.0683246\ttotal: 1.98s\tremaining: 2.81s\n",
            "413:\tlearn: 0.0681493\ttotal: 1.98s\tremaining: 2.8s\n",
            "414:\tlearn: 0.0678826\ttotal: 1.98s\tremaining: 2.79s\n",
            "415:\tlearn: 0.0677593\ttotal: 1.98s\tremaining: 2.78s\n",
            "416:\tlearn: 0.0675733\ttotal: 1.99s\tremaining: 2.78s\n",
            "417:\tlearn: 0.0673958\ttotal: 1.99s\tremaining: 2.77s\n",
            "418:\tlearn: 0.0672456\ttotal: 1.99s\tremaining: 2.76s\n",
            "419:\tlearn: 0.0670059\ttotal: 1.99s\tremaining: 2.75s\n",
            "420:\tlearn: 0.0667273\ttotal: 2s\tremaining: 2.75s\n",
            "421:\tlearn: 0.0665929\ttotal: 2s\tremaining: 2.74s\n",
            "422:\tlearn: 0.0663122\ttotal: 2s\tremaining: 2.73s\n",
            "423:\tlearn: 0.0661630\ttotal: 2s\tremaining: 2.72s\n",
            "424:\tlearn: 0.0659892\ttotal: 2.01s\tremaining: 2.72s\n",
            "425:\tlearn: 0.0658678\ttotal: 2.01s\tremaining: 2.71s\n",
            "426:\tlearn: 0.0657397\ttotal: 2.01s\tremaining: 2.7s\n",
            "427:\tlearn: 0.0656020\ttotal: 2.01s\tremaining: 2.69s\n",
            "428:\tlearn: 0.0653952\ttotal: 2.02s\tremaining: 2.68s\n",
            "429:\tlearn: 0.0652747\ttotal: 2.02s\tremaining: 2.67s\n",
            "430:\tlearn: 0.0651086\ttotal: 2.02s\tremaining: 2.67s\n",
            "431:\tlearn: 0.0649548\ttotal: 2.02s\tremaining: 2.66s\n",
            "432:\tlearn: 0.0647453\ttotal: 2.02s\tremaining: 2.65s\n",
            "433:\tlearn: 0.0645912\ttotal: 2.03s\tremaining: 2.64s\n",
            "434:\tlearn: 0.0643981\ttotal: 2.03s\tremaining: 2.63s\n",
            "435:\tlearn: 0.0642361\ttotal: 2.03s\tremaining: 2.63s\n",
            "436:\tlearn: 0.0641032\ttotal: 2.03s\tremaining: 2.62s\n",
            "437:\tlearn: 0.0638981\ttotal: 2.04s\tremaining: 2.61s\n",
            "438:\tlearn: 0.0637267\ttotal: 2.04s\tremaining: 2.6s\n",
            "439:\tlearn: 0.0635485\ttotal: 2.04s\tremaining: 2.6s\n",
            "440:\tlearn: 0.0634073\ttotal: 2.04s\tremaining: 2.59s\n",
            "441:\tlearn: 0.0632672\ttotal: 2.04s\tremaining: 2.58s\n",
            "442:\tlearn: 0.0631801\ttotal: 2.05s\tremaining: 2.57s\n",
            "443:\tlearn: 0.0630143\ttotal: 2.05s\tremaining: 2.56s\n",
            "444:\tlearn: 0.0628989\ttotal: 2.05s\tremaining: 2.56s\n",
            "445:\tlearn: 0.0627643\ttotal: 2.05s\tremaining: 2.55s\n",
            "446:\tlearn: 0.0625956\ttotal: 2.06s\tremaining: 2.54s\n",
            "447:\tlearn: 0.0625274\ttotal: 2.06s\tremaining: 2.54s\n",
            "448:\tlearn: 0.0623882\ttotal: 2.06s\tremaining: 2.53s\n",
            "449:\tlearn: 0.0622733\ttotal: 2.06s\tremaining: 2.52s\n",
            "450:\tlearn: 0.0621780\ttotal: 2.07s\tremaining: 2.52s\n",
            "451:\tlearn: 0.0620178\ttotal: 2.07s\tremaining: 2.51s\n",
            "452:\tlearn: 0.0618963\ttotal: 2.08s\tremaining: 2.51s\n",
            "453:\tlearn: 0.0617622\ttotal: 2.08s\tremaining: 2.5s\n",
            "454:\tlearn: 0.0615572\ttotal: 2.08s\tremaining: 2.49s\n",
            "455:\tlearn: 0.0614446\ttotal: 2.08s\tremaining: 2.48s\n",
            "456:\tlearn: 0.0613315\ttotal: 2.08s\tremaining: 2.48s\n",
            "457:\tlearn: 0.0611872\ttotal: 2.09s\tremaining: 2.47s\n",
            "458:\tlearn: 0.0610447\ttotal: 2.09s\tremaining: 2.46s\n",
            "459:\tlearn: 0.0608692\ttotal: 2.09s\tremaining: 2.46s\n",
            "460:\tlearn: 0.0607678\ttotal: 2.09s\tremaining: 2.45s\n",
            "461:\tlearn: 0.0606043\ttotal: 2.1s\tremaining: 2.44s\n",
            "462:\tlearn: 0.0604365\ttotal: 2.1s\tremaining: 2.43s\n",
            "463:\tlearn: 0.0603491\ttotal: 2.1s\tremaining: 2.43s\n",
            "464:\tlearn: 0.0602082\ttotal: 2.11s\tremaining: 2.42s\n",
            "465:\tlearn: 0.0600776\ttotal: 2.11s\tremaining: 2.42s\n",
            "466:\tlearn: 0.0599039\ttotal: 2.11s\tremaining: 2.41s\n",
            "467:\tlearn: 0.0598232\ttotal: 2.11s\tremaining: 2.4s\n",
            "468:\tlearn: 0.0597284\ttotal: 2.12s\tremaining: 2.39s\n",
            "469:\tlearn: 0.0596466\ttotal: 2.12s\tremaining: 2.39s\n",
            "470:\tlearn: 0.0594833\ttotal: 2.12s\tremaining: 2.38s\n",
            "471:\tlearn: 0.0593636\ttotal: 2.12s\tremaining: 2.37s\n",
            "472:\tlearn: 0.0591936\ttotal: 2.12s\tremaining: 2.37s\n",
            "473:\tlearn: 0.0590199\ttotal: 2.13s\tremaining: 2.36s\n",
            "474:\tlearn: 0.0589024\ttotal: 2.13s\tremaining: 2.35s\n",
            "475:\tlearn: 0.0587900\ttotal: 2.13s\tremaining: 2.35s\n",
            "476:\tlearn: 0.0586637\ttotal: 2.13s\tremaining: 2.34s\n",
            "477:\tlearn: 0.0585505\ttotal: 2.13s\tremaining: 2.33s\n",
            "478:\tlearn: 0.0584216\ttotal: 2.14s\tremaining: 2.32s\n",
            "479:\tlearn: 0.0581535\ttotal: 2.14s\tremaining: 2.32s\n",
            "480:\tlearn: 0.0580265\ttotal: 2.14s\tremaining: 2.31s\n",
            "481:\tlearn: 0.0579063\ttotal: 2.15s\tremaining: 2.31s\n",
            "482:\tlearn: 0.0577397\ttotal: 2.15s\tremaining: 2.3s\n",
            "483:\tlearn: 0.0576298\ttotal: 2.15s\tremaining: 2.29s\n",
            "484:\tlearn: 0.0575504\ttotal: 2.15s\tremaining: 2.29s\n",
            "485:\tlearn: 0.0574370\ttotal: 2.15s\tremaining: 2.28s\n",
            "486:\tlearn: 0.0572291\ttotal: 2.16s\tremaining: 2.27s\n",
            "487:\tlearn: 0.0570915\ttotal: 2.16s\tremaining: 2.26s\n",
            "488:\tlearn: 0.0569732\ttotal: 2.16s\tremaining: 2.26s\n",
            "489:\tlearn: 0.0568477\ttotal: 2.16s\tremaining: 2.25s\n",
            "490:\tlearn: 0.0567461\ttotal: 2.17s\tremaining: 2.24s\n",
            "491:\tlearn: 0.0566716\ttotal: 2.17s\tremaining: 2.24s\n",
            "492:\tlearn: 0.0565866\ttotal: 2.17s\tremaining: 2.23s\n",
            "493:\tlearn: 0.0564677\ttotal: 2.17s\tremaining: 2.22s\n",
            "494:\tlearn: 0.0563385\ttotal: 2.17s\tremaining: 2.22s\n",
            "495:\tlearn: 0.0562353\ttotal: 2.17s\tremaining: 2.21s\n",
            "496:\tlearn: 0.0560960\ttotal: 2.18s\tremaining: 2.2s\n",
            "497:\tlearn: 0.0559461\ttotal: 2.18s\tremaining: 2.2s\n",
            "498:\tlearn: 0.0558483\ttotal: 2.18s\tremaining: 2.19s\n",
            "499:\tlearn: 0.0557718\ttotal: 2.19s\tremaining: 2.19s\n",
            "500:\tlearn: 0.0555887\ttotal: 2.19s\tremaining: 2.18s\n",
            "501:\tlearn: 0.0554762\ttotal: 2.19s\tremaining: 2.18s\n",
            "502:\tlearn: 0.0553188\ttotal: 2.2s\tremaining: 2.17s\n",
            "503:\tlearn: 0.0551902\ttotal: 2.2s\tremaining: 2.16s\n",
            "504:\tlearn: 0.0550309\ttotal: 2.2s\tremaining: 2.16s\n",
            "505:\tlearn: 0.0549016\ttotal: 2.2s\tremaining: 2.15s\n",
            "506:\tlearn: 0.0547961\ttotal: 2.21s\tremaining: 2.14s\n",
            "507:\tlearn: 0.0546035\ttotal: 2.21s\tremaining: 2.14s\n",
            "508:\tlearn: 0.0544851\ttotal: 2.21s\tremaining: 2.13s\n",
            "509:\tlearn: 0.0543625\ttotal: 2.21s\tremaining: 2.13s\n",
            "510:\tlearn: 0.0542222\ttotal: 2.21s\tremaining: 2.12s\n",
            "511:\tlearn: 0.0541292\ttotal: 2.22s\tremaining: 2.11s\n",
            "512:\tlearn: 0.0540223\ttotal: 2.22s\tremaining: 2.11s\n",
            "513:\tlearn: 0.0539001\ttotal: 2.22s\tremaining: 2.1s\n",
            "514:\tlearn: 0.0537876\ttotal: 2.23s\tremaining: 2.1s\n",
            "515:\tlearn: 0.0536790\ttotal: 2.23s\tremaining: 2.09s\n",
            "516:\tlearn: 0.0536037\ttotal: 2.23s\tremaining: 2.08s\n",
            "517:\tlearn: 0.0534390\ttotal: 2.23s\tremaining: 2.08s\n",
            "518:\tlearn: 0.0533285\ttotal: 2.23s\tremaining: 2.07s\n",
            "519:\tlearn: 0.0532273\ttotal: 2.23s\tremaining: 2.06s\n",
            "520:\tlearn: 0.0530793\ttotal: 2.24s\tremaining: 2.06s\n",
            "521:\tlearn: 0.0529483\ttotal: 2.24s\tremaining: 2.05s\n",
            "522:\tlearn: 0.0527897\ttotal: 2.24s\tremaining: 2.04s\n",
            "523:\tlearn: 0.0527237\ttotal: 2.24s\tremaining: 2.04s\n",
            "524:\tlearn: 0.0525111\ttotal: 2.25s\tremaining: 2.03s\n",
            "525:\tlearn: 0.0523827\ttotal: 2.25s\tremaining: 2.03s\n",
            "526:\tlearn: 0.0522948\ttotal: 2.25s\tremaining: 2.02s\n",
            "527:\tlearn: 0.0522220\ttotal: 2.25s\tremaining: 2.01s\n",
            "528:\tlearn: 0.0520815\ttotal: 2.25s\tremaining: 2.01s\n",
            "529:\tlearn: 0.0520029\ttotal: 2.26s\tremaining: 2s\n",
            "530:\tlearn: 0.0518490\ttotal: 2.26s\tremaining: 2s\n",
            "531:\tlearn: 0.0517670\ttotal: 2.26s\tremaining: 1.99s\n",
            "532:\tlearn: 0.0516901\ttotal: 2.26s\tremaining: 1.98s\n",
            "533:\tlearn: 0.0516011\ttotal: 2.27s\tremaining: 1.98s\n",
            "534:\tlearn: 0.0515039\ttotal: 2.27s\tremaining: 1.98s\n",
            "535:\tlearn: 0.0513026\ttotal: 2.28s\tremaining: 1.97s\n",
            "536:\tlearn: 0.0512596\ttotal: 2.28s\tremaining: 1.97s\n",
            "537:\tlearn: 0.0511338\ttotal: 2.29s\tremaining: 1.96s\n",
            "538:\tlearn: 0.0510389\ttotal: 2.29s\tremaining: 1.96s\n",
            "539:\tlearn: 0.0509530\ttotal: 2.3s\tremaining: 1.96s\n",
            "540:\tlearn: 0.0508256\ttotal: 2.3s\tremaining: 1.95s\n",
            "541:\tlearn: 0.0507126\ttotal: 2.31s\tremaining: 1.95s\n",
            "542:\tlearn: 0.0506325\ttotal: 2.31s\tremaining: 1.95s\n",
            "543:\tlearn: 0.0504805\ttotal: 2.32s\tremaining: 1.95s\n",
            "544:\tlearn: 0.0504058\ttotal: 2.33s\tremaining: 1.94s\n",
            "545:\tlearn: 0.0503211\ttotal: 2.33s\tremaining: 1.94s\n",
            "546:\tlearn: 0.0502150\ttotal: 2.34s\tremaining: 1.94s\n",
            "547:\tlearn: 0.0500969\ttotal: 2.35s\tremaining: 1.94s\n",
            "548:\tlearn: 0.0500622\ttotal: 2.35s\tremaining: 1.93s\n",
            "549:\tlearn: 0.0499509\ttotal: 2.36s\tremaining: 1.93s\n",
            "550:\tlearn: 0.0498610\ttotal: 2.36s\tremaining: 1.93s\n",
            "551:\tlearn: 0.0497490\ttotal: 2.37s\tremaining: 1.92s\n",
            "552:\tlearn: 0.0496780\ttotal: 2.38s\tremaining: 1.92s\n",
            "553:\tlearn: 0.0495349\ttotal: 2.38s\tremaining: 1.92s\n",
            "554:\tlearn: 0.0494133\ttotal: 2.39s\tremaining: 1.92s\n",
            "555:\tlearn: 0.0493513\ttotal: 2.39s\tremaining: 1.91s\n",
            "556:\tlearn: 0.0492210\ttotal: 2.4s\tremaining: 1.91s\n",
            "557:\tlearn: 0.0491373\ttotal: 2.4s\tremaining: 1.9s\n",
            "558:\tlearn: 0.0490317\ttotal: 2.4s\tremaining: 1.9s\n",
            "559:\tlearn: 0.0489523\ttotal: 2.4s\tremaining: 1.89s\n",
            "560:\tlearn: 0.0488339\ttotal: 2.41s\tremaining: 1.88s\n",
            "561:\tlearn: 0.0487507\ttotal: 2.41s\tremaining: 1.88s\n",
            "562:\tlearn: 0.0486062\ttotal: 2.41s\tremaining: 1.87s\n",
            "563:\tlearn: 0.0484887\ttotal: 2.41s\tremaining: 1.87s\n",
            "564:\tlearn: 0.0483586\ttotal: 2.42s\tremaining: 1.86s\n",
            "565:\tlearn: 0.0482531\ttotal: 2.42s\tremaining: 1.85s\n",
            "566:\tlearn: 0.0481512\ttotal: 2.42s\tremaining: 1.85s\n",
            "567:\tlearn: 0.0480803\ttotal: 2.42s\tremaining: 1.84s\n",
            "568:\tlearn: 0.0479657\ttotal: 2.42s\tremaining: 1.84s\n",
            "569:\tlearn: 0.0478486\ttotal: 2.43s\tremaining: 1.83s\n",
            "570:\tlearn: 0.0477671\ttotal: 2.43s\tremaining: 1.83s\n",
            "571:\tlearn: 0.0476370\ttotal: 2.43s\tremaining: 1.82s\n",
            "572:\tlearn: 0.0475206\ttotal: 2.44s\tremaining: 1.81s\n",
            "573:\tlearn: 0.0474042\ttotal: 2.44s\tremaining: 1.81s\n",
            "574:\tlearn: 0.0472675\ttotal: 2.44s\tremaining: 1.8s\n",
            "575:\tlearn: 0.0471323\ttotal: 2.44s\tremaining: 1.8s\n",
            "576:\tlearn: 0.0470618\ttotal: 2.44s\tremaining: 1.79s\n",
            "577:\tlearn: 0.0469537\ttotal: 2.45s\tremaining: 1.79s\n",
            "578:\tlearn: 0.0468603\ttotal: 2.45s\tremaining: 1.78s\n",
            "579:\tlearn: 0.0467837\ttotal: 2.45s\tremaining: 1.78s\n",
            "580:\tlearn: 0.0466980\ttotal: 2.46s\tremaining: 1.77s\n",
            "581:\tlearn: 0.0466067\ttotal: 2.46s\tremaining: 1.77s\n",
            "582:\tlearn: 0.0465313\ttotal: 2.47s\tremaining: 1.76s\n",
            "583:\tlearn: 0.0464453\ttotal: 2.47s\tremaining: 1.76s\n",
            "584:\tlearn: 0.0463353\ttotal: 2.48s\tremaining: 1.76s\n",
            "585:\tlearn: 0.0462404\ttotal: 2.48s\tremaining: 1.75s\n",
            "586:\tlearn: 0.0461529\ttotal: 2.49s\tremaining: 1.75s\n",
            "587:\tlearn: 0.0460513\ttotal: 2.49s\tremaining: 1.75s\n",
            "588:\tlearn: 0.0459633\ttotal: 2.5s\tremaining: 1.74s\n",
            "589:\tlearn: 0.0458020\ttotal: 2.5s\tremaining: 1.74s\n",
            "590:\tlearn: 0.0457181\ttotal: 2.51s\tremaining: 1.74s\n",
            "591:\tlearn: 0.0455422\ttotal: 2.52s\tremaining: 1.74s\n",
            "592:\tlearn: 0.0454672\ttotal: 2.52s\tremaining: 1.73s\n",
            "593:\tlearn: 0.0453875\ttotal: 2.53s\tremaining: 1.73s\n",
            "594:\tlearn: 0.0452872\ttotal: 2.54s\tremaining: 1.73s\n",
            "595:\tlearn: 0.0452048\ttotal: 2.54s\tremaining: 1.72s\n",
            "596:\tlearn: 0.0451281\ttotal: 2.54s\tremaining: 1.72s\n",
            "597:\tlearn: 0.0450489\ttotal: 2.55s\tremaining: 1.71s\n",
            "598:\tlearn: 0.0449681\ttotal: 2.56s\tremaining: 1.71s\n",
            "599:\tlearn: 0.0449078\ttotal: 2.56s\tremaining: 1.71s\n",
            "600:\tlearn: 0.0447578\ttotal: 2.57s\tremaining: 1.71s\n",
            "601:\tlearn: 0.0446398\ttotal: 2.57s\tremaining: 1.7s\n",
            "602:\tlearn: 0.0445832\ttotal: 2.58s\tremaining: 1.7s\n",
            "603:\tlearn: 0.0444869\ttotal: 2.58s\tremaining: 1.69s\n",
            "604:\tlearn: 0.0443794\ttotal: 2.59s\tremaining: 1.69s\n",
            "605:\tlearn: 0.0443095\ttotal: 2.59s\tremaining: 1.69s\n",
            "606:\tlearn: 0.0441913\ttotal: 2.59s\tremaining: 1.68s\n",
            "607:\tlearn: 0.0440799\ttotal: 2.6s\tremaining: 1.68s\n",
            "608:\tlearn: 0.0439777\ttotal: 2.61s\tremaining: 1.67s\n",
            "609:\tlearn: 0.0438436\ttotal: 2.61s\tremaining: 1.67s\n",
            "610:\tlearn: 0.0437751\ttotal: 2.62s\tremaining: 1.67s\n",
            "611:\tlearn: 0.0436758\ttotal: 2.63s\tremaining: 1.66s\n",
            "612:\tlearn: 0.0436313\ttotal: 2.63s\tremaining: 1.66s\n",
            "613:\tlearn: 0.0435630\ttotal: 2.63s\tremaining: 1.65s\n",
            "614:\tlearn: 0.0434492\ttotal: 2.64s\tremaining: 1.65s\n",
            "615:\tlearn: 0.0433555\ttotal: 2.64s\tremaining: 1.65s\n",
            "616:\tlearn: 0.0432650\ttotal: 2.64s\tremaining: 1.64s\n",
            "617:\tlearn: 0.0432099\ttotal: 2.64s\tremaining: 1.63s\n",
            "618:\tlearn: 0.0431410\ttotal: 2.65s\tremaining: 1.63s\n",
            "619:\tlearn: 0.0430865\ttotal: 2.65s\tremaining: 1.62s\n",
            "620:\tlearn: 0.0430154\ttotal: 2.65s\tremaining: 1.62s\n",
            "621:\tlearn: 0.0428605\ttotal: 2.65s\tremaining: 1.61s\n",
            "622:\tlearn: 0.0427714\ttotal: 2.66s\tremaining: 1.61s\n",
            "623:\tlearn: 0.0426505\ttotal: 2.66s\tremaining: 1.6s\n",
            "624:\tlearn: 0.0425108\ttotal: 2.66s\tremaining: 1.6s\n",
            "625:\tlearn: 0.0424293\ttotal: 2.66s\tremaining: 1.59s\n",
            "626:\tlearn: 0.0423595\ttotal: 2.67s\tremaining: 1.58s\n",
            "627:\tlearn: 0.0422831\ttotal: 2.67s\tremaining: 1.58s\n",
            "628:\tlearn: 0.0421756\ttotal: 2.67s\tremaining: 1.57s\n",
            "629:\tlearn: 0.0420798\ttotal: 2.67s\tremaining: 1.57s\n",
            "630:\tlearn: 0.0420226\ttotal: 2.67s\tremaining: 1.56s\n",
            "631:\tlearn: 0.0419096\ttotal: 2.68s\tremaining: 1.56s\n",
            "632:\tlearn: 0.0418462\ttotal: 2.68s\tremaining: 1.55s\n",
            "633:\tlearn: 0.0417300\ttotal: 2.68s\tremaining: 1.55s\n",
            "634:\tlearn: 0.0416190\ttotal: 2.68s\tremaining: 1.54s\n",
            "635:\tlearn: 0.0415317\ttotal: 2.69s\tremaining: 1.54s\n",
            "636:\tlearn: 0.0414572\ttotal: 2.69s\tremaining: 1.53s\n",
            "637:\tlearn: 0.0413920\ttotal: 2.69s\tremaining: 1.53s\n",
            "638:\tlearn: 0.0413067\ttotal: 2.69s\tremaining: 1.52s\n",
            "639:\tlearn: 0.0412046\ttotal: 2.69s\tremaining: 1.51s\n",
            "640:\tlearn: 0.0410975\ttotal: 2.7s\tremaining: 1.51s\n",
            "641:\tlearn: 0.0410237\ttotal: 2.7s\tremaining: 1.5s\n",
            "642:\tlearn: 0.0408998\ttotal: 2.7s\tremaining: 1.5s\n",
            "643:\tlearn: 0.0407952\ttotal: 2.7s\tremaining: 1.49s\n",
            "644:\tlearn: 0.0407170\ttotal: 2.71s\tremaining: 1.49s\n",
            "645:\tlearn: 0.0406784\ttotal: 2.71s\tremaining: 1.48s\n",
            "646:\tlearn: 0.0406122\ttotal: 2.71s\tremaining: 1.48s\n",
            "647:\tlearn: 0.0404883\ttotal: 2.71s\tremaining: 1.47s\n",
            "648:\tlearn: 0.0404110\ttotal: 2.71s\tremaining: 1.47s\n",
            "649:\tlearn: 0.0403306\ttotal: 2.72s\tremaining: 1.46s\n",
            "650:\tlearn: 0.0402489\ttotal: 2.73s\tremaining: 1.46s\n",
            "651:\tlearn: 0.0401824\ttotal: 2.73s\tremaining: 1.46s\n",
            "652:\tlearn: 0.0401454\ttotal: 2.73s\tremaining: 1.45s\n",
            "653:\tlearn: 0.0400680\ttotal: 2.73s\tremaining: 1.45s\n",
            "654:\tlearn: 0.0399786\ttotal: 2.74s\tremaining: 1.45s\n",
            "655:\tlearn: 0.0398998\ttotal: 2.75s\tremaining: 1.44s\n",
            "656:\tlearn: 0.0397995\ttotal: 2.75s\tremaining: 1.44s\n",
            "657:\tlearn: 0.0397123\ttotal: 2.75s\tremaining: 1.43s\n",
            "658:\tlearn: 0.0396441\ttotal: 2.75s\tremaining: 1.42s\n",
            "659:\tlearn: 0.0395832\ttotal: 2.75s\tremaining: 1.42s\n",
            "660:\tlearn: 0.0395446\ttotal: 2.76s\tremaining: 1.41s\n",
            "661:\tlearn: 0.0394898\ttotal: 2.76s\tremaining: 1.41s\n",
            "662:\tlearn: 0.0394014\ttotal: 2.76s\tremaining: 1.4s\n",
            "663:\tlearn: 0.0393136\ttotal: 2.77s\tremaining: 1.4s\n",
            "664:\tlearn: 0.0391645\ttotal: 2.77s\tremaining: 1.39s\n",
            "665:\tlearn: 0.0391254\ttotal: 2.77s\tremaining: 1.39s\n",
            "666:\tlearn: 0.0390700\ttotal: 2.77s\tremaining: 1.38s\n",
            "667:\tlearn: 0.0389890\ttotal: 2.77s\tremaining: 1.38s\n",
            "668:\tlearn: 0.0389032\ttotal: 2.78s\tremaining: 1.37s\n",
            "669:\tlearn: 0.0388433\ttotal: 2.78s\tremaining: 1.37s\n",
            "670:\tlearn: 0.0387647\ttotal: 2.78s\tremaining: 1.36s\n",
            "671:\tlearn: 0.0387127\ttotal: 2.78s\tremaining: 1.36s\n",
            "672:\tlearn: 0.0385931\ttotal: 2.79s\tremaining: 1.35s\n",
            "673:\tlearn: 0.0385535\ttotal: 2.79s\tremaining: 1.35s\n",
            "674:\tlearn: 0.0384591\ttotal: 2.79s\tremaining: 1.34s\n",
            "675:\tlearn: 0.0383582\ttotal: 2.79s\tremaining: 1.34s\n",
            "676:\tlearn: 0.0382742\ttotal: 2.79s\tremaining: 1.33s\n",
            "677:\tlearn: 0.0382149\ttotal: 2.8s\tremaining: 1.33s\n",
            "678:\tlearn: 0.0381506\ttotal: 2.8s\tremaining: 1.32s\n",
            "679:\tlearn: 0.0380941\ttotal: 2.8s\tremaining: 1.32s\n",
            "680:\tlearn: 0.0380404\ttotal: 2.8s\tremaining: 1.31s\n",
            "681:\tlearn: 0.0379714\ttotal: 2.8s\tremaining: 1.31s\n",
            "682:\tlearn: 0.0379149\ttotal: 2.81s\tremaining: 1.3s\n",
            "683:\tlearn: 0.0377873\ttotal: 2.81s\tremaining: 1.3s\n",
            "684:\tlearn: 0.0377014\ttotal: 2.81s\tremaining: 1.29s\n",
            "685:\tlearn: 0.0376525\ttotal: 2.81s\tremaining: 1.29s\n",
            "686:\tlearn: 0.0375774\ttotal: 2.81s\tremaining: 1.28s\n",
            "687:\tlearn: 0.0374688\ttotal: 2.82s\tremaining: 1.28s\n",
            "688:\tlearn: 0.0373727\ttotal: 2.82s\tremaining: 1.27s\n",
            "689:\tlearn: 0.0373033\ttotal: 2.82s\tremaining: 1.27s\n",
            "690:\tlearn: 0.0372259\ttotal: 2.82s\tremaining: 1.26s\n",
            "691:\tlearn: 0.0371382\ttotal: 2.83s\tremaining: 1.26s\n",
            "692:\tlearn: 0.0370470\ttotal: 2.83s\tremaining: 1.25s\n",
            "693:\tlearn: 0.0369746\ttotal: 2.83s\tremaining: 1.25s\n",
            "694:\tlearn: 0.0368784\ttotal: 2.83s\tremaining: 1.24s\n",
            "695:\tlearn: 0.0368040\ttotal: 2.83s\tremaining: 1.24s\n",
            "696:\tlearn: 0.0367067\ttotal: 2.84s\tremaining: 1.23s\n",
            "697:\tlearn: 0.0366291\ttotal: 2.84s\tremaining: 1.23s\n",
            "698:\tlearn: 0.0365848\ttotal: 2.84s\tremaining: 1.22s\n",
            "699:\tlearn: 0.0365129\ttotal: 2.84s\tremaining: 1.22s\n",
            "700:\tlearn: 0.0364381\ttotal: 2.85s\tremaining: 1.21s\n",
            "701:\tlearn: 0.0363443\ttotal: 2.85s\tremaining: 1.21s\n",
            "702:\tlearn: 0.0362831\ttotal: 2.85s\tremaining: 1.2s\n",
            "703:\tlearn: 0.0362099\ttotal: 2.85s\tremaining: 1.2s\n",
            "704:\tlearn: 0.0361286\ttotal: 2.86s\tremaining: 1.2s\n",
            "705:\tlearn: 0.0360503\ttotal: 2.86s\tremaining: 1.19s\n",
            "706:\tlearn: 0.0360162\ttotal: 2.86s\tremaining: 1.19s\n",
            "707:\tlearn: 0.0359727\ttotal: 2.86s\tremaining: 1.18s\n",
            "708:\tlearn: 0.0359065\ttotal: 2.86s\tremaining: 1.18s\n",
            "709:\tlearn: 0.0358404\ttotal: 2.87s\tremaining: 1.17s\n",
            "710:\tlearn: 0.0357594\ttotal: 2.87s\tremaining: 1.17s\n",
            "711:\tlearn: 0.0356984\ttotal: 2.87s\tremaining: 1.16s\n",
            "712:\tlearn: 0.0355876\ttotal: 2.88s\tremaining: 1.16s\n",
            "713:\tlearn: 0.0355132\ttotal: 2.88s\tremaining: 1.15s\n",
            "714:\tlearn: 0.0354368\ttotal: 2.89s\tremaining: 1.15s\n",
            "715:\tlearn: 0.0353574\ttotal: 2.89s\tremaining: 1.15s\n",
            "716:\tlearn: 0.0352764\ttotal: 2.9s\tremaining: 1.14s\n",
            "717:\tlearn: 0.0352329\ttotal: 2.9s\tremaining: 1.14s\n",
            "718:\tlearn: 0.0351139\ttotal: 2.9s\tremaining: 1.14s\n",
            "719:\tlearn: 0.0350400\ttotal: 2.91s\tremaining: 1.13s\n",
            "720:\tlearn: 0.0349897\ttotal: 2.91s\tremaining: 1.13s\n",
            "721:\tlearn: 0.0349395\ttotal: 2.91s\tremaining: 1.12s\n",
            "722:\tlearn: 0.0348950\ttotal: 2.91s\tremaining: 1.12s\n",
            "723:\tlearn: 0.0348519\ttotal: 2.92s\tremaining: 1.11s\n",
            "724:\tlearn: 0.0347741\ttotal: 2.92s\tremaining: 1.11s\n",
            "725:\tlearn: 0.0347073\ttotal: 2.92s\tremaining: 1.1s\n",
            "726:\tlearn: 0.0346389\ttotal: 2.92s\tremaining: 1.1s\n",
            "727:\tlearn: 0.0345829\ttotal: 2.93s\tremaining: 1.09s\n",
            "728:\tlearn: 0.0345139\ttotal: 2.93s\tremaining: 1.09s\n",
            "729:\tlearn: 0.0344460\ttotal: 2.93s\tremaining: 1.08s\n",
            "730:\tlearn: 0.0343972\ttotal: 2.94s\tremaining: 1.08s\n",
            "731:\tlearn: 0.0343649\ttotal: 2.94s\tremaining: 1.08s\n",
            "732:\tlearn: 0.0342953\ttotal: 2.94s\tremaining: 1.07s\n",
            "733:\tlearn: 0.0342396\ttotal: 2.94s\tremaining: 1.07s\n",
            "734:\tlearn: 0.0341825\ttotal: 2.95s\tremaining: 1.06s\n",
            "735:\tlearn: 0.0341008\ttotal: 2.95s\tremaining: 1.06s\n",
            "736:\tlearn: 0.0340293\ttotal: 2.95s\tremaining: 1.05s\n",
            "737:\tlearn: 0.0339466\ttotal: 2.95s\tremaining: 1.05s\n",
            "738:\tlearn: 0.0338792\ttotal: 2.95s\tremaining: 1.04s\n",
            "739:\tlearn: 0.0338057\ttotal: 2.96s\tremaining: 1.04s\n",
            "740:\tlearn: 0.0337130\ttotal: 2.96s\tremaining: 1.03s\n",
            "741:\tlearn: 0.0336390\ttotal: 2.96s\tremaining: 1.03s\n",
            "742:\tlearn: 0.0335903\ttotal: 2.96s\tremaining: 1.02s\n",
            "743:\tlearn: 0.0334862\ttotal: 2.96s\tremaining: 1.02s\n",
            "744:\tlearn: 0.0334335\ttotal: 2.97s\tremaining: 1.01s\n",
            "745:\tlearn: 0.0333637\ttotal: 2.97s\tremaining: 1.01s\n",
            "746:\tlearn: 0.0333162\ttotal: 2.97s\tremaining: 1.01s\n",
            "747:\tlearn: 0.0332226\ttotal: 2.97s\tremaining: 1s\n",
            "748:\tlearn: 0.0331809\ttotal: 2.98s\tremaining: 997ms\n",
            "749:\tlearn: 0.0331220\ttotal: 2.98s\tremaining: 993ms\n",
            "750:\tlearn: 0.0330472\ttotal: 2.98s\tremaining: 988ms\n",
            "751:\tlearn: 0.0329807\ttotal: 2.98s\tremaining: 984ms\n",
            "752:\tlearn: 0.0329137\ttotal: 2.98s\tremaining: 979ms\n",
            "753:\tlearn: 0.0328712\ttotal: 2.99s\tremaining: 974ms\n",
            "754:\tlearn: 0.0327823\ttotal: 2.99s\tremaining: 970ms\n",
            "755:\tlearn: 0.0327086\ttotal: 2.99s\tremaining: 965ms\n",
            "756:\tlearn: 0.0326597\ttotal: 2.99s\tremaining: 961ms\n",
            "757:\tlearn: 0.0326101\ttotal: 3s\tremaining: 957ms\n",
            "758:\tlearn: 0.0325510\ttotal: 3s\tremaining: 952ms\n",
            "759:\tlearn: 0.0325045\ttotal: 3s\tremaining: 948ms\n",
            "760:\tlearn: 0.0324387\ttotal: 3s\tremaining: 943ms\n",
            "761:\tlearn: 0.0323755\ttotal: 3.01s\tremaining: 939ms\n",
            "762:\tlearn: 0.0322905\ttotal: 3.01s\tremaining: 934ms\n",
            "763:\tlearn: 0.0322492\ttotal: 3.01s\tremaining: 930ms\n",
            "764:\tlearn: 0.0321844\ttotal: 3.01s\tremaining: 926ms\n",
            "765:\tlearn: 0.0321309\ttotal: 3.02s\tremaining: 921ms\n",
            "766:\tlearn: 0.0320443\ttotal: 3.02s\tremaining: 917ms\n",
            "767:\tlearn: 0.0319699\ttotal: 3.02s\tremaining: 912ms\n",
            "768:\tlearn: 0.0319173\ttotal: 3.02s\tremaining: 908ms\n",
            "769:\tlearn: 0.0318665\ttotal: 3.02s\tremaining: 903ms\n",
            "770:\tlearn: 0.0318059\ttotal: 3.03s\tremaining: 899ms\n",
            "771:\tlearn: 0.0317579\ttotal: 3.03s\tremaining: 895ms\n",
            "772:\tlearn: 0.0317115\ttotal: 3.03s\tremaining: 891ms\n",
            "773:\tlearn: 0.0316727\ttotal: 3.04s\tremaining: 886ms\n",
            "774:\tlearn: 0.0316368\ttotal: 3.04s\tremaining: 882ms\n",
            "775:\tlearn: 0.0315861\ttotal: 3.04s\tremaining: 878ms\n",
            "776:\tlearn: 0.0315328\ttotal: 3.04s\tremaining: 873ms\n",
            "777:\tlearn: 0.0314673\ttotal: 3.04s\tremaining: 869ms\n",
            "778:\tlearn: 0.0313945\ttotal: 3.05s\tremaining: 864ms\n",
            "779:\tlearn: 0.0313451\ttotal: 3.05s\tremaining: 860ms\n",
            "780:\tlearn: 0.0313045\ttotal: 3.05s\tremaining: 857ms\n",
            "781:\tlearn: 0.0312439\ttotal: 3.06s\tremaining: 852ms\n",
            "782:\tlearn: 0.0312062\ttotal: 3.06s\tremaining: 848ms\n",
            "783:\tlearn: 0.0311108\ttotal: 3.06s\tremaining: 844ms\n",
            "784:\tlearn: 0.0310630\ttotal: 3.06s\tremaining: 839ms\n",
            "785:\tlearn: 0.0310029\ttotal: 3.07s\tremaining: 835ms\n",
            "786:\tlearn: 0.0309341\ttotal: 3.07s\tremaining: 831ms\n",
            "787:\tlearn: 0.0308668\ttotal: 3.07s\tremaining: 826ms\n",
            "788:\tlearn: 0.0308079\ttotal: 3.07s\tremaining: 822ms\n",
            "789:\tlearn: 0.0307437\ttotal: 3.08s\tremaining: 818ms\n",
            "790:\tlearn: 0.0306915\ttotal: 3.08s\tremaining: 814ms\n",
            "791:\tlearn: 0.0306191\ttotal: 3.08s\tremaining: 810ms\n",
            "792:\tlearn: 0.0305771\ttotal: 3.08s\tremaining: 806ms\n",
            "793:\tlearn: 0.0305319\ttotal: 3.09s\tremaining: 801ms\n",
            "794:\tlearn: 0.0304645\ttotal: 3.09s\tremaining: 797ms\n",
            "795:\tlearn: 0.0304160\ttotal: 3.09s\tremaining: 793ms\n",
            "796:\tlearn: 0.0303534\ttotal: 3.1s\tremaining: 789ms\n",
            "797:\tlearn: 0.0302933\ttotal: 3.1s\tremaining: 785ms\n",
            "798:\tlearn: 0.0302152\ttotal: 3.1s\tremaining: 780ms\n",
            "799:\tlearn: 0.0301432\ttotal: 3.11s\tremaining: 779ms\n",
            "800:\tlearn: 0.0300931\ttotal: 3.12s\tremaining: 775ms\n",
            "801:\tlearn: 0.0300433\ttotal: 3.12s\tremaining: 771ms\n",
            "802:\tlearn: 0.0299799\ttotal: 3.12s\tremaining: 766ms\n",
            "803:\tlearn: 0.0299309\ttotal: 3.13s\tremaining: 763ms\n",
            "804:\tlearn: 0.0298439\ttotal: 3.13s\tremaining: 759ms\n",
            "805:\tlearn: 0.0297898\ttotal: 3.13s\tremaining: 755ms\n",
            "806:\tlearn: 0.0297346\ttotal: 3.14s\tremaining: 750ms\n",
            "807:\tlearn: 0.0296476\ttotal: 3.14s\tremaining: 746ms\n",
            "808:\tlearn: 0.0295902\ttotal: 3.14s\tremaining: 742ms\n",
            "809:\tlearn: 0.0295432\ttotal: 3.14s\tremaining: 738ms\n",
            "810:\tlearn: 0.0294846\ttotal: 3.15s\tremaining: 734ms\n",
            "811:\tlearn: 0.0294029\ttotal: 3.15s\tremaining: 730ms\n",
            "812:\tlearn: 0.0293365\ttotal: 3.15s\tremaining: 725ms\n",
            "813:\tlearn: 0.0293022\ttotal: 3.16s\tremaining: 721ms\n",
            "814:\tlearn: 0.0292586\ttotal: 3.16s\tremaining: 717ms\n",
            "815:\tlearn: 0.0292092\ttotal: 3.16s\tremaining: 713ms\n",
            "816:\tlearn: 0.0291679\ttotal: 3.16s\tremaining: 709ms\n",
            "817:\tlearn: 0.0291161\ttotal: 3.17s\tremaining: 704ms\n",
            "818:\tlearn: 0.0290699\ttotal: 3.17s\tremaining: 700ms\n",
            "819:\tlearn: 0.0290279\ttotal: 3.17s\tremaining: 696ms\n",
            "820:\tlearn: 0.0289863\ttotal: 3.17s\tremaining: 692ms\n",
            "821:\tlearn: 0.0289388\ttotal: 3.17s\tremaining: 687ms\n",
            "822:\tlearn: 0.0288846\ttotal: 3.18s\tremaining: 683ms\n",
            "823:\tlearn: 0.0288371\ttotal: 3.18s\tremaining: 679ms\n",
            "824:\tlearn: 0.0288034\ttotal: 3.18s\tremaining: 675ms\n",
            "825:\tlearn: 0.0287620\ttotal: 3.18s\tremaining: 671ms\n",
            "826:\tlearn: 0.0287133\ttotal: 3.19s\tremaining: 667ms\n",
            "827:\tlearn: 0.0286617\ttotal: 3.19s\tremaining: 662ms\n",
            "828:\tlearn: 0.0285762\ttotal: 3.19s\tremaining: 658ms\n",
            "829:\tlearn: 0.0285095\ttotal: 3.19s\tremaining: 654ms\n",
            "830:\tlearn: 0.0284603\ttotal: 3.19s\tremaining: 650ms\n",
            "831:\tlearn: 0.0284264\ttotal: 3.2s\tremaining: 646ms\n",
            "832:\tlearn: 0.0283651\ttotal: 3.2s\tremaining: 642ms\n",
            "833:\tlearn: 0.0283357\ttotal: 3.2s\tremaining: 637ms\n",
            "834:\tlearn: 0.0282656\ttotal: 3.2s\tremaining: 633ms\n",
            "835:\tlearn: 0.0282286\ttotal: 3.21s\tremaining: 629ms\n",
            "836:\tlearn: 0.0281549\ttotal: 3.21s\tremaining: 625ms\n",
            "837:\tlearn: 0.0280987\ttotal: 3.21s\tremaining: 621ms\n",
            "838:\tlearn: 0.0280480\ttotal: 3.21s\tremaining: 617ms\n",
            "839:\tlearn: 0.0280172\ttotal: 3.21s\tremaining: 612ms\n",
            "840:\tlearn: 0.0279769\ttotal: 3.22s\tremaining: 608ms\n",
            "841:\tlearn: 0.0279219\ttotal: 3.22s\tremaining: 604ms\n",
            "842:\tlearn: 0.0278792\ttotal: 3.22s\tremaining: 600ms\n",
            "843:\tlearn: 0.0278317\ttotal: 3.23s\tremaining: 596ms\n",
            "844:\tlearn: 0.0277547\ttotal: 3.23s\tremaining: 592ms\n",
            "845:\tlearn: 0.0276893\ttotal: 3.23s\tremaining: 588ms\n",
            "846:\tlearn: 0.0276526\ttotal: 3.23s\tremaining: 584ms\n",
            "847:\tlearn: 0.0275966\ttotal: 3.24s\tremaining: 580ms\n",
            "848:\tlearn: 0.0275468\ttotal: 3.24s\tremaining: 576ms\n",
            "849:\tlearn: 0.0275116\ttotal: 3.24s\tremaining: 572ms\n",
            "850:\tlearn: 0.0274745\ttotal: 3.24s\tremaining: 568ms\n",
            "851:\tlearn: 0.0274199\ttotal: 3.25s\tremaining: 564ms\n",
            "852:\tlearn: 0.0273904\ttotal: 3.25s\tremaining: 560ms\n",
            "853:\tlearn: 0.0273291\ttotal: 3.25s\tremaining: 556ms\n",
            "854:\tlearn: 0.0272775\ttotal: 3.25s\tremaining: 552ms\n",
            "855:\tlearn: 0.0272367\ttotal: 3.25s\tremaining: 548ms\n",
            "856:\tlearn: 0.0271888\ttotal: 3.26s\tremaining: 544ms\n",
            "857:\tlearn: 0.0271288\ttotal: 3.27s\tremaining: 541ms\n",
            "858:\tlearn: 0.0270836\ttotal: 3.27s\tremaining: 537ms\n",
            "859:\tlearn: 0.0270536\ttotal: 3.27s\tremaining: 533ms\n",
            "860:\tlearn: 0.0270120\ttotal: 3.28s\tremaining: 529ms\n",
            "861:\tlearn: 0.0269533\ttotal: 3.28s\tremaining: 525ms\n",
            "862:\tlearn: 0.0269065\ttotal: 3.28s\tremaining: 521ms\n",
            "863:\tlearn: 0.0268544\ttotal: 3.28s\tremaining: 517ms\n",
            "864:\tlearn: 0.0268048\ttotal: 3.28s\tremaining: 513ms\n",
            "865:\tlearn: 0.0267420\ttotal: 3.29s\tremaining: 509ms\n",
            "866:\tlearn: 0.0267141\ttotal: 3.29s\tremaining: 505ms\n",
            "867:\tlearn: 0.0266766\ttotal: 3.29s\tremaining: 501ms\n",
            "868:\tlearn: 0.0266462\ttotal: 3.29s\tremaining: 497ms\n",
            "869:\tlearn: 0.0265986\ttotal: 3.3s\tremaining: 493ms\n",
            "870:\tlearn: 0.0265611\ttotal: 3.3s\tremaining: 489ms\n",
            "871:\tlearn: 0.0265093\ttotal: 3.3s\tremaining: 485ms\n",
            "872:\tlearn: 0.0264584\ttotal: 3.31s\tremaining: 482ms\n",
            "873:\tlearn: 0.0264226\ttotal: 3.31s\tremaining: 478ms\n",
            "874:\tlearn: 0.0263890\ttotal: 3.31s\tremaining: 474ms\n",
            "875:\tlearn: 0.0263249\ttotal: 3.32s\tremaining: 470ms\n",
            "876:\tlearn: 0.0262758\ttotal: 3.32s\tremaining: 466ms\n",
            "877:\tlearn: 0.0262018\ttotal: 3.32s\tremaining: 462ms\n",
            "878:\tlearn: 0.0261302\ttotal: 3.32s\tremaining: 458ms\n",
            "879:\tlearn: 0.0260684\ttotal: 3.33s\tremaining: 454ms\n",
            "880:\tlearn: 0.0260314\ttotal: 3.33s\tremaining: 450ms\n",
            "881:\tlearn: 0.0259982\ttotal: 3.33s\tremaining: 446ms\n",
            "882:\tlearn: 0.0259428\ttotal: 3.33s\tremaining: 442ms\n",
            "883:\tlearn: 0.0258856\ttotal: 3.33s\tremaining: 438ms\n",
            "884:\tlearn: 0.0258552\ttotal: 3.34s\tremaining: 434ms\n",
            "885:\tlearn: 0.0257947\ttotal: 3.34s\tremaining: 430ms\n",
            "886:\tlearn: 0.0257636\ttotal: 3.34s\tremaining: 426ms\n",
            "887:\tlearn: 0.0257141\ttotal: 3.34s\tremaining: 422ms\n",
            "888:\tlearn: 0.0256662\ttotal: 3.35s\tremaining: 418ms\n",
            "889:\tlearn: 0.0256282\ttotal: 3.35s\tremaining: 414ms\n",
            "890:\tlearn: 0.0255941\ttotal: 3.35s\tremaining: 410ms\n",
            "891:\tlearn: 0.0255308\ttotal: 3.35s\tremaining: 406ms\n",
            "892:\tlearn: 0.0254610\ttotal: 3.35s\tremaining: 402ms\n",
            "893:\tlearn: 0.0254218\ttotal: 3.36s\tremaining: 398ms\n",
            "894:\tlearn: 0.0253833\ttotal: 3.36s\tremaining: 394ms\n",
            "895:\tlearn: 0.0253341\ttotal: 3.36s\tremaining: 390ms\n",
            "896:\tlearn: 0.0252936\ttotal: 3.36s\tremaining: 386ms\n",
            "897:\tlearn: 0.0252491\ttotal: 3.37s\tremaining: 382ms\n",
            "898:\tlearn: 0.0252128\ttotal: 3.37s\tremaining: 379ms\n",
            "899:\tlearn: 0.0251538\ttotal: 3.38s\tremaining: 375ms\n",
            "900:\tlearn: 0.0251023\ttotal: 3.38s\tremaining: 371ms\n",
            "901:\tlearn: 0.0250376\ttotal: 3.38s\tremaining: 367ms\n",
            "902:\tlearn: 0.0249820\ttotal: 3.38s\tremaining: 363ms\n",
            "903:\tlearn: 0.0249338\ttotal: 3.38s\tremaining: 360ms\n",
            "904:\tlearn: 0.0248945\ttotal: 3.39s\tremaining: 356ms\n",
            "905:\tlearn: 0.0248544\ttotal: 3.39s\tremaining: 352ms\n",
            "906:\tlearn: 0.0248091\ttotal: 3.39s\tremaining: 348ms\n",
            "907:\tlearn: 0.0247737\ttotal: 3.4s\tremaining: 344ms\n",
            "908:\tlearn: 0.0247332\ttotal: 3.4s\tremaining: 340ms\n",
            "909:\tlearn: 0.0246942\ttotal: 3.4s\tremaining: 336ms\n",
            "910:\tlearn: 0.0246606\ttotal: 3.4s\tremaining: 332ms\n",
            "911:\tlearn: 0.0246077\ttotal: 3.4s\tremaining: 328ms\n",
            "912:\tlearn: 0.0245747\ttotal: 3.4s\tremaining: 325ms\n",
            "913:\tlearn: 0.0245503\ttotal: 3.41s\tremaining: 321ms\n",
            "914:\tlearn: 0.0244940\ttotal: 3.41s\tremaining: 317ms\n",
            "915:\tlearn: 0.0244450\ttotal: 3.41s\tremaining: 313ms\n",
            "916:\tlearn: 0.0243946\ttotal: 3.41s\tremaining: 309ms\n",
            "917:\tlearn: 0.0243658\ttotal: 3.42s\tremaining: 305ms\n",
            "918:\tlearn: 0.0243341\ttotal: 3.42s\tremaining: 301ms\n",
            "919:\tlearn: 0.0243103\ttotal: 3.42s\tremaining: 297ms\n",
            "920:\tlearn: 0.0242688\ttotal: 3.42s\tremaining: 294ms\n",
            "921:\tlearn: 0.0242214\ttotal: 3.42s\tremaining: 290ms\n",
            "922:\tlearn: 0.0241962\ttotal: 3.43s\tremaining: 286ms\n",
            "923:\tlearn: 0.0241713\ttotal: 3.43s\tremaining: 282ms\n",
            "924:\tlearn: 0.0241311\ttotal: 3.43s\tremaining: 278ms\n",
            "925:\tlearn: 0.0240735\ttotal: 3.43s\tremaining: 274ms\n",
            "926:\tlearn: 0.0240227\ttotal: 3.44s\tremaining: 271ms\n",
            "927:\tlearn: 0.0239687\ttotal: 3.44s\tremaining: 267ms\n",
            "928:\tlearn: 0.0239352\ttotal: 3.44s\tremaining: 263ms\n",
            "929:\tlearn: 0.0238955\ttotal: 3.44s\tremaining: 259ms\n",
            "930:\tlearn: 0.0238474\ttotal: 3.44s\tremaining: 255ms\n",
            "931:\tlearn: 0.0238104\ttotal: 3.45s\tremaining: 252ms\n",
            "932:\tlearn: 0.0237677\ttotal: 3.45s\tremaining: 248ms\n",
            "933:\tlearn: 0.0237203\ttotal: 3.45s\tremaining: 244ms\n",
            "934:\tlearn: 0.0236825\ttotal: 3.45s\tremaining: 240ms\n",
            "935:\tlearn: 0.0236537\ttotal: 3.46s\tremaining: 236ms\n",
            "936:\tlearn: 0.0236202\ttotal: 3.46s\tremaining: 233ms\n",
            "937:\tlearn: 0.0235780\ttotal: 3.46s\tremaining: 229ms\n",
            "938:\tlearn: 0.0235397\ttotal: 3.46s\tremaining: 225ms\n",
            "939:\tlearn: 0.0234949\ttotal: 3.46s\tremaining: 221ms\n",
            "940:\tlearn: 0.0234557\ttotal: 3.47s\tremaining: 217ms\n",
            "941:\tlearn: 0.0234192\ttotal: 3.47s\tremaining: 214ms\n",
            "942:\tlearn: 0.0233764\ttotal: 3.47s\tremaining: 210ms\n",
            "943:\tlearn: 0.0233319\ttotal: 3.47s\tremaining: 206ms\n",
            "944:\tlearn: 0.0232790\ttotal: 3.48s\tremaining: 202ms\n",
            "945:\tlearn: 0.0232293\ttotal: 3.48s\tremaining: 199ms\n",
            "946:\tlearn: 0.0231948\ttotal: 3.48s\tremaining: 195ms\n",
            "947:\tlearn: 0.0231644\ttotal: 3.48s\tremaining: 191ms\n",
            "948:\tlearn: 0.0231330\ttotal: 3.48s\tremaining: 187ms\n",
            "949:\tlearn: 0.0230837\ttotal: 3.49s\tremaining: 184ms\n",
            "950:\tlearn: 0.0230465\ttotal: 3.49s\tremaining: 180ms\n",
            "951:\tlearn: 0.0229906\ttotal: 3.5s\tremaining: 176ms\n",
            "952:\tlearn: 0.0229490\ttotal: 3.5s\tremaining: 173ms\n",
            "953:\tlearn: 0.0229295\ttotal: 3.5s\tremaining: 169ms\n",
            "954:\tlearn: 0.0228851\ttotal: 3.5s\tremaining: 165ms\n",
            "955:\tlearn: 0.0228407\ttotal: 3.5s\tremaining: 161ms\n",
            "956:\tlearn: 0.0228122\ttotal: 3.51s\tremaining: 158ms\n",
            "957:\tlearn: 0.0227506\ttotal: 3.51s\tremaining: 154ms\n",
            "958:\tlearn: 0.0227143\ttotal: 3.51s\tremaining: 150ms\n",
            "959:\tlearn: 0.0226858\ttotal: 3.51s\tremaining: 146ms\n",
            "960:\tlearn: 0.0226521\ttotal: 3.52s\tremaining: 143ms\n",
            "961:\tlearn: 0.0226118\ttotal: 3.52s\tremaining: 139ms\n",
            "962:\tlearn: 0.0225684\ttotal: 3.52s\tremaining: 135ms\n",
            "963:\tlearn: 0.0225429\ttotal: 3.52s\tremaining: 132ms\n",
            "964:\tlearn: 0.0224985\ttotal: 3.52s\tremaining: 128ms\n",
            "965:\tlearn: 0.0224637\ttotal: 3.53s\tremaining: 124ms\n",
            "966:\tlearn: 0.0224235\ttotal: 3.53s\tremaining: 120ms\n",
            "967:\tlearn: 0.0223945\ttotal: 3.53s\tremaining: 117ms\n",
            "968:\tlearn: 0.0223621\ttotal: 3.53s\tremaining: 113ms\n",
            "969:\tlearn: 0.0223417\ttotal: 3.54s\tremaining: 109ms\n",
            "970:\tlearn: 0.0223208\ttotal: 3.54s\tremaining: 106ms\n",
            "971:\tlearn: 0.0222883\ttotal: 3.54s\tremaining: 102ms\n",
            "972:\tlearn: 0.0222564\ttotal: 3.54s\tremaining: 98.3ms\n",
            "973:\tlearn: 0.0222049\ttotal: 3.54s\tremaining: 94.6ms\n",
            "974:\tlearn: 0.0221618\ttotal: 3.55s\tremaining: 91ms\n",
            "975:\tlearn: 0.0221070\ttotal: 3.55s\tremaining: 87.3ms\n",
            "976:\tlearn: 0.0220837\ttotal: 3.55s\tremaining: 83.6ms\n",
            "977:\tlearn: 0.0220592\ttotal: 3.55s\tremaining: 80ms\n",
            "978:\tlearn: 0.0220156\ttotal: 3.56s\tremaining: 76.3ms\n",
            "979:\tlearn: 0.0219716\ttotal: 3.56s\tremaining: 72.6ms\n",
            "980:\tlearn: 0.0219338\ttotal: 3.56s\tremaining: 69ms\n",
            "981:\tlearn: 0.0219043\ttotal: 3.56s\tremaining: 65.3ms\n",
            "982:\tlearn: 0.0218750\ttotal: 3.56s\tremaining: 61.7ms\n",
            "983:\tlearn: 0.0218303\ttotal: 3.57s\tremaining: 58ms\n",
            "984:\tlearn: 0.0218005\ttotal: 3.57s\tremaining: 54.4ms\n",
            "985:\tlearn: 0.0217533\ttotal: 3.57s\tremaining: 50.7ms\n",
            "986:\tlearn: 0.0217167\ttotal: 3.57s\tremaining: 47.1ms\n",
            "987:\tlearn: 0.0216792\ttotal: 3.58s\tremaining: 43.4ms\n",
            "988:\tlearn: 0.0216492\ttotal: 3.58s\tremaining: 39.8ms\n",
            "989:\tlearn: 0.0216139\ttotal: 3.58s\tremaining: 36.2ms\n",
            "990:\tlearn: 0.0215846\ttotal: 3.58s\tremaining: 32.5ms\n",
            "991:\tlearn: 0.0215503\ttotal: 3.59s\tremaining: 28.9ms\n",
            "992:\tlearn: 0.0215249\ttotal: 3.59s\tremaining: 25.3ms\n",
            "993:\tlearn: 0.0214860\ttotal: 3.59s\tremaining: 21.7ms\n",
            "994:\tlearn: 0.0214528\ttotal: 3.59s\tremaining: 18.1ms\n",
            "995:\tlearn: 0.0214230\ttotal: 3.59s\tremaining: 14.4ms\n",
            "996:\tlearn: 0.0213869\ttotal: 3.6s\tremaining: 10.8ms\n",
            "997:\tlearn: 0.0213456\ttotal: 3.6s\tremaining: 7.21ms\n",
            "998:\tlearn: 0.0213113\ttotal: 3.6s\tremaining: 3.6ms\n",
            "999:\tlearn: 0.0212776\ttotal: 3.6s\tremaining: 0us\n",
            "              precision    recall  f1-score   support\n",
            "\n",
            "           0       0.96      0.93      0.95        58\n",
            "           1       0.93      0.96      0.95        54\n",
            "\n",
            "    accuracy                           0.95       112\n",
            "   macro avg       0.95      0.95      0.95       112\n",
            "weighted avg       0.95      0.95      0.95       112\n",
            "\n",
            "Testing accuracy: 0.9464285714285714\n"
          ]
        }
      ]
    },
    {
      "cell_type": "code",
      "source": [
        "actual = np.random.binomial(1,.9,size = 1000)\n",
        "predicted = np.random.binomial(1,.9,size = 1000)\n",
        "confusion_matrix = metrics.confusion_matrix(y_test,y_pred)\n",
        "cm_display = metrics.ConfusionMatrixDisplay(confusion_matrix = confusion_matrix, display_labels = [0,1])\n",
        "cm_display.plot()\n",
        "plt.show()"
      ],
      "metadata": {
        "colab": {
          "base_uri": "https://localhost:8080/",
          "height": 449
        },
        "id": "f9-uJlvSsm4s",
        "outputId": "0225ad8b-52ec-473b-8a48-6bdb8cc7cac0"
      },
      "execution_count": null,
      "outputs": [
        {
          "output_type": "display_data",
          "data": {
            "text/plain": [
              "<Figure size 640x480 with 2 Axes>"
            ],
            "image/png": "[encoded data removed]"
          },
          "metadata": {}
        }
      ]
    },
    {
      "cell_type": "code",
      "source": [
        "from sklearn.metrics import recall_score\n",
        "recall_score(y_test, y_pred)\n"
      ],
      "metadata": {
        "colab": {
          "base_uri": "https://localhost:8080/"
        },
        "id": "6YsmTpL8dWgN",
        "outputId": "d37a0e85-899a-49a2-9f13-c683c57879cc"
      },
      "execution_count": null,
      "outputs": [
        {
          "output_type": "execute_result",
          "data": {
            "text/plain": [
              "0.9629629629629629"
            ]
          },
          "metadata": {},
          "execution_count": 110
        }
      ]
    },
    {
      "cell_type": "code",
      "source": [
        "from sklearn.metrics import precision_score\n",
        "precision_score(y_test, y_pred)\n"
      ],
      "metadata": {
        "colab": {
          "base_uri": "https://localhost:8080/"
        },
        "id": "qhy3GbOrdXu1",
        "outputId": "4448b8e7-a1e8-43ce-cee0-aeceab52d2a5"
      },
      "execution_count": null,
      "outputs": [
        {
          "output_type": "execute_result",
          "data": {
            "text/plain": [
              "0.9285714285714286"
            ]
          },
          "metadata": {},
          "execution_count": 111
        }
      ]
    },
    {
      "cell_type": "code",
      "source": [
        "from sklearn.metrics import f1_score\n",
        "f1_score(y_test, y_pred)"
      ],
      "metadata": {
        "colab": {
          "base_uri": "https://localhost:8080/"
        },
        "id": "s3a8pgo-dftQ",
        "outputId": "ccbcacec-52d4-4c11-e6a6-defe45c68f45"
      },
      "execution_count": null,
      "outputs": [
        {
          "output_type": "execute_result",
          "data": {
            "text/plain": [
              "0.9454545454545454"
            ]
          },
          "metadata": {},
          "execution_count": 112
        }
      ]
    },
    {
      "cell_type": "code",
      "source": [
        "import lightgbm as lgb\n",
        "model1 = lgb.LGBMClassifier()\n",
        "model1.fit(X_train,y_train)\n",
        "y_pred = model1.predict(X_test)\n",
        "y_pred_train = model1.predict(X_train)\n",
        "print(metrics.classification_report(y_test,y_pred,labels=[0,1]))\n",
        "#print(\"Training accuracy\",metrics.accuracy_score(y_train_smote,y_pred_train))\n",
        "print(\"Testing accuracy:\",metrics.accuracy_score(y_test,y_pred))"
      ],
      "metadata": {
        "colab": {
          "base_uri": "https://localhost:8080/"
        },
        "id": "UtFVhKfJs5jf",
        "outputId": "7bbf59c8-766e-4d85-d261-a43c09513570"
      },
      "execution_count": null,
      "outputs": [
        {
          "output_type": "stream",
          "name": "stdout",
          "text": [
            "[LightGBM] [Info] Number of positive: 253, number of negative: 195\n",
            "[LightGBM] [Warning] Auto-choosing col-wise multi-threading, the overhead of testing was 0.000199 seconds.\n",
            "You can set `force_col_wise=true` to remove the overhead.\n",
            "[LightGBM] [Info] Total Bins 681\n",
            "[LightGBM] [Info] Number of data points in the train set: 448, number of used features: 8\n",
            "[LightGBM] [Info] [binary:BoostFromScore]: pavg=0.564732 -> initscore=0.260390\n",
            "[LightGBM] [Info] Start training from score 0.260390\n",
            "[LightGBM] [Warning] No further splits with positive gain, best gain: -inf\n",
            "[LightGBM] [Warning] No further splits with positive gain, best gain: -inf\n",
            "[LightGBM] [Warning] No further splits with positive gain, best gain: -inf\n",
            "[LightGBM] [Warning] No further splits with positive gain, best gain: -inf\n",
            "[LightGBM] [Warning] No further splits with positive gain, best gain: -inf\n",
            "[LightGBM] [Warning] No further splits with positive gain, best gain: -inf\n",
            "[LightGBM] [Warning] No further splits with positive gain, best gain: -inf\n",
            "[LightGBM] [Warning] No further splits with positive gain, best gain: -inf\n",
            "[LightGBM] [Warning] No further splits with positive gain, best gain: -inf\n",
            "[LightGBM] [Warning] No further splits with positive gain, best gain: -inf\n",
            "[LightGBM] [Warning] No further splits with positive gain, best gain: -inf\n",
            "[LightGBM] [Warning] No further splits with positive gain, best gain: -inf\n",
            "[LightGBM] [Warning] No further splits with positive gain, best gain: -inf\n",
            "[LightGBM] [Warning] No further splits with positive gain, best gain: -inf\n",
            "[LightGBM] [Warning] No further splits with positive gain, best gain: -inf\n",
            "[LightGBM] [Warning] No further splits with positive gain, best gain: -inf\n",
            "[LightGBM] [Warning] No further splits with positive gain, best gain: -inf\n",
            "[LightGBM] [Warning] No further splits with positive gain, best gain: -inf\n",
            "[LightGBM] [Warning] No further splits with positive gain, best gain: -inf\n",
            "[LightGBM] [Warning] No further splits with positive gain, best gain: -inf\n",
            "[LightGBM] [Warning] No further splits with positive gain, best gain: -inf\n",
            "[LightGBM] [Warning] No further splits with positive gain, best gain: -inf\n",
            "[LightGBM] [Warning] No further splits with positive gain, best gain: -inf\n",
            "[LightGBM] [Warning] No further splits with positive gain, best gain: -inf\n",
            "[LightGBM] [Warning] No further splits with positive gain, best gain: -inf\n",
            "[LightGBM] [Warning] No further splits with positive gain, best gain: -inf\n",
            "[LightGBM] [Warning] No further splits with positive gain, best gain: -inf\n",
            "[LightGBM] [Warning] No further splits with positive gain, best gain: -inf\n",
            "[LightGBM] [Warning] No further splits with positive gain, best gain: -inf\n",
            "[LightGBM] [Warning] No further splits with positive gain, best gain: -inf\n",
            "[LightGBM] [Warning] No further splits with positive gain, best gain: -inf\n",
            "[LightGBM] [Warning] No further splits with positive gain, best gain: -inf\n",
            "[LightGBM] [Warning] No further splits with positive gain, best gain: -inf\n",
            "[LightGBM] [Warning] No further splits with positive gain, best gain: -inf\n",
            "[LightGBM] [Warning] No further splits with positive gain, best gain: -inf\n",
            "[LightGBM] [Warning] No further splits with positive gain, best gain: -inf\n",
            "[LightGBM] [Warning] No further splits with positive gain, best gain: -inf\n",
            "[LightGBM] [Warning] No further splits with positive gain, best gain: -inf\n",
            "[LightGBM] [Warning] No further splits with positive gain, best gain: -inf\n",
            "[LightGBM] [Warning] No further splits with positive gain, best gain: -inf\n",
            "[LightGBM] [Warning] No further splits with positive gain, best gain: -inf\n",
            "[LightGBM] [Warning] No further splits with positive gain, best gain: -inf\n",
            "[LightGBM] [Warning] No further splits with positive gain, best gain: -inf\n",
            "[LightGBM] [Warning] No further splits with positive gain, best gain: -inf\n",
            "[LightGBM] [Warning] No further splits with positive gain, best gain: -inf\n",
            "[LightGBM] [Warning] No further splits with positive gain, best gain: -inf\n",
            "[LightGBM] [Warning] No further splits with positive gain, best gain: -inf\n",
            "[LightGBM] [Warning] No further splits with positive gain, best gain: -inf\n",
            "[LightGBM] [Warning] No further splits with positive gain, best gain: -inf\n",
            "[LightGBM] [Warning] No further splits with positive gain, best gain: -inf\n",
            "[LightGBM] [Warning] No further splits with positive gain, best gain: -inf\n",
            "[LightGBM] [Warning] No further splits with positive gain, best gain: -inf\n",
            "[LightGBM] [Warning] No further splits with positive gain, best gain: -inf\n",
            "[LightGBM] [Warning] No further splits with positive gain, best gain: -inf\n",
            "[LightGBM] [Warning] No further splits with positive gain, best gain: -inf\n",
            "[LightGBM] [Warning] No further splits with positive gain, best gain: -inf\n",
            "[LightGBM] [Warning] No further splits with positive gain, best gain: -inf\n",
            "[LightGBM] [Warning] No further splits with positive gain, best gain: -inf\n",
            "[LightGBM] [Warning] No further splits with positive gain, best gain: -inf\n",
            "[LightGBM] [Warning] No further splits with positive gain, best gain: -inf\n",
            "[LightGBM] [Warning] No further splits with positive gain, best gain: -inf\n",
            "[LightGBM] [Warning] No further splits with positive gain, best gain: -inf\n",
            "[LightGBM] [Warning] No further splits with positive gain, best gain: -inf\n",
            "[LightGBM] [Warning] No further splits with positive gain, best gain: -inf\n",
            "[LightGBM] [Warning] No further splits with positive gain, best gain: -inf\n",
            "[LightGBM] [Warning] No further splits with positive gain, best gain: -inf\n",
            "[LightGBM] [Warning] No further splits with positive gain, best gain: -inf\n",
            "[LightGBM] [Warning] No further splits with positive gain, best gain: -inf\n",
            "[LightGBM] [Warning] No further splits with positive gain, best gain: -inf\n",
            "[LightGBM] [Warning] No further splits with positive gain, best gain: -inf\n",
            "[LightGBM] [Warning] No further splits with positive gain, best gain: -inf\n",
            "[LightGBM] [Warning] No further splits with positive gain, best gain: -inf\n",
            "[LightGBM] [Warning] No further splits with positive gain, best gain: -inf\n",
            "[LightGBM] [Warning] No further splits with positive gain, best gain: -inf\n",
            "[LightGBM] [Warning] No further splits with positive gain, best gain: -inf\n",
            "[LightGBM] [Warning] No further splits with positive gain, best gain: -inf\n",
            "[LightGBM] [Warning] No further splits with positive gain, best gain: -inf\n",
            "[LightGBM] [Warning] No further splits with positive gain, best gain: -inf\n",
            "[LightGBM] [Warning] No further splits with positive gain, best gain: -inf\n",
            "[LightGBM] [Warning] No further splits with positive gain, best gain: -inf\n",
            "[LightGBM] [Warning] No further splits with positive gain, best gain: -inf\n",
            "[LightGBM] [Warning] No further splits with positive gain, best gain: -inf\n",
            "[LightGBM] [Warning] No further splits with positive gain, best gain: -inf\n",
            "[LightGBM] [Warning] No further splits with positive gain, best gain: -inf\n",
            "[LightGBM] [Warning] No further splits with positive gain, best gain: -inf\n",
            "[LightGBM] [Warning] No further splits with positive gain, best gain: -inf\n",
            "[LightGBM] [Warning] No further splits with positive gain, best gain: -inf\n",
            "[LightGBM] [Warning] No further splits with positive gain, best gain: -inf\n",
            "[LightGBM] [Warning] No further splits with positive gain, best gain: -inf\n",
            "[LightGBM] [Warning] No further splits with positive gain, best gain: -inf\n",
            "[LightGBM] [Warning] No further splits with positive gain, best gain: -inf\n",
            "[LightGBM] [Warning] No further splits with positive gain, best gain: -inf\n",
            "[LightGBM] [Warning] No further splits with positive gain, best gain: -inf\n",
            "[LightGBM] [Warning] No further splits with positive gain, best gain: -inf\n",
            "[LightGBM] [Warning] No further splits with positive gain, best gain: -inf\n",
            "[LightGBM] [Warning] No further splits with positive gain, best gain: -inf\n",
            "[LightGBM] [Warning] No further splits with positive gain, best gain: -inf\n",
            "[LightGBM] [Warning] No further splits with positive gain, best gain: -inf\n",
            "[LightGBM] [Warning] No further splits with positive gain, best gain: -inf\n",
            "[LightGBM] [Warning] No further splits with positive gain, best gain: -inf\n",
            "              precision    recall  f1-score   support\n",
            "\n",
            "           0       0.96      0.95      0.96        58\n",
            "           1       0.95      0.96      0.95        54\n",
            "\n",
            "    accuracy                           0.96       112\n",
            "   macro avg       0.96      0.96      0.96       112\n",
            "weighted avg       0.96      0.96      0.96       112\n",
            "\n",
            "Testing accuracy: 0.9553571428571429\n"
          ]
        }
      ]
    },
    {
      "cell_type": "code",
      "source": [
        "actual = np.random.binomial(1,.9,size = 1000)\n",
        "predicted = np.random.binomial(1,.9,size = 1000)\n",
        "confusion_matrix = metrics.confusion_matrix(y_test,y_pred)\n",
        "cm_display = metrics.ConfusionMatrixDisplay(confusion_matrix = confusion_matrix, display_labels = [0,1])\n",
        "cm_display.plot()\n",
        "plt.show()"
      ],
      "metadata": {
        "colab": {
          "base_uri": "https://localhost:8080/",
          "height": 449
        },
        "id": "XMFuiGestH6u",
        "outputId": "b54fa166-24c4-4f27-c2b2-d124025c2a0a"
      },
      "execution_count": null,
      "outputs": [
        {
          "output_type": "display_data",
          "data": {
            "text/plain": [
              "<Figure size 640x480 with 2 Axes>"
            ],
            "image/png": "[encoded data removed]"
          },
          "metadata": {}
        }
      ]
    },
    {
      "cell_type": "code",
      "source": [
        "from sklearn.ensemble import AdaBoostClassifier\n",
        "model = AdaBoostClassifier()\n",
        "model.fit(X_train,y_train)\n",
        "y_pred = model.predict(X_test)\n",
        "y_pred_train = model.predict(X_train)\n",
        "print(metrics.classification_report(y_test,y_pred,labels=[0,1]))\n",
        "#print(\"Training accuracy\",metrics.accuracy_score(y_train_smote,y_pred_train))\n",
        "print(\"Testing accuracy:\",metrics.accuracy_score(y_test,y_pred))"
      ],
      "metadata": {
        "colab": {
          "base_uri": "https://localhost:8080/"
        },
        "id": "IxRx_fqntYUY",
        "outputId": "9873441b-7c22-45c3-8ce2-709176071a30"
      },
      "execution_count": null,
      "outputs": [
        {
          "output_type": "stream",
          "name": "stdout",
          "text": [
            "              precision    recall  f1-score   support\n",
            "\n",
            "           0       0.96      0.93      0.95        58\n",
            "           1       0.93      0.96      0.95        54\n",
            "\n",
            "    accuracy                           0.95       112\n",
            "   macro avg       0.95      0.95      0.95       112\n",
            "weighted avg       0.95      0.95      0.95       112\n",
            "\n",
            "Testing accuracy: 0.9464285714285714\n"
          ]
        }
      ]
    },
    {
      "cell_type": "code",
      "source": [
        "actual = np.random.binomial(1,.9,size = 1000)\n",
        "predicted = np.random.binomial(1,.9,size = 1000)\n",
        "confusion_matrix = metrics.confusion_matrix(y_test,y_pred)\n",
        "cm_display = metrics.ConfusionMatrixDisplay(confusion_matrix = confusion_matrix, display_labels = [0,1])\n",
        "cm_display.plot()\n",
        "plt.show()"
      ],
      "metadata": {
        "colab": {
          "base_uri": "https://localhost:8080/",
          "height": 449
        },
        "id": "uRiZGku0tixG",
        "outputId": "7c9c96b2-4d44-4ea4-feac-a0b34550874e"
      },
      "execution_count": null,
      "outputs": [
        {
          "output_type": "display_data",
          "data": {
            "text/plain": [
              "<Figure size 640x480 with 2 Axes>"
            ],
            "image/png": "[encoded data removed]"
          },
          "metadata": {}
        }
      ]
    },
    {
      "cell_type": "code",
      "source": [
        "from sklearn.model_selection import KFold\n",
        "folds = KFold(n_splits=10)\n",
        "folds.get_n_splits(X)\n",
        "def get_score(model):\n",
        "  for train_index, test_index in folds.split(X):\n",
        "    model.fit(X_train, y_train)\n",
        "    return model.score(X_test,y_test)"
      ],
      "metadata": {
        "id": "LPu4BXAEu2_a"
      },
      "execution_count": null,
      "outputs": []
    },
    {
      "cell_type": "code",
      "execution_count": null,
      "metadata": {
        "colab": {
          "base_uri": "https://localhost:8080/"
        },
        "id": "DzkloC5C8oR4",
        "outputId": "2f9bed7f-43f3-4f45-a8b8-52a2d71e6424"
      },
      "outputs": [
        {
          "output_type": "stream",
          "name": "stdout",
          "text": [
            "[LightGBM] [Info] Number of positive: 253, number of negative: 195\n",
            "[LightGBM] [Warning] Auto-choosing col-wise multi-threading, the overhead of testing was 0.000093 seconds.\n",
            "You can set `force_col_wise=true` to remove the overhead.\n",
            "[LightGBM] [Info] Total Bins 681\n",
            "[LightGBM] [Info] Number of data points in the train set: 448, number of used features: 8\n",
            "[LightGBM] [Info] [binary:BoostFromScore]: pavg=0.564732 -> initscore=0.260390\n",
            "[LightGBM] [Info] Start training from score 0.260390\n",
            "[LightGBM] [Warning] No further splits with positive gain, best gain: -inf\n",
            "[LightGBM] [Warning] No further splits with positive gain, best gain: -inf\n",
            "[LightGBM] [Warning] No further splits with positive gain, best gain: -inf\n",
            "[LightGBM] [Warning] No further splits with positive gain, best gain: -inf\n",
            "[LightGBM] [Warning] No further splits with positive gain, best gain: -inf\n",
            "[LightGBM] [Warning] No further splits with positive gain, best gain: -inf\n",
            "[LightGBM] [Warning] No further splits with positive gain, best gain: -inf\n",
            "[LightGBM] [Warning] No further splits with positive gain, best gain: -inf\n",
            "[LightGBM] [Warning] No further splits with positive gain, best gain: -inf\n",
            "[LightGBM] [Warning] No further splits with positive gain, best gain: -inf\n",
            "[LightGBM] [Warning] No further splits with positive gain, best gain: -inf\n",
            "[LightGBM] [Warning] No further splits with positive gain, best gain: -inf\n",
            "[LightGBM] [Warning] No further splits with positive gain, best gain: -inf\n",
            "[LightGBM] [Warning] No further splits with positive gain, best gain: -inf\n",
            "[LightGBM] [Warning] No further splits with positive gain, best gain: -inf\n",
            "[LightGBM] [Warning] No further splits with positive gain, best gain: -inf\n",
            "[LightGBM] [Warning] No further splits with positive gain, best gain: -inf\n",
            "[LightGBM] [Warning] No further splits with positive gain, best gain: -inf\n",
            "[LightGBM] [Warning] No further splits with positive gain, best gain: -inf\n",
            "[LightGBM] [Warning] No further splits with positive gain, best gain: -inf\n",
            "[LightGBM] [Warning] No further splits with positive gain, best gain: -inf\n",
            "[LightGBM] [Warning] No further splits with positive gain, best gain: -inf\n",
            "[LightGBM] [Warning] No further splits with positive gain, best gain: -inf\n",
            "[LightGBM] [Warning] No further splits with positive gain, best gain: -inf\n",
            "[LightGBM] [Warning] No further splits with positive gain, best gain: -inf\n",
            "[LightGBM] [Warning] No further splits with positive gain, best gain: -inf\n",
            "[LightGBM] [Warning] No further splits with positive gain, best gain: -inf\n",
            "[LightGBM] [Warning] No further splits with positive gain, best gain: -inf\n",
            "[LightGBM] [Warning] No further splits with positive gain, best gain: -inf\n",
            "[LightGBM] [Warning] No further splits with positive gain, best gain: -inf\n",
            "[LightGBM] [Warning] No further splits with positive gain, best gain: -inf\n",
            "[LightGBM] [Warning] No further splits with positive gain, best gain: -inf\n",
            "[LightGBM] [Warning] No further splits with positive gain, best gain: -inf\n",
            "[LightGBM] [Warning] No further splits with positive gain, best gain: -inf\n",
            "[LightGBM] [Warning] No further splits with positive gain, best gain: -inf\n",
            "[LightGBM] [Warning] No further splits with positive gain, best gain: -inf\n",
            "[LightGBM] [Warning] No further splits with positive gain, best gain: -inf\n",
            "[LightGBM] [Warning] No further splits with positive gain, best gain: -inf\n",
            "[LightGBM] [Warning] No further splits with positive gain, best gain: -inf\n",
            "[LightGBM] [Warning] No further splits with positive gain, best gain: -inf\n",
            "[LightGBM] [Warning] No further splits with positive gain, best gain: -inf\n",
            "[LightGBM] [Warning] No further splits with positive gain, best gain: -inf\n",
            "[LightGBM] [Warning] No further splits with positive gain, best gain: -inf\n",
            "[LightGBM] [Warning] No further splits with positive gain, best gain: -inf\n",
            "[LightGBM] [Warning] No further splits with positive gain, best gain: -inf\n",
            "[LightGBM] [Warning] No further splits with positive gain, best gain: -inf\n",
            "[LightGBM] [Warning] No further splits with positive gain, best gain: -inf\n",
            "[LightGBM] [Warning] No further splits with positive gain, best gain: -inf\n",
            "[LightGBM] [Warning] No further splits with positive gain, best gain: -inf\n",
            "[LightGBM] [Warning] No further splits with positive gain, best gain: -inf\n",
            "[LightGBM] [Warning] No further splits with positive gain, best gain: -inf\n",
            "[LightGBM] [Warning] No further splits with positive gain, best gain: -inf\n",
            "[LightGBM] [Warning] No further splits with positive gain, best gain: -inf\n",
            "[LightGBM] [Warning] No further splits with positive gain, best gain: -inf\n",
            "[LightGBM] [Warning] No further splits with positive gain, best gain: -inf\n",
            "[LightGBM] [Warning] No further splits with positive gain, best gain: -inf\n",
            "[LightGBM] [Warning] No further splits with positive gain, best gain: -inf\n",
            "[LightGBM] [Warning] No further splits with positive gain, best gain: -inf\n",
            "[LightGBM] [Warning] No further splits with positive gain, best gain: -inf\n",
            "[LightGBM] [Warning] No further splits with positive gain, best gain: -inf\n",
            "[LightGBM] [Warning] No further splits with positive gain, best gain: -inf\n",
            "[LightGBM] [Warning] No further splits with positive gain, best gain: -inf\n",
            "[LightGBM] [Warning] No further splits with positive gain, best gain: -inf\n",
            "[LightGBM] [Warning] No further splits with positive gain, best gain: -inf\n",
            "[LightGBM] [Warning] No further splits with positive gain, best gain: -inf\n",
            "[LightGBM] [Warning] No further splits with positive gain, best gain: -inf\n",
            "[LightGBM] [Warning] No further splits with positive gain, best gain: -inf\n",
            "[LightGBM] [Warning] No further splits with positive gain, best gain: -inf\n",
            "[LightGBM] [Warning] No further splits with positive gain, best gain: -inf\n",
            "[LightGBM] [Warning] No further splits with positive gain, best gain: -inf\n",
            "[LightGBM] [Warning] No further splits with positive gain, best gain: -inf\n",
            "[LightGBM] [Warning] No further splits with positive gain, best gain: -inf\n",
            "[LightGBM] [Warning] No further splits with positive gain, best gain: -inf\n",
            "[LightGBM] [Warning] No further splits with positive gain, best gain: -inf\n",
            "[LightGBM] [Warning] No further splits with positive gain, best gain: -inf\n",
            "[LightGBM] [Warning] No further splits with positive gain, best gain: -inf\n",
            "[LightGBM] [Warning] No further splits with positive gain, best gain: -inf\n",
            "[LightGBM] [Warning] No further splits with positive gain, best gain: -inf\n",
            "[LightGBM] [Warning] No further splits with positive gain, best gain: -inf\n",
            "[LightGBM] [Warning] No further splits with positive gain, best gain: -inf\n",
            "[LightGBM] [Warning] No further splits with positive gain, best gain: -inf\n",
            "[LightGBM] [Warning] No further splits with positive gain, best gain: -inf\n",
            "[LightGBM] [Warning] No further splits with positive gain, best gain: -inf\n",
            "[LightGBM] [Warning] No further splits with positive gain, best gain: -inf\n",
            "[LightGBM] [Warning] No further splits with positive gain, best gain: -inf\n",
            "[LightGBM] [Warning] No further splits with positive gain, best gain: -inf\n",
            "[LightGBM] [Warning] No further splits with positive gain, best gain: -inf\n",
            "[LightGBM] [Warning] No further splits with positive gain, best gain: -inf\n",
            "[LightGBM] [Warning] No further splits with positive gain, best gain: -inf\n",
            "[LightGBM] [Warning] No further splits with positive gain, best gain: -inf\n",
            "[LightGBM] [Warning] No further splits with positive gain, best gain: -inf\n",
            "[LightGBM] [Warning] No further splits with positive gain, best gain: -inf\n",
            "[LightGBM] [Warning] No further splits with positive gain, best gain: -inf\n",
            "[LightGBM] [Warning] No further splits with positive gain, best gain: -inf\n",
            "[LightGBM] [Warning] No further splits with positive gain, best gain: -inf\n",
            "[LightGBM] [Warning] No further splits with positive gain, best gain: -inf\n",
            "[LightGBM] [Warning] No further splits with positive gain, best gain: -inf\n",
            "[LightGBM] [Warning] No further splits with positive gain, best gain: -inf\n",
            "[LightGBM] [Warning] No further splits with positive gain, best gain: -inf\n",
            "[LightGBM] [Warning] No further splits with positive gain, best gain: -inf\n",
            "Learning rate set to 0.007312\n",
            "0:\tlearn: 0.6825547\ttotal: 2.94ms\tremaining: 2.94s\n",
            "1:\tlearn: 0.6741499\ttotal: 5.38ms\tremaining: 2.68s\n",
            "2:\tlearn: 0.6650584\ttotal: 7.66ms\tremaining: 2.54s\n",
            "3:\tlearn: 0.6549143\ttotal: 9.95ms\tremaining: 2.48s\n",
            "4:\tlearn: 0.6470319\ttotal: 12.3ms\tremaining: 2.44s\n",
            "5:\tlearn: 0.6371997\ttotal: 14.6ms\tremaining: 2.42s\n",
            "6:\tlearn: 0.6279171\ttotal: 16.9ms\tremaining: 2.39s\n",
            "7:\tlearn: 0.6187916\ttotal: 19.2ms\tremaining: 2.38s\n",
            "8:\tlearn: 0.6097221\ttotal: 22ms\tremaining: 2.42s\n",
            "9:\tlearn: 0.6001616\ttotal: 24.5ms\tremaining: 2.42s\n",
            "10:\tlearn: 0.5931376\ttotal: 26.9ms\tremaining: 2.42s\n",
            "11:\tlearn: 0.5857769\ttotal: 29.3ms\tremaining: 2.41s\n",
            "12:\tlearn: 0.5788491\ttotal: 31.6ms\tremaining: 2.4s\n",
            "13:\tlearn: 0.5703114\ttotal: 34.1ms\tremaining: 2.4s\n",
            "14:\tlearn: 0.5621903\ttotal: 36.3ms\tremaining: 2.38s\n",
            "15:\tlearn: 0.5540309\ttotal: 38.6ms\tremaining: 2.37s\n",
            "16:\tlearn: 0.5466547\ttotal: 40.9ms\tremaining: 2.36s\n",
            "17:\tlearn: 0.5395857\ttotal: 43.2ms\tremaining: 2.35s\n",
            "18:\tlearn: 0.5340368\ttotal: 45.4ms\tremaining: 2.34s\n",
            "19:\tlearn: 0.5279452\ttotal: 47.6ms\tremaining: 2.33s\n",
            "20:\tlearn: 0.5211831\ttotal: 50ms\tremaining: 2.33s\n",
            "21:\tlearn: 0.5154771\ttotal: 52.1ms\tremaining: 2.32s\n",
            "22:\tlearn: 0.5098467\ttotal: 54.6ms\tremaining: 2.32s\n",
            "23:\tlearn: 0.5043988\ttotal: 56.8ms\tremaining: 2.31s\n",
            "24:\tlearn: 0.4980669\ttotal: 59.1ms\tremaining: 2.3s\n",
            "25:\tlearn: 0.4907569\ttotal: 61.4ms\tremaining: 2.3s\n",
            "26:\tlearn: 0.4846829\ttotal: 63.6ms\tremaining: 2.29s\n",
            "27:\tlearn: 0.4792936\ttotal: 65.9ms\tremaining: 2.29s\n",
            "28:\tlearn: 0.4753635\ttotal: 68.2ms\tremaining: 2.28s\n",
            "29:\tlearn: 0.4687148\ttotal: 70.4ms\tremaining: 2.28s\n",
            "30:\tlearn: 0.4626309\ttotal: 72.7ms\tremaining: 2.27s\n",
            "31:\tlearn: 0.4563786\ttotal: 74.9ms\tremaining: 2.27s\n",
            "32:\tlearn: 0.4517461\ttotal: 77.2ms\tremaining: 2.26s\n",
            "33:\tlearn: 0.4462061\ttotal: 79.5ms\tremaining: 2.26s\n",
            "34:\tlearn: 0.4417629\ttotal: 82.9ms\tremaining: 2.29s\n",
            "35:\tlearn: 0.4359689\ttotal: 86.5ms\tremaining: 2.31s\n",
            "36:\tlearn: 0.4303455\ttotal: 88.6ms\tremaining: 2.31s\n",
            "37:\tlearn: 0.4251770\ttotal: 90.6ms\tremaining: 2.29s\n",
            "38:\tlearn: 0.4206180\ttotal: 92.6ms\tremaining: 2.28s\n",
            "39:\tlearn: 0.4157756\ttotal: 94.6ms\tremaining: 2.27s\n",
            "40:\tlearn: 0.4113521\ttotal: 96.6ms\tremaining: 2.26s\n",
            "41:\tlearn: 0.4068142\ttotal: 98.8ms\tremaining: 2.25s\n",
            "42:\tlearn: 0.4023905\ttotal: 101ms\tremaining: 2.25s\n",
            "43:\tlearn: 0.3972526\ttotal: 104ms\tremaining: 2.25s\n",
            "44:\tlearn: 0.3929109\ttotal: 106ms\tremaining: 2.24s\n",
            "45:\tlearn: 0.3888824\ttotal: 108ms\tremaining: 2.24s\n",
            "46:\tlearn: 0.3845022\ttotal: 110ms\tremaining: 2.23s\n",
            "47:\tlearn: 0.3794907\ttotal: 112ms\tremaining: 2.23s\n",
            "48:\tlearn: 0.3749855\ttotal: 114ms\tremaining: 2.22s\n",
            "49:\tlearn: 0.3706714\ttotal: 117ms\tremaining: 2.22s\n",
            "50:\tlearn: 0.3668611\ttotal: 119ms\tremaining: 2.21s\n",
            "51:\tlearn: 0.3628659\ttotal: 121ms\tremaining: 2.21s\n",
            "52:\tlearn: 0.3588769\ttotal: 123ms\tremaining: 2.2s\n",
            "53:\tlearn: 0.3542796\ttotal: 126ms\tremaining: 2.2s\n",
            "54:\tlearn: 0.3496003\ttotal: 128ms\tremaining: 2.19s\n",
            "55:\tlearn: 0.3462195\ttotal: 143ms\tremaining: 2.41s\n",
            "56:\tlearn: 0.3434104\ttotal: 150ms\tremaining: 2.48s\n",
            "57:\tlearn: 0.3406255\ttotal: 154ms\tremaining: 2.5s\n",
            "58:\tlearn: 0.3365139\ttotal: 157ms\tremaining: 2.5s\n",
            "59:\tlearn: 0.3334137\ttotal: 164ms\tremaining: 2.56s\n",
            "60:\tlearn: 0.3299020\ttotal: 166ms\tremaining: 2.56s\n",
            "61:\tlearn: 0.3266312\ttotal: 169ms\tremaining: 2.56s\n",
            "62:\tlearn: 0.3238865\ttotal: 180ms\tremaining: 2.67s\n",
            "63:\tlearn: 0.3205663\ttotal: 184ms\tremaining: 2.69s\n",
            "64:\tlearn: 0.3164765\ttotal: 190ms\tremaining: 2.74s\n",
            "65:\tlearn: 0.3131582\ttotal: 196ms\tremaining: 2.77s\n",
            "66:\tlearn: 0.3107046\ttotal: 202ms\tremaining: 2.82s\n",
            "67:\tlearn: 0.3077256\ttotal: 208ms\tremaining: 2.85s\n",
            "68:\tlearn: 0.3052820\ttotal: 216ms\tremaining: 2.92s\n",
            "69:\tlearn: 0.3022076\ttotal: 220ms\tremaining: 2.92s\n",
            "70:\tlearn: 0.2991539\ttotal: 228ms\tremaining: 2.98s\n",
            "71:\tlearn: 0.2972529\ttotal: 232ms\tremaining: 2.99s\n",
            "72:\tlearn: 0.2939707\ttotal: 238ms\tremaining: 3.02s\n",
            "73:\tlearn: 0.2909959\ttotal: 244ms\tremaining: 3.05s\n",
            "74:\tlearn: 0.2881342\ttotal: 250ms\tremaining: 3.08s\n",
            "75:\tlearn: 0.2848875\ttotal: 256ms\tremaining: 3.11s\n",
            "76:\tlearn: 0.2823912\ttotal: 267ms\tremaining: 3.19s\n",
            "77:\tlearn: 0.2794056\ttotal: 273ms\tremaining: 3.22s\n",
            "78:\tlearn: 0.2767397\ttotal: 277ms\tremaining: 3.23s\n",
            "79:\tlearn: 0.2744290\ttotal: 283ms\tremaining: 3.26s\n",
            "80:\tlearn: 0.2719445\ttotal: 289ms\tremaining: 3.28s\n",
            "81:\tlearn: 0.2701828\ttotal: 295ms\tremaining: 3.3s\n",
            "82:\tlearn: 0.2679046\ttotal: 300ms\tremaining: 3.32s\n",
            "83:\tlearn: 0.2657613\ttotal: 306ms\tremaining: 3.34s\n",
            "84:\tlearn: 0.2634864\ttotal: 312ms\tremaining: 3.36s\n",
            "85:\tlearn: 0.2609607\ttotal: 318ms\tremaining: 3.38s\n",
            "86:\tlearn: 0.2589166\ttotal: 324ms\tremaining: 3.4s\n",
            "87:\tlearn: 0.2568070\ttotal: 330ms\tremaining: 3.42s\n",
            "88:\tlearn: 0.2552624\ttotal: 336ms\tremaining: 3.44s\n",
            "89:\tlearn: 0.2529137\ttotal: 342ms\tremaining: 3.45s\n",
            "90:\tlearn: 0.2511009\ttotal: 348ms\tremaining: 3.47s\n",
            "91:\tlearn: 0.2488780\ttotal: 354ms\tremaining: 3.49s\n",
            "92:\tlearn: 0.2467449\ttotal: 360ms\tremaining: 3.52s\n",
            "93:\tlearn: 0.2446430\ttotal: 376ms\tremaining: 3.62s\n",
            "94:\tlearn: 0.2427933\ttotal: 380ms\tremaining: 3.62s\n",
            "95:\tlearn: 0.2408910\ttotal: 383ms\tremaining: 3.61s\n",
            "96:\tlearn: 0.2388594\ttotal: 386ms\tremaining: 3.6s\n",
            "97:\tlearn: 0.2374475\ttotal: 389ms\tremaining: 3.58s\n",
            "98:\tlearn: 0.2354290\ttotal: 393ms\tremaining: 3.57s\n",
            "99:\tlearn: 0.2333048\ttotal: 396ms\tremaining: 3.56s\n",
            "100:\tlearn: 0.2319795\ttotal: 398ms\tremaining: 3.55s\n",
            "101:\tlearn: 0.2299314\ttotal: 400ms\tremaining: 3.52s\n",
            "102:\tlearn: 0.2280507\ttotal: 406ms\tremaining: 3.53s\n",
            "103:\tlearn: 0.2266799\ttotal: 408ms\tremaining: 3.51s\n",
            "104:\tlearn: 0.2253796\ttotal: 410ms\tremaining: 3.49s\n",
            "105:\tlearn: 0.2243159\ttotal: 413ms\tremaining: 3.49s\n",
            "106:\tlearn: 0.2227654\ttotal: 415ms\tremaining: 3.47s\n",
            "107:\tlearn: 0.2215681\ttotal: 417ms\tremaining: 3.45s\n",
            "108:\tlearn: 0.2199641\ttotal: 419ms\tremaining: 3.43s\n",
            "109:\tlearn: 0.2182024\ttotal: 423ms\tremaining: 3.42s\n",
            "110:\tlearn: 0.2170739\ttotal: 425ms\tremaining: 3.4s\n",
            "111:\tlearn: 0.2154998\ttotal: 428ms\tremaining: 3.39s\n",
            "112:\tlearn: 0.2137857\ttotal: 430ms\tremaining: 3.38s\n",
            "113:\tlearn: 0.2123597\ttotal: 434ms\tremaining: 3.37s\n",
            "114:\tlearn: 0.2109758\ttotal: 442ms\tremaining: 3.4s\n",
            "115:\tlearn: 0.2096636\ttotal: 445ms\tremaining: 3.39s\n",
            "116:\tlearn: 0.2085807\ttotal: 447ms\tremaining: 3.38s\n",
            "117:\tlearn: 0.2070574\ttotal: 450ms\tremaining: 3.36s\n",
            "118:\tlearn: 0.2059560\ttotal: 453ms\tremaining: 3.35s\n",
            "119:\tlearn: 0.2046069\ttotal: 455ms\tremaining: 3.33s\n",
            "120:\tlearn: 0.2030435\ttotal: 457ms\tremaining: 3.32s\n",
            "121:\tlearn: 0.2016373\ttotal: 459ms\tremaining: 3.3s\n",
            "122:\tlearn: 0.2004663\ttotal: 462ms\tremaining: 3.3s\n",
            "123:\tlearn: 0.1989188\ttotal: 464ms\tremaining: 3.28s\n",
            "124:\tlearn: 0.1979455\ttotal: 467ms\tremaining: 3.27s\n",
            "125:\tlearn: 0.1970266\ttotal: 469ms\tremaining: 3.25s\n",
            "126:\tlearn: 0.1957368\ttotal: 472ms\tremaining: 3.25s\n",
            "127:\tlearn: 0.1943778\ttotal: 474ms\tremaining: 3.23s\n",
            "128:\tlearn: 0.1930303\ttotal: 476ms\tremaining: 3.22s\n",
            "129:\tlearn: 0.1918652\ttotal: 479ms\tremaining: 3.2s\n",
            "130:\tlearn: 0.1903310\ttotal: 482ms\tremaining: 3.2s\n",
            "131:\tlearn: 0.1890235\ttotal: 484ms\tremaining: 3.18s\n",
            "132:\tlearn: 0.1876535\ttotal: 486ms\tremaining: 3.17s\n",
            "133:\tlearn: 0.1864139\ttotal: 489ms\tremaining: 3.16s\n",
            "134:\tlearn: 0.1848722\ttotal: 492ms\tremaining: 3.15s\n",
            "135:\tlearn: 0.1839293\ttotal: 494ms\tremaining: 3.14s\n",
            "136:\tlearn: 0.1830738\ttotal: 496ms\tremaining: 3.12s\n",
            "137:\tlearn: 0.1821627\ttotal: 498ms\tremaining: 3.11s\n",
            "138:\tlearn: 0.1808100\ttotal: 502ms\tremaining: 3.11s\n",
            "139:\tlearn: 0.1799662\ttotal: 503ms\tremaining: 3.09s\n",
            "140:\tlearn: 0.1787554\ttotal: 506ms\tremaining: 3.08s\n",
            "141:\tlearn: 0.1778459\ttotal: 507ms\tremaining: 3.07s\n",
            "142:\tlearn: 0.1773583\ttotal: 511ms\tremaining: 3.06s\n",
            "143:\tlearn: 0.1762033\ttotal: 513ms\tremaining: 3.05s\n",
            "144:\tlearn: 0.1753117\ttotal: 515ms\tremaining: 3.04s\n",
            "145:\tlearn: 0.1740420\ttotal: 517ms\tremaining: 3.02s\n",
            "146:\tlearn: 0.1729958\ttotal: 520ms\tremaining: 3.02s\n",
            "147:\tlearn: 0.1722927\ttotal: 526ms\tremaining: 3.03s\n",
            "148:\tlearn: 0.1711279\ttotal: 532ms\tremaining: 3.04s\n",
            "149:\tlearn: 0.1702759\ttotal: 537ms\tremaining: 3.04s\n",
            "150:\tlearn: 0.1693673\ttotal: 542ms\tremaining: 3.05s\n",
            "151:\tlearn: 0.1683866\ttotal: 544ms\tremaining: 3.03s\n",
            "152:\tlearn: 0.1676911\ttotal: 546ms\tremaining: 3.02s\n",
            "153:\tlearn: 0.1665327\ttotal: 549ms\tremaining: 3.02s\n",
            "154:\tlearn: 0.1656615\ttotal: 551ms\tremaining: 3s\n",
            "155:\tlearn: 0.1646499\ttotal: 553ms\tremaining: 2.99s\n",
            "156:\tlearn: 0.1638423\ttotal: 556ms\tremaining: 2.98s\n",
            "157:\tlearn: 0.1631575\ttotal: 558ms\tremaining: 2.97s\n",
            "158:\tlearn: 0.1620597\ttotal: 560ms\tremaining: 2.96s\n",
            "159:\tlearn: 0.1612668\ttotal: 563ms\tremaining: 2.95s\n",
            "160:\tlearn: 0.1605668\ttotal: 565ms\tremaining: 2.94s\n",
            "161:\tlearn: 0.1595703\ttotal: 567ms\tremaining: 2.93s\n",
            "162:\tlearn: 0.1587132\ttotal: 569ms\tremaining: 2.92s\n",
            "163:\tlearn: 0.1579954\ttotal: 571ms\tremaining: 2.91s\n",
            "164:\tlearn: 0.1572885\ttotal: 573ms\tremaining: 2.9s\n",
            "165:\tlearn: 0.1565597\ttotal: 576ms\tremaining: 2.89s\n",
            "166:\tlearn: 0.1555240\ttotal: 578ms\tremaining: 2.88s\n",
            "167:\tlearn: 0.1545923\ttotal: 580ms\tremaining: 2.87s\n",
            "168:\tlearn: 0.1536813\ttotal: 582ms\tremaining: 2.86s\n",
            "169:\tlearn: 0.1529807\ttotal: 585ms\tremaining: 2.85s\n",
            "170:\tlearn: 0.1521016\ttotal: 587ms\tremaining: 2.85s\n",
            "171:\tlearn: 0.1511426\ttotal: 589ms\tremaining: 2.84s\n",
            "172:\tlearn: 0.1503315\ttotal: 592ms\tremaining: 2.83s\n",
            "173:\tlearn: 0.1496465\ttotal: 594ms\tremaining: 2.82s\n",
            "174:\tlearn: 0.1487140\ttotal: 596ms\tremaining: 2.81s\n",
            "175:\tlearn: 0.1480950\ttotal: 598ms\tremaining: 2.8s\n",
            "176:\tlearn: 0.1474904\ttotal: 600ms\tremaining: 2.79s\n",
            "177:\tlearn: 0.1468354\ttotal: 603ms\tremaining: 2.78s\n",
            "178:\tlearn: 0.1460820\ttotal: 605ms\tremaining: 2.77s\n",
            "179:\tlearn: 0.1454738\ttotal: 607ms\tremaining: 2.77s\n",
            "180:\tlearn: 0.1448895\ttotal: 609ms\tremaining: 2.76s\n",
            "181:\tlearn: 0.1442903\ttotal: 611ms\tremaining: 2.75s\n",
            "182:\tlearn: 0.1437727\ttotal: 617ms\tremaining: 2.75s\n",
            "183:\tlearn: 0.1433058\ttotal: 621ms\tremaining: 2.75s\n",
            "184:\tlearn: 0.1424257\ttotal: 626ms\tremaining: 2.76s\n",
            "185:\tlearn: 0.1417912\ttotal: 629ms\tremaining: 2.75s\n",
            "186:\tlearn: 0.1411603\ttotal: 637ms\tremaining: 2.77s\n",
            "187:\tlearn: 0.1402710\ttotal: 643ms\tremaining: 2.78s\n",
            "188:\tlearn: 0.1396295\ttotal: 646ms\tremaining: 2.77s\n",
            "189:\tlearn: 0.1393384\ttotal: 648ms\tremaining: 2.76s\n",
            "190:\tlearn: 0.1388664\ttotal: 651ms\tremaining: 2.76s\n",
            "191:\tlearn: 0.1383902\ttotal: 653ms\tremaining: 2.75s\n",
            "192:\tlearn: 0.1376315\ttotal: 656ms\tremaining: 2.74s\n",
            "193:\tlearn: 0.1369763\ttotal: 658ms\tremaining: 2.73s\n",
            "194:\tlearn: 0.1362923\ttotal: 660ms\tremaining: 2.72s\n",
            "195:\tlearn: 0.1356532\ttotal: 662ms\tremaining: 2.72s\n",
            "196:\tlearn: 0.1352754\ttotal: 664ms\tremaining: 2.71s\n",
            "197:\tlearn: 0.1346257\ttotal: 666ms\tremaining: 2.7s\n",
            "198:\tlearn: 0.1342758\ttotal: 671ms\tremaining: 2.7s\n",
            "199:\tlearn: 0.1336878\ttotal: 673ms\tremaining: 2.69s\n",
            "200:\tlearn: 0.1330199\ttotal: 676ms\tremaining: 2.69s\n",
            "201:\tlearn: 0.1322906\ttotal: 678ms\tremaining: 2.68s\n",
            "202:\tlearn: 0.1318697\ttotal: 680ms\tremaining: 2.67s\n",
            "203:\tlearn: 0.1312861\ttotal: 682ms\tremaining: 2.66s\n",
            "204:\tlearn: 0.1309498\ttotal: 684ms\tremaining: 2.65s\n",
            "205:\tlearn: 0.1303002\ttotal: 686ms\tremaining: 2.65s\n",
            "206:\tlearn: 0.1296842\ttotal: 688ms\tremaining: 2.64s\n",
            "207:\tlearn: 0.1291839\ttotal: 691ms\tremaining: 2.63s\n",
            "208:\tlearn: 0.1284784\ttotal: 693ms\tremaining: 2.62s\n",
            "209:\tlearn: 0.1279059\ttotal: 695ms\tremaining: 2.61s\n",
            "210:\tlearn: 0.1274725\ttotal: 697ms\tremaining: 2.6s\n",
            "211:\tlearn: 0.1270193\ttotal: 699ms\tremaining: 2.6s\n",
            "212:\tlearn: 0.1263996\ttotal: 701ms\tremaining: 2.59s\n",
            "213:\tlearn: 0.1257612\ttotal: 703ms\tremaining: 2.58s\n",
            "214:\tlearn: 0.1250586\ttotal: 706ms\tremaining: 2.58s\n",
            "215:\tlearn: 0.1246134\ttotal: 708ms\tremaining: 2.57s\n",
            "216:\tlearn: 0.1240497\ttotal: 710ms\tremaining: 2.56s\n",
            "217:\tlearn: 0.1236534\ttotal: 712ms\tremaining: 2.55s\n",
            "218:\tlearn: 0.1232864\ttotal: 714ms\tremaining: 2.55s\n",
            "219:\tlearn: 0.1229479\ttotal: 716ms\tremaining: 2.54s\n",
            "220:\tlearn: 0.1226712\ttotal: 718ms\tremaining: 2.53s\n",
            "221:\tlearn: 0.1221381\ttotal: 720ms\tremaining: 2.52s\n",
            "222:\tlearn: 0.1215851\ttotal: 722ms\tremaining: 2.52s\n",
            "223:\tlearn: 0.1210998\ttotal: 724ms\tremaining: 2.51s\n",
            "224:\tlearn: 0.1205776\ttotal: 727ms\tremaining: 2.5s\n",
            "225:\tlearn: 0.1201564\ttotal: 729ms\tremaining: 2.5s\n",
            "226:\tlearn: 0.1197520\ttotal: 731ms\tremaining: 2.49s\n",
            "227:\tlearn: 0.1191793\ttotal: 733ms\tremaining: 2.48s\n",
            "228:\tlearn: 0.1188387\ttotal: 736ms\tremaining: 2.48s\n",
            "229:\tlearn: 0.1184246\ttotal: 738ms\tremaining: 2.47s\n",
            "230:\tlearn: 0.1180424\ttotal: 740ms\tremaining: 2.46s\n",
            "231:\tlearn: 0.1177129\ttotal: 742ms\tremaining: 2.46s\n",
            "232:\tlearn: 0.1172861\ttotal: 744ms\tremaining: 2.45s\n",
            "233:\tlearn: 0.1168938\ttotal: 746ms\tremaining: 2.44s\n",
            "234:\tlearn: 0.1164649\ttotal: 749ms\tremaining: 2.44s\n",
            "235:\tlearn: 0.1161140\ttotal: 753ms\tremaining: 2.44s\n",
            "236:\tlearn: 0.1157525\ttotal: 755ms\tremaining: 2.43s\n",
            "237:\tlearn: 0.1153433\ttotal: 757ms\tremaining: 2.42s\n",
            "238:\tlearn: 0.1150702\ttotal: 759ms\tremaining: 2.42s\n",
            "239:\tlearn: 0.1146253\ttotal: 762ms\tremaining: 2.41s\n",
            "240:\tlearn: 0.1142852\ttotal: 772ms\tremaining: 2.43s\n",
            "241:\tlearn: 0.1140275\ttotal: 774ms\tremaining: 2.42s\n",
            "242:\tlearn: 0.1136994\ttotal: 776ms\tremaining: 2.42s\n",
            "243:\tlearn: 0.1133637\ttotal: 778ms\tremaining: 2.41s\n",
            "244:\tlearn: 0.1130334\ttotal: 780ms\tremaining: 2.4s\n",
            "245:\tlearn: 0.1126392\ttotal: 783ms\tremaining: 2.4s\n",
            "246:\tlearn: 0.1121995\ttotal: 785ms\tremaining: 2.39s\n",
            "247:\tlearn: 0.1115385\ttotal: 787ms\tremaining: 2.39s\n",
            "248:\tlearn: 0.1108572\ttotal: 791ms\tremaining: 2.38s\n",
            "249:\tlearn: 0.1103976\ttotal: 793ms\tremaining: 2.38s\n",
            "250:\tlearn: 0.1099936\ttotal: 796ms\tremaining: 2.38s\n",
            "251:\tlearn: 0.1096070\ttotal: 798ms\tremaining: 2.37s\n",
            "252:\tlearn: 0.1092168\ttotal: 800ms\tremaining: 2.36s\n",
            "253:\tlearn: 0.1087163\ttotal: 803ms\tremaining: 2.36s\n",
            "254:\tlearn: 0.1083519\ttotal: 805ms\tremaining: 2.35s\n",
            "255:\tlearn: 0.1080252\ttotal: 813ms\tremaining: 2.36s\n",
            "256:\tlearn: 0.1076474\ttotal: 815ms\tremaining: 2.35s\n",
            "257:\tlearn: 0.1073516\ttotal: 817ms\tremaining: 2.35s\n",
            "258:\tlearn: 0.1070354\ttotal: 819ms\tremaining: 2.34s\n",
            "259:\tlearn: 0.1068061\ttotal: 821ms\tremaining: 2.34s\n",
            "260:\tlearn: 0.1065316\ttotal: 823ms\tremaining: 2.33s\n",
            "261:\tlearn: 0.1061107\ttotal: 825ms\tremaining: 2.32s\n",
            "262:\tlearn: 0.1057703\ttotal: 828ms\tremaining: 2.32s\n",
            "263:\tlearn: 0.1052257\ttotal: 830ms\tremaining: 2.31s\n",
            "264:\tlearn: 0.1049112\ttotal: 832ms\tremaining: 2.31s\n",
            "265:\tlearn: 0.1044828\ttotal: 834ms\tremaining: 2.3s\n",
            "266:\tlearn: 0.1040401\ttotal: 836ms\tremaining: 2.3s\n",
            "267:\tlearn: 0.1037513\ttotal: 839ms\tremaining: 2.29s\n",
            "268:\tlearn: 0.1034610\ttotal: 841ms\tremaining: 2.28s\n",
            "269:\tlearn: 0.1031387\ttotal: 843ms\tremaining: 2.28s\n",
            "270:\tlearn: 0.1027413\ttotal: 845ms\tremaining: 2.27s\n",
            "271:\tlearn: 0.1022983\ttotal: 847ms\tremaining: 2.27s\n",
            "272:\tlearn: 0.1019327\ttotal: 850ms\tremaining: 2.26s\n",
            "273:\tlearn: 0.1016499\ttotal: 852ms\tremaining: 2.26s\n",
            "274:\tlearn: 0.1012860\ttotal: 854ms\tremaining: 2.25s\n",
            "275:\tlearn: 0.1008352\ttotal: 856ms\tremaining: 2.25s\n",
            "276:\tlearn: 0.1005083\ttotal: 858ms\tremaining: 2.24s\n",
            "277:\tlearn: 0.1000871\ttotal: 861ms\tremaining: 2.23s\n",
            "278:\tlearn: 0.0996912\ttotal: 863ms\tremaining: 2.23s\n",
            "279:\tlearn: 0.0993671\ttotal: 865ms\tremaining: 2.22s\n",
            "280:\tlearn: 0.0990770\ttotal: 867ms\tremaining: 2.22s\n",
            "281:\tlearn: 0.0987264\ttotal: 869ms\tremaining: 2.21s\n",
            "282:\tlearn: 0.0983610\ttotal: 871ms\tremaining: 2.21s\n",
            "283:\tlearn: 0.0981049\ttotal: 874ms\tremaining: 2.2s\n",
            "284:\tlearn: 0.0976206\ttotal: 876ms\tremaining: 2.2s\n",
            "285:\tlearn: 0.0972581\ttotal: 878ms\tremaining: 2.19s\n",
            "286:\tlearn: 0.0969211\ttotal: 881ms\tremaining: 2.19s\n",
            "287:\tlearn: 0.0966909\ttotal: 883ms\tremaining: 2.18s\n",
            "288:\tlearn: 0.0964406\ttotal: 886ms\tremaining: 2.18s\n",
            "289:\tlearn: 0.0961882\ttotal: 888ms\tremaining: 2.17s\n",
            "290:\tlearn: 0.0960561\ttotal: 891ms\tremaining: 2.17s\n",
            "291:\tlearn: 0.0957925\ttotal: 893ms\tremaining: 2.17s\n",
            "292:\tlearn: 0.0955188\ttotal: 895ms\tremaining: 2.16s\n",
            "293:\tlearn: 0.0952630\ttotal: 898ms\tremaining: 2.15s\n",
            "294:\tlearn: 0.0949723\ttotal: 900ms\tremaining: 2.15s\n",
            "295:\tlearn: 0.0945951\ttotal: 902ms\tremaining: 2.15s\n",
            "296:\tlearn: 0.0943807\ttotal: 904ms\tremaining: 2.14s\n",
            "297:\tlearn: 0.0940986\ttotal: 907ms\tremaining: 2.13s\n",
            "298:\tlearn: 0.0937710\ttotal: 909ms\tremaining: 2.13s\n",
            "299:\tlearn: 0.0934314\ttotal: 911ms\tremaining: 2.13s\n",
            "300:\tlearn: 0.0930933\ttotal: 914ms\tremaining: 2.12s\n",
            "301:\tlearn: 0.0929614\ttotal: 916ms\tremaining: 2.12s\n",
            "302:\tlearn: 0.0927078\ttotal: 918ms\tremaining: 2.11s\n",
            "303:\tlearn: 0.0925105\ttotal: 921ms\tremaining: 2.11s\n",
            "304:\tlearn: 0.0920760\ttotal: 923ms\tremaining: 2.1s\n",
            "305:\tlearn: 0.0917707\ttotal: 925ms\tremaining: 2.1s\n",
            "306:\tlearn: 0.0913018\ttotal: 927ms\tremaining: 2.09s\n",
            "307:\tlearn: 0.0910849\ttotal: 930ms\tremaining: 2.09s\n",
            "308:\tlearn: 0.0907903\ttotal: 932ms\tremaining: 2.08s\n",
            "309:\tlearn: 0.0904692\ttotal: 935ms\tremaining: 2.08s\n",
            "310:\tlearn: 0.0901994\ttotal: 937ms\tremaining: 2.08s\n",
            "311:\tlearn: 0.0900777\ttotal: 940ms\tremaining: 2.07s\n",
            "312:\tlearn: 0.0898107\ttotal: 942ms\tremaining: 2.07s\n",
            "313:\tlearn: 0.0895066\ttotal: 944ms\tremaining: 2.06s\n",
            "314:\tlearn: 0.0892534\ttotal: 946ms\tremaining: 2.06s\n",
            "315:\tlearn: 0.0890548\ttotal: 949ms\tremaining: 2.05s\n",
            "316:\tlearn: 0.0886819\ttotal: 951ms\tremaining: 2.05s\n",
            "317:\tlearn: 0.0884642\ttotal: 953ms\tremaining: 2.04s\n",
            "318:\tlearn: 0.0881658\ttotal: 956ms\tremaining: 2.04s\n",
            "319:\tlearn: 0.0879385\ttotal: 958ms\tremaining: 2.04s\n",
            "320:\tlearn: 0.0877807\ttotal: 960ms\tremaining: 2.03s\n",
            "321:\tlearn: 0.0875794\ttotal: 963ms\tremaining: 2.03s\n",
            "322:\tlearn: 0.0873178\ttotal: 965ms\tremaining: 2.02s\n",
            "323:\tlearn: 0.0871120\ttotal: 967ms\tremaining: 2.02s\n",
            "324:\tlearn: 0.0868256\ttotal: 970ms\tremaining: 2.01s\n",
            "325:\tlearn: 0.0865799\ttotal: 972ms\tremaining: 2.01s\n",
            "326:\tlearn: 0.0863781\ttotal: 974ms\tremaining: 2s\n",
            "327:\tlearn: 0.0861320\ttotal: 976ms\tremaining: 2s\n",
            "328:\tlearn: 0.0859696\ttotal: 979ms\tremaining: 2s\n",
            "329:\tlearn: 0.0856669\ttotal: 981ms\tremaining: 1.99s\n",
            "330:\tlearn: 0.0854058\ttotal: 983ms\tremaining: 1.99s\n",
            "331:\tlearn: 0.0852363\ttotal: 986ms\tremaining: 1.98s\n",
            "332:\tlearn: 0.0850064\ttotal: 988ms\tremaining: 1.98s\n",
            "333:\tlearn: 0.0848002\ttotal: 990ms\tremaining: 1.97s\n",
            "334:\tlearn: 0.0844959\ttotal: 993ms\tremaining: 1.97s\n",
            "335:\tlearn: 0.0842634\ttotal: 995ms\tremaining: 1.97s\n",
            "336:\tlearn: 0.0840223\ttotal: 997ms\tremaining: 1.96s\n",
            "337:\tlearn: 0.0838796\ttotal: 1s\tremaining: 1.96s\n",
            "338:\tlearn: 0.0836945\ttotal: 1.01s\tremaining: 1.96s\n",
            "339:\tlearn: 0.0834694\ttotal: 1.01s\tremaining: 1.97s\n",
            "340:\tlearn: 0.0832169\ttotal: 1.02s\tremaining: 1.97s\n",
            "341:\tlearn: 0.0829357\ttotal: 1.02s\tremaining: 1.96s\n",
            "342:\tlearn: 0.0826957\ttotal: 1.02s\tremaining: 1.96s\n",
            "343:\tlearn: 0.0823738\ttotal: 1.02s\tremaining: 1.96s\n",
            "344:\tlearn: 0.0822209\ttotal: 1.03s\tremaining: 1.95s\n",
            "345:\tlearn: 0.0819145\ttotal: 1.03s\tremaining: 1.95s\n",
            "346:\tlearn: 0.0817636\ttotal: 1.03s\tremaining: 1.94s\n",
            "347:\tlearn: 0.0816095\ttotal: 1.03s\tremaining: 1.94s\n",
            "348:\tlearn: 0.0814004\ttotal: 1.04s\tremaining: 1.93s\n",
            "349:\tlearn: 0.0811022\ttotal: 1.04s\tremaining: 1.93s\n",
            "350:\tlearn: 0.0808377\ttotal: 1.04s\tremaining: 1.93s\n",
            "351:\tlearn: 0.0804712\ttotal: 1.04s\tremaining: 1.92s\n",
            "352:\tlearn: 0.0801715\ttotal: 1.05s\tremaining: 1.92s\n",
            "353:\tlearn: 0.0800088\ttotal: 1.05s\tremaining: 1.91s\n",
            "354:\tlearn: 0.0797478\ttotal: 1.05s\tremaining: 1.91s\n",
            "355:\tlearn: 0.0795807\ttotal: 1.05s\tremaining: 1.9s\n",
            "356:\tlearn: 0.0793553\ttotal: 1.05s\tremaining: 1.9s\n",
            "357:\tlearn: 0.0790739\ttotal: 1.06s\tremaining: 1.9s\n",
            "358:\tlearn: 0.0788888\ttotal: 1.06s\tremaining: 1.89s\n",
            "359:\tlearn: 0.0787243\ttotal: 1.06s\tremaining: 1.89s\n",
            "360:\tlearn: 0.0784173\ttotal: 1.06s\tremaining: 1.89s\n",
            "361:\tlearn: 0.0781911\ttotal: 1.07s\tremaining: 1.88s\n",
            "362:\tlearn: 0.0779784\ttotal: 1.07s\tremaining: 1.88s\n",
            "363:\tlearn: 0.0778383\ttotal: 1.07s\tremaining: 1.87s\n",
            "364:\tlearn: 0.0775630\ttotal: 1.07s\tremaining: 1.87s\n",
            "365:\tlearn: 0.0773469\ttotal: 1.08s\tremaining: 1.86s\n",
            "366:\tlearn: 0.0771313\ttotal: 1.08s\tremaining: 1.86s\n",
            "367:\tlearn: 0.0769352\ttotal: 1.08s\tremaining: 1.86s\n",
            "368:\tlearn: 0.0767890\ttotal: 1.08s\tremaining: 1.85s\n",
            "369:\tlearn: 0.0766122\ttotal: 1.08s\tremaining: 1.85s\n",
            "370:\tlearn: 0.0764389\ttotal: 1.09s\tremaining: 1.84s\n",
            "371:\tlearn: 0.0761603\ttotal: 1.09s\tremaining: 1.84s\n",
            "372:\tlearn: 0.0759064\ttotal: 1.09s\tremaining: 1.84s\n",
            "373:\tlearn: 0.0756532\ttotal: 1.09s\tremaining: 1.83s\n",
            "374:\tlearn: 0.0753950\ttotal: 1.1s\tremaining: 1.83s\n",
            "375:\tlearn: 0.0752494\ttotal: 1.1s\tremaining: 1.82s\n",
            "376:\tlearn: 0.0751452\ttotal: 1.1s\tremaining: 1.82s\n",
            "377:\tlearn: 0.0749704\ttotal: 1.1s\tremaining: 1.82s\n",
            "378:\tlearn: 0.0748058\ttotal: 1.11s\tremaining: 1.81s\n",
            "379:\tlearn: 0.0746454\ttotal: 1.11s\tremaining: 1.81s\n",
            "380:\tlearn: 0.0744374\ttotal: 1.11s\tremaining: 1.8s\n",
            "381:\tlearn: 0.0742313\ttotal: 1.11s\tremaining: 1.8s\n",
            "382:\tlearn: 0.0739290\ttotal: 1.11s\tremaining: 1.8s\n",
            "383:\tlearn: 0.0736501\ttotal: 1.12s\tremaining: 1.79s\n",
            "384:\tlearn: 0.0733907\ttotal: 1.12s\tremaining: 1.79s\n",
            "385:\tlearn: 0.0732429\ttotal: 1.12s\tremaining: 1.79s\n",
            "386:\tlearn: 0.0731281\ttotal: 1.13s\tremaining: 1.78s\n",
            "387:\tlearn: 0.0729598\ttotal: 1.13s\tremaining: 1.78s\n",
            "388:\tlearn: 0.0726819\ttotal: 1.13s\tremaining: 1.78s\n",
            "389:\tlearn: 0.0723844\ttotal: 1.13s\tremaining: 1.77s\n",
            "390:\tlearn: 0.0722914\ttotal: 1.14s\tremaining: 1.77s\n",
            "391:\tlearn: 0.0720548\ttotal: 1.14s\tremaining: 1.77s\n",
            "392:\tlearn: 0.0718109\ttotal: 1.14s\tremaining: 1.76s\n",
            "393:\tlearn: 0.0716202\ttotal: 1.14s\tremaining: 1.76s\n",
            "394:\tlearn: 0.0714341\ttotal: 1.15s\tremaining: 1.76s\n",
            "395:\tlearn: 0.0712347\ttotal: 1.15s\tremaining: 1.75s\n",
            "396:\tlearn: 0.0710803\ttotal: 1.15s\tremaining: 1.75s\n",
            "397:\tlearn: 0.0708795\ttotal: 1.15s\tremaining: 1.75s\n",
            "398:\tlearn: 0.0705818\ttotal: 1.16s\tremaining: 1.74s\n",
            "399:\tlearn: 0.0704192\ttotal: 1.16s\tremaining: 1.74s\n",
            "400:\tlearn: 0.0702686\ttotal: 1.16s\tremaining: 1.73s\n",
            "401:\tlearn: 0.0701482\ttotal: 1.16s\tremaining: 1.73s\n",
            "402:\tlearn: 0.0699620\ttotal: 1.17s\tremaining: 1.73s\n",
            "403:\tlearn: 0.0698221\ttotal: 1.17s\tremaining: 1.72s\n",
            "404:\tlearn: 0.0697148\ttotal: 1.17s\tremaining: 1.72s\n",
            "405:\tlearn: 0.0695562\ttotal: 1.17s\tremaining: 1.72s\n",
            "406:\tlearn: 0.0693790\ttotal: 1.17s\tremaining: 1.71s\n",
            "407:\tlearn: 0.0692621\ttotal: 1.18s\tremaining: 1.71s\n",
            "408:\tlearn: 0.0690340\ttotal: 1.18s\tremaining: 1.7s\n",
            "409:\tlearn: 0.0688533\ttotal: 1.19s\tremaining: 1.71s\n",
            "410:\tlearn: 0.0687084\ttotal: 1.19s\tremaining: 1.71s\n",
            "411:\tlearn: 0.0685408\ttotal: 1.19s\tremaining: 1.7s\n",
            "412:\tlearn: 0.0683246\ttotal: 1.19s\tremaining: 1.7s\n",
            "413:\tlearn: 0.0681493\ttotal: 1.2s\tremaining: 1.69s\n",
            "414:\tlearn: 0.0678826\ttotal: 1.2s\tremaining: 1.69s\n",
            "415:\tlearn: 0.0677593\ttotal: 1.2s\tremaining: 1.69s\n",
            "416:\tlearn: 0.0675733\ttotal: 1.2s\tremaining: 1.68s\n",
            "417:\tlearn: 0.0673958\ttotal: 1.2s\tremaining: 1.68s\n",
            "418:\tlearn: 0.0672456\ttotal: 1.21s\tremaining: 1.67s\n",
            "419:\tlearn: 0.0670059\ttotal: 1.21s\tremaining: 1.67s\n",
            "420:\tlearn: 0.0667273\ttotal: 1.21s\tremaining: 1.67s\n",
            "421:\tlearn: 0.0665929\ttotal: 1.21s\tremaining: 1.66s\n",
            "422:\tlearn: 0.0663122\ttotal: 1.21s\tremaining: 1.66s\n",
            "423:\tlearn: 0.0661630\ttotal: 1.22s\tremaining: 1.65s\n",
            "424:\tlearn: 0.0659892\ttotal: 1.22s\tremaining: 1.65s\n",
            "425:\tlearn: 0.0658678\ttotal: 1.22s\tremaining: 1.65s\n",
            "426:\tlearn: 0.0657397\ttotal: 1.22s\tremaining: 1.64s\n",
            "427:\tlearn: 0.0656020\ttotal: 1.23s\tremaining: 1.64s\n",
            "428:\tlearn: 0.0653952\ttotal: 1.23s\tremaining: 1.63s\n",
            "429:\tlearn: 0.0652747\ttotal: 1.23s\tremaining: 1.63s\n",
            "430:\tlearn: 0.0651086\ttotal: 1.23s\tremaining: 1.63s\n",
            "431:\tlearn: 0.0649548\ttotal: 1.23s\tremaining: 1.62s\n",
            "432:\tlearn: 0.0647453\ttotal: 1.24s\tremaining: 1.62s\n",
            "433:\tlearn: 0.0645912\ttotal: 1.24s\tremaining: 1.62s\n",
            "434:\tlearn: 0.0643981\ttotal: 1.24s\tremaining: 1.61s\n",
            "435:\tlearn: 0.0642361\ttotal: 1.24s\tremaining: 1.61s\n",
            "436:\tlearn: 0.0641032\ttotal: 1.25s\tremaining: 1.6s\n",
            "437:\tlearn: 0.0638981\ttotal: 1.25s\tremaining: 1.6s\n",
            "438:\tlearn: 0.0637267\ttotal: 1.25s\tremaining: 1.6s\n",
            "439:\tlearn: 0.0635485\ttotal: 1.25s\tremaining: 1.59s\n",
            "440:\tlearn: 0.0634073\ttotal: 1.26s\tremaining: 1.6s\n",
            "441:\tlearn: 0.0632672\ttotal: 1.27s\tremaining: 1.6s\n",
            "442:\tlearn: 0.0631801\ttotal: 1.27s\tremaining: 1.6s\n",
            "443:\tlearn: 0.0630143\ttotal: 1.28s\tremaining: 1.6s\n",
            "444:\tlearn: 0.0628989\ttotal: 1.28s\tremaining: 1.59s\n",
            "445:\tlearn: 0.0627643\ttotal: 1.28s\tremaining: 1.59s\n",
            "446:\tlearn: 0.0625956\ttotal: 1.28s\tremaining: 1.59s\n",
            "447:\tlearn: 0.0625274\ttotal: 1.29s\tremaining: 1.58s\n",
            "448:\tlearn: 0.0623882\ttotal: 1.29s\tremaining: 1.58s\n",
            "449:\tlearn: 0.0622733\ttotal: 1.29s\tremaining: 1.58s\n",
            "450:\tlearn: 0.0621780\ttotal: 1.29s\tremaining: 1.57s\n",
            "451:\tlearn: 0.0620178\ttotal: 1.29s\tremaining: 1.57s\n",
            "452:\tlearn: 0.0618963\ttotal: 1.3s\tremaining: 1.57s\n",
            "453:\tlearn: 0.0617622\ttotal: 1.3s\tremaining: 1.56s\n",
            "454:\tlearn: 0.0615572\ttotal: 1.3s\tremaining: 1.56s\n",
            "455:\tlearn: 0.0614446\ttotal: 1.31s\tremaining: 1.56s\n",
            "456:\tlearn: 0.0613315\ttotal: 1.31s\tremaining: 1.56s\n",
            "457:\tlearn: 0.0611872\ttotal: 1.32s\tremaining: 1.56s\n",
            "458:\tlearn: 0.0610447\ttotal: 1.33s\tremaining: 1.56s\n",
            "459:\tlearn: 0.0608692\ttotal: 1.33s\tremaining: 1.56s\n",
            "460:\tlearn: 0.0607678\ttotal: 1.33s\tremaining: 1.56s\n",
            "461:\tlearn: 0.0606043\ttotal: 1.33s\tremaining: 1.55s\n",
            "462:\tlearn: 0.0604365\ttotal: 1.34s\tremaining: 1.55s\n",
            "463:\tlearn: 0.0603491\ttotal: 1.34s\tremaining: 1.55s\n",
            "464:\tlearn: 0.0602082\ttotal: 1.34s\tremaining: 1.54s\n",
            "465:\tlearn: 0.0600776\ttotal: 1.34s\tremaining: 1.54s\n",
            "466:\tlearn: 0.0599039\ttotal: 1.35s\tremaining: 1.54s\n",
            "467:\tlearn: 0.0598232\ttotal: 1.35s\tremaining: 1.53s\n",
            "468:\tlearn: 0.0597284\ttotal: 1.35s\tremaining: 1.53s\n",
            "469:\tlearn: 0.0596466\ttotal: 1.35s\tremaining: 1.53s\n",
            "470:\tlearn: 0.0594833\ttotal: 1.36s\tremaining: 1.52s\n",
            "471:\tlearn: 0.0593636\ttotal: 1.36s\tremaining: 1.52s\n",
            "472:\tlearn: 0.0591936\ttotal: 1.36s\tremaining: 1.52s\n",
            "473:\tlearn: 0.0590199\ttotal: 1.36s\tremaining: 1.51s\n",
            "474:\tlearn: 0.0589024\ttotal: 1.36s\tremaining: 1.51s\n",
            "475:\tlearn: 0.0587900\ttotal: 1.37s\tremaining: 1.5s\n",
            "476:\tlearn: 0.0586637\ttotal: 1.38s\tremaining: 1.51s\n",
            "477:\tlearn: 0.0585505\ttotal: 1.38s\tremaining: 1.5s\n",
            "478:\tlearn: 0.0584216\ttotal: 1.38s\tremaining: 1.5s\n",
            "479:\tlearn: 0.0581535\ttotal: 1.38s\tremaining: 1.5s\n",
            "480:\tlearn: 0.0580265\ttotal: 1.39s\tremaining: 1.49s\n",
            "481:\tlearn: 0.0579063\ttotal: 1.39s\tremaining: 1.49s\n",
            "482:\tlearn: 0.0577397\ttotal: 1.39s\tremaining: 1.49s\n",
            "483:\tlearn: 0.0576298\ttotal: 1.39s\tremaining: 1.48s\n",
            "484:\tlearn: 0.0575504\ttotal: 1.39s\tremaining: 1.48s\n",
            "485:\tlearn: 0.0574370\ttotal: 1.4s\tremaining: 1.48s\n",
            "486:\tlearn: 0.0572291\ttotal: 1.4s\tremaining: 1.47s\n",
            "487:\tlearn: 0.0570915\ttotal: 1.4s\tremaining: 1.47s\n",
            "488:\tlearn: 0.0569732\ttotal: 1.4s\tremaining: 1.47s\n",
            "489:\tlearn: 0.0568477\ttotal: 1.41s\tremaining: 1.46s\n",
            "490:\tlearn: 0.0567461\ttotal: 1.41s\tremaining: 1.46s\n",
            "491:\tlearn: 0.0566716\ttotal: 1.41s\tremaining: 1.46s\n",
            "492:\tlearn: 0.0565866\ttotal: 1.41s\tremaining: 1.45s\n",
            "493:\tlearn: 0.0564677\ttotal: 1.42s\tremaining: 1.45s\n",
            "494:\tlearn: 0.0563385\ttotal: 1.42s\tremaining: 1.45s\n",
            "495:\tlearn: 0.0562353\ttotal: 1.42s\tremaining: 1.44s\n",
            "496:\tlearn: 0.0560960\ttotal: 1.42s\tremaining: 1.44s\n",
            "497:\tlearn: 0.0559461\ttotal: 1.42s\tremaining: 1.44s\n",
            "498:\tlearn: 0.0558483\ttotal: 1.43s\tremaining: 1.43s\n",
            "499:\tlearn: 0.0557718\ttotal: 1.43s\tremaining: 1.43s\n",
            "500:\tlearn: 0.0555887\ttotal: 1.43s\tremaining: 1.43s\n",
            "501:\tlearn: 0.0554762\ttotal: 1.43s\tremaining: 1.42s\n",
            "502:\tlearn: 0.0553188\ttotal: 1.44s\tremaining: 1.42s\n",
            "503:\tlearn: 0.0551902\ttotal: 1.44s\tremaining: 1.42s\n",
            "504:\tlearn: 0.0550309\ttotal: 1.44s\tremaining: 1.41s\n",
            "505:\tlearn: 0.0549016\ttotal: 1.44s\tremaining: 1.41s\n",
            "506:\tlearn: 0.0547961\ttotal: 1.45s\tremaining: 1.41s\n",
            "507:\tlearn: 0.0546035\ttotal: 1.45s\tremaining: 1.4s\n",
            "508:\tlearn: 0.0544851\ttotal: 1.45s\tremaining: 1.4s\n",
            "509:\tlearn: 0.0543625\ttotal: 1.45s\tremaining: 1.4s\n",
            "510:\tlearn: 0.0542222\ttotal: 1.46s\tremaining: 1.39s\n",
            "511:\tlearn: 0.0541292\ttotal: 1.46s\tremaining: 1.39s\n",
            "512:\tlearn: 0.0540223\ttotal: 1.46s\tremaining: 1.39s\n",
            "513:\tlearn: 0.0539001\ttotal: 1.46s\tremaining: 1.38s\n",
            "514:\tlearn: 0.0537876\ttotal: 1.47s\tremaining: 1.38s\n",
            "515:\tlearn: 0.0536790\ttotal: 1.47s\tremaining: 1.38s\n",
            "516:\tlearn: 0.0536037\ttotal: 1.47s\tremaining: 1.37s\n",
            "517:\tlearn: 0.0534390\ttotal: 1.47s\tremaining: 1.37s\n",
            "518:\tlearn: 0.0533285\ttotal: 1.48s\tremaining: 1.37s\n",
            "519:\tlearn: 0.0532273\ttotal: 1.48s\tremaining: 1.36s\n",
            "520:\tlearn: 0.0530793\ttotal: 1.48s\tremaining: 1.36s\n",
            "521:\tlearn: 0.0529483\ttotal: 1.48s\tremaining: 1.36s\n",
            "522:\tlearn: 0.0527897\ttotal: 1.48s\tremaining: 1.35s\n",
            "523:\tlearn: 0.0527237\ttotal: 1.49s\tremaining: 1.35s\n",
            "524:\tlearn: 0.0525111\ttotal: 1.49s\tremaining: 1.35s\n",
            "525:\tlearn: 0.0523827\ttotal: 1.49s\tremaining: 1.34s\n",
            "526:\tlearn: 0.0522948\ttotal: 1.49s\tremaining: 1.34s\n",
            "527:\tlearn: 0.0522220\ttotal: 1.5s\tremaining: 1.34s\n",
            "528:\tlearn: 0.0520815\ttotal: 1.5s\tremaining: 1.33s\n",
            "529:\tlearn: 0.0520029\ttotal: 1.5s\tremaining: 1.33s\n",
            "530:\tlearn: 0.0518490\ttotal: 1.5s\tremaining: 1.33s\n",
            "531:\tlearn: 0.0517670\ttotal: 1.5s\tremaining: 1.32s\n",
            "532:\tlearn: 0.0516901\ttotal: 1.5s\tremaining: 1.32s\n",
            "533:\tlearn: 0.0516011\ttotal: 1.51s\tremaining: 1.31s\n",
            "534:\tlearn: 0.0515039\ttotal: 1.51s\tremaining: 1.31s\n",
            "535:\tlearn: 0.0513026\ttotal: 1.51s\tremaining: 1.31s\n",
            "536:\tlearn: 0.0512596\ttotal: 1.51s\tremaining: 1.3s\n",
            "537:\tlearn: 0.0511338\ttotal: 1.52s\tremaining: 1.3s\n",
            "538:\tlearn: 0.0510389\ttotal: 1.52s\tremaining: 1.3s\n",
            "539:\tlearn: 0.0509530\ttotal: 1.52s\tremaining: 1.29s\n",
            "540:\tlearn: 0.0508256\ttotal: 1.52s\tremaining: 1.29s\n",
            "541:\tlearn: 0.0507126\ttotal: 1.52s\tremaining: 1.29s\n",
            "542:\tlearn: 0.0506325\ttotal: 1.53s\tremaining: 1.28s\n",
            "543:\tlearn: 0.0504805\ttotal: 1.53s\tremaining: 1.28s\n",
            "544:\tlearn: 0.0504058\ttotal: 1.53s\tremaining: 1.28s\n",
            "545:\tlearn: 0.0503211\ttotal: 1.53s\tremaining: 1.27s\n",
            "546:\tlearn: 0.0502150\ttotal: 1.53s\tremaining: 1.27s\n",
            "547:\tlearn: 0.0500969\ttotal: 1.54s\tremaining: 1.27s\n",
            "548:\tlearn: 0.0500622\ttotal: 1.54s\tremaining: 1.26s\n",
            "549:\tlearn: 0.0499509\ttotal: 1.54s\tremaining: 1.26s\n",
            "550:\tlearn: 0.0498610\ttotal: 1.54s\tremaining: 1.26s\n",
            "551:\tlearn: 0.0497490\ttotal: 1.54s\tremaining: 1.25s\n",
            "552:\tlearn: 0.0496780\ttotal: 1.55s\tremaining: 1.25s\n",
            "553:\tlearn: 0.0495349\ttotal: 1.55s\tremaining: 1.25s\n",
            "554:\tlearn: 0.0494133\ttotal: 1.55s\tremaining: 1.24s\n",
            "555:\tlearn: 0.0493513\ttotal: 1.55s\tremaining: 1.24s\n",
            "556:\tlearn: 0.0492210\ttotal: 1.56s\tremaining: 1.24s\n",
            "557:\tlearn: 0.0491373\ttotal: 1.56s\tremaining: 1.23s\n",
            "558:\tlearn: 0.0490317\ttotal: 1.56s\tremaining: 1.23s\n",
            "559:\tlearn: 0.0489523\ttotal: 1.56s\tremaining: 1.23s\n",
            "560:\tlearn: 0.0488339\ttotal: 1.57s\tremaining: 1.23s\n",
            "561:\tlearn: 0.0487507\ttotal: 1.57s\tremaining: 1.22s\n",
            "562:\tlearn: 0.0486062\ttotal: 1.57s\tremaining: 1.22s\n",
            "563:\tlearn: 0.0484887\ttotal: 1.57s\tremaining: 1.22s\n",
            "564:\tlearn: 0.0483586\ttotal: 1.58s\tremaining: 1.21s\n",
            "565:\tlearn: 0.0482531\ttotal: 1.58s\tremaining: 1.21s\n",
            "566:\tlearn: 0.0481512\ttotal: 1.58s\tremaining: 1.21s\n",
            "567:\tlearn: 0.0480803\ttotal: 1.58s\tremaining: 1.21s\n",
            "568:\tlearn: 0.0479657\ttotal: 1.59s\tremaining: 1.2s\n",
            "569:\tlearn: 0.0478486\ttotal: 1.59s\tremaining: 1.2s\n",
            "570:\tlearn: 0.0477671\ttotal: 1.59s\tremaining: 1.2s\n",
            "571:\tlearn: 0.0476370\ttotal: 1.6s\tremaining: 1.19s\n",
            "572:\tlearn: 0.0475206\ttotal: 1.6s\tremaining: 1.19s\n",
            "573:\tlearn: 0.0474042\ttotal: 1.6s\tremaining: 1.19s\n",
            "574:\tlearn: 0.0472675\ttotal: 1.6s\tremaining: 1.19s\n",
            "575:\tlearn: 0.0471323\ttotal: 1.61s\tremaining: 1.18s\n",
            "576:\tlearn: 0.0470618\ttotal: 1.61s\tremaining: 1.18s\n",
            "577:\tlearn: 0.0469537\ttotal: 1.61s\tremaining: 1.18s\n",
            "578:\tlearn: 0.0468603\ttotal: 1.61s\tremaining: 1.17s\n",
            "579:\tlearn: 0.0467837\ttotal: 1.61s\tremaining: 1.17s\n",
            "580:\tlearn: 0.0466980\ttotal: 1.62s\tremaining: 1.17s\n",
            "581:\tlearn: 0.0466067\ttotal: 1.62s\tremaining: 1.16s\n",
            "582:\tlearn: 0.0465313\ttotal: 1.62s\tremaining: 1.16s\n",
            "583:\tlearn: 0.0464453\ttotal: 1.62s\tremaining: 1.16s\n",
            "584:\tlearn: 0.0463353\ttotal: 1.63s\tremaining: 1.15s\n",
            "585:\tlearn: 0.0462404\ttotal: 1.63s\tremaining: 1.15s\n",
            "586:\tlearn: 0.0461529\ttotal: 1.63s\tremaining: 1.15s\n",
            "587:\tlearn: 0.0460513\ttotal: 1.63s\tremaining: 1.14s\n",
            "588:\tlearn: 0.0459633\ttotal: 1.63s\tremaining: 1.14s\n",
            "589:\tlearn: 0.0458020\ttotal: 1.64s\tremaining: 1.14s\n",
            "590:\tlearn: 0.0457181\ttotal: 1.64s\tremaining: 1.13s\n",
            "591:\tlearn: 0.0455422\ttotal: 1.64s\tremaining: 1.13s\n",
            "592:\tlearn: 0.0454672\ttotal: 1.64s\tremaining: 1.13s\n",
            "593:\tlearn: 0.0453875\ttotal: 1.64s\tremaining: 1.12s\n",
            "594:\tlearn: 0.0452872\ttotal: 1.65s\tremaining: 1.12s\n",
            "595:\tlearn: 0.0452048\ttotal: 1.65s\tremaining: 1.12s\n",
            "596:\tlearn: 0.0451281\ttotal: 1.65s\tremaining: 1.11s\n",
            "597:\tlearn: 0.0450489\ttotal: 1.65s\tremaining: 1.11s\n",
            "598:\tlearn: 0.0449681\ttotal: 1.65s\tremaining: 1.11s\n",
            "599:\tlearn: 0.0449078\ttotal: 1.66s\tremaining: 1.1s\n",
            "600:\tlearn: 0.0447578\ttotal: 1.66s\tremaining: 1.1s\n",
            "601:\tlearn: 0.0446398\ttotal: 1.66s\tremaining: 1.1s\n",
            "602:\tlearn: 0.0445832\ttotal: 1.66s\tremaining: 1.09s\n",
            "603:\tlearn: 0.0444869\ttotal: 1.67s\tremaining: 1.09s\n",
            "604:\tlearn: 0.0443794\ttotal: 1.67s\tremaining: 1.09s\n",
            "605:\tlearn: 0.0443095\ttotal: 1.67s\tremaining: 1.09s\n",
            "606:\tlearn: 0.0441913\ttotal: 1.67s\tremaining: 1.08s\n",
            "607:\tlearn: 0.0440799\ttotal: 1.68s\tremaining: 1.08s\n",
            "608:\tlearn: 0.0439777\ttotal: 1.68s\tremaining: 1.08s\n",
            "609:\tlearn: 0.0438436\ttotal: 1.68s\tremaining: 1.07s\n",
            "610:\tlearn: 0.0437751\ttotal: 1.68s\tremaining: 1.07s\n",
            "611:\tlearn: 0.0436758\ttotal: 1.68s\tremaining: 1.07s\n",
            "612:\tlearn: 0.0436313\ttotal: 1.69s\tremaining: 1.06s\n",
            "613:\tlearn: 0.0435630\ttotal: 1.69s\tremaining: 1.06s\n",
            "614:\tlearn: 0.0434492\ttotal: 1.69s\tremaining: 1.06s\n",
            "615:\tlearn: 0.0433555\ttotal: 1.69s\tremaining: 1.05s\n",
            "616:\tlearn: 0.0432650\ttotal: 1.69s\tremaining: 1.05s\n",
            "617:\tlearn: 0.0432099\ttotal: 1.7s\tremaining: 1.05s\n",
            "618:\tlearn: 0.0431410\ttotal: 1.7s\tremaining: 1.04s\n",
            "619:\tlearn: 0.0430865\ttotal: 1.7s\tremaining: 1.04s\n",
            "620:\tlearn: 0.0430154\ttotal: 1.7s\tremaining: 1.04s\n",
            "621:\tlearn: 0.0428605\ttotal: 1.7s\tremaining: 1.03s\n",
            "622:\tlearn: 0.0427714\ttotal: 1.71s\tremaining: 1.03s\n",
            "623:\tlearn: 0.0426505\ttotal: 1.71s\tremaining: 1.03s\n",
            "624:\tlearn: 0.0425108\ttotal: 1.71s\tremaining: 1.03s\n",
            "625:\tlearn: 0.0424293\ttotal: 1.71s\tremaining: 1.02s\n",
            "626:\tlearn: 0.0423595\ttotal: 1.72s\tremaining: 1.02s\n",
            "627:\tlearn: 0.0422831\ttotal: 1.72s\tremaining: 1.02s\n",
            "628:\tlearn: 0.0421756\ttotal: 1.72s\tremaining: 1.01s\n",
            "629:\tlearn: 0.0420798\ttotal: 1.72s\tremaining: 1.01s\n",
            "630:\tlearn: 0.0420226\ttotal: 1.73s\tremaining: 1.01s\n",
            "631:\tlearn: 0.0419096\ttotal: 1.73s\tremaining: 1.01s\n",
            "632:\tlearn: 0.0418462\ttotal: 1.73s\tremaining: 1s\n",
            "633:\tlearn: 0.0417300\ttotal: 1.73s\tremaining: 1s\n",
            "634:\tlearn: 0.0416190\ttotal: 1.74s\tremaining: 997ms\n",
            "635:\tlearn: 0.0415317\ttotal: 1.74s\tremaining: 994ms\n",
            "636:\tlearn: 0.0414572\ttotal: 1.74s\tremaining: 991ms\n",
            "637:\tlearn: 0.0413920\ttotal: 1.74s\tremaining: 988ms\n",
            "638:\tlearn: 0.0413067\ttotal: 1.74s\tremaining: 985ms\n",
            "639:\tlearn: 0.0412046\ttotal: 1.75s\tremaining: 982ms\n",
            "640:\tlearn: 0.0410975\ttotal: 1.75s\tremaining: 979ms\n",
            "641:\tlearn: 0.0410237\ttotal: 1.75s\tremaining: 977ms\n",
            "642:\tlearn: 0.0408998\ttotal: 1.76s\tremaining: 976ms\n",
            "643:\tlearn: 0.0407952\ttotal: 1.76s\tremaining: 973ms\n",
            "644:\tlearn: 0.0407170\ttotal: 1.76s\tremaining: 970ms\n",
            "645:\tlearn: 0.0406784\ttotal: 1.76s\tremaining: 967ms\n",
            "646:\tlearn: 0.0406122\ttotal: 1.77s\tremaining: 964ms\n",
            "647:\tlearn: 0.0404883\ttotal: 1.77s\tremaining: 961ms\n",
            "648:\tlearn: 0.0404110\ttotal: 1.77s\tremaining: 958ms\n",
            "649:\tlearn: 0.0403306\ttotal: 1.77s\tremaining: 954ms\n",
            "650:\tlearn: 0.0402489\ttotal: 1.77s\tremaining: 951ms\n",
            "651:\tlearn: 0.0401824\ttotal: 1.78s\tremaining: 948ms\n",
            "652:\tlearn: 0.0401454\ttotal: 1.78s\tremaining: 945ms\n",
            "653:\tlearn: 0.0400680\ttotal: 1.78s\tremaining: 942ms\n",
            "654:\tlearn: 0.0399786\ttotal: 1.78s\tremaining: 939ms\n",
            "655:\tlearn: 0.0398998\ttotal: 1.78s\tremaining: 936ms\n",
            "656:\tlearn: 0.0397995\ttotal: 1.79s\tremaining: 934ms\n",
            "657:\tlearn: 0.0397123\ttotal: 1.79s\tremaining: 932ms\n",
            "658:\tlearn: 0.0396441\ttotal: 1.8s\tremaining: 930ms\n",
            "659:\tlearn: 0.0395832\ttotal: 1.8s\tremaining: 928ms\n",
            "660:\tlearn: 0.0395446\ttotal: 1.8s\tremaining: 926ms\n",
            "661:\tlearn: 0.0394898\ttotal: 1.81s\tremaining: 923ms\n",
            "662:\tlearn: 0.0394014\ttotal: 1.81s\tremaining: 920ms\n",
            "663:\tlearn: 0.0393136\ttotal: 1.81s\tremaining: 917ms\n",
            "664:\tlearn: 0.0391645\ttotal: 1.81s\tremaining: 914ms\n",
            "665:\tlearn: 0.0391254\ttotal: 1.81s\tremaining: 910ms\n",
            "666:\tlearn: 0.0390700\ttotal: 1.82s\tremaining: 907ms\n",
            "667:\tlearn: 0.0389890\ttotal: 1.82s\tremaining: 904ms\n",
            "668:\tlearn: 0.0389032\ttotal: 1.82s\tremaining: 901ms\n",
            "669:\tlearn: 0.0388433\ttotal: 1.82s\tremaining: 898ms\n",
            "670:\tlearn: 0.0387647\ttotal: 1.82s\tremaining: 895ms\n",
            "671:\tlearn: 0.0387127\ttotal: 1.83s\tremaining: 892ms\n",
            "672:\tlearn: 0.0385931\ttotal: 1.83s\tremaining: 889ms\n",
            "673:\tlearn: 0.0385535\ttotal: 1.83s\tremaining: 886ms\n",
            "674:\tlearn: 0.0384591\ttotal: 1.83s\tremaining: 884ms\n",
            "675:\tlearn: 0.0383582\ttotal: 1.84s\tremaining: 881ms\n",
            "676:\tlearn: 0.0382742\ttotal: 1.84s\tremaining: 878ms\n",
            "677:\tlearn: 0.0382149\ttotal: 1.84s\tremaining: 875ms\n",
            "678:\tlearn: 0.0381506\ttotal: 1.84s\tremaining: 872ms\n",
            "679:\tlearn: 0.0380941\ttotal: 1.85s\tremaining: 869ms\n",
            "680:\tlearn: 0.0380404\ttotal: 1.85s\tremaining: 867ms\n",
            "681:\tlearn: 0.0379714\ttotal: 1.85s\tremaining: 864ms\n",
            "682:\tlearn: 0.0379149\ttotal: 1.86s\tremaining: 862ms\n",
            "683:\tlearn: 0.0377873\ttotal: 1.86s\tremaining: 859ms\n",
            "684:\tlearn: 0.0377014\ttotal: 1.86s\tremaining: 856ms\n",
            "685:\tlearn: 0.0376525\ttotal: 1.86s\tremaining: 853ms\n",
            "686:\tlearn: 0.0375774\ttotal: 1.86s\tremaining: 850ms\n",
            "687:\tlearn: 0.0374688\ttotal: 1.87s\tremaining: 847ms\n",
            "688:\tlearn: 0.0373727\ttotal: 1.87s\tremaining: 844ms\n",
            "689:\tlearn: 0.0373033\ttotal: 1.87s\tremaining: 841ms\n",
            "690:\tlearn: 0.0372259\ttotal: 1.87s\tremaining: 838ms\n",
            "691:\tlearn: 0.0371382\ttotal: 1.88s\tremaining: 835ms\n",
            "692:\tlearn: 0.0370470\ttotal: 1.88s\tremaining: 832ms\n",
            "693:\tlearn: 0.0369746\ttotal: 1.88s\tremaining: 829ms\n",
            "694:\tlearn: 0.0368784\ttotal: 1.88s\tremaining: 827ms\n",
            "695:\tlearn: 0.0368040\ttotal: 1.89s\tremaining: 824ms\n",
            "696:\tlearn: 0.0367067\ttotal: 1.89s\tremaining: 821ms\n",
            "697:\tlearn: 0.0366291\ttotal: 1.89s\tremaining: 818ms\n",
            "698:\tlearn: 0.0365848\ttotal: 1.89s\tremaining: 815ms\n",
            "699:\tlearn: 0.0365129\ttotal: 1.9s\tremaining: 812ms\n",
            "700:\tlearn: 0.0364381\ttotal: 1.9s\tremaining: 810ms\n",
            "701:\tlearn: 0.0363443\ttotal: 1.9s\tremaining: 807ms\n",
            "702:\tlearn: 0.0362831\ttotal: 1.9s\tremaining: 804ms\n",
            "703:\tlearn: 0.0362099\ttotal: 1.91s\tremaining: 801ms\n",
            "704:\tlearn: 0.0361286\ttotal: 1.91s\tremaining: 798ms\n",
            "705:\tlearn: 0.0360503\ttotal: 1.91s\tremaining: 795ms\n",
            "706:\tlearn: 0.0360162\ttotal: 1.91s\tremaining: 792ms\n",
            "707:\tlearn: 0.0359727\ttotal: 1.91s\tremaining: 789ms\n",
            "708:\tlearn: 0.0359065\ttotal: 1.92s\tremaining: 787ms\n",
            "709:\tlearn: 0.0358404\ttotal: 1.92s\tremaining: 784ms\n",
            "710:\tlearn: 0.0357594\ttotal: 1.92s\tremaining: 781ms\n",
            "711:\tlearn: 0.0356984\ttotal: 1.92s\tremaining: 778ms\n",
            "712:\tlearn: 0.0355876\ttotal: 1.93s\tremaining: 777ms\n",
            "713:\tlearn: 0.0355132\ttotal: 1.93s\tremaining: 774ms\n",
            "714:\tlearn: 0.0354368\ttotal: 1.94s\tremaining: 772ms\n",
            "715:\tlearn: 0.0353574\ttotal: 1.94s\tremaining: 771ms\n",
            "716:\tlearn: 0.0352764\ttotal: 1.95s\tremaining: 768ms\n",
            "717:\tlearn: 0.0352329\ttotal: 1.95s\tremaining: 765ms\n",
            "718:\tlearn: 0.0351139\ttotal: 1.95s\tremaining: 762ms\n",
            "719:\tlearn: 0.0350400\ttotal: 1.95s\tremaining: 759ms\n",
            "720:\tlearn: 0.0349897\ttotal: 1.95s\tremaining: 756ms\n",
            "721:\tlearn: 0.0349395\ttotal: 1.96s\tremaining: 753ms\n",
            "722:\tlearn: 0.0348950\ttotal: 1.96s\tremaining: 750ms\n",
            "723:\tlearn: 0.0348519\ttotal: 1.96s\tremaining: 748ms\n",
            "724:\tlearn: 0.0347741\ttotal: 1.96s\tremaining: 745ms\n",
            "725:\tlearn: 0.0347073\ttotal: 1.97s\tremaining: 742ms\n",
            "726:\tlearn: 0.0346389\ttotal: 1.97s\tremaining: 739ms\n",
            "727:\tlearn: 0.0345829\ttotal: 1.97s\tremaining: 736ms\n",
            "728:\tlearn: 0.0345139\ttotal: 1.97s\tremaining: 733ms\n",
            "729:\tlearn: 0.0344460\ttotal: 1.97s\tremaining: 730ms\n",
            "730:\tlearn: 0.0343972\ttotal: 1.98s\tremaining: 727ms\n",
            "731:\tlearn: 0.0343649\ttotal: 1.98s\tremaining: 725ms\n",
            "732:\tlearn: 0.0342953\ttotal: 1.98s\tremaining: 722ms\n",
            "733:\tlearn: 0.0342396\ttotal: 1.98s\tremaining: 719ms\n",
            "734:\tlearn: 0.0341825\ttotal: 1.99s\tremaining: 716ms\n",
            "735:\tlearn: 0.0341008\ttotal: 1.99s\tremaining: 713ms\n",
            "736:\tlearn: 0.0340293\ttotal: 1.99s\tremaining: 710ms\n",
            "737:\tlearn: 0.0339466\ttotal: 1.99s\tremaining: 707ms\n",
            "738:\tlearn: 0.0338792\ttotal: 1.99s\tremaining: 704ms\n",
            "739:\tlearn: 0.0338057\ttotal: 2s\tremaining: 701ms\n",
            "740:\tlearn: 0.0337130\ttotal: 2s\tremaining: 699ms\n",
            "741:\tlearn: 0.0336390\ttotal: 2s\tremaining: 696ms\n",
            "742:\tlearn: 0.0335903\ttotal: 2s\tremaining: 693ms\n",
            "743:\tlearn: 0.0334862\ttotal: 2s\tremaining: 690ms\n",
            "744:\tlearn: 0.0334335\ttotal: 2.01s\tremaining: 687ms\n",
            "745:\tlearn: 0.0333637\ttotal: 2.01s\tremaining: 684ms\n",
            "746:\tlearn: 0.0333162\ttotal: 2.01s\tremaining: 682ms\n",
            "747:\tlearn: 0.0332226\ttotal: 2.01s\tremaining: 679ms\n",
            "748:\tlearn: 0.0331809\ttotal: 2.02s\tremaining: 676ms\n",
            "749:\tlearn: 0.0331220\ttotal: 2.02s\tremaining: 673ms\n",
            "750:\tlearn: 0.0330472\ttotal: 2.02s\tremaining: 670ms\n",
            "751:\tlearn: 0.0329807\ttotal: 2.02s\tremaining: 667ms\n",
            "752:\tlearn: 0.0329137\ttotal: 2.03s\tremaining: 665ms\n",
            "753:\tlearn: 0.0328712\ttotal: 2.03s\tremaining: 662ms\n",
            "754:\tlearn: 0.0327823\ttotal: 2.03s\tremaining: 659ms\n",
            "755:\tlearn: 0.0327086\ttotal: 2.03s\tremaining: 656ms\n",
            "756:\tlearn: 0.0326597\ttotal: 2.04s\tremaining: 653ms\n",
            "757:\tlearn: 0.0326101\ttotal: 2.04s\tremaining: 651ms\n",
            "758:\tlearn: 0.0325510\ttotal: 2.04s\tremaining: 648ms\n",
            "759:\tlearn: 0.0325045\ttotal: 2.04s\tremaining: 645ms\n",
            "760:\tlearn: 0.0324387\ttotal: 2.04s\tremaining: 642ms\n",
            "761:\tlearn: 0.0323755\ttotal: 2.05s\tremaining: 639ms\n",
            "762:\tlearn: 0.0322905\ttotal: 2.05s\tremaining: 636ms\n",
            "763:\tlearn: 0.0322492\ttotal: 2.05s\tremaining: 634ms\n",
            "764:\tlearn: 0.0321844\ttotal: 2.05s\tremaining: 631ms\n",
            "765:\tlearn: 0.0321309\ttotal: 2.06s\tremaining: 628ms\n",
            "766:\tlearn: 0.0320443\ttotal: 2.06s\tremaining: 625ms\n",
            "767:\tlearn: 0.0319699\ttotal: 2.06s\tremaining: 622ms\n",
            "768:\tlearn: 0.0319173\ttotal: 2.06s\tremaining: 619ms\n",
            "769:\tlearn: 0.0318665\ttotal: 2.06s\tremaining: 617ms\n",
            "770:\tlearn: 0.0318059\ttotal: 2.07s\tremaining: 614ms\n",
            "771:\tlearn: 0.0317579\ttotal: 2.07s\tremaining: 611ms\n",
            "772:\tlearn: 0.0317115\ttotal: 2.07s\tremaining: 608ms\n",
            "773:\tlearn: 0.0316727\ttotal: 2.07s\tremaining: 605ms\n",
            "774:\tlearn: 0.0316368\ttotal: 2.08s\tremaining: 602ms\n",
            "775:\tlearn: 0.0315861\ttotal: 2.08s\tremaining: 600ms\n",
            "776:\tlearn: 0.0315328\ttotal: 2.08s\tremaining: 597ms\n",
            "777:\tlearn: 0.0314673\ttotal: 2.08s\tremaining: 594ms\n",
            "778:\tlearn: 0.0313945\ttotal: 2.08s\tremaining: 591ms\n",
            "779:\tlearn: 0.0313451\ttotal: 2.09s\tremaining: 589ms\n",
            "780:\tlearn: 0.0313045\ttotal: 2.09s\tremaining: 586ms\n",
            "781:\tlearn: 0.0312439\ttotal: 2.09s\tremaining: 583ms\n",
            "782:\tlearn: 0.0312062\ttotal: 2.09s\tremaining: 580ms\n",
            "783:\tlearn: 0.0311108\ttotal: 2.1s\tremaining: 577ms\n",
            "784:\tlearn: 0.0310630\ttotal: 2.1s\tremaining: 575ms\n",
            "785:\tlearn: 0.0310029\ttotal: 2.1s\tremaining: 572ms\n",
            "786:\tlearn: 0.0309341\ttotal: 2.1s\tremaining: 569ms\n",
            "787:\tlearn: 0.0308668\ttotal: 2.1s\tremaining: 566ms\n",
            "788:\tlearn: 0.0308079\ttotal: 2.11s\tremaining: 563ms\n",
            "789:\tlearn: 0.0307437\ttotal: 2.11s\tremaining: 561ms\n",
            "790:\tlearn: 0.0306915\ttotal: 2.11s\tremaining: 558ms\n",
            "791:\tlearn: 0.0306191\ttotal: 2.11s\tremaining: 555ms\n",
            "792:\tlearn: 0.0305771\ttotal: 2.12s\tremaining: 552ms\n",
            "793:\tlearn: 0.0305319\ttotal: 2.12s\tremaining: 549ms\n",
            "794:\tlearn: 0.0304645\ttotal: 2.12s\tremaining: 547ms\n",
            "795:\tlearn: 0.0304160\ttotal: 2.12s\tremaining: 544ms\n",
            "796:\tlearn: 0.0303534\ttotal: 2.12s\tremaining: 541ms\n",
            "797:\tlearn: 0.0302933\ttotal: 2.13s\tremaining: 538ms\n",
            "798:\tlearn: 0.0302152\ttotal: 2.13s\tremaining: 537ms\n",
            "799:\tlearn: 0.0301432\ttotal: 2.13s\tremaining: 534ms\n",
            "800:\tlearn: 0.0300931\ttotal: 2.14s\tremaining: 531ms\n",
            "801:\tlearn: 0.0300433\ttotal: 2.14s\tremaining: 528ms\n",
            "802:\tlearn: 0.0299799\ttotal: 2.14s\tremaining: 526ms\n",
            "803:\tlearn: 0.0299309\ttotal: 2.14s\tremaining: 523ms\n",
            "804:\tlearn: 0.0298439\ttotal: 2.15s\tremaining: 520ms\n",
            "805:\tlearn: 0.0297898\ttotal: 2.15s\tremaining: 517ms\n",
            "806:\tlearn: 0.0297346\ttotal: 2.15s\tremaining: 514ms\n",
            "807:\tlearn: 0.0296476\ttotal: 2.15s\tremaining: 512ms\n",
            "808:\tlearn: 0.0295902\ttotal: 2.15s\tremaining: 509ms\n",
            "809:\tlearn: 0.0295432\ttotal: 2.16s\tremaining: 506ms\n",
            "810:\tlearn: 0.0294846\ttotal: 2.16s\tremaining: 503ms\n",
            "811:\tlearn: 0.0294029\ttotal: 2.16s\tremaining: 501ms\n",
            "812:\tlearn: 0.0293365\ttotal: 2.17s\tremaining: 499ms\n",
            "813:\tlearn: 0.0293022\ttotal: 2.17s\tremaining: 496ms\n",
            "814:\tlearn: 0.0292586\ttotal: 2.17s\tremaining: 494ms\n",
            "815:\tlearn: 0.0292092\ttotal: 2.18s\tremaining: 491ms\n",
            "816:\tlearn: 0.0291679\ttotal: 2.18s\tremaining: 488ms\n",
            "817:\tlearn: 0.0291161\ttotal: 2.18s\tremaining: 485ms\n",
            "818:\tlearn: 0.0290699\ttotal: 2.18s\tremaining: 483ms\n",
            "819:\tlearn: 0.0290279\ttotal: 2.19s\tremaining: 480ms\n",
            "820:\tlearn: 0.0289863\ttotal: 2.19s\tremaining: 478ms\n",
            "821:\tlearn: 0.0289388\ttotal: 2.19s\tremaining: 475ms\n",
            "822:\tlearn: 0.0288846\ttotal: 2.19s\tremaining: 472ms\n",
            "823:\tlearn: 0.0288371\ttotal: 2.2s\tremaining: 469ms\n",
            "824:\tlearn: 0.0288034\ttotal: 2.2s\tremaining: 466ms\n",
            "825:\tlearn: 0.0287620\ttotal: 2.2s\tremaining: 464ms\n",
            "826:\tlearn: 0.0287133\ttotal: 2.2s\tremaining: 461ms\n",
            "827:\tlearn: 0.0286617\ttotal: 2.21s\tremaining: 458ms\n",
            "828:\tlearn: 0.0285762\ttotal: 2.21s\tremaining: 455ms\n",
            "829:\tlearn: 0.0285095\ttotal: 2.21s\tremaining: 453ms\n",
            "830:\tlearn: 0.0284603\ttotal: 2.21s\tremaining: 451ms\n",
            "831:\tlearn: 0.0284264\ttotal: 2.22s\tremaining: 448ms\n",
            "832:\tlearn: 0.0283651\ttotal: 2.22s\tremaining: 446ms\n",
            "833:\tlearn: 0.0283357\ttotal: 2.22s\tremaining: 443ms\n",
            "834:\tlearn: 0.0282656\ttotal: 2.23s\tremaining: 440ms\n",
            "835:\tlearn: 0.0282286\ttotal: 2.23s\tremaining: 437ms\n",
            "836:\tlearn: 0.0281549\ttotal: 2.23s\tremaining: 435ms\n",
            "837:\tlearn: 0.0280987\ttotal: 2.23s\tremaining: 432ms\n",
            "838:\tlearn: 0.0280480\ttotal: 2.24s\tremaining: 429ms\n",
            "839:\tlearn: 0.0280172\ttotal: 2.24s\tremaining: 426ms\n",
            "840:\tlearn: 0.0279769\ttotal: 2.24s\tremaining: 424ms\n",
            "841:\tlearn: 0.0279219\ttotal: 2.24s\tremaining: 421ms\n",
            "842:\tlearn: 0.0278792\ttotal: 2.25s\tremaining: 418ms\n",
            "843:\tlearn: 0.0278317\ttotal: 2.25s\tremaining: 415ms\n",
            "844:\tlearn: 0.0277547\ttotal: 2.25s\tremaining: 413ms\n",
            "845:\tlearn: 0.0276893\ttotal: 2.25s\tremaining: 411ms\n",
            "846:\tlearn: 0.0276526\ttotal: 2.26s\tremaining: 408ms\n",
            "847:\tlearn: 0.0275966\ttotal: 2.27s\tremaining: 406ms\n",
            "848:\tlearn: 0.0275468\ttotal: 2.27s\tremaining: 404ms\n",
            "849:\tlearn: 0.0275116\ttotal: 2.27s\tremaining: 401ms\n",
            "850:\tlearn: 0.0274745\ttotal: 2.28s\tremaining: 399ms\n",
            "851:\tlearn: 0.0274199\ttotal: 2.28s\tremaining: 396ms\n",
            "852:\tlearn: 0.0273904\ttotal: 2.28s\tremaining: 393ms\n",
            "853:\tlearn: 0.0273291\ttotal: 2.28s\tremaining: 390ms\n",
            "854:\tlearn: 0.0272775\ttotal: 2.29s\tremaining: 388ms\n",
            "855:\tlearn: 0.0272367\ttotal: 2.29s\tremaining: 385ms\n",
            "856:\tlearn: 0.0271888\ttotal: 2.29s\tremaining: 382ms\n",
            "857:\tlearn: 0.0271288\ttotal: 2.29s\tremaining: 380ms\n",
            "858:\tlearn: 0.0270836\ttotal: 2.3s\tremaining: 377ms\n",
            "859:\tlearn: 0.0270536\ttotal: 2.3s\tremaining: 375ms\n",
            "860:\tlearn: 0.0270120\ttotal: 2.31s\tremaining: 372ms\n",
            "861:\tlearn: 0.0269533\ttotal: 2.31s\tremaining: 370ms\n",
            "862:\tlearn: 0.0269065\ttotal: 2.31s\tremaining: 367ms\n",
            "863:\tlearn: 0.0268544\ttotal: 2.31s\tremaining: 364ms\n",
            "864:\tlearn: 0.0268048\ttotal: 2.31s\tremaining: 361ms\n",
            "865:\tlearn: 0.0267420\ttotal: 2.32s\tremaining: 359ms\n",
            "866:\tlearn: 0.0267141\ttotal: 2.32s\tremaining: 357ms\n",
            "867:\tlearn: 0.0266766\ttotal: 2.33s\tremaining: 354ms\n",
            "868:\tlearn: 0.0266462\ttotal: 2.33s\tremaining: 351ms\n",
            "869:\tlearn: 0.0265986\ttotal: 2.33s\tremaining: 348ms\n",
            "870:\tlearn: 0.0265611\ttotal: 2.33s\tremaining: 346ms\n",
            "871:\tlearn: 0.0265093\ttotal: 2.34s\tremaining: 343ms\n",
            "872:\tlearn: 0.0264584\ttotal: 2.34s\tremaining: 340ms\n",
            "873:\tlearn: 0.0264226\ttotal: 2.34s\tremaining: 338ms\n",
            "874:\tlearn: 0.0263890\ttotal: 2.34s\tremaining: 335ms\n",
            "875:\tlearn: 0.0263249\ttotal: 2.35s\tremaining: 332ms\n",
            "876:\tlearn: 0.0262758\ttotal: 2.35s\tremaining: 329ms\n",
            "877:\tlearn: 0.0262018\ttotal: 2.35s\tremaining: 327ms\n",
            "878:\tlearn: 0.0261302\ttotal: 2.35s\tremaining: 324ms\n",
            "879:\tlearn: 0.0260684\ttotal: 2.35s\tremaining: 321ms\n",
            "880:\tlearn: 0.0260314\ttotal: 2.36s\tremaining: 318ms\n",
            "881:\tlearn: 0.0259982\ttotal: 2.36s\tremaining: 316ms\n",
            "882:\tlearn: 0.0259428\ttotal: 2.36s\tremaining: 313ms\n",
            "883:\tlearn: 0.0258856\ttotal: 2.36s\tremaining: 310ms\n",
            "884:\tlearn: 0.0258552\ttotal: 2.37s\tremaining: 308ms\n",
            "885:\tlearn: 0.0257947\ttotal: 2.37s\tremaining: 305ms\n",
            "886:\tlearn: 0.0257636\ttotal: 2.37s\tremaining: 302ms\n",
            "887:\tlearn: 0.0257141\ttotal: 2.37s\tremaining: 300ms\n",
            "888:\tlearn: 0.0256662\ttotal: 2.38s\tremaining: 297ms\n",
            "889:\tlearn: 0.0256282\ttotal: 2.38s\tremaining: 294ms\n",
            "890:\tlearn: 0.0255941\ttotal: 2.38s\tremaining: 291ms\n",
            "891:\tlearn: 0.0255308\ttotal: 2.38s\tremaining: 289ms\n",
            "892:\tlearn: 0.0254610\ttotal: 2.39s\tremaining: 286ms\n",
            "893:\tlearn: 0.0254218\ttotal: 2.39s\tremaining: 283ms\n",
            "894:\tlearn: 0.0253833\ttotal: 2.39s\tremaining: 281ms\n",
            "895:\tlearn: 0.0253341\ttotal: 2.39s\tremaining: 278ms\n",
            "896:\tlearn: 0.0252936\ttotal: 2.4s\tremaining: 275ms\n",
            "897:\tlearn: 0.0252491\ttotal: 2.4s\tremaining: 272ms\n",
            "898:\tlearn: 0.0252128\ttotal: 2.4s\tremaining: 270ms\n",
            "899:\tlearn: 0.0251538\ttotal: 2.4s\tremaining: 267ms\n",
            "900:\tlearn: 0.0251023\ttotal: 2.41s\tremaining: 264ms\n",
            "901:\tlearn: 0.0250376\ttotal: 2.41s\tremaining: 262ms\n",
            "902:\tlearn: 0.0249820\ttotal: 2.41s\tremaining: 259ms\n",
            "903:\tlearn: 0.0249338\ttotal: 2.41s\tremaining: 256ms\n",
            "904:\tlearn: 0.0248945\ttotal: 2.42s\tremaining: 254ms\n",
            "905:\tlearn: 0.0248544\ttotal: 2.42s\tremaining: 251ms\n",
            "906:\tlearn: 0.0248091\ttotal: 2.42s\tremaining: 249ms\n",
            "907:\tlearn: 0.0247737\ttotal: 2.43s\tremaining: 246ms\n",
            "908:\tlearn: 0.0247332\ttotal: 2.43s\tremaining: 244ms\n",
            "909:\tlearn: 0.0246942\ttotal: 2.44s\tremaining: 241ms\n",
            "910:\tlearn: 0.0246606\ttotal: 2.44s\tremaining: 238ms\n",
            "911:\tlearn: 0.0246077\ttotal: 2.44s\tremaining: 235ms\n",
            "912:\tlearn: 0.0245747\ttotal: 2.44s\tremaining: 233ms\n",
            "913:\tlearn: 0.0245503\ttotal: 2.44s\tremaining: 230ms\n",
            "914:\tlearn: 0.0244940\ttotal: 2.45s\tremaining: 227ms\n",
            "915:\tlearn: 0.0244450\ttotal: 2.45s\tremaining: 225ms\n",
            "916:\tlearn: 0.0243946\ttotal: 2.45s\tremaining: 222ms\n",
            "917:\tlearn: 0.0243658\ttotal: 2.46s\tremaining: 220ms\n",
            "918:\tlearn: 0.0243341\ttotal: 2.46s\tremaining: 217ms\n",
            "919:\tlearn: 0.0243103\ttotal: 2.46s\tremaining: 214ms\n",
            "920:\tlearn: 0.0242688\ttotal: 2.46s\tremaining: 211ms\n",
            "921:\tlearn: 0.0242214\ttotal: 2.47s\tremaining: 209ms\n",
            "922:\tlearn: 0.0241962\ttotal: 2.47s\tremaining: 206ms\n",
            "923:\tlearn: 0.0241713\ttotal: 2.47s\tremaining: 203ms\n",
            "924:\tlearn: 0.0241311\ttotal: 2.47s\tremaining: 201ms\n",
            "925:\tlearn: 0.0240735\ttotal: 2.48s\tremaining: 198ms\n",
            "926:\tlearn: 0.0240227\ttotal: 2.48s\tremaining: 195ms\n",
            "927:\tlearn: 0.0239687\ttotal: 2.48s\tremaining: 193ms\n",
            "928:\tlearn: 0.0239352\ttotal: 2.48s\tremaining: 190ms\n",
            "929:\tlearn: 0.0238955\ttotal: 2.48s\tremaining: 187ms\n",
            "930:\tlearn: 0.0238474\ttotal: 2.49s\tremaining: 185ms\n",
            "931:\tlearn: 0.0238104\ttotal: 2.49s\tremaining: 182ms\n",
            "932:\tlearn: 0.0237677\ttotal: 2.5s\tremaining: 179ms\n",
            "933:\tlearn: 0.0237203\ttotal: 2.5s\tremaining: 176ms\n",
            "934:\tlearn: 0.0236825\ttotal: 2.5s\tremaining: 174ms\n",
            "935:\tlearn: 0.0236537\ttotal: 2.5s\tremaining: 171ms\n",
            "936:\tlearn: 0.0236202\ttotal: 2.5s\tremaining: 168ms\n",
            "937:\tlearn: 0.0235780\ttotal: 2.5s\tremaining: 166ms\n",
            "938:\tlearn: 0.0235397\ttotal: 2.51s\tremaining: 163ms\n",
            "939:\tlearn: 0.0234949\ttotal: 2.51s\tremaining: 160ms\n",
            "940:\tlearn: 0.0234557\ttotal: 2.52s\tremaining: 158ms\n",
            "941:\tlearn: 0.0234192\ttotal: 2.52s\tremaining: 155ms\n",
            "942:\tlearn: 0.0233764\ttotal: 2.52s\tremaining: 153ms\n",
            "943:\tlearn: 0.0233319\ttotal: 2.53s\tremaining: 150ms\n",
            "944:\tlearn: 0.0232790\ttotal: 2.53s\tremaining: 147ms\n",
            "945:\tlearn: 0.0232293\ttotal: 2.53s\tremaining: 145ms\n",
            "946:\tlearn: 0.0231948\ttotal: 2.53s\tremaining: 142ms\n",
            "947:\tlearn: 0.0231644\ttotal: 2.54s\tremaining: 139ms\n",
            "948:\tlearn: 0.0231330\ttotal: 2.54s\tremaining: 136ms\n",
            "949:\tlearn: 0.0230837\ttotal: 2.54s\tremaining: 134ms\n",
            "950:\tlearn: 0.0230465\ttotal: 2.54s\tremaining: 131ms\n",
            "951:\tlearn: 0.0229906\ttotal: 2.55s\tremaining: 128ms\n",
            "952:\tlearn: 0.0229490\ttotal: 2.55s\tremaining: 126ms\n",
            "953:\tlearn: 0.0229295\ttotal: 2.56s\tremaining: 123ms\n",
            "954:\tlearn: 0.0228851\ttotal: 2.56s\tremaining: 121ms\n",
            "955:\tlearn: 0.0228407\ttotal: 2.56s\tremaining: 118ms\n",
            "956:\tlearn: 0.0228122\ttotal: 2.56s\tremaining: 115ms\n",
            "957:\tlearn: 0.0227506\ttotal: 2.57s\tremaining: 113ms\n",
            "958:\tlearn: 0.0227143\ttotal: 2.57s\tremaining: 110ms\n",
            "959:\tlearn: 0.0226858\ttotal: 2.57s\tremaining: 107ms\n",
            "960:\tlearn: 0.0226521\ttotal: 2.58s\tremaining: 105ms\n",
            "961:\tlearn: 0.0226118\ttotal: 2.58s\tremaining: 102ms\n",
            "962:\tlearn: 0.0225684\ttotal: 2.58s\tremaining: 99.3ms\n",
            "963:\tlearn: 0.0225429\ttotal: 2.58s\tremaining: 96.6ms\n",
            "964:\tlearn: 0.0224985\ttotal: 2.59s\tremaining: 93.9ms\n",
            "965:\tlearn: 0.0224637\ttotal: 2.59s\tremaining: 91.2ms\n",
            "966:\tlearn: 0.0224235\ttotal: 2.59s\tremaining: 88.5ms\n",
            "967:\tlearn: 0.0223945\ttotal: 2.59s\tremaining: 85.8ms\n",
            "968:\tlearn: 0.0223621\ttotal: 2.6s\tremaining: 83.1ms\n",
            "969:\tlearn: 0.0223417\ttotal: 2.6s\tremaining: 80.4ms\n",
            "970:\tlearn: 0.0223208\ttotal: 2.6s\tremaining: 77.7ms\n",
            "971:\tlearn: 0.0222883\ttotal: 2.6s\tremaining: 75ms\n",
            "972:\tlearn: 0.0222564\ttotal: 2.61s\tremaining: 72.3ms\n",
            "973:\tlearn: 0.0222049\ttotal: 2.61s\tremaining: 69.7ms\n",
            "974:\tlearn: 0.0221618\ttotal: 2.61s\tremaining: 67ms\n",
            "975:\tlearn: 0.0221070\ttotal: 2.61s\tremaining: 64.3ms\n",
            "976:\tlearn: 0.0220837\ttotal: 2.62s\tremaining: 61.6ms\n",
            "977:\tlearn: 0.0220592\ttotal: 2.62s\tremaining: 58.9ms\n",
            "978:\tlearn: 0.0220156\ttotal: 2.62s\tremaining: 56.2ms\n",
            "979:\tlearn: 0.0219716\ttotal: 2.62s\tremaining: 53.5ms\n",
            "980:\tlearn: 0.0219338\ttotal: 2.63s\tremaining: 50.9ms\n",
            "981:\tlearn: 0.0219043\ttotal: 2.63s\tremaining: 48.2ms\n",
            "982:\tlearn: 0.0218750\ttotal: 2.63s\tremaining: 45.5ms\n",
            "983:\tlearn: 0.0218303\ttotal: 2.63s\tremaining: 42.8ms\n",
            "984:\tlearn: 0.0218005\ttotal: 2.63s\tremaining: 40.1ms\n",
            "985:\tlearn: 0.0217533\ttotal: 2.64s\tremaining: 37.4ms\n",
            "986:\tlearn: 0.0217167\ttotal: 2.64s\tremaining: 34.8ms\n",
            "987:\tlearn: 0.0216792\ttotal: 2.64s\tremaining: 32.1ms\n",
            "988:\tlearn: 0.0216492\ttotal: 2.65s\tremaining: 29.4ms\n",
            "989:\tlearn: 0.0216139\ttotal: 2.65s\tremaining: 26.8ms\n",
            "990:\tlearn: 0.0215846\ttotal: 2.65s\tremaining: 24.1ms\n",
            "991:\tlearn: 0.0215503\ttotal: 2.65s\tremaining: 21.4ms\n",
            "992:\tlearn: 0.0215249\ttotal: 2.65s\tremaining: 18.7ms\n",
            "993:\tlearn: 0.0214860\ttotal: 2.66s\tremaining: 16ms\n",
            "994:\tlearn: 0.0214528\ttotal: 2.66s\tremaining: 13.4ms\n",
            "995:\tlearn: 0.0214230\ttotal: 2.66s\tremaining: 10.7ms\n",
            "996:\tlearn: 0.0213869\ttotal: 2.66s\tremaining: 8.02ms\n",
            "997:\tlearn: 0.0213456\ttotal: 2.67s\tremaining: 5.34ms\n",
            "998:\tlearn: 0.0213113\ttotal: 2.67s\tremaining: 2.67ms\n",
            "999:\tlearn: 0.0212776\ttotal: 2.67s\tremaining: 0us\n"
          ]
        }
      ],
      "source": [
        "#final_data = pd.DataFrame({'Models': ['RFC','ADB','LGB','DT','CB'], 'Accuracy' : [get_score(RandomForestClassifier(random_state=4219))*100,get_score(AdaBoostClassifier())*100,get_score(lgb.LGBMClassifier())*100,get_score(DecisionTreeClassifier())*100,get_score(CatBoostClassifier())*100]})\n",
        "final_data = pd.DataFrame({'Models': ['RFC','LGB','CB','ADB'], 'Accuracy' : [get_score(RandomForestClassifier(n_estimators=200,min_samples_split=10,min_samples_leaf=1,max_features='log2',max_depth=15,bootstrap=False))*100,get_score(lgb.LGBMClassifier())*100,get_score(CatBoostClassifier())*100,get_score(AdaBoostClassifier())*100]})"
      ]
    },
    {
      "cell_type": "markdown",
      "source": [],
      "metadata": {
        "id": "SeIGw_0iwH3W"
      }
    },
    {
      "cell_type": "code",
      "execution_count": null,
      "metadata": {
        "colab": {
          "base_uri": "https://localhost:8080/",
          "height": 175
        },
        "id": "MdqEGuyT85-p",
        "outputId": "2c88109c-d980-46a2-b36f-64ed3b543ca8"
      },
      "outputs": [
        {
          "output_type": "execute_result",
          "data": {
            "text/plain": [
              "  Models   Accuracy\n",
              "0    RFC  93.750000\n",
              "1    LGB  95.535714\n",
              "2     CB  94.642857\n",
              "3    ADB  94.642857"
            ],
            "text/html": [
              "\n",
              "\n",
              "  <div id=\"df-18939bcc-9cb2-475e-b541-0eeacc233567\">\n",
              "    <div class=\"colab-df-container\">\n",
              "      <div>\n",
              "<style scoped>\n",
              "    .dataframe tbody tr th:only-of-type {\n",
              "        vertical-align: middle;\n",
              "    }\n",
              "\n",
              "    .dataframe tbody tr th {\n",
              "        vertical-align: top;\n",
              "    }\n",
              "\n",
              "    .dataframe thead th {\n",
              "        text-align: right;\n",
              "    }\n",
              "</style>\n",
              "<table border=\"1\" class=\"dataframe\">\n",
              "  <thead>\n",
              "    <tr style=\"text-align: right;\">\n",
              "      <th></th>\n",
              "      <th>Models</th>\n",
              "      <th>Accuracy</th>\n",
              "    </tr>\n",
              "  </thead>\n",
              "  <tbody>\n",
              "    <tr>\n",
              "      <th>0</th>\n",
              "      <td>RFC</td>\n",
              "      <td>93.750000</td>\n",
              "    </tr>\n",
              "    <tr>\n",
              "      <th>1</th>\n",
              "      <td>LGB</td>\n",
              "      <td>95.535714</td>\n",
              "    </tr>\n",
              "    <tr>\n",
              "      <th>2</th>\n",
              "      <td>CB</td>\n",
              "      <td>94.642857</td>\n",
              "    </tr>\n",
              "    <tr>\n",
              "      <th>3</th>\n",
              "      <td>ADB</td>\n",
              "      <td>94.642857</td>\n",
              "    </tr>\n",
              "  </tbody>\n",
              "</table>\n",
              "</div>\n",
              "      <button class=\"colab-df-convert\" onclick=\"convertToInteractive('df-18939bcc-9cb2-475e-b541-0eeacc233567')\"\n",
              "              title=\"Convert this dataframe to an interactive table.\"\n",
              "              style=\"display:none;\">\n",
              "\n",
              "  <svg xmlns=\"http://www.w3.org/2000/svg\" height=\"24px\"viewBox=\"0 0 24 24\"\n",
              "       width=\"24px\">\n",
              "    <path d=\"M0 0h24v24H0V0z\" fill=\"none\"/>\n",
              "    <path d=\"M18.56 5.44l.94 2.06.94-2.06 2.06-.94-2.06-.94-.94-2.06-.94 2.06-2.06.94zm-11 1L8.5 8.5l.94-2.06 2.06-.94-2.06-.94L8.5 2.5l-.94 2.06-2.06.94zm10 10l.94 2.06.94-2.06 2.06-.94-2.06-.94-.94-2.06-.94 2.06-2.06.94z\"/><path d=\"M17.41 7.96l-1.37-1.37c-.4-.4-.92-.59-1.43-.59-.52 0-1.04.2-1.43.59L10.3 9.45l-7.72 7.72c-.78.78-.78 2.05 0 2.83L4 21.41c.39.39.9.59 1.41.59.51 0 1.02-.2 1.41-.59l7.78-7.78 2.81-2.81c.8-.78.8-2.07 0-2.86zM5.41 20L4 18.59l7.72-7.72 1.47 1.35L5.41 20z\"/>\n",
              "  </svg>\n",
              "      </button>\n",
              "\n",
              "\n",
              "\n",
              "    <div id=\"df-56f6be50-0fd5-4e5e-a1f4-46efd2559e1c\">\n",
              "      <button class=\"colab-df-quickchart\" onclick=\"quickchart('df-56f6be50-0fd5-4e5e-a1f4-46efd2559e1c')\"\n",
              "              title=\"Suggest charts.\"\n",
              "              style=\"display:none;\">\n",
              "\n",
              "<svg xmlns=\"http://www.w3.org/2000/svg\" height=\"24px\"viewBox=\"0 0 24 24\"\n",
              "     width=\"24px\">\n",
              "    <g>\n",
              "        <path d=\"M19 3H5c-1.1 0-2 .9-2 2v14c0 1.1.9 2 2 2h14c1.1 0 2-.9 2-2V5c0-1.1-.9-2-2-2zM9 17H7v-7h2v7zm4 0h-2V7h2v10zm4 0h-2v-4h2v4z\"/>\n",
              "    </g>\n",
              "</svg>\n",
              "      </button>\n",
              "    </div>\n",
              "\n",
              "<style>\n",
              "  .colab-df-quickchart {\n",
              "    background-color: #E8F0FE;\n",
              "    border: none;\n",
              "    border-radius: 50%;\n",
              "    cursor: pointer;\n",
              "    display: none;\n",
              "    fill: #1967D2;\n",
              "    height: 32px;\n",
              "    padding: 0 0 0 0;\n",
              "    width: 32px;\n",
              "  }\n",
              "\n",
              "  .colab-df-quickchart:hover {\n",
              "    background-color: #E2EBFA;\n",
              "    box-shadow: 0px 1px 2px rgba(60, 64, 67, 0.3), 0px 1px 3px 1px rgba(60, 64, 67, 0.15);\n",
              "    fill: #174EA6;\n",
              "  }\n",
              "\n",
              "  [theme=dark] .colab-df-quickchart {\n",
              "    background-color: #3B4455;\n",
              "    fill: #D2E3FC;\n",
              "  }\n",
              "\n",
              "  [theme=dark] .colab-df-quickchart:hover {\n",
              "    background-color: #434B5C;\n",
              "    box-shadow: 0px 1px 3px 1px rgba(0, 0, 0, 0.15);\n",
              "    filter: drop-shadow(0px 1px 2px rgba(0, 0, 0, 0.3));\n",
              "    fill: #FFFFFF;\n",
              "  }\n",
              "</style>\n",
              "\n",
              "    <script>\n",
              "      async function quickchart(key) {\n",
              "        const containerElement = document.querySelector('#' + key);\n",
              "        const charts = await google.colab.kernel.invokeFunction(\n",
              "            'suggestCharts', [key], {});\n",
              "      }\n",
              "    </script>\n",
              "\n",
              "      <script>\n",
              "\n",
              "function displayQuickchartButton(domScope) {\n",
              "  let quickchartButtonEl =\n",
              "    domScope.querySelector('#df-56f6be50-0fd5-4e5e-a1f4-46efd2559e1c button.colab-df-quickchart');\n",
              "  quickchartButtonEl.style.display =\n",
              "    google.colab.kernel.accessAllowed ? 'block' : 'none';\n",
              "}\n",
              "\n",
              "        displayQuickchartButton(document);\n",
              "      </script>\n",
              "      <style>\n",
              "    .colab-df-container {\n",
              "      display:flex;\n",
              "      flex-wrap:wrap;\n",
              "      gap: 12px;\n",
              "    }\n",
              "\n",
              "    .colab-df-convert {\n",
              "      background-color: #E8F0FE;\n",
              "      border: none;\n",
              "      border-radius: 50%;\n",
              "      cursor: pointer;\n",
              "      display: none;\n",
              "      fill: #1967D2;\n",
              "      height: 32px;\n",
              "      padding: 0 0 0 0;\n",
              "      width: 32px;\n",
              "    }\n",
              "\n",
              "    .colab-df-convert:hover {\n",
              "      background-color: #E2EBFA;\n",
              "      box-shadow: 0px 1px 2px rgba(60, 64, 67, 0.3), 0px 1px 3px 1px rgba(60, 64, 67, 0.15);\n",
              "      fill: #174EA6;\n",
              "    }\n",
              "\n",
              "    [theme=dark] .colab-df-convert {\n",
              "      background-color: #3B4455;\n",
              "      fill: #D2E3FC;\n",
              "    }\n",
              "\n",
              "    [theme=dark] .colab-df-convert:hover {\n",
              "      background-color: #434B5C;\n",
              "      box-shadow: 0px 1px 3px 1px rgba(0, 0, 0, 0.15);\n",
              "      filter: drop-shadow(0px 1px 2px rgba(0, 0, 0, 0.3));\n",
              "      fill: #FFFFFF;\n",
              "    }\n",
              "  </style>\n",
              "\n",
              "      <script>\n",
              "        const buttonEl =\n",
              "          document.querySelector('#df-18939bcc-9cb2-475e-b541-0eeacc233567 button.colab-df-convert');\n",
              "        buttonEl.style.display =\n",
              "          google.colab.kernel.accessAllowed ? 'block' : 'none';\n",
              "\n",
              "        async function convertToInteractive(key) {\n",
              "          const element = document.querySelector('#df-18939bcc-9cb2-475e-b541-0eeacc233567');\n",
              "          const dataTable =\n",
              "            await google.colab.kernel.invokeFunction('convertToInteractive',\n",
              "                                                     [key], {});\n",
              "          if (!dataTable) return;\n",
              "\n",
              "          const docLinkHtml = 'Like what you see? Visit the ' +\n",
              "            '<a target=\"_blank\" href=https://colab.research.google.com/notebooks/data_table.ipynb>data table notebook</a>'\n",
              "            + ' to learn more about interactive tables.';\n",
              "          element.innerHTML = '';\n",
              "          dataTable['output_type'] = 'display_data';\n",
              "          await google.colab.output.renderOutput(dataTable, element);\n",
              "          const docLink = document.createElement('div');\n",
              "          docLink.innerHTML = docLinkHtml;\n",
              "          element.appendChild(docLink);\n",
              "        }\n",
              "      </script>\n",
              "    </div>\n",
              "  </div>\n"
            ]
          },
          "metadata": {},
          "execution_count": 119
        }
      ],
      "source": [
        "final_data"
      ]
    },
    {
      "cell_type": "code",
      "execution_count": null,
      "metadata": {
        "id": "fPCYPlt387-D",
        "colab": {
          "base_uri": "https://localhost:8080/",
          "height": 471
        },
        "outputId": "ed344eaf-a58f-4c32-96ee-111cdbce6feb"
      },
      "outputs": [
        {
          "output_type": "execute_result",
          "data": {
            "text/plain": [
              "<Axes: xlabel='Models', ylabel='Accuracy'>"
            ]
          },
          "metadata": {},
          "execution_count": 120
        },
        {
          "output_type": "display_data",
          "data": {
            "text/plain": [
              "<Figure size 640x480 with 1 Axes>"
            ],
            "image/png": "[encoded data removed]"
          },
          "metadata": {}
        }
      ],
      "source": [
        "sns.barplot(x = final_data['Models'],y = final_data['Accuracy'])"
      ]
    },
    {
      "cell_type": "code",
      "execution_count": null,
      "metadata": {
        "id": "FeL6W0Iq9A3p"
      },
      "outputs": [],
      "source": [
        "import pickle"
      ]
    },
    {
      "cell_type": "code",
      "source": [
        "filename = 'diabetes_model.sav'\n",
        "pickle.dump(model1, open(filename,'wb'))"
      ],
      "metadata": {
        "id": "c4p9-yVvrpVG"
      },
      "execution_count": null,
      "outputs": []
    },
    {
      "cell_type": "code",
      "source": [
        "loaded_model = pickle.load(open('diabetes_model.sav','rb'))"
      ],
      "metadata": {
        "id": "92vG6ArGyX1_"
      },
      "execution_count": null,
      "outputs": []
    },
    {
      "cell_type": "code",
      "source": [],
      "metadata": {
        "id": "LZucIyYCzh1l"
      },
      "execution_count": null,
      "outputs": []
    }
  ],
  "metadata": {
    "colab": {
      "provenance": []
    },
    "kernelspec": {
      "display_name": "Python 3",
      "name": "python3"
    },
    "language_info": {
      "name": "python"
    }
  },
  "nbformat": 4,
  "nbformat_minor": 0
}